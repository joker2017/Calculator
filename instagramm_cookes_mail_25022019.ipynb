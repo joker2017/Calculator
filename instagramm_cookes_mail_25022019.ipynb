{
  "nbformat": 4,
  "nbformat_minor": 0,
  "metadata": {
    "colab": {
      "name": "Untitled14.ipynb",
      "version": "0.3.2",
      "provenance": [],
      "include_colab_link": true
    },
    "kernelspec": {
      "name": "python3",
      "display_name": "Python 3"
    }
  },
  "cells": [
    {
      "cell_type": "markdown",
      "metadata": {
        "id": "view-in-github",
        "colab_type": "text"
      },
      "source": [
        "<a href=\"https://colab.research.google.com/github/joker2017/Calculator/blob/master/instagramm_cookes_mail_25022019.ipynb\" target=\"_parent\"><img src=\"https://colab.research.google.com/assets/colab-badge.svg\" alt=\"Open In Colab\"/></a>"
      ]
    },
    {
      "metadata": {
        "id": "qmFpMVMPrRoD",
        "colab_type": "text"
      },
      "cell_type": "markdown",
      "source": [
        "# Получение фото"
      ]
    },
    {
      "metadata": {
        "id": "0bVMfQG1osgQ",
        "colab_type": "code",
        "colab": {}
      },
      "cell_type": "code",
      "source": [
        "import hashlib\n",
        "import json\n",
        "import re\n",
        "import requests\n",
        "\n",
        "\n",
        "count=36\n",
        "session = requests.Session()\n",
        "\n",
        "      \n",
        "def update(obj=None, pointer=None, idx=None, rhx_gis=None, settings={}):\n",
        "\n",
        "      src_adress = [] \n",
        "      base_url = \"\"\n",
        "      query = \"https://www.instagram.com/\"\n",
        "      if not obj is None:\n",
        "            query += base_url + obj\n",
        "            \n",
        "        \n",
        "      if pointer is None: \n",
        "        response = session.get(query, **settings)\n",
        "        match = re.search(r\"<script[^>]*>\\s*window._sharedData\\s*=\\s*((?!<script>).*)\\s*;\\s*</script>\", response.text)\n",
        "        data = json.loads(match.group(1))\n",
        "        rhx_gis = data[\"rhx_gis\"]\n",
        "        csrf_token = data[\"config\"][\"csrf_token\"]\n",
        "        idx = data[\"entry_data\"][\"ProfilePage\"][0][\"graphql\"][\"user\"][\"id\"]\n",
        "        \n",
        "        #print(\"end_cursor\", data['entry_data']['ProfilePage'][0]['graphql']['user']['edge_owner_to_timeline_media']['page_info']['end_cursor'])\n",
        "        #print(\"'has_next_page\", data['entry_data']['ProfilePage'][0]['graphql']['user']['edge_owner_to_timeline_media']['page_info']['has_next_page'])\n",
        "        \n",
        "        for number in range(len(data[\"entry_data\"][\"ProfilePage\"][0][\"graphql\"][\"user\"][\"edge_owner_to_timeline_media\"][\"edges\"])):\n",
        "\t          src_adress.append(data[\"entry_data\"][\"ProfilePage\"][0][\"graphql\"][\"user\"][\"edge_owner_to_timeline_media\"][\"edges\"][number][\"node\"][\"thumbnail_resources\"][4][\"src\"])\n",
        "        if data['entry_data']['ProfilePage'][0]['graphql']['user']['edge_owner_to_timeline_media']['page_info']['has_next_page']:                 \n",
        "            pointer = data['entry_data']['ProfilePage'][0]['graphql']['user']['edge_owner_to_timeline_media']['page_info']['end_cursor']\n",
        "        else:\n",
        "            pointer = None\n",
        "\n",
        "        return rhx_gis, pointer, src_adress, idx, csrf_token\n",
        "\n",
        "      \n",
        "      else:\n",
        "        variables_string = '{{\"id\":\"{id}\",\"first\":{first},\"after\":\"{after}\"}}'\n",
        "        while True:\n",
        "            data = {\"id\": idx, \"first\": 36, \"after\": pointer}\n",
        "            variables=variables_string.format(**data)\n",
        "            query_hash=\"c6809c9c025875ac6f02619eae97a80e\"\n",
        "            #response = graphql_request(query_hash=\"c6809c9c025875ac6f02619eae97a80e\", variables=variables, settings=settings)\n",
        "            settings[\"params\"] = {\"query_hash\": query_hash}\n",
        "            settings[\"params\"][\"variables\"] = variables\n",
        "            gis = \"%s:%s\" % (rhx_gis, variables)\n",
        "            settings[\"headers\"] = {\"X-Instagram-GIS\": hashlib.md5(gis.encode(\"utf-8\")).hexdigest()}\n",
        "            settings[\"headers\"][\"X-Requested-With\"] = \"XMLHttpRequest\" \n",
        "            response = session.get(\"https://www.instagram.com/graphql/query/\", **settings)\n",
        "            response.raise_for_status()\n",
        "            \n",
        "            data = response.json()[\"data\"][\"user\"][\"edge_owner_to_timeline_media\"]\n",
        "\n",
        "            edges = data[\"edges\"]\n",
        "            page_info = data[\"page_info\"]\n",
        "            length = len(edges)\n",
        "\n",
        "            for index in range(length):\n",
        "                    node = edges[index][\"node\"]\n",
        "                    shortcode = node[\"shortcode\"]        #[\"src\"]\n",
        "                    if not \"shortcode\" in node:\n",
        "                        length -= 1\n",
        "                        continue\n",
        "                    m = node[\"display_url\"]\n",
        "                    #m._set_data(node)\n",
        "                    src_adress.append(m)\n",
        "                    #print(\"node\", node)\n",
        "                \n",
        "            if page_info[\"has_next_page\"]:\n",
        "                    \n",
        "                    pointer = page_info[\"end_cursor\"]\n",
        "            else:\n",
        "                    pointer = None\n",
        "\n",
        "            return src_adress, pointer\n",
        "\n",
        "      "
      ],
      "execution_count": 0,
      "outputs": []
    },
    {
      "metadata": {
        "id": "2USwqtnFo1iC",
        "colab_type": "code",
        "colab": {}
      },
      "cell_type": "code",
      "source": [
        "src_adress = []\n",
        "rhx_gis, pointer, src, idx, csrf_token = update(\"likekate_\")\n",
        "src_adress.extend(src)\n",
        "print(\"rhx_gis:\", rhx_gis, \"csrf_token:\", csrf_token, \"idx =\", idx)\n",
        "for i in range(100):\n",
        "  src, pointer = update(\"likekate_\", pointer=pointer, idx=idx, rhx_gis=rhx_gis)\n",
        "  src_adress.extend(src)\n",
        "  print(len(src_adress))\n"
      ],
      "execution_count": 0,
      "outputs": []
    },
    {
      "metadata": {
        "id": "ovp0LVoarO3z",
        "colab_type": "text"
      },
      "cell_type": "markdown",
      "source": [
        "# Авторизация"
      ]
    },
    {
      "metadata": {
        "id": "zwEzEkfGqg2r",
        "colab_type": "code",
        "outputId": "5b7783b3-1553-43f8-d4e3-7ea7356db46b",
        "colab": {
          "base_uri": "https://localhost:8080/",
          "height": 72
        }
      },
      "cell_type": "code",
      "source": [
        "import hashlib\n",
        "import json\n",
        "import pickle\n",
        "import re\n",
        "import requests\n",
        "session = requests.Session()\n",
        "# rhx_gis: fc2e73d4fd7dddcd31d28bea5cb2df59 csrf_token: 23QtJMvu9FzAuskGBKqVy3PcPvOdvxnv\n",
        "def AgentAccount(login=None, password=None, settings={}, load=False):\n",
        "    # load cookie    \n",
        "        if load:\n",
        "           print(\"1\")\n",
        "           LOGIN_URL = \"https://www.instagram.com/accounts/login/ajax/\"\n",
        "           with open('cookie.txt', 'rb') as s:\n",
        "              #session = session.cookies.update(pickle.load(s))\n",
        "              cookies = requests.utils.cookiejar_from_dict(pickle.load(s))\n",
        "              #pickle.dump(a, s)\n",
        "              #cookies = requests.utils.cookiejar_from_dict(pickle.load(s))\n",
        "              session.cookies.update(cookies)\n",
        "              #session = session(cookies=cookies) \n",
        "              #cookies = pickle.load(s)\n",
        "              #if cookies:\n",
        "              #jar = requests.cookies.RequestsCookieJar()\n",
        "              #jar._cookies = cookies\n",
        "              #session.cookies = jar\n",
        "              print(\"session.cookies\", session.cookies)\n",
        "              #session.hooks['response'].append(cookie)\n",
        "              #csrf_token = \"2BYlKYXjE31YtbbT2KB8mRJ16ikszq14\"\n",
        "              #csrf_token = data[csrftoken]\n",
        "              csrf_token = session.cookies['csrftoken']\n",
        "              #data = {\"username\": login, \"password\": password}\n",
        "        \n",
        "              headers = {\n",
        "                    \"X-CSRFToken\": csrf_token,\n",
        "                    \"referer\": \"https://www.instagram.com/\",\n",
        "                       }\n",
        "              response = session.post(LOGIN_URL, headers=headers, cookies=cookies)\n",
        "              #response = session.post(\"https://www.instagram.com/accounts/login/ajax/\")\n",
        "              response.raise_for_status()\n",
        "              session.cookies.update(response.cookies)\n",
        "              \n",
        "        else:\n",
        "            print(\"2\")\n",
        "            csrf_token = \"23QtJMvu9FzAuskGBKqVy3PcPvOdvxnv\"\n",
        "            login = \"melvynasarterca\"\n",
        "            password = \"00pp0099\"\n",
        "            data = {\"username\": login, \"password\": password}\n",
        "        \n",
        "            if \"headers\" in settings:\n",
        "                #settings[\"params\"] = {\"query_hash\": query_hash}\n",
        "                settings[\"headers\"][\"X-CSRFToken\"] = csrf_token\n",
        "                settings[\"headers\"][\"referer\"] = \"https://www.instagram.com/\"\n",
        "            else:\n",
        "                settings[\"headers\"] = {\n",
        "                    \"X-CSRFToken\": csrf_token,\n",
        "                    \"referer\": \"https://www.instagram.com/\",\n",
        "                       }\n",
        "\n",
        "            response = session.post(\"https://www.instagram.com/accounts/login/ajax/\", data, **settings)\n",
        "            #response.raise_for_status()\n",
        "            \n",
        "            \n",
        "            resp = response.json()\n",
        "            field = 'checkpoint_url'\n",
        "            \n",
        "            if field in resp:\n",
        "              print(\"11111\")\n",
        "              resp = response.json()[field]\n",
        "              resp = \"https://www.instagram.com\" + resp\n",
        "              data = {\"choice\": 1}\n",
        "              response = session.post(resp, data, **settings)\n",
        "              #print(response.text)\n",
        "              response.raise_for_status()\n",
        "              code = input('Enter code received: ')\n",
        "              code_data = {'security_code': code}\n",
        "              \n",
        "              response = session.post(resp, code_data, **settings, allow_redirects=True)\n",
        "              session.headers.update({'X-CSRFToken': response.cookies['csrftoken']})\n",
        "              print(\"response\")\n",
        "            \n",
        "            print(\"finish\")\n",
        "\n",
        "            # Save cookie\n",
        "            with open(\"cookie.txt\", 'wb') as fout:\n",
        "              #f.truncate()\n",
        "              pickle.dump(requests.utils.dict_from_cookiejar(session.cookies), fout)  #session.cookies._cookies\n",
        "              print(\"f\")\n",
        "            print(\"response2:\", response)\n",
        "            try:\n",
        "                data = response.json()\n",
        "                if not data[\"authenticated\"]:\n",
        "                  raise AuthException(login) \n",
        "            except (ValueError, KeyError) as exception:\n",
        "                 print(\"ERROR1\")\n",
        "\n",
        "AgentAccount(load=True)\n",
        "#AgentAccount()"
      ],
      "execution_count": 0,
      "outputs": [
        {
          "output_type": "stream",
          "text": [
            "1\n",
            "session.cookies <RequestsCookieJar[<Cookie csrftoken=se2F5mbejVPYiI8MtX0ZVHewm9XD3XcG for />, <Cookie ds_user_id=10387214183 for />, <Cookie mid=XG5wpgAEAAGYzCWUwh6LbXSpJBKT for />, <Cookie rur=FRC for />, <Cookie sessionid=10387214183%3AtenEsHzENLxy6s%3A2 for />, <Cookie urlgen=\"{35.233.191.48: 15169}:1gwkkR:DgDKxYW34xLYxx_DFs9RSMyuWI4\" for />]>\n"
          ],
          "name": "stdout"
        }
      ]
    },
    {
      "metadata": {
        "id": "f4T7Cpct1OB3",
        "colab_type": "text"
      },
      "cell_type": "markdown",
      "source": [
        "# Получение кода из почты"
      ]
    },
    {
      "metadata": {
        "id": "lsH17VWrbp5j",
        "colab_type": "code",
        "outputId": "20f82dbd-7aba-4acb-91ba-4e9aea642189",
        "colab": {
          "base_uri": "https://localhost:8080/",
          "height": 140
        }
      },
      "cell_type": "code",
      "source": [
        "#now = datetime.now()\n",
        "import imaplib\n",
        "#from datetime import datetime\n",
        "\n",
        "import datetime\n",
        "now = datetime.datetime.now()\n",
        "mail = imaplib.IMAP4_SSL('imap.mail.ru')\n",
        "mail.login('rogeca@bk.ru', '66yy6677')\n",
        "mail.select(\"inbox\")\n",
        "import email\n",
        "import re\n",
        "\n",
        "result, data = mail.uid('search', None, \"ALL\") # Выполняет поиск и возвращает UID писем.\n",
        "latest_email_uid = data[0].split()[-1]\n",
        "result, data = mail.uid('fetch', latest_email_uid, '(RFC822)')\n",
        "email_body = data[0][1]\n",
        "mail = email.message_from_bytes(email_body)\n",
        "mail_from = mail['From']\n",
        "#pattern = re.compile('([security@mail.instagram.com]).')\n",
        "'''\n",
        "mail_from = re.findall('(security@mail.instagram.com).', mail_from)[0]\n",
        "mail_date = mail['Date']\n",
        "mail_date = str(mail_date)\n",
        "mail_date = re.findall('\\w{3}.\\s(\\d{2}\\s\\w{3}\\s\\d{4}\\s\\d{2}:\\d{2}:\\d{2})', mail_date)[0]\n",
        "mail_date = datetime.datetime.strptime(mail_date, '%d %b %Y %H:%M:%S')\n",
        "'''\n",
        "data = str(mail)\n",
        "security_code = re.findall('[0-9]{6}', data)[9]\n",
        "\n",
        "\n",
        "mail_from = email.utils.parseaddr(mail['From'])[1]\n",
        "mail_date = email.utils.parsedate_to_datetime(mail['Date'])\n",
        "mail_date = mail_date.replace(tzinfo=None)\n",
        "\n",
        "period = mail_date - now\n",
        "print(\"{} дней  {} секунд\".format(period.days, period.seconds))\n",
        "if period.seconds > 30:\n",
        "  print(\"true\")\n",
        "if mail_date < now:\n",
        "  print(\"mail_date < now\")\n",
        "elif mail_date > now:\n",
        "  print(\"mail_date > now\")\n",
        "if mail_from == 'security@mail.instagram.com':\n",
        "  print(\"Адрес отправителя правильный\")\n",
        "print(\"security_code\", security_code)\n",
        "print(\"maildate\", mail_date)  \n",
        "print(\"mail_from\", mail_from)  \n",
        "#result2 print(\"mail_from\", mail_from)= re.findall('[Date:]\\s\\w{3}.\\s(\\d{1-2}\\s\\w{3}\\s\\d{4}\\s\\d{2}:\\d{2}:\\d{2})', date)"
      ],
      "execution_count": 0,
      "outputs": [
        {
          "output_type": "stream",
          "text": [
            "-2 дней  40330 секунд\n",
            "true\n",
            "mail_date < now\n",
            "Адрес отправителя правильный\n",
            "security_code 214976\n",
            "maildate 2019-02-21 00:36:50\n",
            "mail_from security@mail.instagram.com\n"
          ],
          "name": "stdout"
        }
      ]
    },
    {
      "metadata": {
        "id": "pOTunPFUgXrR",
        "colab_type": "code",
        "outputId": "acde5561-324e-4d46-fcc8-ba85465795ed",
        "colab": {
          "base_uri": "https://localhost:8080/",
          "height": 34
        }
      },
      "cell_type": "code",
      "source": [
        "from datetime import datetime\n",
        "now = datetime.now()\n",
        "datetime.strftime(datetime.now(), \"%Y.%m.%d %H:%M\")\n",
        "print(datetime.strftime(datetime.now(), \"%Y.%m.%d %H:%M\"))"
      ],
      "execution_count": 0,
      "outputs": [
        {
          "output_type": "stream",
          "text": [
            "2019.02.22 10:34\n"
          ],
          "name": "stdout"
        }
      ]
    },
    {
      "metadata": {
        "id": "fPZkQGhfxRqp",
        "colab_type": "code",
        "outputId": "8f0c6d69-cebc-41da-aec4-542732a1ed1c",
        "colab": {
          "base_uri": "https://localhost:8080/",
          "height": 52
        }
      },
      "cell_type": "code",
      "source": [
        "from datetime import datetime\n",
        "now = datetime.now()\n",
        "period = d - now\n",
        "print(\"Всего: {} секунд\".format(period.total_seconds()))\n",
        "print(\"{} дней  {} секунд\".format(period.days, period.seconds))\n"
      ],
      "execution_count": 0,
      "outputs": [
        {
          "output_type": "stream",
          "text": [
            "Всего: -122734.352263 секунд\n",
            "-2 дней  50065 секунд\n"
          ],
          "name": "stdout"
        }
      ]
    },
    {
      "metadata": {
        "id": "udN_27o31tRQ",
        "colab_type": "text"
      },
      "cell_type": "markdown",
      "source": [
        "# Сохранение cookies на компьютер"
      ]
    },
    {
      "metadata": {
        "id": "3703vdRPHCIY",
        "colab_type": "code",
        "outputId": "c0b38a6f-41a6-424e-de21-ececfc2e2cab",
        "colab": {
          "base_uri": "https://localhost:8080/",
          "height": 34
        }
      },
      "cell_type": "code",
      "source": [
        "import os\n",
        "#session.close()\n",
        "#response.raise_for_status()\n",
        "#session\n",
        "print( os.listdir('/content') )\n",
        "from google.colab import files\n",
        "files.download('cookie.txt') "
      ],
      "execution_count": 0,
      "outputs": [
        {
          "output_type": "stream",
          "text": [
            "['.config', 'cookie.txt', 'sample_data']\n"
          ],
          "name": "stdout"
        }
      ]
    },
    {
      "metadata": {
        "id": "8ExEOauT1fYs",
        "colab_type": "text"
      },
      "cell_type": "markdown",
      "source": [
        "# Загрузка Cookie на сервер"
      ]
    },
    {
      "metadata": {
        "id": "JNPXvEdSM5RN",
        "colab_type": "code",
        "outputId": "265d4c03-639b-4d60-f0c7-81ada6739ba2",
        "colab": {
          "resources": {
            "http://localhost:8080/nbextensions/google.colab/files.js": {
              "data": "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",
              "ok": true,
              "headers": [
                [
                  "content-type",
                  "application/javascript"
                ]
              ],
              "status": 200,
              "status_text": ""
            }
          },
          "base_uri": "https://localhost:8080/",
          "height": 113
        }
      },
      "cell_type": "code",
      "source": [
        "from google.colab import files\n",
        "files.upload()"
      ],
      "execution_count": 0,
      "outputs": [
        {
          "output_type": "display_data",
          "data": {
            "text/html": [
              "\n",
              "     <input type=\"file\" id=\"files-97719754-a646-4a59-95ec-d02f405bd169\" name=\"files[]\" multiple disabled />\n",
              "     <output id=\"result-97719754-a646-4a59-95ec-d02f405bd169\">\n",
              "      Upload widget is only available when the cell has been executed in the\n",
              "      current browser session. Please rerun this cell to enable.\n",
              "      </output>\n",
              "      <script src=\"/nbextensions/google.colab/files.js\"></script> "
            ],
            "text/plain": [
              "<IPython.core.display.HTML object>"
            ]
          },
          "metadata": {
            "tags": []
          }
        },
        {
          "output_type": "stream",
          "text": [
            "Saving cookie.txt to cookie.txt\n"
          ],
          "name": "stdout"
        },
        {
          "output_type": "execute_result",
          "data": {
            "text/plain": [
              "{'cookie.txt': b'\\x80\\x03}q\\x00(X\\t\\x00\\x00\\x00csrftokenq\\x01X \\x00\\x00\\x00se2F5mbejVPYiI8MtX0ZVHewm9XD3XcGq\\x02X\\n\\x00\\x00\\x00ds_user_idq\\x03X\\x0b\\x00\\x00\\x0010387214183q\\x04X\\x03\\x00\\x00\\x00midq\\x05X\\x1c\\x00\\x00\\x00XG5wpgAEAAGYzCWUwh6LbXSpJBKTq\\x06X\\x03\\x00\\x00\\x00rurq\\x07X\\x03\\x00\\x00\\x00FRCq\\x08X\\t\\x00\\x00\\x00sessionidq\\tX \\x00\\x00\\x0010387214183%3AtenEsHzENLxy6s%3A2q\\nX\\x06\\x00\\x00\\x00urlgenq\\x0bX;\\x00\\x00\\x00\"{35.233.191.48: 15169}:1gwkkR:DgDKxYW34xLYxx_DFs9RSMyuWI4\"q\\x0cu.'}"
            ]
          },
          "metadata": {
            "tags": []
          },
          "execution_count": 4
        }
      ]
    },
    {
      "metadata": {
        "id": "afaBUTBQ1ojn",
        "colab_type": "text"
      },
      "cell_type": "markdown",
      "source": [
        "# Проверка директории"
      ]
    },
    {
      "metadata": {
        "id": "UgMIogq2NEvP",
        "colab_type": "code",
        "outputId": "73429e24-5fab-44ab-d26c-7ed14f266eb5",
        "colab": {
          "base_uri": "https://localhost:8080/",
          "height": 34
        }
      },
      "cell_type": "code",
      "source": [
        "import os\n",
        "print( os.listdir('/content') )"
      ],
      "execution_count": 0,
      "outputs": [
        {
          "output_type": "stream",
          "text": [
            "['.config', 'sample_data']\n"
          ],
          "name": "stdout"
        }
      ]
    },
    {
      "metadata": {
        "id": "B76FLhkIrJVD",
        "colab_type": "text"
      },
      "cell_type": "markdown",
      "source": [
        "# Получение подписчиков\n"
      ]
    },
    {
      "metadata": {
        "id": "kVA95SAnqYMK",
        "colab_type": "code",
        "outputId": "535325b0-e6d5-404e-8b30-6d92125851a4",
        "colab": {
          "base_uri": "https://localhost:8080/",
          "height": 594
        }
      },
      "cell_type": "code",
      "source": [
        "#query_hash:56066f031e6239f35a904ac20c9f37d9\n",
        "#variables:{\"id\":\"10180157718\",\"include_reel\":true,\"fetch_mutual\":false,\"first\":12,\"after\":\"\"}\n",
        "\n",
        "import hashlib\n",
        "from time import sleep\n",
        "from requests.exceptions import HTTPError\n",
        "def get_followers(account=None, pointer=None, count=100, settings={}, limit=50):\n",
        "  \n",
        "        rhx_gis, pointer, src_adress, idx, csrf_token = update(account, settings)\n",
        "        #csrf_token = \"23QtJMvu9FzAuskGBKqVy3PcPvOdvxnv\"\n",
        "        #rhx_gis = \"fc2e73d4fd7dddcd31d28bea5cb2df59\"\n",
        "        #query_hash = \"QVFENklrNmY2Y2JvRGhEa2k5UV9XZTVkRHcwSDB6OXM3dWhhZkVsSXpNdlZacEJQVU9QVkcybDQtaC11c04tSXN3cWlmUzVIN3NxeG1BR2phV0VYSU1fcw==\"\n",
        "        query_hash=\"37479f2b8209594dde7facb0d904896a\"\n",
        "        #idx = \"2120762022\"\n",
        "\n",
        "        if pointer is None:\n",
        "            #variables_string = '{{\"id\":\"{id}\",\"include_reel\":true,\"fetch_mutual\":false,\"first\":{first}}}'\n",
        "            variables_string = '{{\"id\":\"{id}\",\"first\":{first}}}'\n",
        "        else:\n",
        "            #variables_string = '{{\"id\":\"{id}\",\"include_reel\":true,\"fetch_mutual\":false,\"first\":{first},\"after\":\"{after}\"}}'\n",
        "            variables_string = '{{\"id\":\"{id}\",\"first\":{first},\"after\":\"{after}\"}}'\n",
        "        followers = []\n",
        "\n",
        "        while True:\n",
        "            data = {\"first\": min(limit, count), \"id\": idx}\n",
        "            if not pointer is None:\n",
        "                data[\"after\"] = pointer\n",
        "            settings[\"params\"] = {\"query_hash\": query_hash}\n",
        "            variables=variables_string.format(**data)\n",
        "            settings[\"params\"][\"variables\"] = variables\n",
        "            gis = \"%s:%s\" % (rhx_gis, variables)\n",
        "            settings[\"headers\"] = {\"X-Instagram-GIS\": hashlib.md5(gis.encode(\"utf-8\")).hexdigest()}\n",
        "            settings[\"headers\"][\"X-Requested-With\"] = \"XMLHttpRequest\" \n",
        "            #response = session.get(\"https://www.instagram.com/graphql/query/\", **settings)\n",
        "            #response.raise_for_status()\n",
        "            \n",
        "            \n",
        "           \n",
        "            for i in range(0, 3):\n",
        "              try:\n",
        "                response = session.get(\"https://www.instagram.com/graphql/query/\", **settings)\n",
        "                print(response.headers)\n",
        "                response.raise_for_status()\n",
        "\n",
        "              except (HTTPError, ValueError, KeyError) as exception:\n",
        "\n",
        "                    print(\"ERROR\", exception.response.status_code)\n",
        "  \n",
        "                    print(\"sleep\") \n",
        "                    sleep(6) \n",
        "                    print(\"end sleep\")\n",
        "                    continue\n",
        "              break\n",
        "            #data = response.json()\n",
        "            data = response.json()[\"data\"][\"user\"][\"edge_followed_by\"]\n",
        "            edges = data[\"edges\"]\n",
        "            page_info = data[\"page_info\"]\n",
        "            #print(page_info)\n",
        "            followers_count = data[\"count\"]\n",
        "                \n",
        "            for index in range(min(len(edges), count)):\n",
        "                    node = edges[index][\"node\"]\n",
        "                    a = node[\"username\"]\n",
        "                    id = node[\"id\"]\n",
        "                    profile_pic_url = node[\"profile_pic_url\"]\n",
        "                    is_verified = node[\"is_verified\"]\n",
        "                    full_name = node[\"full_name\"]\n",
        "                    followers.append(a)\n",
        "                    if len(followers) % 100 == 0:\n",
        "                      print(len(followers))\n",
        "                \n",
        "            if page_info[\"has_next_page\"]:\n",
        "                    pointer = page_info[\"end_cursor\"]\n",
        "            else:\n",
        "                    pointer = None\n",
        "                \n",
        "            if len(edges) < count and page_info[\"has_next_page\"]:\n",
        "                    count = count-len(edges)\n",
        "                    variables_string = '{{\"id\":\"{id}\",\"first\":{first},\"after\":\"{after}\"}}'\n",
        "            else:\n",
        "                    return followers, pointer\n",
        "            \n",
        "                \n",
        "get_followers(\"likekate_\")"
      ],
      "execution_count": 3,
      "outputs": [
        {
          "output_type": "error",
          "ename": "HTTPError",
          "evalue": "ignored",
          "traceback": [
            "\u001b[0;31m---------------------------------------------------------------------------\u001b[0m",
            "\u001b[0;31mHTTPError\u001b[0m                                 Traceback (most recent call last)",
            "\u001b[0;32m<ipython-input-3-fe74cb4ae565>\u001b[0m in \u001b[0;36m<module>\u001b[0;34m()\u001b[0m\n\u001b[1;32m     80\u001b[0m \u001b[0;34m\u001b[0m\u001b[0m\n\u001b[1;32m     81\u001b[0m \u001b[0;34m\u001b[0m\u001b[0m\n\u001b[0;32m---> 82\u001b[0;31m \u001b[0mget_followers\u001b[0m\u001b[0;34m(\u001b[0m\u001b[0;34m\"likekate_\"\u001b[0m\u001b[0;34m)\u001b[0m\u001b[0;34m\u001b[0m\u001b[0;34m\u001b[0m\u001b[0m\n\u001b[0m",
            "\u001b[0;32m<ipython-input-3-fe74cb4ae565>\u001b[0m in \u001b[0;36mget_followers\u001b[0;34m(account, pointer, count, settings, limit)\u001b[0m\n\u001b[1;32m      5\u001b[0m \u001b[0;32mdef\u001b[0m \u001b[0mget_followers\u001b[0m\u001b[0;34m(\u001b[0m\u001b[0maccount\u001b[0m\u001b[0;34m=\u001b[0m\u001b[0;32mNone\u001b[0m\u001b[0;34m,\u001b[0m \u001b[0mpointer\u001b[0m\u001b[0;34m=\u001b[0m\u001b[0;32mNone\u001b[0m\u001b[0;34m,\u001b[0m \u001b[0mcount\u001b[0m\u001b[0;34m=\u001b[0m\u001b[0;36m100\u001b[0m\u001b[0;34m,\u001b[0m \u001b[0msettings\u001b[0m\u001b[0;34m=\u001b[0m\u001b[0;34m{\u001b[0m\u001b[0;34m}\u001b[0m\u001b[0;34m,\u001b[0m \u001b[0mlimit\u001b[0m\u001b[0;34m=\u001b[0m\u001b[0;36m50\u001b[0m\u001b[0;34m)\u001b[0m\u001b[0;34m:\u001b[0m\u001b[0;34m\u001b[0m\u001b[0;34m\u001b[0m\u001b[0m\n\u001b[1;32m      6\u001b[0m \u001b[0;34m\u001b[0m\u001b[0m\n\u001b[0;32m----> 7\u001b[0;31m         \u001b[0mrhx_gis\u001b[0m\u001b[0;34m,\u001b[0m \u001b[0mpointer\u001b[0m\u001b[0;34m,\u001b[0m \u001b[0msrc_adress\u001b[0m\u001b[0;34m,\u001b[0m \u001b[0midx\u001b[0m\u001b[0;34m,\u001b[0m \u001b[0mcsrf_token\u001b[0m \u001b[0;34m=\u001b[0m \u001b[0mupdate\u001b[0m\u001b[0;34m(\u001b[0m\u001b[0maccount\u001b[0m\u001b[0;34m,\u001b[0m \u001b[0msettings\u001b[0m\u001b[0;34m)\u001b[0m\u001b[0;34m\u001b[0m\u001b[0;34m\u001b[0m\u001b[0m\n\u001b[0m\u001b[1;32m      8\u001b[0m         \u001b[0;31m#csrf_token = \"23QtJMvu9FzAuskGBKqVy3PcPvOdvxnv\"\u001b[0m\u001b[0;34m\u001b[0m\u001b[0;34m\u001b[0m\u001b[0;34m\u001b[0m\u001b[0m\n\u001b[1;32m      9\u001b[0m         \u001b[0;31m#rhx_gis = \"fc2e73d4fd7dddcd31d28bea5cb2df59\"\u001b[0m\u001b[0;34m\u001b[0m\u001b[0;34m\u001b[0m\u001b[0;34m\u001b[0m\u001b[0m\n",
            "\u001b[0;32m<ipython-input-2-0ab9ac46e6f1>\u001b[0m in \u001b[0;36mupdate\u001b[0;34m(obj, pointer, idx, rhx_gis, settings)\u001b[0m\n\u001b[1;32m     52\u001b[0m             \u001b[0msettings\u001b[0m\u001b[0;34m[\u001b[0m\u001b[0;34m\"headers\"\u001b[0m\u001b[0;34m]\u001b[0m\u001b[0;34m[\u001b[0m\u001b[0;34m\"X-Requested-With\"\u001b[0m\u001b[0;34m]\u001b[0m \u001b[0;34m=\u001b[0m \u001b[0;34m\"XMLHttpRequest\"\u001b[0m\u001b[0;34m\u001b[0m\u001b[0;34m\u001b[0m\u001b[0m\n\u001b[1;32m     53\u001b[0m             \u001b[0mresponse\u001b[0m \u001b[0;34m=\u001b[0m \u001b[0msession\u001b[0m\u001b[0;34m.\u001b[0m\u001b[0mget\u001b[0m\u001b[0;34m(\u001b[0m\u001b[0;34m\"https://www.instagram.com/graphql/query/\"\u001b[0m\u001b[0;34m,\u001b[0m \u001b[0;34m**\u001b[0m\u001b[0msettings\u001b[0m\u001b[0;34m)\u001b[0m\u001b[0;34m\u001b[0m\u001b[0;34m\u001b[0m\u001b[0m\n\u001b[0;32m---> 54\u001b[0;31m             \u001b[0mresponse\u001b[0m\u001b[0;34m.\u001b[0m\u001b[0mraise_for_status\u001b[0m\u001b[0;34m(\u001b[0m\u001b[0;34m)\u001b[0m\u001b[0;34m\u001b[0m\u001b[0;34m\u001b[0m\u001b[0m\n\u001b[0m\u001b[1;32m     55\u001b[0m \u001b[0;34m\u001b[0m\u001b[0m\n\u001b[1;32m     56\u001b[0m             \u001b[0mdata\u001b[0m \u001b[0;34m=\u001b[0m \u001b[0mresponse\u001b[0m\u001b[0;34m.\u001b[0m\u001b[0mjson\u001b[0m\u001b[0;34m(\u001b[0m\u001b[0;34m)\u001b[0m\u001b[0;34m[\u001b[0m\u001b[0;34m\"data\"\u001b[0m\u001b[0;34m]\u001b[0m\u001b[0;34m[\u001b[0m\u001b[0;34m\"user\"\u001b[0m\u001b[0;34m]\u001b[0m\u001b[0;34m[\u001b[0m\u001b[0;34m\"edge_owner_to_timeline_media\"\u001b[0m\u001b[0;34m]\u001b[0m\u001b[0;34m\u001b[0m\u001b[0;34m\u001b[0m\u001b[0m\n",
            "\u001b[0;32m/usr/local/lib/python3.6/dist-packages/requests/models.py\u001b[0m in \u001b[0;36mraise_for_status\u001b[0;34m(self)\u001b[0m\n\u001b[1;32m    933\u001b[0m \u001b[0;34m\u001b[0m\u001b[0m\n\u001b[1;32m    934\u001b[0m         \u001b[0;32mif\u001b[0m \u001b[0mhttp_error_msg\u001b[0m\u001b[0;34m:\u001b[0m\u001b[0;34m\u001b[0m\u001b[0;34m\u001b[0m\u001b[0m\n\u001b[0;32m--> 935\u001b[0;31m             \u001b[0;32mraise\u001b[0m \u001b[0mHTTPError\u001b[0m\u001b[0;34m(\u001b[0m\u001b[0mhttp_error_msg\u001b[0m\u001b[0;34m,\u001b[0m \u001b[0mresponse\u001b[0m\u001b[0;34m=\u001b[0m\u001b[0mself\u001b[0m\u001b[0;34m)\u001b[0m\u001b[0;34m\u001b[0m\u001b[0;34m\u001b[0m\u001b[0m\n\u001b[0m\u001b[1;32m    936\u001b[0m \u001b[0;34m\u001b[0m\u001b[0m\n\u001b[1;32m    937\u001b[0m     \u001b[0;32mdef\u001b[0m \u001b[0mclose\u001b[0m\u001b[0;34m(\u001b[0m\u001b[0mself\u001b[0m\u001b[0;34m)\u001b[0m\u001b[0;34m:\u001b[0m\u001b[0;34m\u001b[0m\u001b[0;34m\u001b[0m\u001b[0m\n",
            "\u001b[0;31mHTTPError\u001b[0m: 403 Client Error: Forbidden for url: https://www.instagram.com/graphql/query/?query_hash=c6809c9c025875ac6f02619eae97a80e&variables=%7B%22id%22%3A%22None%22%2C%22first%22%3A36%2C%22after%22%3A%22%7B%7D%22%7D"
          ]
        }
      ]
    },
    {
      "metadata": {
        "id": "KOO1UChBJrsM",
        "colab_type": "code",
        "colab": {}
      },
      "cell_type": "code",
      "source": [
        "import hashlib\n",
        "import json\n",
        "import re\n",
        "import requests\n",
        "\n",
        "\n",
        "count=36\n",
        "session = requests.Session()\n",
        "\n",
        "      \n",
        "def update(obj=None, pointer=None, idx=None, rhx_gis=None, settings={}):\n",
        "\n",
        "      src_short = [] \n",
        "      #shortcodes = []\n",
        "      base_url = \"\"\n",
        "      query = \"https://www.instagram.com/\"\n",
        "      if not obj is None:\n",
        "            query += base_url + obj\n",
        "            \n",
        "        \n",
        "      if pointer is None: \n",
        "        response = session.get(query, **settings)\n",
        "        match = re.search(r\"<script[^>]*>\\s*window._sharedData\\s*=\\s*((?!<script>).*)\\s*;\\s*</script>\", response.text)\n",
        "        data = json.loads(match.group(1))\n",
        "        rhx_gis = data[\"rhx_gis\"]\n",
        "        csrf_token = data[\"config\"][\"csrf_token\"]\n",
        "        idx = data[\"entry_data\"][\"ProfilePage\"][0][\"graphql\"][\"user\"][\"id\"]\n",
        "        \n",
        "        #print(\"end_cursor\", data['entry_data']['ProfilePage'][0]['graphql']['user']['edge_owner_to_timeline_media']['page_info']['end_cursor'])\n",
        "        #print(\"'has_next_page\", data['entry_data']['ProfilePage'][0]['graphql']['user']['edge_owner_to_timeline_media']['page_info']['has_next_page'])\n",
        "        \n",
        "        for number in range(len(data[\"entry_data\"][\"ProfilePage\"][0][\"graphql\"][\"user\"][\"edge_owner_to_timeline_media\"][\"edges\"])):\n",
        "            src_adress = data[\"entry_data\"][\"ProfilePage\"][0][\"graphql\"][\"user\"][\"edge_owner_to_timeline_media\"][\"edges\"][number][\"node\"][\"thumbnail_resources\"][4][\"src\"]\n",
        "            shortcodes = data[\"entry_data\"][\"ProfilePage\"][0][\"graphql\"][\"user\"][\"edge_owner_to_timeline_media\"][\"edges\"][number][\"node\"][\"shortcode\"]\n",
        "            src_short.append([src_adress, shortcodes]) \n",
        "        if data['entry_data']['ProfilePage'][0]['graphql']['user']['edge_owner_to_timeline_media']['page_info']['has_next_page']:                 \n",
        "            pointer = data['entry_data']['ProfilePage'][0]['graphql']['user']['edge_owner_to_timeline_media']['page_info']['end_cursor']\n",
        "        else:\n",
        "            pointer = None\n",
        "\n",
        "        return rhx_gis, pointer, src_short, idx, csrf_token\n",
        "\n",
        "      \n",
        "      else:\n",
        "        variables_string = '{{\"id\":\"{id}\",\"first\":{first},\"after\":\"{after}\"}}'\n",
        "        while True:\n",
        "            data = {\"id\": idx, \"first\": 36, \"after\": pointer}\n",
        "            variables=variables_string.format(**data)\n",
        "            query_hash=\"c6809c9c025875ac6f02619eae97a80e\"\n",
        "            #response = graphql_request(query_hash=\"c6809c9c025875ac6f02619eae97a80e\", variables=variables, settings=settings)\n",
        "            settings[\"params\"] = {\"query_hash\": query_hash}\n",
        "            settings[\"params\"][\"variables\"] = variables\n",
        "            gis = \"%s:%s\" % (rhx_gis, variables)\n",
        "            settings[\"headers\"] = {\"X-Instagram-GIS\": hashlib.md5(gis.encode(\"utf-8\")).hexdigest()}\n",
        "            settings[\"headers\"][\"X-Requested-With\"] = \"XMLHttpRequest\" \n",
        "            response = session.get(\"https://www.instagram.com/graphql/query/\", **settings)\n",
        "            response.raise_for_status()\n",
        "            \n",
        "            data = response.json()[\"data\"][\"user\"][\"edge_owner_to_timeline_media\"]\n",
        "\n",
        "            edges = data[\"edges\"]\n",
        "            page_info = data[\"page_info\"]\n",
        "            length = len(edges)\n",
        "\n",
        "            for index in range(length):\n",
        "                    node = edges[index][\"node\"]\n",
        "                    shortcode = node[\"shortcode\"]\n",
        "                    shortcodes.append(shortcode)\n",
        "                    if not \"shortcode\" in node:\n",
        "                        length -= 1\n",
        "                        continue\n",
        "                    m = node[\"display_url\"]\n",
        "                    #m._set_data(node)\n",
        "                    src_adress.append(m)\n",
        "                    #print(\"node\", node)\n",
        "                \n",
        "            if page_info[\"has_next_page\"]:\n",
        "                    \n",
        "                    pointer = page_info[\"end_cursor\"]\n",
        "            else:\n",
        "                    pointer = None\n",
        "\n",
        "            return src_adress, pointer, shortcodes\n",
        "\n",
        "      "
      ],
      "execution_count": 0,
      "outputs": []
    },
    {
      "metadata": {
        "id": "mZIXpDPWSl6X",
        "colab_type": "code",
        "colab": {
          "base_uri": "https://localhost:8080/",
          "height": 54
        },
        "outputId": "3590b346-c60f-429b-ae60-6580d07607eb"
      },
      "cell_type": "code",
      "source": [
        "src_short = []\n",
        "rhx_gis, pointer, src_short, idx, csrf_token = update(\"likekate_\")\n",
        "print(\"src_short=\", src_short, \"rhx_gis:\", rhx_gis, \"csrf_token:\", csrf_token, \"idx =\", idx)\n"
      ],
      "execution_count": 48,
      "outputs": [
        {
          "output_type": "stream",
          "text": [
            "src_short= [['https://scontent-sea1-1.cdninstagram.com/vp/3516c6aeacc162a65b9cddc890356bee/5D134718/t51.2885-15/sh0.08/e35/c0.135.1080.1080/s640x640/52995640_355780601730094_7074792300884570742_n.jpg?_nc_ht=scontent-sea1-1.cdninstagram.com', 'BvTUR1YFccW'], ['https://scontent-sea1-1.cdninstagram.com/vp/a7ba11585a470c54702a23c5709a4301/5D11016E/t51.2885-15/sh0.08/e35/c0.135.1080.1080/s640x640/54771063_1177727545734749_7065054912353896229_n.jpg?_nc_ht=scontent-sea1-1.cdninstagram.com', 'BvSPLldFrdp'], ['https://scontent-sea1-1.cdninstagram.com/vp/a73cb072f9a0048d77af38aa7fa7bed7/5D4A89BA/t51.2885-15/sh0.08/e35/c0.76.1080.1080/s640x640/53554839_261463721408878_170681902103516927_n.jpg?_nc_ht=scontent-sea1-1.cdninstagram.com', 'BvRtsWZF-aU'], ['https://scontent-sea1-1.cdninstagram.com/vp/72d26b78230b3c0d46678ca2af13a3f4/5D103DFD/t51.2885-15/sh0.08/e35/c99.0.882.882/s640x640/54277232_427032621398898_5109271456331085324_n.jpg?_nc_ht=scontent-sea1-1.cdninstagram.com', 'BvOwk_Rl7Cu'], ['https://scontent-sea1-1.cdninstagram.com/vp/f11b2b2f14603c80979b4f90c3f41c39/5D2A3658/t51.2885-15/sh0.08/e35/c135.0.810.810/s640x640/54732430_388176095071801_6583190214227665416_n.jpg?_nc_ht=scontent-sea1-1.cdninstagram.com', 'BvOg4nNFYOG'], ['https://scontent-sea1-1.cdninstagram.com/vp/a26aa1dc4a54c58c0605234ee9405bef/5D0EF605/t51.2885-15/sh0.08/e35/c0.134.1080.1080/s640x640/54247325_416490032229931_9130389259129451996_n.jpg?_nc_ht=scontent-sea1-1.cdninstagram.com', 'BvLsC9yl42d'], ['https://scontent-sea1-1.cdninstagram.com/vp/9c48f5ff57e8999a7ab9f43306f2dae5/5D1B80AF/t51.2885-15/sh0.08/e35/c0.135.1080.1080a/s640x640/53759627_2722945587778377_6202263191087393961_n.jpg?_nc_ht=scontent-sea1-1.cdninstagram.com', 'BvKMPCZFjEu'], ['https://scontent-sea1-1.cdninstagram.com/vp/e69272f6ceec0f4546eaad290985eaa3/5D1EB2CA/t51.2885-15/sh0.08/e35/c0.89.1080.1080a/s640x640/53160614_833994840270453_6374108528409189482_n.jpg?_nc_ht=scontent-sea1-1.cdninstagram.com', 'BvJqIPCF32N'], ['https://scontent-sea1-1.cdninstagram.com/vp/6ff9a262d391622a2e3e480377a9cc61/5D30B497/t51.2885-15/sh0.08/e35/c0.60.1080.1080/s640x640/53599195_2298457243756244_860970036235489103_n.jpg?_nc_ht=scontent-sea1-1.cdninstagram.com', 'BvJLXPKl_65'], ['https://scontent-sea1-1.cdninstagram.com/vp/0707eaf83f7d690244742a8aa31d9513/5D13F635/t51.2885-15/sh0.08/e35/c110.0.859.859/s640x640/53845821_123394452095378_421088119716395280_n.jpg?_nc_ht=scontent-sea1-1.cdninstagram.com', 'BvHIN6-FlyL'], ['https://scontent-sea1-1.cdninstagram.com/vp/6e3dea76552f3710faae11f46319f783/5D47B163/t51.2885-15/sh0.08/e35/c0.135.1080.1080/s640x640/53495564_2105689592799562_3035824699125123754_n.jpg?_nc_ht=scontent-sea1-1.cdninstagram.com', 'BvGg9LyFO2P'], ['https://scontent-sea1-1.cdninstagram.com/vp/5548e3689198076f301a9758a9259832/5D1D37B1/t51.2885-15/sh0.08/e35/c0.39.1080.1080/s640x640/52849505_181784786122303_161529304944985349_n.jpg?_nc_ht=scontent-sea1-1.cdninstagram.com', 'BvFWOCKFbU9']] rhx_gis: fc2e73d4fd7dddcd31d28bea5cb2df59 csrf_token: NJzqzluu7aLZmvamvrgGqsuZzUglugY2 idx = 2120762022\n"
          ],
          "name": "stdout"
        }
      ]
    },
    {
      "metadata": {
        "id": "c_5ELMPknNyl",
        "colab_type": "code",
        "colab": {
          "base_uri": "https://localhost:8080/",
          "height": 34
        },
        "outputId": "fa1fc6c9-8d48-4a8b-ebb3-eebe6daadf75"
      },
      "cell_type": "code",
      "source": [
        "from requests.exceptions import HTTPError, ConnectionError\n",
        "try:\n",
        "                response = session.get(\"https://www.instagram.com/graphql/query/\", proxies={\"http\": proxy, \"https\": proxy}, timeout=5.0, **settings)\n",
        "                #print(response.headers)\n",
        "                response.raise_for_status()\n",
        "\n",
        "              except (HTTPError, ValueError, KeyError, ConnectionError) as exception:\n",
        "\n",
        "                    #print(\"ERROR\", exception.response.status_code)\n",
        "  \n",
        "                    print(\"sleep\") \n",
        "                    #sleep(6) \n",
        "                    proxy = next(proxy_pool)\n",
        "                    print(\"proxy\", proxy)\n",
        "                    print(\"end sleep\")\n",
        "                    continue\n",
        "              break\n",
        "\n",
        "\n",
        "\n",
        "\n",
        "\n",
        "\n",
        "\n",
        "import requests\n",
        "url = 'https://httpbin.org/ip'\n",
        "proxies = {\n",
        "    \"http\": 'http://36.91.129.164:80', \n",
        "    \"https\": 'http://36.91.129.164:80'\n",
        "}\n",
        "try:\n",
        "    response = requests.get(url,proxies=proxies)\n",
        "    print(response.json())\n",
        "except (HTTPError, ValueError, KeyError, ConnectionError) as exception:\n",
        "\n",
        "       #print(\"ERROR\", exception.response.status_code)\n",
        "           "
      ],
      "execution_count": 8,
      "outputs": [
        {
          "output_type": "stream",
          "text": [
            "{'origin': '36.91.129.164, 36.91.129.164'}\n"
          ],
          "name": "stdout"
        }
      ]
    },
    {
      "metadata": {
        "id": "qjLTi1S5x_kS",
        "colab_type": "code",
        "colab": {}
      },
      "cell_type": "code",
      "source": [
        "import requests\n",
        "from itertools import cycle\n",
        "import traceback\n",
        "proxies = {\n",
        "    '177.72.164.164:53281',\n",
        "    '36.91.129.164:80',\n",
        "}\n",
        "\n",
        "proxy_pool = cycle(proxies)\n",
        "\n",
        "\n",
        "\n",
        "#url = 'https://httpbin.org/ip'\n",
        "#response = requests.get(url,proxies=proxies)\n",
        "#print(response.json())\n",
        "\n",
        "#151.11.204.141:45891\n",
        "\n",
        "#177.72.164.164:53281\n",
        "\n",
        "#120.92.174.37:1080\n",
        "\n",
        "#36.91.129.164:80\n",
        "\n",
        "#36.66.210.211:31437\n",
        "\n"
      ],
      "execution_count": 0,
      "outputs": []
    },
    {
      "metadata": {
        "id": "NzLpKQqrcuT3",
        "colab_type": "code",
        "colab": {
          "base_uri": "https://localhost:8080/",
          "height": 1383
        },
        "outputId": "7c65c434-a757-4c34-d4f0-6ee3ba8d0c1b"
      },
      "cell_type": "code",
      "source": [
        "from requests.exceptions import HTTPError, ConnectionError\n",
        "\n",
        "def get_likes(account=None, pointer=None, count=6000, settings={}, limit=24):\n",
        "        src_short = []\n",
        "        rhx_gis, _, src_short, idx, csrf_token = update(account)\n",
        "        query_hash=\"e0f59e4a1c8d78d0161873bc2ee7ec44\"\n",
        "        shortcode = src_short[1][1]\n",
        "        \n",
        "        likers = []\n",
        "        if pointer is None:\n",
        "            \n",
        "            variables_string = '{{\"shortcode\":\"{shortcode}\",\"include_reel\":true,\"first\":24}}'\n",
        "        else:\n",
        "           \n",
        "            variables_string = '{{\"shortcode\":\"{shortcode}\",\"include_reel\":true,\"first\":12,\"after\":\"{after}\"}}'\n",
        "        \n",
        "        proxy = next(proxy_pool)\n",
        "        print(\"proxy\", proxy)\n",
        "        while True:\n",
        "            data = {\"first\": min(limit, count), \"shortcode\": shortcode}\n",
        "            if not pointer is None:\n",
        "                data[\"after\"] = pointer\n",
        "            settings[\"params\"] = {\"query_hash\": query_hash}\n",
        "            variables=variables_string.format(**data)\n",
        "            settings[\"params\"][\"variables\"] = variables\n",
        "            gis = \"%s:%s\" % (rhx_gis, variables)\n",
        "            settings[\"headers\"] = {\"X-Instagram-GIS\": hashlib.md5(gis.encode(\"utf-8\")).hexdigest()}\n",
        "            settings[\"headers\"][\"X-Requested-With\"] = \"XMLHttpRequest\" \n",
        "            #response = session.get(\"https://www.instagram.com/graphql/query/\", **settings)\n",
        "            #response.raise_for_status()\n",
        "            \n",
        "            \n",
        "            \n",
        "            \n",
        "            for i in range(0, 3):\n",
        "              try:\n",
        "                response = session.get(\"https://www.instagram.com/graphql/query/\", proxies={\"http\": proxy, \"https\": proxy}, timeout=5.0, **settings)\n",
        "                #print(response.headers)\n",
        "                response.raise_for_status()\n",
        "\n",
        "              except (HTTPError, ValueError, KeyError, ConnectionError) as exception:\n",
        "\n",
        "                    #print(\"ERROR\", exception.response.status_code)\n",
        "  \n",
        "                    print(\"sleep\") \n",
        "                    #sleep(6) \n",
        "                    proxy = next(proxy_pool)\n",
        "                    print(\"proxy\", proxy)\n",
        "                    print(\"end sleep\")\n",
        "                    continue\n",
        "              break\n",
        "            data = response.json()[\"data\"][\"shortcode_media\"][\"edge_liked_by\"]\n",
        "            \n",
        "            #pointer = data[\"page_info\"][\"end_cursor\"]\n",
        "            #for number in range(len(data[\"edges\"])):\n",
        "                # likers.append(data[\"edges\"][number][\"node\"][\"username\"])\n",
        "\n",
        "                 \n",
        "            if data[\"page_info\"][\"has_next_page\"]:                 \n",
        "               pointer = data[\"page_info\"][\"end_cursor\"]\n",
        "\n",
        "            else:\n",
        "               pointer = None\n",
        " \n",
        "            edges = data[\"edges\"]    \n",
        "            for index in range(min(len(edges), count)):\n",
        "                    node = edges[index][\"node\"]\n",
        "                    \n",
        "                    likers.append(data[\"edges\"][index][\"node\"][\"username\"])\n",
        "                    \n",
        "                    if len(likers) % 100 == 0:\n",
        "                      print(len(likers))\n",
        "                \n",
        "            if data[\"page_info\"][\"has_next_page\"]:\n",
        "                    pointer = data[\"page_info\"][\"end_cursor\"]\n",
        "            else:\n",
        "                    pointer = None\n",
        "                \n",
        "            if len(edges) < count and data[\"page_info\"][\"has_next_page\"]:\n",
        "                    \n",
        "                    count = count-len(edges)\n",
        "                    \n",
        "                    variables_string = '{{\"shortcode\":\"{shortcode}\",\"include_reel\":true,\"first\":12,\"after\":\"{after}\"}}'\n",
        "            else:\n",
        "                    return likers, pointer\n",
        "            \n",
        "likerss = []              \n",
        "a, b = get_likes(\"likekate_\")\n",
        "print(a,b)\n"
      ],
      "execution_count": 19,
      "outputs": [
        {
          "output_type": "stream",
          "text": [
            "proxy 36.91.129.164:80\n",
            "100\n",
            "200\n",
            "300\n",
            "400\n",
            "500\n",
            "600\n",
            "700\n",
            "800\n",
            "900\n",
            "1000\n",
            "1100\n",
            "1200\n",
            "1300\n",
            "1400\n",
            "1500\n",
            "1600\n",
            "1700\n",
            "1800\n",
            "1900\n",
            "2000\n",
            "2100\n",
            "2200\n",
            "2300\n",
            "2400\n",
            "sleep\n",
            "proxy 177.72.164.164:53281\n",
            "end sleep\n",
            "2500\n",
            "2600\n",
            "2700\n",
            "2800\n",
            "2900\n",
            "3000\n",
            "3100\n",
            "3200\n",
            "3300\n",
            "3400\n",
            "3500\n",
            "3600\n",
            "3700\n",
            "3800\n",
            "3900\n",
            "4000\n",
            "4100\n",
            "4200\n",
            "4300\n",
            "4400\n",
            "4500\n",
            "4600\n",
            "sleep\n",
            "proxy 36.91.129.164:80\n",
            "end sleep\n",
            "sleep\n",
            "proxy 177.72.164.164:53281\n",
            "end sleep\n",
            "sleep\n",
            "proxy 36.91.129.164:80\n",
            "end sleep\n"
          ],
          "name": "stdout"
        },
        {
          "output_type": "error",
          "ename": "KeyError",
          "evalue": "ignored",
          "traceback": [
            "\u001b[0;31m---------------------------------------------------------------------------\u001b[0m",
            "\u001b[0;31mKeyError\u001b[0m                                  Traceback (most recent call last)",
            "\u001b[0;32m<ipython-input-19-b2282ca0c76f>\u001b[0m in \u001b[0;36m<module>\u001b[0;34m()\u001b[0m\n\u001b[1;32m     86\u001b[0m \u001b[0;34m\u001b[0m\u001b[0m\n\u001b[1;32m     87\u001b[0m \u001b[0mlikerss\u001b[0m \u001b[0;34m=\u001b[0m \u001b[0;34m[\u001b[0m\u001b[0;34m]\u001b[0m\u001b[0;34m\u001b[0m\u001b[0;34m\u001b[0m\u001b[0m\n\u001b[0;32m---> 88\u001b[0;31m \u001b[0ma\u001b[0m\u001b[0;34m,\u001b[0m \u001b[0mb\u001b[0m \u001b[0;34m=\u001b[0m \u001b[0mget_likes\u001b[0m\u001b[0;34m(\u001b[0m\u001b[0;34m\"likekate_\"\u001b[0m\u001b[0;34m)\u001b[0m\u001b[0;34m\u001b[0m\u001b[0;34m\u001b[0m\u001b[0m\n\u001b[0m\u001b[1;32m     89\u001b[0m \u001b[0mprint\u001b[0m\u001b[0;34m(\u001b[0m\u001b[0ma\u001b[0m\u001b[0;34m,\u001b[0m\u001b[0mb\u001b[0m\u001b[0;34m)\u001b[0m\u001b[0;34m\u001b[0m\u001b[0;34m\u001b[0m\u001b[0m\n",
            "\u001b[0;32m<ipython-input-19-b2282ca0c76f>\u001b[0m in \u001b[0;36mget_likes\u001b[0;34m(account, pointer, count, settings, limit)\u001b[0m\n\u001b[1;32m     50\u001b[0m                     \u001b[0;32mcontinue\u001b[0m\u001b[0;34m\u001b[0m\u001b[0;34m\u001b[0m\u001b[0m\n\u001b[1;32m     51\u001b[0m               \u001b[0;32mbreak\u001b[0m\u001b[0;34m\u001b[0m\u001b[0;34m\u001b[0m\u001b[0m\n\u001b[0;32m---> 52\u001b[0;31m             \u001b[0mdata\u001b[0m \u001b[0;34m=\u001b[0m \u001b[0mresponse\u001b[0m\u001b[0;34m.\u001b[0m\u001b[0mjson\u001b[0m\u001b[0;34m(\u001b[0m\u001b[0;34m)\u001b[0m\u001b[0;34m[\u001b[0m\u001b[0;34m\"data\"\u001b[0m\u001b[0;34m]\u001b[0m\u001b[0;34m[\u001b[0m\u001b[0;34m\"shortcode_media\"\u001b[0m\u001b[0;34m]\u001b[0m\u001b[0;34m[\u001b[0m\u001b[0;34m\"edge_liked_by\"\u001b[0m\u001b[0;34m]\u001b[0m\u001b[0;34m\u001b[0m\u001b[0;34m\u001b[0m\u001b[0m\n\u001b[0m\u001b[1;32m     53\u001b[0m \u001b[0;34m\u001b[0m\u001b[0m\n\u001b[1;32m     54\u001b[0m             \u001b[0;31m#pointer = data[\"page_info\"][\"end_cursor\"]\u001b[0m\u001b[0;34m\u001b[0m\u001b[0;34m\u001b[0m\u001b[0;34m\u001b[0m\u001b[0m\n",
            "\u001b[0;31mKeyError\u001b[0m: 'data'"
          ]
        }
      ]
    },
    {
      "metadata": {
        "id": "7-iIiod9xrcl",
        "colab_type": "code",
        "colab": {}
      },
      "cell_type": "code",
      "source": [
        "https://www.scrapehero.com/how-to-rotate-proxies-and-ip-addresses-using-python-3/"
      ],
      "execution_count": 0,
      "outputs": []
    },
    {
      "metadata": {
        "id": "1dxD5hRJWF4U",
        "colab_type": "code",
        "colab": {
          "base_uri": "https://localhost:8080/",
          "height": 34
        },
        "outputId": "d723f2b2-3c10-497c-9eb5-746147c3f720"
      },
      "cell_type": "code",
      "source": [
        "a = []\n",
        "a.append('2')\n",
        "a.append('3')\n",
        "a.append(['6', '7'])\n",
        "\n",
        "a"
      ],
      "execution_count": 42,
      "outputs": [
        {
          "output_type": "execute_result",
          "data": {
            "text/plain": [
              "['2', '3', ['6', '7']]"
            ]
          },
          "metadata": {
            "tags": []
          },
          "execution_count": 42
        }
      ]
    },
    {
      "metadata": {
        "id": "YdQqX2i6frih",
        "colab_type": "code",
        "colab": {
          "base_uri": "https://localhost:8080/",
          "height": 34
        },
        "outputId": "84074b09-18d4-415b-9b06-80577bcee61f"
      },
      "cell_type": "code",
      "source": [
        "src_short= [['https://scontent-sea1-1.cdninstagram.com/vp/3516c6aeacc162a65b9cddc890356bee/5D134718/t51.2885-15/sh0.08/e35/c0.135.1080.1080/s640x640/52995640_355780601730094_7074792300884570742_n.jpg?_nc_ht=scontent-sea1-1.cdninstagram.com', 'BvTUR1YFccW'], ['https://scontent-sea1-1.cdninstagram.com/vp/a7ba11585a470c54702a23c5709a4301/5D11016E/t51.2885-15/sh0.08/e35/c0.135.1080.1080/s640x640/54771063_1177727545734749_7065054912353896229_n.jpg?_nc_ht=scontent-sea1-1.cdninstagram.com', 'BvSPLldFrdp'], ['https://scontent-sea1-1.cdninstagram.com/vp/a73cb072f9a0048d77af38aa7fa7bed7/5D4A89BA/t51.2885-15/sh0.08/e35/c0.76.1080.1080/s640x640/53554839_261463721408878_170681902103516927_n.jpg?_nc_ht=scontent-sea1-1.cdninstagram.com', 'BvRtsWZF-aU'], ['https://scontent-sea1-1.cdninstagram.com/vp/72d26b78230b3c0d46678ca2af13a3f4/5D103DFD/t51.2885-15/sh0.08/e35/c99.0.882.882/s640x640/54277232_427032621398898_5109271456331085324_n.jpg?_nc_ht=scontent-sea1-1.cdninstagram.com', 'BvOwk_Rl7Cu'], ['https://scontent-sea1-1.cdninstagram.com/vp/f11b2b2f14603c80979b4f90c3f41c39/5D2A3658/t51.2885-15/sh0.08/e35/c135.0.810.810/s640x640/54732430_388176095071801_6583190214227665416_n.jpg?_nc_ht=scontent-sea1-1.cdninstagram.com', 'BvOg4nNFYOG'], ['https://scontent-sea1-1.cdninstagram.com/vp/a26aa1dc4a54c58c0605234ee9405bef/5D0EF605/t51.2885-15/sh0.08/e35/c0.134.1080.1080/s640x640/54247325_416490032229931_9130389259129451996_n.jpg?_nc_ht=scontent-sea1-1.cdninstagram.com', 'BvLsC9yl42d'], ['https://scontent-sea1-1.cdninstagram.com/vp/9c48f5ff57e8999a7ab9f43306f2dae5/5D1B80AF/t51.2885-15/sh0.08/e35/c0.135.1080.1080a/s640x640/53759627_2722945587778377_6202263191087393961_n.jpg?_nc_ht=scontent-sea1-1.cdninstagram.com', 'BvKMPCZFjEu'], ['https://scontent-sea1-1.cdninstagram.com/vp/e69272f6ceec0f4546eaad290985eaa3/5D1EB2CA/t51.2885-15/sh0.08/e35/c0.89.1080.1080a/s640x640/53160614_833994840270453_6374108528409189482_n.jpg?_nc_ht=scontent-sea1-1.cdninstagram.com', 'BvJqIPCF32N'], ['https://scontent-sea1-1.cdninstagram.com/vp/6ff9a262d391622a2e3e480377a9cc61/5D30B497/t51.2885-15/sh0.08/e35/c0.60.1080.1080/s640x640/53599195_2298457243756244_860970036235489103_n.jpg?_nc_ht=scontent-sea1-1.cdninstagram.com', 'BvJLXPKl_65'], ['https://scontent-sea1-1.cdninstagram.com/vp/0707eaf83f7d690244742a8aa31d9513/5D13F635/t51.2885-15/sh0.08/e35/c110.0.859.859/s640x640/53845821_123394452095378_421088119716395280_n.jpg?_nc_ht=scontent-sea1-1.cdninstagram.com', 'BvHIN6-FlyL'], ['https://scontent-sea1-1.cdninstagram.com/vp/6e3dea76552f3710faae11f46319f783/5D47B163/t51.2885-15/sh0.08/e35/c0.135.1080.1080/s640x640/53495564_2105689592799562_3035824699125123754_n.jpg?_nc_ht=scontent-sea1-1.cdninstagram.com', 'BvGg9LyFO2P'], ['https://scontent-sea1-1.cdninstagram.com/vp/5548e3689198076f301a9758a9259832/5D1D37B1/t51.2885-15/sh0.08/e35/c0.39.1080.1080/s640x640/52849505_181784786122303_161529304944985349_n.jpg?_nc_ht=scontent-sea1-1.cdninstagram.com', 'BvFWOCKFbU9']]\n",
        "\n",
        "src_short[1][1]"
      ],
      "execution_count": 52,
      "outputs": [
        {
          "output_type": "execute_result",
          "data": {
            "text/plain": [
              "'BvSPLldFrdp'"
            ]
          },
          "metadata": {
            "tags": []
          },
          "execution_count": 52
        }
      ]
    }
  ]
}