{
  "nbformat": 4,
  "nbformat_minor": 0,
  "metadata": {
    "colab": {
      "name": "instagram_new_24012019.ipynb",
      "version": "0.3.2",
      "provenance": [],
      "include_colab_link": true
    },
    "kernelspec": {
      "name": "python3",
      "display_name": "Python 3"
    }
  },
  "cells": [
    {
      "cell_type": "markdown",
      "metadata": {
        "id": "view-in-github",
        "colab_type": "text"
      },
      "source": [
        "<a href=\"https://colab.research.google.com/github/joker2017/Calculator/blob/master/instagram_new_24012019.ipynb\" target=\"_parent\"><img src=\"https://colab.research.google.com/assets/colab-badge.svg\" alt=\"Open In Colab\"/></a>"
      ]
    },
    {
      "metadata": {
        "id": "Rju2Er1T5etz",
        "colab_type": "code",
        "colab": {}
      },
      "cell_type": "code",
      "source": [
        "import hashlib\n",
        "import json\n",
        "import re\n",
        "import requests\n",
        "\n",
        "\n",
        "\n",
        "session = requests.Session()\n",
        "\n",
        "      \n",
        "def update(obj=None, settings={}):\n",
        "        \n",
        "        \n",
        "        query = \"https://www.instagram.com/\"\n",
        "        if not obj is None:\n",
        "            query += base_url + primary_key\n",
        "        \n",
        "        response = session.get(query, **settings)\n",
        "        match = re.search(r\"<script[^>]*>\\s*window._sharedData\\s*=\\s*((?!<script>).*)\\s*;\\s*</script>\", response.text)\n",
        "        data = json.loads(match.group(1))\n",
        "        rhx_gis = data[\"rhx_gis\"]\n",
        "        csrf_token = data[\"config\"][\"csrf_token\"]    \n",
        "        if obj is None:\n",
        "                return None\n",
        "            \n",
        "        data = data[\"entry_data\"]\n",
        "        for key in obj.entry_data_path:\n",
        "          data=data[key]\n",
        "          obj._set_data(data)\n",
        "          return data\n",
        "      \n",
        "      \n",
        "def AgentAccount():\n",
        "        settings={}\n",
        "        primary_key = \"login\"                                       ############ A   \n",
        "        entry_data_path = (\"ProfilePage\", 0, \"graphql\", \"user\")                # C\n",
        "        base_url = \"\"                                                          # C\n",
        "        media_path = (\"user\", \"edge_owner_to_timeline_media\")                  # O\n",
        "        media_query_hash = \"c6809c9c025875ac6f02619eae97a80e\"                  # U\n",
        "        data = {\"username\": andivanov2019, \"password\": Asus2046}            ############ NT\n",
        "        \n",
        "        if \"headers\" in settings:\n",
        "            settings[\"headers\"][\"X-CSRFToken\"] = csrf_token\n",
        "            settings[\"headers\"][\"referer\"] = \"https://www.instagram.com/\"\n",
        "        else:\n",
        "            settings[\"headers\"] = {\"X-CSRFToken\": csrf_token, \"referer\": \"https://www.instagram.com/\"}\n",
        "\n",
        "        response = session.post(\"https://www.instagram.com/accounts/login/ajax/\",data=data, **settings)\n",
        "        response.raise_for_status()   \n",
        "        data = response.json()\n",
        "        return data\n",
        "\n",
        "  \n",
        "  def get_followers(account=None, pointer=None, count=20, settings={}, limit=50):\n",
        "\n",
        "\n",
        "        update(account, settings)\n",
        "        \n",
        "        if pointer is None:\n",
        "            variables_string = '{{\"id\":\"{id}\",\"first\":{first}}}'\n",
        "        else:\n",
        "            variables_string = '{{\"id\":\"{id}\",\"first\":{first},\"after\":\"{after}\"}}'\n",
        "        followers = []\n",
        "\n",
        "        while True:\n",
        "            data = {\"first\": count, \"id\": account}\n",
        "            if not pointer is None:\n",
        "                data[\"after\"] = pointer\n",
        "\n",
        "            response = graphql_request(\n",
        "                query_hash=\"37479f2b8209594dde7facb0d904896a\",\n",
        "                variables=variables_string.format(**data),\n",
        "                settings=settings)\n",
        "\n",
        "\n",
        "            data = response.json()[\"data\"][\"user\"][\"edge_followed_by\"]\n",
        "            edges = data[\"edges\"]\n",
        "            page_info = data[\"page_info\"]\n",
        "            followers_count = data[\"count\"]\n",
        "                \n",
        "            for index in range(min(len(edges), count)):\n",
        "                    node = edges[index][\"node\"]\n",
        "                    a = node[\"username\"]\n",
        "                    id = node[\"id\"]\n",
        "                    profile_pic_url = node[\"profile_pic_url\"]\n",
        "                    is_verified = node[\"is_verified\"]\n",
        "                    full_name = node[\"full_name\"]\n",
        "                    #followers.add(a)\n",
        "                    #followers.append(a)\n",
        "                \n",
        "                if page_info[\"has_next_page\"]:\n",
        "                    pointer = page_info[\"end_cursor\"]\n",
        "                else:\n",
        "                    pointer = None\n",
        "                \n",
        "                if len(edges) < count and page_info[\"has_next_page\"]:\n",
        "                    count = count-len(edges)\n",
        "                    variables_string = '{{\"id\":\"{id}\",\"first\":{first},\"after\":\"{after}\"}}'\n",
        "                else:\n",
        "                    return followers, pointer\n",
        "            \n",
        "\n",
        "            \n",
        "def graphql_request(query_hash, variables, settings={}):\n",
        "\n",
        "        if not \"params\" in settings:\n",
        "            settings[\"params\"] = {\"query_hash\": query_hash}\n",
        "        else:\n",
        "            settings[\"params\"][\"query_hash\"] = query_hash\n",
        "\n",
        "        settings[\"params\"][\"variables\"] = variables\n",
        "        gis = \"%s:%s\" % (rhx_gis, variables)\n",
        "        if not \"headers\" in settings:\n",
        "            settings[\"headers\"] = {\"X-Instagram-GIS\": hashlib.md5(gis.encode(\"utf-8\")).hexdigest()}\n",
        "        else:\n",
        "            settings[\"headers\"][\"X-Instagram-GIS\"] = hashlib.md5(gis.encode(\"utf-8\")).hexdigest()\n",
        "        settings[\"headers\"][\"X-Requested-With\"] = \"XMLHttpRequest\"    \n",
        "        response = session.get(\"https://www.instagram.com/graphql/query/\", **settings)\n",
        "        response.raise_for_status()\n",
        "        return response\n",
        "      \n",
        "\n",
        "\n",
        "\n",
        "           \n",
        "\n"
      ],
      "execution_count": 0,
      "outputs": []
    },
    {
      "metadata": {
        "id": "bX4UIThIxuln",
        "colab_type": "code",
        "colab": {
          "base_uri": "https://localhost:8080/",
          "height": 90
        },
        "outputId": "395d25ae-efe2-4004-8664-92f7c9db2b74"
      },
      "cell_type": "code",
      "source": [
        "import hashlib\n",
        "import json\n",
        "import re\n",
        "import requests\n",
        "\n",
        "\n",
        "\n",
        "session = requests.Session()\n",
        "\n",
        "      \n",
        "def update(obj=None, settings={}):\n",
        "        entry_data_path = (\"ProfilePage\", 0, \"graphql\", \"user\")\n",
        "        primary_key = \"login\"\n",
        "        base_url = \"\"\n",
        "        query = \"https://www.instagram.com/\"\n",
        "        if not obj is None:\n",
        "            query += base_url + primary_key\n",
        "        \n",
        "        response = session.get(query, **settings)\n",
        "        match = re.search(r\"<script[^>]*>\\s*window._sharedData\\s*=\\s*((?!<script>).*)\\s*;\\s*</script>\", response.text)\n",
        "        data = json.loads(match.group(1))\n",
        "        \n",
        "        rhx_gis = data[\"rhx_gis\"]\n",
        "       \n",
        "        csrf_token = data[\"config\"][\"csrf_token\"] \n",
        "        print(csrf_token)\n",
        "\n",
        "        if obj is None:\n",
        "                return rhx_gis, csrf_token, data\n",
        "            \n",
        "        data = data[\"entry_data\"]\n",
        "        print(data)\n",
        "        for key in entry_data_path:\n",
        "          data=data[key]\n",
        "          #obj._set_data(data)\n",
        "          print(\"user\", user)\n",
        "          return rhx_gis, csrf_token, data    #, rhx_gis, csrf_token\n",
        "      \n",
        "      \n",
        "def AgentAccount():\n",
        "        rhx_gis, csrf_token, _ = update()\n",
        "        settings={}\n",
        "        #primary_key = \"login\"                                       ############ A   \n",
        "        #entry_data_path = (\"ProfilePage\", 0, \"graphql\", \"user\")                # C\n",
        "        #base_url = \"\"\n",
        "   \n",
        "        #media_path = (\"user\", \"edge_owner_to_timeline_media\")                  # O\n",
        "       # media_query_hash = \"c6809c9c025875ac6f02619eae97a80e\"                  # U\n",
        "        #data = {\"username\": andivanov2019, \"password\": Asus2046}            ############ NT\n",
        "        data = {'username': 'andivanov2019', 'password': 'Asus2046'}\n",
        "        print(\"data:\", data)\n",
        "       \n",
        "        if \"headers\" in settings:\n",
        "            settings[\"headers\"][\"X-CSRFToken\"] = csrf_token\n",
        "            settings[\"headers\"][\"referer\"] = \"https://www.instagram.com/\"\n",
        "        else:\n",
        "            settings[\"headers\"] = {\"X-CSRFToken\": csrf_token, \"referer\": \"https://www.instagram.com/\"}\n",
        "        response = session.post(\"https://www.instagram.com/accounts/login/ajax/\",data=data, **settings)\n",
        "        response.raise_for_status()   \n",
        "        data = response.json()\n",
        "        return data\n",
        "\n",
        "print(AgentAccount())"
      ],
      "execution_count": 21,
      "outputs": [
        {
          "output_type": "stream",
          "text": [
            "i7qNni8g0uxylzoY3phykLIGVhsTN9qA\n",
            "data: {'username': 'andivanov2019', 'password': 'Asus2046'}\n",
            "{'authenticated': True, 'user': True, 'userId': '10397645874', 'oneTapPrompt': False, 'fr': 'ASBH2F46sz8OrvRb1ApRyy6HnMwiZbN-_uB1n1bB6YDDTjuO0SEoLRGGk8MUngxWmHgF7UI2jcFk8s8gyGoZWpguMnvUdqYeIV8r04lG35SsfKulbUdRHoyaEAzpIRPRjshbGkY', 'reactivated': True, 'status': 'ok'}\n"
          ],
          "name": "stdout"
        }
      ]
    },
    {
      "metadata": {
        "id": "aNhz1WUfHQFR",
        "colab_type": "code",
        "colab": {
          "base_uri": "https://localhost:8080/",
          "height": 169
        },
        "outputId": "e4afde64-3581-4f94-f29c-47b2b84d7dac"
      },
      "cell_type": "code",
      "source": [
        "ProfilePage"
      ],
      "execution_count": 19,
      "outputs": [
        {
          "output_type": "error",
          "ename": "NameError",
          "evalue": "ignored",
          "traceback": [
            "\u001b[0;31m---------------------------------------------------------------------------\u001b[0m",
            "\u001b[0;31mNameError\u001b[0m                                 Traceback (most recent call last)",
            "\u001b[0;32m<ipython-input-19-a8f0be2b6b7b>\u001b[0m in \u001b[0;36m<module>\u001b[0;34m()\u001b[0m\n\u001b[0;32m----> 1\u001b[0;31m \u001b[0mProfilePage\u001b[0m\u001b[0;34m\u001b[0m\u001b[0;34m\u001b[0m\u001b[0m\n\u001b[0m",
            "\u001b[0;31mNameError\u001b[0m: name 'ProfilePage' is not defined"
          ]
        }
      ]
    },
    {
      "metadata": {
        "id": "Ir4zH1B8DLs2",
        "colab_type": "code",
        "colab": {}
      },
      "cell_type": "code",
      "source": [
        "def get_media(obj, pointer=None, count=12, settings={}, limit=50):  \n",
        "        primary_key = \"code\"\n",
        "        entry_data_path = (\"PostPage\", 0, \"graphql\", \"shortcode_media\")\n",
        "        media_path = (\"user\", \"edge_owner_to_timeline_media\")\n",
        "        base_url = \"p/\"\n",
        "        data = update(obj, settings)\n",
        "        variables_string = '{{\"{name}\":\"{name_value}\",\"first\":{first},\"after\":\"{after}\"}}'\n",
        "        medias = []\n",
        "        \n",
        "        if pointer is None:\n",
        "                data = data[media_path[-1]]\n",
        "                \n",
        "                page_info = data[\"page_info\"]\n",
        "                edges = data[\"edges\"]\n",
        "                \n",
        "                for index in range(min(len(edges), count)):\n",
        "                    node = edges[index][\"node\"]\n",
        "                    m = Media(node[\"shortcode\"])\n",
        "                    m._set_data(node)\n",
        "                    if isinstance(obj, Account):\n",
        "                        m.likes_count = node[\"edge_media_preview_like\"][\"count\"]\n",
        "                        m.owner = obj\n",
        "                    else:\n",
        "                        m.likes_count = node[\"edge_liked_by\"]\n",
        "                    \n",
        "                    obj.media.add(m)\n",
        "                    medias.append(m)\n",
        "                \n",
        "                if page_info[\"has_next_page\"]:\n",
        "                    pointer = page_info[\"end_cursor\"]\n",
        "                \n",
        "                if len(edges) < count and page_info[\"has_next_page\"]:\n",
        "                    count = count - len(edges)\n",
        "                else:\n",
        "                    return medias, pointer\n",
        "                \n",
        "\n",
        "        while True:\n",
        "            data = {\"after\": pointer, \"first\": min(limit, count)}\n",
        "            if isinstance(obj, Tag):\n",
        "                data[\"name\"] = \"tag_name\"\n",
        "                data[\"name_value\"] = obj.name\n",
        "            else:\n",
        "                data[\"name\"] = \"id\"\n",
        "                data[\"name_value\"] = obj.id\n",
        "\n",
        "            response = graphql_request(query_hash=obj._media_query_hash, variables=variables_string.format(**data),settings=settings)\n",
        "            data = response.json()[\"data\"]\n",
        "            for key in obj._media_path:\n",
        "                    data = data[key]\n",
        "            page_info = data[\"page_info\"]\n",
        "            edges = data[\"edges\"]\n",
        "                \n",
        "            for index in range(min(len(edges), count)):\n",
        "                    node = edges[index][\"node\"]\n",
        "                    m = Media(node[\"shortcode\"])\n",
        "                    m._set_data(node)\n",
        "                    if isinstance(obj, Account):\n",
        "                        m.likes_count = node[\"edge_media_preview_like\"][\"count\"]\n",
        "                        m.owner = obj\n",
        "                    else:\n",
        "                        m.likes_count = node[\"edge_liked_by\"]\n",
        "                    obj.media.add(m)\n",
        "                    medias.append(m)\n",
        "                \n",
        "            if page_info[\"has_next_page\"]:\n",
        "                    pointer = page_info[\"end_cursor\"]\n",
        "            else:\n",
        "                    pointer = None\n",
        "                \n",
        "            if len(edges) < count and page_info[\"has_next_page\"]:\n",
        "                    count = count - len(edges)\n",
        "            else:\n",
        "                    return medias, pointer\n"
      ],
      "execution_count": 0,
      "outputs": []
    },
    {
      "metadata": {
        "id": "BP2XjLwh0rKl",
        "colab_type": "code",
        "colab": {
          "base_uri": "https://localhost:8080/",
          "height": 310
        },
        "outputId": "5142a852-27d0-41dc-b1b8-2f4938fff103"
      },
      "cell_type": "code",
      "source": [
        "AgentAccount()"
      ],
      "execution_count": 17,
      "outputs": [
        {
          "output_type": "stream",
          "text": [
            "data: {'username': 'andivanov2019', 'password': 'Asus2046'}\n"
          ],
          "name": "stdout"
        },
        {
          "output_type": "error",
          "ename": "NameError",
          "evalue": "ignored",
          "traceback": [
            "\u001b[0;31m---------------------------------------------------------------------------\u001b[0m",
            "\u001b[0;31mNameError\u001b[0m                                 Traceback (most recent call last)",
            "\u001b[0;32m<ipython-input-17-3393a571b291>\u001b[0m in \u001b[0;36m<module>\u001b[0;34m()\u001b[0m\n\u001b[0;32m----> 1\u001b[0;31m \u001b[0mAgentAccount\u001b[0m\u001b[0;34m(\u001b[0m\u001b[0;34m)\u001b[0m\u001b[0;34m\u001b[0m\u001b[0;34m\u001b[0m\u001b[0m\n\u001b[0m",
            "\u001b[0;32m<ipython-input-16-24594c0d3d67>\u001b[0m in \u001b[0;36mAgentAccount\u001b[0;34m()\u001b[0m\n\u001b[1;32m     46\u001b[0m             \u001b[0msettings\u001b[0m\u001b[0;34m[\u001b[0m\u001b[0;34m\"headers\"\u001b[0m\u001b[0;34m]\u001b[0m\u001b[0;34m[\u001b[0m\u001b[0;34m\"referer\"\u001b[0m\u001b[0;34m]\u001b[0m \u001b[0;34m=\u001b[0m \u001b[0;34m\"https://www.instagram.com/\"\u001b[0m\u001b[0;34m\u001b[0m\u001b[0;34m\u001b[0m\u001b[0m\n\u001b[1;32m     47\u001b[0m         \u001b[0;32melse\u001b[0m\u001b[0;34m:\u001b[0m\u001b[0;34m\u001b[0m\u001b[0;34m\u001b[0m\u001b[0m\n\u001b[0;32m---> 48\u001b[0;31m             \u001b[0msettings\u001b[0m\u001b[0;34m[\u001b[0m\u001b[0;34m\"headers\"\u001b[0m\u001b[0;34m]\u001b[0m \u001b[0;34m=\u001b[0m \u001b[0;34m{\u001b[0m\u001b[0;34m\"X-CSRFToken\"\u001b[0m\u001b[0;34m:\u001b[0m \u001b[0mcsrf_token\u001b[0m\u001b[0;34m,\u001b[0m \u001b[0;34m\"referer\"\u001b[0m\u001b[0;34m:\u001b[0m \u001b[0;34m\"https://www.instagram.com/\"\u001b[0m\u001b[0;34m}\u001b[0m\u001b[0;34m\u001b[0m\u001b[0;34m\u001b[0m\u001b[0m\n\u001b[0m\u001b[1;32m     49\u001b[0m         \u001b[0mprint\u001b[0m\u001b[0;34m(\u001b[0m\u001b[0;34m\"setting:\"\u001b[0m\u001b[0;34m,\u001b[0m \u001b[0msettings\u001b[0m\u001b[0;34m)\u001b[0m\u001b[0;34m\u001b[0m\u001b[0;34m\u001b[0m\u001b[0m\n\u001b[1;32m     50\u001b[0m         \u001b[0mresponse\u001b[0m \u001b[0;34m=\u001b[0m \u001b[0msession\u001b[0m\u001b[0;34m.\u001b[0m\u001b[0mpost\u001b[0m\u001b[0;34m(\u001b[0m\u001b[0;34m\"https://www.instagram.com/accounts/login/ajax/\"\u001b[0m\u001b[0;34m,\u001b[0m\u001b[0mdata\u001b[0m\u001b[0;34m=\u001b[0m\u001b[0mdata\u001b[0m\u001b[0;34m,\u001b[0m \u001b[0;34m**\u001b[0m\u001b[0msettings\u001b[0m\u001b[0;34m)\u001b[0m\u001b[0;34m\u001b[0m\u001b[0;34m\u001b[0m\u001b[0m\n",
            "\u001b[0;31mNameError\u001b[0m: name 'csrf_token' is not defined"
          ]
        }
      ]
    },
    {
      "metadata": {
        "id": "RjSPaB2X0rDT",
        "colab_type": "text"
      },
      "cell_type": "markdown",
      "source": [
        ""
      ]
    },
    {
      "metadata": {
        "id": "LNDnhQg4yzLl",
        "colab_type": "code",
        "colab": {
          "base_uri": "https://localhost:8080/",
          "height": 186
        },
        "outputId": "4d923d81-6841-40a0-ca59-6c691f991592"
      },
      "cell_type": "code",
      "source": [
        "#data1 = {}\n",
        "#data1 = {'username': 'andivanov2019', 'password': 'Asus2046'}  \n",
        "#dict = \"d1\"\n",
        "d1 = dict(shorts='dictq', long='dictionary')\n",
        "d1"
      ],
      "execution_count": 10,
      "outputs": [
        {
          "output_type": "error",
          "ename": "TypeError",
          "evalue": "ignored",
          "traceback": [
            "\u001b[0;31m---------------------------------------------------------------------------\u001b[0m",
            "\u001b[0;31mTypeError\u001b[0m                                 Traceback (most recent call last)",
            "\u001b[0;32m<ipython-input-10-0c96cb5e2f1e>\u001b[0m in \u001b[0;36m<module>\u001b[0;34m()\u001b[0m\n\u001b[0;32m----> 1\u001b[0;31m \u001b[0md1\u001b[0m \u001b[0;34m=\u001b[0m \u001b[0mdict\u001b[0m\u001b[0;34m(\u001b[0m\u001b[0mshorts\u001b[0m\u001b[0;34m=\u001b[0m\u001b[0;34m'dictq'\u001b[0m\u001b[0;34m,\u001b[0m \u001b[0mlong\u001b[0m\u001b[0;34m=\u001b[0m\u001b[0;34m'dictionary'\u001b[0m\u001b[0;34m)\u001b[0m\u001b[0;34m\u001b[0m\u001b[0;34m\u001b[0m\u001b[0m\n\u001b[0m\u001b[1;32m      2\u001b[0m \u001b[0md1\u001b[0m\u001b[0;34m\u001b[0m\u001b[0;34m\u001b[0m\u001b[0m\n",
            "\u001b[0;31mTypeError\u001b[0m: 'str' object is not callable"
          ]
        }
      ]
    },
    {
      "metadata": {
        "id": "xcYiEmUo7eyG",
        "colab_type": "code",
        "colab": {
          "base_uri": "https://localhost:8080/",
          "height": 34
        },
        "outputId": "4ece3559-cee4-4086-e13d-56634ba5555a"
      },
      "cell_type": "code",
      "source": [
        "f=6\n",
        "v = {'dict': f, 'dictionary': 2}\n",
        "v"
      ],
      "execution_count": 11,
      "outputs": [
        {
          "output_type": "execute_result",
          "data": {
            "text/plain": [
              "{'dict': 6, 'dictionary': 2}"
            ]
          },
          "metadata": {
            "tags": []
          },
          "execution_count": 11
        }
      ]
    }
  ]
}