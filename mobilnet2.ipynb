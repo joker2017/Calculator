{
  "nbformat": 4,
  "nbformat_minor": 0,
  "metadata": {
    "colab": {
      "name": "mobilnet2.ipynb",
      "version": "0.3.2",
      "provenance": [],
      "include_colab_link": true
    },
    "kernelspec": {
      "name": "python3",
      "display_name": "Python 3"
    }
  },
  "cells": [
    {
      "cell_type": "markdown",
      "metadata": {
        "id": "view-in-github",
        "colab_type": "text"
      },
      "source": [
        "<a href=\"https://colab.research.google.com/github/joker2017/Calculator/blob/master/mobilnet2.ipynb\" target=\"_parent\"><img src=\"https://colab.research.google.com/assets/colab-badge.svg\" alt=\"Open In Colab\"/></a>"
      ]
    },
    {
      "metadata": {
        "id": "ZaqNYJTliID_",
        "colab_type": "text"
      },
      "cell_type": "markdown",
      "source": [
        "Существует три типа методов тонкой настройки tenorflow:\n",
        "\n",
        "*   Использование ТФ-стройный Строительство веса и хорошую сетевую структуру, ручная регулировка\n",
        "* Использование ТФ-тонкий при условии train_image_classifier.py сценарий автоматической сборки, специфические методы здесь\n",
        "* Используя tf.keras , процесс такой же, как и керас\n",
        "\n",
        "Здесь в основном представим первый метод выше, обратите внимание:\n",
        "\n",
        "* Tensorflow / models удален из мэйнфрейма tf после версии 1.0. Его необходимо загрузить вручную. Здесь находится тензор потока / models . Вы можете использовать git clone, чтобы загрузить его в локальный каталог. Используйте следующую команду, чтобы временно добавить его в путь поиска python ."
      ]
    },
    {
      "metadata": {
        "id": "u3-f1E-kijjD",
        "colab_type": "code",
        "colab": {}
      },
      "cell_type": "code",
      "source": [
        "import sys\n",
        "sys.path.append(\"./models/research/slim\")"
      ],
      "execution_count": 0,
      "outputs": []
    },
    {
      "metadata": {
        "id": "YfGjeuq0ik4U",
        "colab_type": "text"
      },
      "cell_type": "markdown",
      "source": [
        "* Файл контрольных точек сети предварительного обучения Tf-slim в файле tensorflow/models/research/slim, [общие веса предварительного обучения сети](http://link.zhihu.com/?target=https%3A//github.com/tensorflow/models/blob/master/research/slim/README.md)\n",
        "* Файл контрольных точек сети предварительной подготовки мобильной сети указан более конкретно в файлах slim/nets/mobilenet и [Mobilenet](http://link.zhihu.com/?target=https%3A//github.com/tensorflow/models/blob/master/research/slim/nets/mobilenet/README.md).\n"
      ]
    },
    {
      "metadata": {
        "id": "828OacMijzZJ",
        "colab_type": "code",
        "colab": {}
      },
      "cell_type": "code",
      "source": [
        ""
      ],
      "execution_count": 0,
      "outputs": []
    },
    {
      "metadata": {
        "id": "nGeVvsS8jXN8",
        "colab_type": "text"
      },
      "cell_type": "markdown",
      "source": [
        "# 2.1 Метод построения модели"
      ]
    },
    {
      "metadata": {
        "id": "rFAVFO3cjevS",
        "colab_type": "text"
      },
      "cell_type": "markdown",
      "source": [
        "Существует три метода для тензорного потока для восстановления структуры и весов модели из файла контрольных точек.После восстановления перечисленных здесь моделей вычисления прямого деривации могут быть непосредственно выполнены для прогнозного анализа"
      ]
    },
    {
      "metadata": {
        "id": "sME02WGej08r",
        "colab_type": "text"
      },
      "cell_type": "markdown",
      "source": [
        "**1) Загрузите структуру графика напрямую, затем загрузите вес**"
      ]
    },
    {
      "metadata": {
        "id": "KTXqWOTXjbon",
        "colab_type": "code",
        "colab": {}
      },
      "cell_type": "code",
      "source": [
        "# import_meta_graph можно загрузить структуру графика непосредственно из метафайла\n",
        "saver = tf.train.import_meta_graph(os.path.join(model_path,r\"resnet_v2/model.ckpt-258931.meta\"))\n",
        "\n",
        "# allow_soft_placement автоматический выбор устройства\n",
        "with tf.Session(config=tf.ConfigProto(allow_soft_placement=True)) as sess:\n",
        "    # latest_checkpoint Проверить файл контрольной точки, чтобы найти последнюю модель\n",
        "    # restore Восстановить вес графика\n",
        "    saver.restore(sess,tf.train.latest_checkpoint(r\"./model/resnet_v2\"))\n",
        "    graph = sess.graph\n",
        "    # Get_tensor_by_name Получить тензор по имени тензорного\n",
        "    print(sess.run(graph.get_tensor_by_name(\"resnet_model/conv2d/kernel:0\")))"
      ],
      "execution_count": 0,
      "outputs": []
    },
    {
      "metadata": {
        "id": "jKy7iV1Lk1NT",
        "colab_type": "text"
      },
      "cell_type": "markdown",
      "source": [
        "**2) Сначала построить структуру графика, а затем загрузить вес**"
      ]
    },
    {
      "metadata": {
        "id": "eUatEd9njl8N",
        "colab_type": "code",
        "colab": {}
      },
      "cell_type": "code",
      "source": [
        "# Временно добавить slim в путь поиска Python\n",
        "import sys\n",
        "sys.path.append(\"./models/research/slim\")\n",
        "\n",
        "# Импорт mobilenet_v2\n",
        "from nets.mobilenet import mobilenet_v2\n",
        "# Сбросить диаграмму \n",
        "tf.reset_default_graph()\n",
        "\n",
        "# Импортировать mobilenet, сначала построить структуру графа.\n",
        "‘’‘После загрузки tf.get_default_graph () содержит структуру графа расчета mobilenet. \n",
        "Вы можете использовать tf.get_collection (tf.GraphKeys.TRAINABLE_VARIABLES), \n",
        "чтобы сравнить разницу до и после reset_graph’‘’\n",
        "\n",
        "images = tf.placeholder(tf.float32,(None,224,224,3))\n",
        "with tf.contrib.slim.arg_scope(mobilenet_v2.training_scope(is_training=False)):\n",
        "    logits, endpoints = mobilenet_v2.mobilenet(images,depth_multiplier=1.4)\n",
        "\n",
        "# Определить класс 'saver' для восстановления весов графа\n",
        "saver = tf.train.Saver()\n",
        "with tf.Session() as sess:\n",
        "   # latest_checkpoint Проверить файл контрольной точки, чтобы найти последнюю модель\n",
        "   # restore Восстановить вес графика\n",
        "    saver.restore(sess,tf.train.latest_checkpoint(\"./model_ckpt/mobilenet_v2\"))\n",
        "   # get_tensor_by_name Получить тензор по имени тензорного\n",
        "    print(sess.run(tf.get_default_graph().get_tensor_by_name(\"MobilenetV2/Conv/weights:0\")).shape)\n"
      ],
      "execution_count": 0,
      "outputs": []
    },
    {
      "metadata": {
        "id": "BtIA3uUbmSpg",
        "colab_type": "text"
      },
      "cell_type": "markdown",
      "source": [
        "Выведите имя узла в структуре графа. Имя тензора должно иметь номер, например 0, для обозначения первого вывода вычислительного узла:"
      ]
    },
    {
      "metadata": {
        "id": "Rp7Ct6QSmVpy",
        "colab_type": "code",
        "colab": {}
      },
      "cell_type": "code",
      "source": [
        "for var in tf.trainable_variables():\n",
        "  print(var.name)\n"
      ],
      "execution_count": 0,
      "outputs": []
    },
    {
      "metadata": {
        "id": "fXNGlEqsmtpG",
        "colab_type": "text"
      },
      "cell_type": "markdown",
      "source": [
        "**3) замороженный вывод**"
      ]
    },
    {
      "metadata": {
        "id": "GxzTLCkZmwHz",
        "colab_type": "text"
      },
      "cell_type": "markdown",
      "source": [
        "Файл pb помещает всю структуру значения переменной и графика вычислений в файл и преобразует переменную и значение в константу с помощью convert_variable_to_constants. При проверке модели входные данные нужно только перенаправить на выходной слой."
      ]
    },
    {
      "metadata": {
        "id": "sDIy87tQm7Yx",
        "colab_type": "code",
        "colab": {}
      },
      "cell_type": "code",
      "source": [
        "# Прочитайте сохраненный файл pb и проанализируйте его в соответствующем GraphDef Protocol Buffer.\n",
        "gd =  tf.GraphDef.FromString(open('./model_ckpt/mobilenet_v2/mobilenet_v2_1.4_224_frozen.pb',\"rb\").read())\n",
        "# import_graph_def Загрузить график, сохраненный в graphdef, в текущий граф, return_elements возвращает указанный тензор\n",
        "inp, predictions = \\\n",
        "tf.import_graph_def(gd,return_elements=[\"input:0\",\"MobilenetV2/Predictions/Reshape_1:0\"])\n",
        "\n",
        "# График расчета в это время может быть использован непосредственно для прогнозирования\n",
        "# Вытащите картинку! wget https://upload.wikimedia.org/wikipedia/commons/f/fe/Giant_Panda_in_Beijing_Zoo_1.JPG -O panda.jpg\n",
        "from PIL import Image\n",
        "img = np.array(Image.open('panda.jpg').resize((224, 224))).astype(np.float) / 128 - 1\n",
        "# inp - это входные данные, для которых требуется канал, а predictions - это структура прогнозирования, которую необходимо выводить.\n",
        "with tf.Session(graph=inp.graph) as sess:\n",
        "    x = sess.run(predictions,feed_dict={inp:img.reshape(1,224,224,3)})"
      ],
      "execution_count": 0,
      "outputs": []
    },
    {
      "metadata": {
        "id": "kW_elEGjn0Ju",
        "colab_type": "text"
      },
      "cell_type": "markdown",
      "source": [
        "**2.2 Finetune Process**"
      ]
    },
    {
      "metadata": {
        "id": "SiP8mZU8n2bT",
        "colab_type": "text"
      },
      "cell_type": "markdown",
      "source": [
        "1. Построить структуру графика, перехватить целевой тензор, добавить новый слой\n",
        "2. Загрузить целевой тензорный вес\n",
        "3. Тренировка нового слоя\n",
        "4. Глобальная подстройка"
      ]
    },
    {
      "metadata": {
        "id": "SPY4uhWvoKbn",
        "colab_type": "text"
      },
      "cell_type": "markdown",
      "source": [
        "**1) Построить структуру графика, перехватить целевой тензор, добавить новый слой**\n",
        "\n",
        "\n",
        "Структура графика на этом этапе представляет собой структуру графика расчета мобильной сети, полученную методом **« сначала построение структуры графика, а затем загрузка веса » .**"
      ]
    },
    {
      "metadata": {
        "id": "6_FmfK6ioamS",
        "colab_type": "code",
        "colab": {}
      },
      "cell_type": "code",
      "source": [
        "tf.reset_default_graph()\n",
        "# Построить расчетную диаграмму\n",
        "images = tf.placeholder(tf.float32,(None,224,224,3))\n",
        "with tf.contrib.slim.arg_scope(mobilenet_v2.training_scope(is_training=False)):\n",
        "    logits, endpoints = mobilenet_v2.mobilenet(images,depth_multiplier=1.4)\n",
        "\n",
        "# Получить целевой тензор, добавить новый слой\n",
        "with tf.variable_scope(\"finetune_layers\"):\n",
        "    # Получить целевой тензор и вынуть тензор указанного слоя в mobilenet\n",
        "    mobilenet_tensor = tf.get_default_graph().get_tensor_by_name(\"MobilenetV2/expanded_conv_14/output:0\")\n",
        "    # Передаем тензор на новый слой\n",
        "    x = tf.layers.Conv2D(filters=256,kernel_size=3,name=\"conv2d_1\")(mobilenet_tensor)\n",
        "    # Наблюдаем, обновляется ли вес нового слоя tf.summary.histogram(\"conv2d_1\",x)\n",
        "    x = tf.nn.relu(x,name=\"relu_1\")\n",
        "    x = tf.layers.Conv2D(filters=256,kernel_size=3,name=\"conv2d_2\")(x)\n",
        "    x = tf.layers.Conv2D(10,3,name=\"conv2d_3\")(x)\n",
        "    predictions = tf.reshape(x, (-1,10))"
      ],
      "execution_count": 0,
      "outputs": []
    },
    {
      "metadata": {
        "id": "HglWWnmoo9MI",
        "colab_type": "text"
      },
      "cell_type": "markdown",
      "source": [
        "Рассчитаем структуру графика:\n",
        "\n",
        "![Рассчитаем структуру графика:](https://pic4.zhimg.com/80/v2-f745afae04881302990bdffe3c5c0bf7_hd.jpg)"
      ]
    },
    {
      "metadata": {
        "id": "HRW8QLq-pY2d",
        "colab_type": "text"
      },
      "cell_type": "markdown",
      "source": [
        "Внутри красного поля находится структура сети Mobilenet. Второй фиолетовый узел сверху вниз - это узел «MobilenetV2/extended_conv_14/output». Видно, что он напрямую связан с finetune_layers."
      ]
    },
    {
      "metadata": {
        "id": "Qyt_VMvTpf7j",
        "colab_type": "text"
      },
      "cell_type": "markdown",
      "source": [
        "**2) Загрузите целевые веса и обучите новые слои**"
      ]
    },
    {
      "metadata": {
        "id": "dm0guV64pp0d",
        "colab_type": "code",
        "colab": {}
      },
      "cell_type": "code",
      "source": [
        "# one-hot кодирование\n",
        "def to_categorical(data, nums):\n",
        "    return np.eye(nums)[data]\n",
        "# Произвольно генерировать данные\n",
        "x_train = np.random.random(size=(141,224,224,3))\n",
        "y_train = to_categorical(label_fake,10)\n",
        "\n",
        "# Конфигурация условий обучения\n",
        "## label Placeholder\n",
        "y_label = tf.placeholder(tf.int32, (None,10))\n",
        "## Собирайте переменные в пределах области видимости finetune_layers, обновляйте только вес добавленного слоя\n",
        "train_var = tf.get_collection(tf.GraphKeys.TRAINABLE_VARIABLES,scope=\"finetune_layers\")\n",
        "## Определение потери\n",
        "loss = tf.nn.softmax_cross_entropy_with_logits_v2(labels=y_label,logits=predictions)\n",
        "## Определите метод оптимизации, используйте var_list, чтобы указать вес для обновления, и обновляйте только вес train_var в это время.\n",
        "train_step = tf.train.GradientDescentOptimizer(0.1).minimize(loss,var_list=train_var)\n",
        "## Наблюдаем, обновляется ли вес нового слоя\n",
        "tf.summary.histogram(\"mobilenet_conv8\",tf.get_default_graph().get_tensor_by_name('MobilenetV2/expanded_conv_8/depthwise/depthwise_weights:0'))\n",
        "tf.summary.histogram(\"mobilenet_conv9\",tf.get_default_graph().get_tensor_by_name('MobilenetV2/expanded_conv_9/depthwise/depthwise_weights:0'))\n",
        "\n",
        "## Объединить все резюме\n",
        "merge_all = tf.summary.merge_all()\n",
        "\n",
        "## Установите количество итераций и пакетов университетов\n",
        "epochs = 10\n",
        "batch_size = 16\n",
        "\n",
        "# Получить функцию из указанного списка переменных var_list\n",
        "def get_var_list(target_tensor=None):\n",
        "    '''Получить функцию из указанного списка переменных var_list'''\n",
        "    if target_tensor==None:\n",
        "        target_tensor = r\"MobilenetV2/expanded_conv_14/output:0\"\n",
        "    target = target_tensor.split(\"/\")[1]\n",
        "    all_list = []\n",
        "    all_var = []\n",
        "    # пройти все переменные, node.name получает имя переменной \n",
        "    # Не используйте tf.trainable_variables(), потому что moving_mean/variance, batchnorm не принадлежит к обучаемой переменной\n",
        "    for var in tf.global_variables():\n",
        "        if var != []:\n",
        "            all_list.append(var.name)\n",
        "            all_var.append(var)\n",
        "    try:\n",
        "        all_list = list(map(lambda x:x.split(\"/\")[1],all_list))\n",
        "        # Найти индекс соответствующей переменной области видимости\n",
        "        ind = all_list[::-1].index(target)\n",
        "        ind = len(all_list) -  ind - 1\n",
        "        print(ind)\n",
        "        del all_list\n",
        "        return all_var[:ind+1]\n",
        "    except:\n",
        "        print(\"target_tensor is not exist!\")\n",
        "\n",
        "Имя целевого тензора, чтобы получить список переменных, которые необходимо загрузить весовые коэффициенты из файла var_list\n",
        "target_tensor = \"MobilenetV2/expanded_conv_14/output:0\"\n",
        "var_list = get_var_list(target_tensor)\n",
        "saver = tf.train.Saver(var_list=var_list)\n",
        "\n",
        "# Загрузите веса в файл и обучите новый слой\n",
        "with tf.Session(config=tf.ConfigProto(allow_soft_placement=True)) as sess:\n",
        "    writer = tf.summary.FileWriter(r\"./logs\", sess.graph)\n",
        "## Параметры инициализации: загрузка весов из файла train_var. Использовать функцию инициализации.\n",
        "    sess.run(tf.variables_initializer(var_list=train_var))\n",
        "    saver.restore(sess,tf.train.latest_checkpoint(\"./model_ckpt/mobilenet_v2\"))\n",
        "    \n",
        "    for i in range(2000):\n",
        "        start = (i*batch_size) % x_train.shape[0]\n",
        "        end = min(start+batch_size, x_train.shape[0])\n",
        "        _, merge, losses = sess.run([train_step,merge_all,loss],\\\n",
        "                             feed_dict={images:x_train[start:end],\\\n",
        "                                        y_label:y_train[start:end]})\n",
        "        if i%100==0:\n",
        "           writer.add_summary(merge, i)"
      ],
      "execution_count": 0,
      "outputs": []
    },
    {
      "metadata": {
        "id": "x46l45PGsFFk",
        "colab_type": "text"
      },
      "cell_type": "markdown",
      "source": [
        "**Особенности инициализации веса:**\n",
        "\n",
        "1. Сначала используйте глобальную инициализацию *tf.global_variables_initializer()*, а затем используйте порядок saver.restore, который не может быть неправильным, иначе загруженный вес будет переинициализирован."
      ]
    },
    {
      "metadata": {
        "id": "L3UOoAnZsOje",
        "colab_type": "code",
        "colab": {}
      },
      "cell_type": "code",
      "source": [
        "sess.run(tf.global_variables_initializer())\n",
        "saver.restore(sess,tf.train.latest_checkpoint(\"./model_ckpt/mobilenet_v2\"))"
      ],
      "execution_count": 0,
      "outputs": []
    },
    {
      "metadata": {
        "id": "q-Rx65FosRSy",
        "colab_type": "text"
      },
      "cell_type": "markdown",
      "source": [
        "2. Сначала используйте saver.restore для загрузки весов из модели, а затем используйте *tf.variable_initializaer()* для инициализации указанного var_list, порядок можно изменить."
      ]
    },
    {
      "metadata": {
        "id": "SFtY6EUnsXMO",
        "colab_type": "code",
        "colab": {}
      },
      "cell_type": "code",
      "source": [
        "saver.restore(sess,tf.train.latest_checkpoint(\"./model_ckpt/mobilenet_v2\"))\n",
        "sess.run(tf.variables_initializer(var_list=train_var))"
      ],
      "execution_count": 0,
      "outputs": []
    },
    {
      "metadata": {
        "id": "vZIzkc5xsbUj",
        "colab_type": "text"
      },
      "cell_type": "markdown",
      "source": [
        "3. Первые два метода также инициализируют переменные для бесполезных узлов и должны заранее выполнить операцию saver.restore, что означает, что для обеспечения того, чтобы процесс finetune не сообщал об ошибке, требуется две операции save.restore. Теперь вы можете составить var_list, отфильтровав все переменные, которые должны загрузить веса из файла, а затем определить saver = tf.train.Saver (var_list) для выборочной загрузки переменных.\n",
        "\n",
        "**В приведенном выше коде используется третий метод, разница между тремя вышеуказанными методами инициализации может быть тщательно понята. Посмотрите на скриншот ниже.**\n",
        "\n",
        "![alt text](https://pic4.zhimg.com/80/v2-812216ca5067586fd223b5cee6f3571b_hd.jpg)"
      ]
    }
  ]
}