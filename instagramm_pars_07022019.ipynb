{
  "nbformat": 4,
  "nbformat_minor": 0,
  "metadata": {
    "colab": {
      "name": "Untitled14.ipynb",
      "version": "0.3.2",
      "provenance": [],
      "include_colab_link": true
    },
    "kernelspec": {
      "name": "python3",
      "display_name": "Python 3"
    }
  },
  "cells": [
    {
      "cell_type": "markdown",
      "metadata": {
        "id": "view-in-github",
        "colab_type": "text"
      },
      "source": [
        "<a href=\"https://colab.research.google.com/github/joker2017/Calculator/blob/master/instagramm_pars_07022019.ipynb\" target=\"_parent\"><img src=\"https://colab.research.google.com/assets/colab-badge.svg\" alt=\"Open In Colab\"/></a>"
      ]
    },
    {
      "metadata": {
        "id": "0bVMfQG1osgQ",
        "colab_type": "code",
        "colab": {}
      },
      "cell_type": "code",
      "source": [
        "import hashlib\n",
        "import json\n",
        "import re\n",
        "import requests\n",
        "\n",
        "\n",
        "count=36\n",
        "session = requests.Session()\n",
        "\n",
        "      \n",
        "def update(obj=None, pointer=None, idx=None, rhx_gis=None, settings={}):\n",
        "\n",
        "      src_adress = [] \n",
        "      base_url = \"\"\n",
        "      query = \"https://www.instagram.com/\"\n",
        "      if not obj is None:\n",
        "            query += base_url + obj\n",
        "            \n",
        "        \n",
        "      if pointer is None: \n",
        "        response = session.get(query, **settings)\n",
        "        match = re.search(r\"<script[^>]*>\\s*window._sharedData\\s*=\\s*((?!<script>).*)\\s*;\\s*</script>\", response.text)\n",
        "        data = json.loads(match.group(1))\n",
        "        rhx_gis = data[\"rhx_gis\"]\n",
        "        csrf_token = data[\"config\"][\"csrf_token\"]\n",
        "        idx = data[\"entry_data\"][\"ProfilePage\"][0][\"graphql\"][\"user\"][\"id\"]\n",
        "        \n",
        "        #print(\"end_cursor\", data['entry_data']['ProfilePage'][0]['graphql']['user']['edge_owner_to_timeline_media']['page_info']['end_cursor'])\n",
        "        #print(\"'has_next_page\", data['entry_data']['ProfilePage'][0]['graphql']['user']['edge_owner_to_timeline_media']['page_info']['has_next_page'])\n",
        "        \n",
        "        for number in range(len(data[\"entry_data\"][\"ProfilePage\"][0][\"graphql\"][\"user\"][\"edge_owner_to_timeline_media\"][\"edges\"])):\n",
        "\t          src_adress.append(data[\"entry_data\"][\"ProfilePage\"][0][\"graphql\"][\"user\"][\"edge_owner_to_timeline_media\"][\"edges\"][number][\"node\"][\"thumbnail_resources\"][4][\"src\"])\n",
        "        if data['entry_data']['ProfilePage'][0]['graphql']['user']['edge_owner_to_timeline_media']['page_info']['has_next_page']:                 \n",
        "            pointer = data['entry_data']['ProfilePage'][0]['graphql']['user']['edge_owner_to_timeline_media']['page_info']['end_cursor']\n",
        "        else:\n",
        "            pointer = None\n",
        "\n",
        "        return rhx_gis, pointer, src_adress, idx, csrf_token\n",
        "\n",
        "      \n",
        "      else:\n",
        "        variables_string = '{{\"id\":\"{id}\",\"first\":{first},\"after\":\"{after}\"}}'\n",
        "        while True:\n",
        "            data = {\"id\": idx, \"first\": 36, \"after\": pointer}\n",
        "            variables=variables_string.format(**data)\n",
        "            query_hash=\"c6809c9c025875ac6f02619eae97a80e\"\n",
        "            #response = graphql_request(query_hash=\"c6809c9c025875ac6f02619eae97a80e\", variables=variables, settings=settings)\n",
        "            settings[\"params\"] = {\"query_hash\": query_hash}\n",
        "            settings[\"params\"][\"variables\"] = variables\n",
        "            gis = \"%s:%s\" % (rhx_gis, variables)\n",
        "            settings[\"headers\"] = {\"X-Instagram-GIS\": hashlib.md5(gis.encode(\"utf-8\")).hexdigest()}\n",
        "            settings[\"headers\"][\"X-Requested-With\"] = \"XMLHttpRequest\" \n",
        "            response = session.get(\"https://www.instagram.com/graphql/query/\", **settings)\n",
        "            response.raise_for_status()\n",
        "            \n",
        "            data = response.json()[\"data\"][\"user\"][\"edge_owner_to_timeline_media\"]\n",
        "\n",
        "            edges = data[\"edges\"]\n",
        "            page_info = data[\"page_info\"]\n",
        "            length = len(edges)\n",
        "\n",
        "            for index in range(length):\n",
        "                    node = edges[index][\"node\"]\n",
        "                    shortcode = node[\"shortcode\"]        #[\"src\"]\n",
        "                    if not \"shortcode\" in node:\n",
        "                        length -= 1\n",
        "                        continue\n",
        "                    m = node[\"display_url\"]\n",
        "                    #m._set_data(node)\n",
        "                    src_adress.append(m)\n",
        "                    #print(\"node\", node)\n",
        "                \n",
        "            if page_info[\"has_next_page\"]:\n",
        "                    \n",
        "                    pointer = page_info[\"end_cursor\"]\n",
        "            else:\n",
        "                    pointer = None\n",
        "\n",
        "            return src_adress, pointer\n",
        "\n",
        "      "
      ],
      "execution_count": 0,
      "outputs": []
    },
    {
      "metadata": {
        "id": "2USwqtnFo1iC",
        "colab_type": "code",
        "colab": {}
      },
      "cell_type": "code",
      "source": [
        "src_adress = []\n",
        "rhx_gis, pointer, src, idx, csrf_token = update(\"likekate_\")\n",
        "src_adress.extend(src)\n",
        "print(\"rhx_gis:\", rhx_gis, \"csrf_token:\", csrf_token, \"idx =\", idx)\n",
        "for i in range(100):\n",
        "  src, pointer = update(\"likekate_\", pointer=pointer, idx=idx, rhx_gis=rhx_gis)\n",
        "  src_adress.extend(src)\n",
        "  print(len(src_adress))\n"
      ],
      "execution_count": 0,
      "outputs": []
    },
    {
      "metadata": {
        "id": "zwEzEkfGqg2r",
        "colab_type": "code",
        "outputId": "e2e9dcb2-5b49-43da-c345-9547e6d58ce1",
        "colab": {
          "base_uri": "https://localhost:8080/",
          "height": 34
        }
      },
      "cell_type": "code",
      "source": [
        "import hashlib\n",
        "import json\n",
        "import re\n",
        "import requests\n",
        "session = requests.Session()\n",
        "# rhx_gis: fc2e73d4fd7dddcd31d28bea5cb2df59 csrf_token: 23QtJMvu9FzAuskGBKqVy3PcPvOdvxnv\n",
        "def AgentAccount(login=None, password=None, settings={}):\n",
        "        csrf_token = \"23QtJMvu9FzAuskGBKqVy3PcPvOdvxnv\"\n",
        "        login = \"andivanov2019\"\n",
        "        password = \"Asus2046\"\n",
        "        data = {\"username\": login, \"password\": password}\n",
        "        \n",
        "        if \"headers\" in settings:\n",
        "            #settings[\"params\"] = {\"query_hash\": query_hash}\n",
        "            settings[\"headers\"][\"X-CSRFToken\"] = csrf_token\n",
        "            settings[\"headers\"][\"referer\"] = \"https://www.instagram.com/\"\n",
        "        else:\n",
        "            settings[\"headers\"] = {\n",
        "                \"X-CSRFToken\": csrf_token,\n",
        "                \"referer\": \"https://www.instagram.com/\",\n",
        "            }\n",
        "\n",
        "        response = session.post(\"https://www.instagram.com/accounts/login/ajax/\", data, **settings)\n",
        "        #response.raise_for_status()\n",
        "        print(\"response:\", response)\n",
        "        try:\n",
        "            data = response.json()\n",
        "            if not data[\"authenticated\"]:\n",
        "                raise AuthException(login) \n",
        "        except (ValueError, KeyError) as exception:\n",
        "            print(\"ERROR1\")\n",
        "\n",
        "AgentAccount()"
      ],
      "execution_count": 4,
      "outputs": [
        {
          "output_type": "stream",
          "text": [
            "response: <Response [200]>\n"
          ],
          "name": "stdout"
        }
      ]
    },
    {
      "metadata": {
        "id": "kVA95SAnqYMK",
        "colab_type": "code",
        "outputId": "fac08d7b-56a6-4023-991d-ecfa7849c1d1",
        "colab": {
          "base_uri": "https://localhost:8080/",
          "height": 664
        }
      },
      "cell_type": "code",
      "source": [
        "#query_hash:56066f031e6239f35a904ac20c9f37d9\n",
        "#variables:{\"id\":\"10180157718\",\"include_reel\":true,\"fetch_mutual\":false,\"first\":12,\"after\":\"\"}\n",
        "\n",
        "\n",
        "from time import sleep\n",
        "from requests.exceptions import HTTPError\n",
        "def get_followers(account=None, pointer=None, count=1000, settings={}, limit=50):\n",
        "  \n",
        "        #update(account, settings)\n",
        "        csrf_token = \"23QtJMvu9FzAuskGBKqVy3PcPvOdvxnv\"\n",
        "        rhx_gis = \"fc2e73d4fd7dddcd31d28bea5cb2df59\"\n",
        "        #query_hash = \"QVFENklrNmY2Y2JvRGhEa2k5UV9XZTVkRHcwSDB6OXM3dWhhZkVsSXpNdlZacEJQVU9QVkcybDQtaC11c04tSXN3cWlmUzVIN3NxeG1BR2phV0VYSU1fcw==\"\n",
        "        query_hash=\"37479f2b8209594dde7facb0d904896a\"\n",
        "        idx = \"2120762022\"\n",
        "\n",
        "        if pointer is None:\n",
        "            #variables_string = '{{\"id\":\"{id}\",\"include_reel\":true,\"fetch_mutual\":false,\"first\":{first}}}'\n",
        "            variables_string = '{{\"id\":\"{id}\",\"first\":{first}}}'\n",
        "        else:\n",
        "            #variables_string = '{{\"id\":\"{id}\",\"include_reel\":true,\"fetch_mutual\":false,\"first\":{first},\"after\":\"{after}\"}}'\n",
        "            variables_string = '{{\"id\":\"{id}\",\"first\":{first},\"after\":\"{after}\"}}'\n",
        "        followers = []\n",
        "\n",
        "        while True:\n",
        "            data = {\"first\": min(limit, count), \"id\": idx}\n",
        "            if not pointer is None:\n",
        "                data[\"after\"] = pointer\n",
        "            settings[\"params\"] = {\"query_hash\": query_hash}\n",
        "            variables=variables_string.format(**data)\n",
        "            settings[\"params\"][\"variables\"] = variables\n",
        "            gis = \"%s:%s\" % (rhx_gis, variables)\n",
        "            settings[\"headers\"] = {\"X-Instagram-GIS\": hashlib.md5(gis.encode(\"utf-8\")).hexdigest()}\n",
        "            settings[\"headers\"][\"X-Requested-With\"] = \"XMLHttpRequest\" \n",
        "            \n",
        "            i = 3\n",
        "            while i > 0:\n",
        "              try:\n",
        "                response = session.get(\"https://www.instagram.com/graphql/query/\", **settings)\n",
        "                response.raise_for_status()\n",
        "              except (HTTPError, ValueError, KeyError) as exception:\n",
        "#               raise print(\"ERROR\")\n",
        "                if exception.response.status_code == 200: \n",
        "                   continue\n",
        "                elif exception.response.status_code == 429:\n",
        "                    i -= 1  \n",
        "                    print(\"sleep\") \n",
        "                    sleep(60) \n",
        "                    print(\"end sleep\")\n",
        "                  \n",
        "#              except (ValueError, KeyError) as exception:\n",
        "#                 raise print(\"ERROR\")\n",
        "            data = response.json()\n",
        "            #print(data)\n",
        "            data = response.json()[\"data\"][\"user\"][\"edge_followed_by\"]\n",
        "            edges = data[\"edges\"]\n",
        "            page_info = data[\"page_info\"]\n",
        "            #print(page_info)\n",
        "            followers_count = data[\"count\"]\n",
        "                \n",
        "            for index in range(min(len(edges), count)):\n",
        "                    node = edges[index][\"node\"]\n",
        "                    a = node[\"username\"]\n",
        "                    id = node[\"id\"]\n",
        "                    profile_pic_url = node[\"profile_pic_url\"]\n",
        "                    is_verified = node[\"is_verified\"]\n",
        "                    full_name = node[\"full_name\"]\n",
        "                    followers.append(a)\n",
        "                    if len(followers) % 500 == 0:\n",
        "                      print(len(followers))\n",
        "                \n",
        "            if page_info[\"has_next_page\"]:\n",
        "                    pointer = page_info[\"end_cursor\"]\n",
        "            else:\n",
        "                    pointer = None\n",
        "                \n",
        "            if len(edges) < count and page_info[\"has_next_page\"]:\n",
        "                    count = count-len(edges)\n",
        "                    variables_string = '{{\"id\":\"{id}\",\"first\":{first},\"after\":\"{after}\"}}'\n",
        "            else:\n",
        "                    return followers, pointer\n",
        "            \n",
        "                \n",
        "get_followers(\"likekate_\")"
      ],
      "execution_count": 20,
      "outputs": [
        {
          "output_type": "stream",
          "text": [
            "sleep\n",
            "end sleep\n",
            "sleep\n"
          ],
          "name": "stdout"
        },
        {
          "output_type": "error",
          "ename": "KeyboardInterrupt",
          "evalue": "ignored",
          "traceback": [
            "\u001b[0;31m---------------------------------------------------------------------------\u001b[0m",
            "\u001b[0;31mHTTPError\u001b[0m                                 Traceback (most recent call last)",
            "\u001b[0;32m<ipython-input-20-4eeaddb8935d>\u001b[0m in \u001b[0;36mget_followers\u001b[0;34m(account, pointer, count, settings, limit)\u001b[0m\n\u001b[1;32m     36\u001b[0m                 \u001b[0mresponse\u001b[0m \u001b[0;34m=\u001b[0m \u001b[0msession\u001b[0m\u001b[0;34m.\u001b[0m\u001b[0mget\u001b[0m\u001b[0;34m(\u001b[0m\u001b[0;34m\"https://www.instagram.com/graphql/query/\"\u001b[0m\u001b[0;34m,\u001b[0m \u001b[0;34m**\u001b[0m\u001b[0msettings\u001b[0m\u001b[0;34m)\u001b[0m\u001b[0;34m\u001b[0m\u001b[0;34m\u001b[0m\u001b[0m\n\u001b[0;32m---> 37\u001b[0;31m                 \u001b[0mresponse\u001b[0m\u001b[0;34m.\u001b[0m\u001b[0mraise_for_status\u001b[0m\u001b[0;34m(\u001b[0m\u001b[0;34m)\u001b[0m\u001b[0;34m\u001b[0m\u001b[0;34m\u001b[0m\u001b[0m\n\u001b[0m\u001b[1;32m     38\u001b[0m               \u001b[0;32mexcept\u001b[0m \u001b[0;34m(\u001b[0m\u001b[0mHTTPError\u001b[0m\u001b[0;34m,\u001b[0m \u001b[0mValueError\u001b[0m\u001b[0;34m,\u001b[0m \u001b[0mKeyError\u001b[0m\u001b[0;34m)\u001b[0m \u001b[0;32mas\u001b[0m \u001b[0mexception\u001b[0m\u001b[0;34m:\u001b[0m\u001b[0;34m\u001b[0m\u001b[0;34m\u001b[0m\u001b[0m\n",
            "\u001b[0;32m/usr/local/lib/python3.6/dist-packages/requests/models.py\u001b[0m in \u001b[0;36mraise_for_status\u001b[0;34m(self)\u001b[0m\n\u001b[1;32m    934\u001b[0m         \u001b[0;32mif\u001b[0m \u001b[0mhttp_error_msg\u001b[0m\u001b[0;34m:\u001b[0m\u001b[0;34m\u001b[0m\u001b[0;34m\u001b[0m\u001b[0m\n\u001b[0;32m--> 935\u001b[0;31m             \u001b[0;32mraise\u001b[0m \u001b[0mHTTPError\u001b[0m\u001b[0;34m(\u001b[0m\u001b[0mhttp_error_msg\u001b[0m\u001b[0;34m,\u001b[0m \u001b[0mresponse\u001b[0m\u001b[0;34m=\u001b[0m\u001b[0mself\u001b[0m\u001b[0;34m)\u001b[0m\u001b[0;34m\u001b[0m\u001b[0;34m\u001b[0m\u001b[0m\n\u001b[0m\u001b[1;32m    936\u001b[0m \u001b[0;34m\u001b[0m\u001b[0m\n",
            "\u001b[0;31mHTTPError\u001b[0m: 429 Client Error: - for url: https://www.instagram.com/graphql/query/?query_hash=37479f2b8209594dde7facb0d904896a&variables=%7B%22id%22%3A%222120762022%22%2C%22first%22%3A50%7D",
            "\nDuring handling of the above exception, another exception occurred:\n",
            "\u001b[0;31mKeyboardInterrupt\u001b[0m                         Traceback (most recent call last)",
            "\u001b[0;32m<ipython-input-20-4eeaddb8935d>\u001b[0m in \u001b[0;36m<module>\u001b[0;34m()\u001b[0m\n\u001b[1;32m     79\u001b[0m \u001b[0;34m\u001b[0m\u001b[0m\n\u001b[1;32m     80\u001b[0m \u001b[0;34m\u001b[0m\u001b[0m\n\u001b[0;32m---> 81\u001b[0;31m \u001b[0mget_followers\u001b[0m\u001b[0;34m(\u001b[0m\u001b[0;34m\"likekate_\"\u001b[0m\u001b[0;34m)\u001b[0m\u001b[0;34m\u001b[0m\u001b[0;34m\u001b[0m\u001b[0m\n\u001b[0m",
            "\u001b[0;32m<ipython-input-20-4eeaddb8935d>\u001b[0m in \u001b[0;36mget_followers\u001b[0;34m(account, pointer, count, settings, limit)\u001b[0m\n\u001b[1;32m     43\u001b[0m                     \u001b[0mi\u001b[0m \u001b[0;34m-=\u001b[0m \u001b[0;36m1\u001b[0m\u001b[0;34m\u001b[0m\u001b[0;34m\u001b[0m\u001b[0m\n\u001b[1;32m     44\u001b[0m                     \u001b[0mprint\u001b[0m\u001b[0;34m(\u001b[0m\u001b[0;34m\"sleep\"\u001b[0m\u001b[0;34m)\u001b[0m\u001b[0;34m\u001b[0m\u001b[0;34m\u001b[0m\u001b[0m\n\u001b[0;32m---> 45\u001b[0;31m                     \u001b[0msleep\u001b[0m\u001b[0;34m(\u001b[0m\u001b[0;36m60\u001b[0m\u001b[0;34m)\u001b[0m\u001b[0;34m\u001b[0m\u001b[0;34m\u001b[0m\u001b[0m\n\u001b[0m\u001b[1;32m     46\u001b[0m                     \u001b[0mprint\u001b[0m\u001b[0;34m(\u001b[0m\u001b[0;34m\"end sleep\"\u001b[0m\u001b[0;34m)\u001b[0m\u001b[0;34m\u001b[0m\u001b[0;34m\u001b[0m\u001b[0m\n\u001b[1;32m     47\u001b[0m \u001b[0;34m\u001b[0m\u001b[0m\n",
            "\u001b[0;31mKeyboardInterrupt\u001b[0m: "
          ]
        }
      ]
    },
    {
      "metadata": {
        "id": "ZXiVybiuTffv",
        "colab_type": "code",
        "outputId": "d817f110-3aa1-44f3-9f70-8d32afb445a4",
        "colab": {
          "base_uri": "https://localhost:8080/",
          "height": 169
        }
      },
      "cell_type": "code",
      "source": [
        "followers"
      ],
      "execution_count": 0,
      "outputs": [
        {
          "output_type": "error",
          "ename": "NameError",
          "evalue": "ignored",
          "traceback": [
            "\u001b[0;31m---------------------------------------------------------------------------\u001b[0m",
            "\u001b[0;31mNameError\u001b[0m                                 Traceback (most recent call last)",
            "\u001b[0;32m<ipython-input-32-485859307e30>\u001b[0m in \u001b[0;36m<module>\u001b[0;34m()\u001b[0m\n\u001b[0;32m----> 1\u001b[0;31m \u001b[0mfollowers\u001b[0m\u001b[0;34m\u001b[0m\u001b[0;34m\u001b[0m\u001b[0m\n\u001b[0m",
            "\u001b[0;31mNameError\u001b[0m: name 'followers' is not defined"
          ]
        }
      ]
    },
    {
      "metadata": {
        "id": "EK5DCQOJSS-C",
        "colab_type": "code",
        "outputId": "c6421124-8a1a-498d-a7f3-aa07def04448",
        "colab": {
          "base_uri": "https://localhost:8080/",
          "height": 404
        }
      },
      "cell_type": "code",
      "source": [
        "get_followers(\"likekate_\", pointer=\"QVFDSGVsXzh6MjVkWW5Oc1dNQ1RVcFlkOU5WTDFBcHVoMGozQXpGVjJvU1Q3M1RPc3lhMDRwaS1SYm9uVjdFY2dkZmU1eWtScUZ6cXc3YURMT2k3RnZkZw==\")"
      ],
      "execution_count": 0,
      "outputs": [
        {
          "output_type": "stream",
          "text": [
            "{'has_next_page': True, 'end_cursor': 'QVFDUWk3TF9OUUxyaENLWklnS3JTR21XcjNxSzBIeDVwRzFFbzBPR2U3R1gzMkNYRnZEX0stX2JnVy11a1FEY2t1Mzloc05RbXp1dGk4eG5PQWRUTC1HcQ=='}\n"
          ],
          "name": "stdout"
        },
        {
          "output_type": "execute_result",
          "data": {
            "text/plain": [
              "(['otravochka',\n",
              "  'aleshakamov',\n",
              "  'morris.rnb',\n",
              "  'tamarabentalder',\n",
              "  '_loveinna',\n",
              "  'mbhh85567',\n",
              "  'aleksandr_official_moskva',\n",
              "  'ildarovrrr',\n",
              "  'al_sdlv',\n",
              "  'kolibrik_tattoo',\n",
              "  'milanka443',\n",
              "  'myata.kazakova',\n",
              "  'alina_timoshkova',\n",
              "  'ashchetsova',\n",
              "  'gabriela_ferraz19',\n",
              "  'myatalounge_fili',\n",
              "  'miu_miu_074',\n",
              "  'shuhrat6743',\n",
              "  'jeanchristophemarie6',\n",
              "  'ulyanaburyak'],\n",
              " 'QVFDUWk3TF9OUUxyaENLWklnS3JTR21XcjNxSzBIeDVwRzFFbzBPR2U3R1gzMkNYRnZEX0stX2JnVy11a1FEY2t1Mzloc05RbXp1dGk4eG5PQWRUTC1HcQ==')"
            ]
          },
          "metadata": {
            "tags": []
          },
          "execution_count": 28
        }
      ]
    }
  ]
}