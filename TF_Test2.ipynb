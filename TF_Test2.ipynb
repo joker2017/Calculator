{
  "nbformat": 4,
  "nbformat_minor": 0,
  "metadata": {
    "colab": {
      "name": "TensorFlow with GPU",
      "version": "0.3.2",
      "provenance": [],
      "collapsed_sections": [],
      "include_colab_link": true
    },
    "kernelspec": {
      "name": "python3",
      "display_name": "Python 3"
    },
    "accelerator": "GPU"
  },
  "cells": [
    {
      "cell_type": "markdown",
      "metadata": {
        "id": "view-in-github",
        "colab_type": "text"
      },
      "source": [
        "<a href=\"https://colab.research.google.com/github/joker2017/Calculator/blob/master/TF_Test2.ipynb\" target=\"_parent\"><img src=\"https://colab.research.google.com/assets/colab-badge.svg\" alt=\"Open In Colab\"/></a>"
      ]
    },
    {
      "metadata": {
        "colab_type": "text",
        "id": "QXRh0DPiZRyG"
      },
      "cell_type": "markdown",
      "source": [
        "# Создаем простой граф\n"
      ]
    },
    {
      "metadata": {
        "id": "UdJNPbKAcmwh",
        "colab_type": "code",
        "colab": {}
      },
      "cell_type": "code",
      "source": [
        "import tensorflow as tf\n",
        "\n",
        "x = tf.Variable (3, name=\"x\")\n",
        "y = tf.Variable (4, name=\"y\")\n",
        "f = x*x*y + y + 2\n"
      ],
      "execution_count": 0,
      "outputs": []
    },
    {
      "metadata": {
        "id": "wvJEb-5yeOj1",
        "colab_type": "text"
      },
      "cell_type": "markdown",
      "source": [
        "**Добавляем сессию**"
      ]
    },
    {
      "metadata": {
        "id": "9DlhWUFueWam",
        "colab_type": "code",
        "outputId": "97886cbc-465c-46e1-fa36-61c7de26d3aa",
        "colab": {
          "base_uri": "https://localhost:8080/"
        }
      },
      "cell_type": "code",
      "source": [
        "sess = tf.Session()\n",
        "sess.run(x.initializer)\n",
        "sess.run(y.initializer)\n",
        "result = sess.run(f)\n",
        "print(result)\n",
        "sess.close()"
      ],
      "execution_count": 0,
      "outputs": [
        {
          "output_type": "stream",
          "text": [
            "42\n"
          ],
          "name": "stdout"
        }
      ]
    },
    {
      "metadata": {
        "id": "0UEr22MTfgQu",
        "colab_type": "text"
      },
      "cell_type": "markdown",
      "source": [
        "**Упращенная сессия (с автозакрытием)**"
      ]
    },
    {
      "metadata": {
        "id": "b-myuowRfmK2",
        "colab_type": "code",
        "outputId": "832630b6-f952-4f7b-9e1d-58f8e49b15a6",
        "colab": {
          "base_uri": "https://localhost:8080/"
        }
      },
      "cell_type": "code",
      "source": [
        "with tf.Session() as sess:\n",
        "  x.initializer.run()\n",
        "  y.initializer.run()\n",
        "  result = f.eval()\n",
        "  print(result)"
      ],
      "execution_count": 0,
      "outputs": [
        {
          "output_type": "stream",
          "text": [
            "42\n"
          ],
          "name": "stdout"
        }
      ]
    },
    {
      "metadata": {
        "id": "2PjTHZ-KgqPd",
        "colab_type": "text"
      },
      "cell_type": "markdown",
      "source": [
        "**Глобальная инициализация**"
      ]
    },
    {
      "metadata": {
        "id": "Krg9XNAIhHOd",
        "colab_type": "code",
        "outputId": "08263dcd-2f77-4a92-9f7d-d05b62ccd13d",
        "colab": {
          "base_uri": "https://localhost:8080/"
        }
      },
      "cell_type": "code",
      "source": [
        "import tensorflow as tf\n",
        "\n",
        "x = tf.Variable(3, \"x\")\n",
        "y = tf.Variable(2, \"y\")\n",
        "z = x*x*y + y + 2\n",
        "\n",
        "init = tf.global_variables_initializer()\n",
        "\n",
        "with tf.Session() as sess:\n",
        "  init.run()\n",
        "  result = f.eval()\n",
        "  print(result)"
      ],
      "execution_count": 0,
      "outputs": [
        {
          "output_type": "stream",
          "text": [
            "42\n"
          ],
          "name": "stdout"
        }
      ]
    },
    {
      "metadata": {
        "id": "Kx6kYxOrmZU2",
        "colab_type": "text"
      },
      "cell_type": "markdown",
      "source": [
        "**Новый отдельный экземпляр графа **"
      ]
    },
    {
      "metadata": {
        "id": "cokyh1Szmgdl",
        "colab_type": "code",
        "outputId": "fbfd64e4-9088-4735-d1c0-724a1d200342",
        "colab": {
          "base_uri": "https://localhost:8080/"
        }
      },
      "cell_type": "code",
      "source": [
        "graph = tf.Graph()\n",
        "with graph.as_default():\n",
        "  x2 = tf.Variable(2)\n",
        "  y2 = tf.Variable(6)\n",
        "  Z2 = x2*y2\n",
        "  \n",
        "  init = tf.global_variables_initializer()\n",
        "  sess = tf.InteractiveSession()\n",
        "  init.run()\n",
        "  result2 = Z2.eval()\n",
        "  print(result2)\n",
        "  sess.close()\n",
        "  "
      ],
      "execution_count": 0,
      "outputs": [
        {
          "output_type": "stream",
          "text": [
            "12\n"
          ],
          "name": "stdout"
        }
      ]
    },
    {
      "metadata": {
        "id": "2lahSw9_qb2Q",
        "colab_type": "text"
      },
      "cell_type": "markdown",
      "source": [
        "**Оценка в одном прогоне**"
      ]
    },
    {
      "metadata": {
        "id": "xh3JJiAeqj0c",
        "colab_type": "code",
        "outputId": "5a2b9d54-ab0f-42bd-f20d-fa074e6de636",
        "colab": {
          "base_uri": "https://localhost:8080/"
        }
      },
      "cell_type": "code",
      "source": [
        "import tensorflow as tf\n",
        "w = tf.constant(3)\n",
        "x = w + 2\n",
        "y = x + 5 \n",
        "z = x * 3\n",
        "\n",
        "init = tf.global_variables_initializer()\n",
        "with tf.Session() as sess:\n",
        "  init.run()\n",
        "  y_val, z_val = sess.run([y,z])\n",
        "  print(y_val)\n",
        "  print(z_val)\n",
        " \n",
        "  sess.close()\n"
      ],
      "execution_count": 0,
      "outputs": [
        {
          "output_type": "stream",
          "text": [
            "10\n",
            "15\n"
          ],
          "name": "stdout"
        }
      ]
    },
    {
      "metadata": {
        "id": "CimBu8MdU5w6",
        "colab_type": "text"
      },
      "cell_type": "markdown",
      "source": [
        "**Линейная регресия упрощенная**"
      ]
    },
    {
      "metadata": {
        "id": "LIyVDmuatllO",
        "colab_type": "code",
        "outputId": "6462a01a-4e02-428a-dd6a-4f21082f1d85",
        "colab": {
          "base_uri": "https://localhost:8080/"
        }
      },
      "cell_type": "code",
      "source": [
        "# to make this notebook's output stable across runs\n",
        "def reset_graph(seed=42):\n",
        "    tf.reset_default_graph()\n",
        "    tf.set_random_seed(seed)\n",
        "    np.random.seed(seed)\n",
        "reset_graph()   \n",
        "import numpy as np\n",
        "import tensorflow as tf\n",
        "from sklearn.datasets import fetch_california_housing\n",
        "housing = fetch_california_housing()\n",
        "m, n = housing.data.shape\n",
        "\n",
        "#print(housing.feature_names)\n",
        "#print(housing.DESCR)\n",
        "#print(housing.target.shape)\n",
        "\n",
        "# np.ones создает новый array заполненный 1ми, np.c_ создает новый масив обьединяя 2\n",
        "housing_data_plus_bias = np.c_[np.ones((m,1)), housing.data]\n",
        "\n",
        "X = tf.constant (housing_data_plus_bias, dtype=tf.float32, name=\"X\")\n",
        "y = tf.constant (housing.target.reshape(-1,1), dtype=tf.float32, name=\"y\")\n",
        "\n",
        "XT = tf.transpose(X)\n",
        "theta = tf.matmul (tf.matmul (tf.matrix_inverse(tf.matmul(XT,X)), XT) , y)\n",
        "\n",
        "with tf.Session() as sess:\n",
        "  theta_value = theta.eval ()\n",
        "  print(theta_value)"
      ],
      "execution_count": 0,
      "outputs": [
        {
          "output_type": "error",
          "ename": "NameError",
          "evalue": "ignored",
          "traceback": [
            "\u001b[0;31m---------------------------------------------------------------------------\u001b[0m",
            "\u001b[0;31mNameError\u001b[0m                                 Traceback (most recent call last)",
            "\u001b[0;32m<ipython-input-7-a23d43b65f7e>\u001b[0m in \u001b[0;36m<module>\u001b[0;34m()\u001b[0m\n\u001b[1;32m      3\u001b[0m     \u001b[0mtf\u001b[0m\u001b[0;34m.\u001b[0m\u001b[0mset_random_seed\u001b[0m\u001b[0;34m(\u001b[0m\u001b[0mseed\u001b[0m\u001b[0;34m)\u001b[0m\u001b[0;34m\u001b[0m\u001b[0;34m\u001b[0m\u001b[0m\n\u001b[1;32m      4\u001b[0m     \u001b[0mnp\u001b[0m\u001b[0;34m.\u001b[0m\u001b[0mrandom\u001b[0m\u001b[0;34m.\u001b[0m\u001b[0mseed\u001b[0m\u001b[0;34m(\u001b[0m\u001b[0mseed\u001b[0m\u001b[0;34m)\u001b[0m\u001b[0;34m\u001b[0m\u001b[0;34m\u001b[0m\u001b[0m\n\u001b[0;32m----> 5\u001b[0;31m \u001b[0mreset_graph\u001b[0m\u001b[0;34m(\u001b[0m\u001b[0;34m)\u001b[0m\u001b[0;34m\u001b[0m\u001b[0;34m\u001b[0m\u001b[0m\n\u001b[0m\u001b[1;32m      6\u001b[0m \u001b[0;32mimport\u001b[0m \u001b[0mnumpy\u001b[0m \u001b[0;32mas\u001b[0m \u001b[0mnp\u001b[0m\u001b[0;34m\u001b[0m\u001b[0;34m\u001b[0m\u001b[0m\n\u001b[1;32m      7\u001b[0m \u001b[0;32mimport\u001b[0m \u001b[0mtensorflow\u001b[0m \u001b[0;32mas\u001b[0m \u001b[0mtf\u001b[0m\u001b[0;34m\u001b[0m\u001b[0;34m\u001b[0m\u001b[0m\n",
            "\u001b[0;32m<ipython-input-7-a23d43b65f7e>\u001b[0m in \u001b[0;36mreset_graph\u001b[0;34m(seed)\u001b[0m\n\u001b[1;32m      2\u001b[0m     \u001b[0mtf\u001b[0m\u001b[0;34m.\u001b[0m\u001b[0mreset_default_graph\u001b[0m\u001b[0;34m(\u001b[0m\u001b[0;34m)\u001b[0m\u001b[0;34m\u001b[0m\u001b[0;34m\u001b[0m\u001b[0m\n\u001b[1;32m      3\u001b[0m     \u001b[0mtf\u001b[0m\u001b[0;34m.\u001b[0m\u001b[0mset_random_seed\u001b[0m\u001b[0;34m(\u001b[0m\u001b[0mseed\u001b[0m\u001b[0;34m)\u001b[0m\u001b[0;34m\u001b[0m\u001b[0;34m\u001b[0m\u001b[0m\n\u001b[0;32m----> 4\u001b[0;31m     \u001b[0mnp\u001b[0m\u001b[0;34m.\u001b[0m\u001b[0mrandom\u001b[0m\u001b[0;34m.\u001b[0m\u001b[0mseed\u001b[0m\u001b[0;34m(\u001b[0m\u001b[0mseed\u001b[0m\u001b[0;34m)\u001b[0m\u001b[0;34m\u001b[0m\u001b[0;34m\u001b[0m\u001b[0m\n\u001b[0m\u001b[1;32m      5\u001b[0m \u001b[0mreset_graph\u001b[0m\u001b[0;34m(\u001b[0m\u001b[0;34m)\u001b[0m\u001b[0;34m\u001b[0m\u001b[0;34m\u001b[0m\u001b[0m\n\u001b[1;32m      6\u001b[0m \u001b[0;32mimport\u001b[0m \u001b[0mnumpy\u001b[0m \u001b[0;32mas\u001b[0m \u001b[0mnp\u001b[0m\u001b[0;34m\u001b[0m\u001b[0;34m\u001b[0m\u001b[0m\n",
            "\u001b[0;31mNameError\u001b[0m: name 'np' is not defined"
          ]
        }
      ]
    },
    {
      "metadata": {
        "id": "shtCel0-3zHc",
        "colab_type": "text"
      },
      "cell_type": "markdown",
      "source": [
        "**Вычисление градиента в ручную и автоматически**"
      ]
    },
    {
      "metadata": {
        "colab_type": "code",
        "id": "WFM5Gjkxe14r",
        "outputId": "156dbc49-4432-4422-a456-66094ae76d0f",
        "colab": {
          "base_uri": "https://localhost:8080/",
          "height": 105
        }
      },
      "cell_type": "code",
      "source": [
        "\n",
        "\n",
        "\n",
        "\n",
        "import numpy as np\n",
        "import tensorflow as tf\n",
        "from sklearn.datasets import fetch_california_housing\n",
        "housing = fetch_california_housing()\n",
        "\n",
        "m, n = housing.data.shape\n",
        "\n",
        "n_epochs = 10\n",
        "learning_rate = 0.001\n",
        "\n",
        "# нормализация данных\n",
        "from sklearn.preprocessing import StandardScaler\n",
        "scaler = StandardScaler()\n",
        "scaled_housing_data = scaler.fit_transform(housing.data)\n",
        "\n",
        "# np.c_ сращивание матриц, np.ones создание матрицы заполненой нулями\n",
        "scaled_housing_data_plus_bias = np.c_[np.ones((m, 1)), scaled_housing_data]\n",
        "\n",
        "X = tf.constant(scaled_housing_data_plus_bias, dtype=tf.float32, name=\"X\")\n",
        "y = tf.constant(housing.target.reshape(-1, 1), dtype=tf.float32, name=\"y\")\n",
        "\n",
        "# tf.random_uniform генерировать случайный тензер с заданой формой и диапазоном\n",
        "theta = tf.Variable(tf.random_uniform([n + 1, 1], -1.0, 1.0, seed=42), name=\"theta\") \n",
        "y_pred = tf.matmul(X, theta, name=\"predictions\")\n",
        "error = y_pred - y\n",
        "\n",
        "# tf.reduce_mean вычисляет среднее значение\n",
        "mse = tf.reduce_mean(tf.square(error), name=\"mse\")\n",
        "\n",
        "#gradients = 2/m * tf.matmul(tf.transpose(X), error)\n",
        "gradients = tf.gradients (mse, [theta])[0]\n",
        "\n",
        "# создает узел который будет присваивать переменной новое значение \n",
        "training_op = tf.assign(theta, theta - learning_rate * gradients) \n",
        "init = tf.global_variables_initializer()\n",
        " \n",
        "\n",
        "with tf.Session() as sess:\n",
        "    sess.run(init)\n",
        "\n",
        "    for epoch in range(n_epochs):\n",
        "        if epoch % 2 == 0:\n",
        "           k = y_pred.eval()\n",
        "           print(\"Epoch\", epoch, \"MSE =\", mse.eval(), \"y_pred\", y_pred.shape, \"theta\", theta.shape, \"error\", error.shape, \"X\", X.shape)\n",
        "        sess.run(training_op)\n",
        "    \n",
        "    best_theta = theta.eval()"
      ],
      "execution_count": 0,
      "outputs": [
        {
          "output_type": "stream",
          "text": [
            "Epoch 0 MSE = 2.7544262 y_pred (20640, 1) theta (9, 1) error (20640, 1) X (20640, 9)\n",
            "Epoch 2 MSE = 2.7365942 y_pred (20640, 1) theta (9, 1) error (20640, 1) X (20640, 9)\n",
            "Epoch 4 MSE = 2.7189174 y_pred (20640, 1) theta (9, 1) error (20640, 1) X (20640, 9)\n",
            "Epoch 6 MSE = 2.7013936 y_pred (20640, 1) theta (9, 1) error (20640, 1) X (20640, 9)\n",
            "Epoch 8 MSE = 2.684023 y_pred (20640, 1) theta (9, 1) error (20640, 1) X (20640, 9)\n"
          ],
          "name": "stdout"
        }
      ]
    },
    {
      "metadata": {
        "id": "fdVU_PkGyn5Z",
        "colab_type": "text"
      },
      "cell_type": "markdown",
      "source": [
        " **Вывод матрицы/тензора **"
      ]
    },
    {
      "metadata": {
        "id": "a3kvoTW_a7FX",
        "colab_type": "code",
        "outputId": "bc641c1e-2734-4f07-ccb7-4022aac4cbca",
        "colab": {
          "base_uri": "https://localhost:8080/",
          "height": 228
        }
      },
      "cell_type": "code",
      "source": [
        "import tensorflow as tf\n",
        "g = tf.random_uniform([10 + 1, 1], 0.0, 10.0, seed=42)\n",
        "init_op = tf.initialize_all_variables()\n",
        "h = tf.transpose(tf.random_uniform([n + 1, 1], -1.0, 1.0, seed=42))\n",
        "k = tf.random_uniform([n + 1, 1], -1.0, 1.0, seed=42)\n",
        "with tf.Session() as sess:\n",
        "    sess.run(init_op) \n",
        "    print (sess.run(h))#распечатать тензор\n",
        "    print (sess.run(k))#распечатать тензор\n",
        "    print(g.get_shape) #получить размер массива статич\n",
        "\n",
        "       \n",
        "\n",
        "\n"
      ],
      "execution_count": 0,
      "outputs": [
        {
          "output_type": "stream",
          "text": [
            "[[ 0.9045429   0.35481548  0.5906365   0.51156354 -0.04808879  0.26202965\n",
            "  -0.62795925 -0.7713845  -0.32755637]]\n",
            "[[ 0.9045429 ]\n",
            " [ 0.35481548]\n",
            " [ 0.5906365 ]\n",
            " [ 0.51156354]\n",
            " [-0.04808879]\n",
            " [ 0.26202965]\n",
            " [-0.62795925]\n",
            " [-0.7713845 ]\n",
            " [-0.32755637]]\n",
            "<bound method Tensor.get_shape of <tf.Tensor 'random_uniform_22:0' shape=(11, 1) dtype=float32>>\n"
          ],
          "name": "stdout"
        }
      ]
    },
    {
      "metadata": {
        "id": "E0pOu-9T6e2R",
        "colab_type": "text"
      },
      "cell_type": "markdown",
      "source": [
        "**Использование оптимизатора**"
      ]
    },
    {
      "metadata": {
        "id": "mfQf0tc46oSL",
        "colab_type": "code",
        "colab": {
          "base_uri": "https://localhost:8080/",
          "height": 34
        },
        "outputId": "f5ec7cd1-34b2-4cdc-9586-13edbf1d3e71"
      },
      "cell_type": "code",
      "source": [
        "import tensorflow as tf\n",
        "import numpy as np\n",
        "\n",
        "\n",
        "from sklearn.datasets import fetch_california_housing\n",
        "from sklearn.preprocessing import StandardScaler\n",
        "\n",
        "\n",
        "housing = fetch_california_housing()\n",
        "m, n = housing.data.shape\n",
        "\n",
        "learning_rate = 0.01\n",
        "n_epochs = 4\n",
        "\n",
        "scaler = StandardScaler()\n",
        "scaled_housing_data = scaler.fit_transform(housing.data)\n",
        "\n",
        "scaled_housing_data_plus_bias = np.c_[np.ones((m, 1)), scaled_housing_data]\n",
        "\n",
        "#X = tf.constant(scaled_housing_data_plus_bias, dtype=tf.float32, name=\"X\")\n",
        "#y = tf.constant(housing.target.reshape(-1, 1), dtype=tf.float32, name=\"y\")\n",
        "\n",
        "X = tf.placeholder(tf.float32, shape=(None, n+1), name=\"X\")\n",
        "y = tf.placeholder(tf.float32, shape=(None, 1), name=\"y\")\n",
        "\n",
        "def fetch_batch (batch_index, batch_size, epoch):\n",
        "    np.random.seed (epoch * batch_size + batch_size) \n",
        "    indices = np.random.randint (m, size=batch_size) \n",
        "    X_batch = scaled_housing_data_plus_bias [indices]\n",
        "    y_batch = housing.target.reshape(-1, 1) [indices]\n",
        "    return X_batch, y_batch\n",
        "\n",
        "\n"
      ],
      "execution_count": 2,
      "outputs": [
        {
          "output_type": "stream",
          "text": [
            "Downloading Cal. housing from https://ndownloader.figshare.com/files/5976036 to /root/scikit_learn_data\n"
          ],
          "name": "stderr"
        }
      ]
    },
    {
      "metadata": {
        "id": "eznZuEyXpwyI",
        "colab_type": "code",
        "outputId": "9398b8f5-c273-4600-d456-b04aef968f4c",
        "colab": {
          "base_uri": "https://localhost:8080/",
          "height": 158
        }
      },
      "cell_type": "code",
      "source": [
        "theta = tf.Variable(tf.random_uniform([n + 1, 1], -1.0, 1.0, seed=42), name=\"theta\")\n",
        "y_pred = tf.matmul(X, theta, name=\"prediction\")\n",
        "erorr = y_pred - y\n",
        "mse = tf.reduce_mean(tf.square(erorr), name=\"mse\")\n",
        "#gradients = 2/m * tf.matmul(tf.transpose(X), erorr, name=\"gradients\")\n",
        "#training_op = tf.assign(theta, theta - learning_rate * gradients)\n",
        "\n",
        "optimizer = tf.train.GradientDescentOptimizer (learning_rate=learning_rate)\n",
        "training_op = optimizer.minimize(mse)\n",
        "\n",
        "batch_size = 3\n",
        "n_batches = int(np.ceil(6 / batch_size))\n",
        "\n",
        "init = tf.global_variables_initializer()\n",
        "with tf.Session() as sess:\n",
        "     sess.run(init)\n",
        "     for epoch in range(n_epochs):\n",
        "        for batch_index in range(n_batches):\n",
        "            X_batch, y_batch = fetch_batch (batch_index, batch_size, epoch)\n",
        "            sess.run(training_op, feed_dict={X: X_batch, y: y_batch})\n",
        "            #print(\"X_batch\", X_batch, \"Theta\", theta.eval())\n",
        "            print(\"Epoch\", epoch, \"X\", X.shape)\n",
        "        #loss_val = loss.eval({X: X_test, y: y_test})\n",
        "        #if epoch % 2 == 0 :\n",
        "            #print(\"Epoch:\", epoch, \"MSE:\")\n",
        "\n"
      ],
      "execution_count": 4,
      "outputs": [
        {
          "output_type": "stream",
          "text": [
            "Epoch 0 X (?, 9)\n",
            "Epoch 0 X (?, 9)\n",
            "Epoch 1 X (?, 9)\n",
            "Epoch 1 X (?, 9)\n",
            "Epoch 2 X (?, 9)\n",
            "Epoch 2 X (?, 9)\n",
            "Epoch 3 X (?, 9)\n",
            "Epoch 3 X (?, 9)\n"
          ],
          "name": "stdout"
        }
      ]
    },
    {
      "metadata": {
        "id": "sX3Xs7RDzTsf",
        "colab_type": "code",
        "outputId": "b826b851-020c-49fb-9397-b17cfe2e8f9a",
        "colab": {
          "base_uri": "https://localhost:8080/",
          "height": 34
        }
      },
      "cell_type": "code",
      "source": [
        "print(tf.random_uniform([n + 1, 1], -1.0, 1.0, seed=42))"
      ],
      "execution_count": 0,
      "outputs": [
        {
          "output_type": "stream",
          "text": [
            "Tensor(\"random_uniform_5:0\", shape=(9, 1), dtype=float32)\n"
          ],
          "name": "stdout"
        }
      ]
    }
  ]
}