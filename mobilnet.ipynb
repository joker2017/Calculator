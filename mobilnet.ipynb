{
  "nbformat": 4,
  "nbformat_minor": 0,
  "metadata": {
    "colab": {
      "name": "Untitled6.ipynb",
      "version": "0.3.2",
      "provenance": [],
      "include_colab_link": true
    },
    "kernelspec": {
      "name": "python3",
      "display_name": "Python 3"
    }
  },
  "cells": [
    {
      "cell_type": "markdown",
      "metadata": {
        "id": "view-in-github",
        "colab_type": "text"
      },
      "source": [
        "<a href=\"https://colab.research.google.com/github/joker2017/Calculator/blob/master/mobilnet.ipynb\" target=\"_parent\"><img src=\"https://colab.research.google.com/assets/colab-badge.svg\" alt=\"Open In Colab\"/></a>"
      ]
    },
    {
      "metadata": {
        "id": "4n6VqecXKbLa",
        "colab_type": "code",
        "colab": {}
      },
      "cell_type": "code",
      "source": [
        "import sys\n",
        "sys.path.append(\"https://github.com/tensorflow/models/blob/master/research/slim\")"
      ],
      "execution_count": 0,
      "outputs": []
    },
    {
      "metadata": {
        "id": "bz3tikA7K9VR",
        "colab_type": "code",
        "colab": {}
      },
      "cell_type": "code",
      "source": [
        "import tensorflow as tf\n",
        "import os\n",
        "\n",
        "saver = tf.train.import_meta_graph(os.path.join(model_path,r\"resnet_v2/model.ckpt-258931.meta\"))\n",
        "#import_meta_graph может загружать структуру диаграммы непосредственно из файла meta\n",
        "\n",
        "with tf.Session(config=tf.ConfigProto(allow_soft_placement=True)) as sess:\n",
        "    # latest_checkpoint проверяет файл контрольной точки, чтобы найти последнюю модель\n",
        "    # восстановление веса диаграммы восстановления\n",
        "    saver.restore(sess,tf.train.latest_checkpoint(r\"./model/resnet_v2\"))\n",
        "    graph = sess.graph\n",
        "    # get_tensor_by_name получает тензор по имени тензора\n",
        "    print(sess.run(graph.get_tensor_by_name(\"resnet_model/conv2d/kernel:0\")))"
      ],
      "execution_count": 0,
      "outputs": []
    },
    {
      "metadata": {
        "id": "ZltSSDTWMS-R",
        "colab_type": "code",
        "colab": {}
      },
      "cell_type": "code",
      "source": [
        "# Временно добавьте slim в путь поиска python\n",
        "import sys\n",
        "sys.path.append(\"./models/research/slim\")\n",
        "\n",
        "# Импортировать mobilenet_v2\n",
        "from nets.mobilenet import mobilenet_v2\n",
        "#Сбросить карту\n",
        "tf.reset_default_graph()\n",
        "\n",
        "# Импортировать мобильную сеть, сначала построить структуру графа.\n",
        "#Loading ’‘ После загрузки tf.get_default_graph () содержит структуру графика расчета мобильной сети.\n",
        "#Вы можете использовать tf.get_collection (tf.GraphKeys.TRAINABLE_VARIABLES), чтобы сравнить разницу до и после reset_graph\n",
        "\n",
        "images = tf.placeholder(tf.float32,(None,224,224,3))\n",
        "with tf.contrib.slim.arg_scope(mobilenet_v2.training_scope(is_training=False)):\n",
        "    logits, endpoints = mobilenet_v2.mobilenet(images,depth_multiplier=1.4)\n",
        "\n",
        "# Определите класс заставки для восстановления веса графика\n",
        "saver = tf.train.Saver()\n",
        "with tf.Session() as sess:\n",
        "    # Latest_checkpoint проверяет файл контрольной точки контрольной точки, чтобы найти последнюю модель\n",
        "    # Восстановить восстановить вес графика\n",
        "    saver.restore(sess,tf.train.latest_checkpoint(\"./model_ckpt/mobilenet_v2\"))\n",
        "    # Get_tensor_by_name получает тензор по имени тензора\n",
        "    print(sess.run(tf.get_default_graph().get_tensor_by_name(\"MobilenetV2/Conv/weights:0\")).shape)"
      ],
      "execution_count": 0,
      "outputs": []
    },
    {
      "metadata": {
        "id": "G37_Pyq1NLOJ",
        "colab_type": "code",
        "colab": {}
      },
      "cell_type": "code",
      "source": [
        "\n",
        "# Прочитайте сохраненный файл pb и проанализируйте его в соответствующем буфере протокола GraphDef.\n",
        "gd =  tf.GraphDef.FromString(open('./model_ckpt/mobilenet_v2/mobilenet_v2_1.4_224_frozen.pb',\"rb\").read())\n",
        "# Import_graph_def загружает график, сохраненный в graphdef, в текущий граф, return_elements возвращает указанный тензор\n",
        "inp, predictions = \\\n",
        "tf.import_graph_def(gd,return_elements=[\"input:0\",\"MobilenetV2/Predictions/Reshape_1:0\"])\n",
        "\n",
        "# График расчета в это время может быть использован непосредственно для прогнозирования\n",
        "# Вытащить картинку !wget https://upload.wikimedia.org/wikipedia/commons/f/fe/Giant_Panda_in_Beijing_Zoo_1.JPG -O panda.jpg\n",
        "from PIL import Image\n",
        "img = np.array(Image.open('panda.jpg').resize((224, 224))).astype(np.float) / 128 - 1\n",
        "# Inp - это входные данные, которые необходимо ввести, а предсказания - это прогнозирующая структура, которую необходимо выводить.\n",
        "with tf.Session(graph=inp.graph) as sess:\n",
        "    x = sess.run(predictions,feed_dict={inp:img.reshape(1,224,224,3)})"
      ],
      "execution_count": 0,
      "outputs": []
    },
    {
      "metadata": {
        "id": "g6t4GbbZOHdw",
        "colab_type": "code",
        "colab": {}
      },
      "cell_type": "code",
      "source": [
        "tf.reset_default_graph()\n",
        "# Построить расчетную диаграмму\n",
        "images = tf.placeholder(tf.float32,(None,224,224,3))\n",
        "with tf.contrib.slim.arg_scope(mobilenet_v2.training_scope(is_training=False)):\n",
        "    logits, endpoints = mobilenet_v2.mobilenet(images,depth_multiplier=1.4)\n",
        "\n",
        "# Получить целевой тензор, добавить новый слой\n",
        "with tf.variable_scope(\"finetune_layers\"):\n",
        "    # Получить целевой тензор и вынуть тензор указанного слоя в мобильной сети\n",
        "    mobilenet_tensor = tf.get_default_graph().get_tensor_by_name(\"MobilenetV2/expanded_conv_14/output:0\")\n",
        "    # Передаем тензор на новый слой\n",
        "    x = tf.layers.Conv2D(filters=256,kernel_size=3,name=\"conv2d_1\")(mobilenet_tensor)\n",
        "    # Наблюдаем, обновляется ли вес нового слоя tf.summary.histogram (\"conv2d_1\", x)\n",
        "    x = tf.nn.relu(x,name=\"relu_1\")\n",
        "    x = tf.layers.Conv2D(filters=256,kernel_size=3,name=\"conv2d_2\")(x)\n",
        "    x = tf.layers.Conv2D(10,3,name=\"conv2d_3\")(x)\n",
        "    predictions = tf.reshape(x, (-1,10))"
      ],
      "execution_count": 0,
      "outputs": []
    },
    {
      "metadata": {
        "id": "keB4S_3tOkl4",
        "colab_type": "code",
        "colab": {}
      },
      "cell_type": "code",
      "source": [
        "# горячее кодирование\n",
        "def to_categorical(data, nums):\n",
        "    return np.eye(nums)[data]\n",
        "# Произвольно генерировать данные\n",
        "x_train = np.random.random(size=(141,224,224,3))\n",
        "y_train = to_categorical(label_fake,10)\n",
        "\n",
        "#Конфигурация условий обучения\n",
        "## метка-заполнитель\n",
        "y_label = tf.placeholder(tf.int32, (None,10))\n",
        "## Собирайте переменные в области видимости finetune_layers, обновляйте только вес добавленного слоя\n",
        "train_var = tf.get_collection(tf.GraphKeys.TRAINABLE_VARIABLES,scope=\"finetune_layers\")\n",
        "##Потеря определения\n",
        "loss = tf.nn.softmax_cross_entropy_with_logits_v2(labels=y_label,logits=predictions)\n",
        "## Определите метод оптимизации, используйте var_list, чтобы указать вес для обновления, и обновляйте только вес train_var в это время.\n",
        "train_step = tf.train.GradientDescentOptimizer(0.1).minimize(loss,var_list=train_var)\n",
        "##Наблюдайте, обновляется ли вес нового слоя\n",
        "tf.summary.histogram(\"mobilenet_conv8\",tf.get_default_graph().get_tensor_by_name('MobilenetV2/expanded_conv_8/depthwise/depthwise_weights:0'))\n",
        "tf.summary.histogram(\"mobilenet_conv9\",tf.get_default_graph().get_tensor_by_name('MobilenetV2/expanded_conv_9/depthwise/depthwise_weights:0'))\n",
        "\n",
        "##Объединить все резюме\n",
        "merge_all = tf.summary.merge_all()\n",
        "\n",
        "## Установите количество итераций и количество университетов\n",
        "epochs = 10\n",
        "batch_size = 16\n",
        "\n",
        "# Получить функцию из указанного списка переменных var_list\n",
        "def get_var_list(target_tensor=None):\n",
        "#Получить функцию из указанного списка переменных var_list\n",
        "    if target_tensor==None:\n",
        "        target_tensor = r\"MobilenetV2/expanded_conv_14/output:0\"\n",
        "    target = target_tensor.split(\"/\")[1]\n",
        "    all_list = []\n",
        "    all_var = []\n",
        "    # пройти все переменные, имя узла получает имя переменной\n",
        "    # Не используйте tf.trainable_variables (), потому что moving_mean / дисперсия batchnorm не принадлежит к обучаемой переменной\n",
        "    for var in tf.global_variables():\n",
        "        if var != []:\n",
        "            all_list.append(var.name)\n",
        "            all_var.append(var)\n",
        "    try:\n",
        "        all_list = list(map(lambda x:x.split(\"/\")[1],all_list))\n",
        "        # Найти индекс соответствующей переменной области видимости\n",
        "        ind = all_list[::-1].index(target)\n",
        "        ind = len(all_list) -  ind - 1\n",
        "        print(ind)\n",
        "        del all_list\n",
        "        return all_var[:ind+1]\n",
        "    except:\n",
        "        print(\"target_tensor is not exist!\")\n",
        "\n",
        "# Имя целевого тензора, чтобы получить список переменных var_list, который должен загружать веса из файла\n",
        "target_tensor = \"MobilenetV2/expanded_conv_14/output:0\"\n",
        "var_list = get_var_list(target_tensor)\n",
        "saver = tf.train.Saver(var_list=var_list)\n",
        "\n",
        "# Загрузите веса в файл и обучите новый слой\n",
        "with tf.Session(config=tf.ConfigProto(allow_soft_placement=True)) as sess:\n",
        "    writer = tf.summary.FileWriter(r\"./logs\", sess.graph)\n",
        "    ## Параметры инициализации: загрузка весов из файлов train_var использует функции инициализации\n",
        "    sess.run(tf.variables_initializer(var_list=train_var))\n",
        "    saver.restore(sess,tf.train.latest_checkpoint(\"./model_ckpt/mobilenet_v2\"))\n",
        "    \n",
        "    for i in range(2000):\n",
        "        start = (i*batch_size) % x_train.shape[0]\n",
        "        end = min(start+batch_size, x_train.shape[0])\n",
        "        _, merge, losses = sess.run([train_step,merge_all,loss],\\\n",
        "                             feed_dict={images:x_train[start:end],\\\n",
        "                                        y_label:y_train[start:end]})\n",
        "        if i%100==0:\n",
        "           writer.add_summary(merge, i)"
      ],
      "execution_count": 0,
      "outputs": []
    },
    {
      "metadata": {
        "id": "MfQhKapfPy0Y",
        "colab_type": "code",
        "colab": {}
      },
      "cell_type": "code",
      "source": [
        ""
      ],
      "execution_count": 0,
      "outputs": []
    }
  ]
}