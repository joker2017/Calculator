{
  "nbformat": 4,
  "nbformat_minor": 0,
  "metadata": {
    "colab": {
      "name": "TensorFlow with GPU",
      "version": "0.3.2",
      "provenance": [],
      "collapsed_sections": [],
      "include_colab_link": true
    },
    "kernelspec": {
      "name": "python3",
      "display_name": "Python 3"
    },
    "accelerator": "GPU"
  },
  "cells": [
    {
      "cell_type": "markdown",
      "metadata": {
        "id": "view-in-github",
        "colab_type": "text"
      },
      "source": [
        "<a href=\"https://colab.research.google.com/github/joker2017/Calculator/blob/master/TF_Test.ipynb\" target=\"_parent\"><img src=\"https://colab.research.google.com/assets/colab-badge.svg\" alt=\"Open In Colab\"/></a>"
      ]
    },
    {
      "metadata": {
        "colab_type": "text",
        "id": "QXRh0DPiZRyG"
      },
      "cell_type": "markdown",
      "source": [
        "# Создаем простой граф\n"
      ]
    },
    {
      "metadata": {
        "id": "UdJNPbKAcmwh",
        "colab_type": "code",
        "colab": {}
      },
      "cell_type": "code",
      "source": [
        "import tensorflow as tf\n",
        "\n",
        "x = tf.Variable (3, name=\"x\")\n",
        "y = tf.Variable (4, name=\"y\")\n",
        "f = x*x*y + y + 2\n"
      ],
      "execution_count": 0,
      "outputs": []
    },
    {
      "metadata": {
        "id": "wvJEb-5yeOj1",
        "colab_type": "text"
      },
      "cell_type": "markdown",
      "source": [
        "**Добавляем сессию**"
      ]
    },
    {
      "metadata": {
        "id": "9DlhWUFueWam",
        "colab_type": "code",
        "outputId": "6233cdca-208c-411c-8561-0e6b199823a2",
        "colab": {
          "base_uri": "https://localhost:8080/",
          "height": 34
        }
      },
      "cell_type": "code",
      "source": [
        "sess = tf.Session()\n",
        "sess.run(x.initializer)\n",
        "sess.run(y.initializer)\n",
        "result = sess.run(f)\n",
        "print(result)\n",
        "sess.close()"
      ],
      "execution_count": 2,
      "outputs": [
        {
          "output_type": "stream",
          "text": [
            "42\n"
          ],
          "name": "stdout"
        }
      ]
    },
    {
      "metadata": {
        "id": "0UEr22MTfgQu",
        "colab_type": "text"
      },
      "cell_type": "markdown",
      "source": [
        "**Упращенная сессия (с автозакрытием)**"
      ]
    },
    {
      "metadata": {
        "id": "b-myuowRfmK2",
        "colab_type": "code",
        "outputId": "0c188710-f270-41a1-afc9-febc5fb8f340",
        "colab": {
          "base_uri": "https://localhost:8080/",
          "height": 34
        }
      },
      "cell_type": "code",
      "source": [
        "with tf.Session() as sess:\n",
        "  x.initializer.run()\n",
        "  y.initializer.run()\n",
        "  result = f.eval()\n",
        "  print(result)"
      ],
      "execution_count": 3,
      "outputs": [
        {
          "output_type": "stream",
          "text": [
            "42\n"
          ],
          "name": "stdout"
        }
      ]
    },
    {
      "metadata": {
        "id": "2PjTHZ-KgqPd",
        "colab_type": "text"
      },
      "cell_type": "markdown",
      "source": [
        "**Глобальная инициализация**"
      ]
    },
    {
      "metadata": {
        "id": "Krg9XNAIhHOd",
        "colab_type": "code",
        "outputId": "bce2a29a-7643-4cb2-8d16-95a29755aea0",
        "colab": {
          "base_uri": "https://localhost:8080/",
          "height": 34
        }
      },
      "cell_type": "code",
      "source": [
        "import tensorflow as tf\n",
        "\n",
        "x = tf.Variable(3, \"x\")\n",
        "y = tf.Variable(2, \"y\")\n",
        "z = x*x*y + y + 2\n",
        "\n",
        "init = tf.global_variables_initializer()\n",
        "\n",
        "with tf.Session() as sess:\n",
        "  init.run()\n",
        "  result = f.eval()\n",
        "  print(result)"
      ],
      "execution_count": 4,
      "outputs": [
        {
          "output_type": "stream",
          "text": [
            "42\n"
          ],
          "name": "stdout"
        }
      ]
    },
    {
      "metadata": {
        "id": "Kx6kYxOrmZU2",
        "colab_type": "text"
      },
      "cell_type": "markdown",
      "source": [
        "**Новый отдельный экземпляр графа **"
      ]
    },
    {
      "metadata": {
        "id": "cokyh1Szmgdl",
        "colab_type": "code",
        "outputId": "35d570ff-88e9-4f58-8a33-3b8a811c8e2e",
        "colab": {
          "base_uri": "https://localhost:8080/",
          "height": 34
        }
      },
      "cell_type": "code",
      "source": [
        "graph = tf.Graph()\n",
        "with graph.as_default():\n",
        "  x2 = tf.Variable(2)\n",
        "  y2 = tf.Variable(6)\n",
        "  Z2 = x2*y2\n",
        "  \n",
        "  init = tf.global_variables_initializer()\n",
        "  sess = tf.InteractiveSession()\n",
        "  init.run()\n",
        "  result2 = Z2.eval()\n",
        "  print(result2)\n",
        "  sess.close()\n",
        "  "
      ],
      "execution_count": 5,
      "outputs": [
        {
          "output_type": "stream",
          "text": [
            "12\n"
          ],
          "name": "stdout"
        }
      ]
    },
    {
      "metadata": {
        "id": "2lahSw9_qb2Q",
        "colab_type": "text"
      },
      "cell_type": "markdown",
      "source": [
        "**Оценка в одном прогоне**"
      ]
    },
    {
      "metadata": {
        "id": "xh3JJiAeqj0c",
        "colab_type": "code",
        "outputId": "cdad4822-aa4b-42d1-ef33-8d0f64d180c9",
        "colab": {
          "base_uri": "https://localhost:8080/",
          "height": 52
        }
      },
      "cell_type": "code",
      "source": [
        "import tensorflow as tf\n",
        "w = tf.constant(3)\n",
        "x = w + 2\n",
        "y = x + 5 \n",
        "z = x * 3\n",
        "\n",
        "init = tf.global_variables_initializer()\n",
        "with tf.Session() as sess:\n",
        "  init.run()\n",
        "  y_val, z_val = sess.run([y,z])\n",
        "  print(y_val)\n",
        "  print(z_val)\n",
        " \n",
        "  sess.close()\n"
      ],
      "execution_count": 6,
      "outputs": [
        {
          "output_type": "stream",
          "text": [
            "10\n",
            "15\n"
          ],
          "name": "stdout"
        }
      ]
    },
    {
      "metadata": {
        "id": "CimBu8MdU5w6",
        "colab_type": "text"
      },
      "cell_type": "markdown",
      "source": [
        "**Линейная регресия упрощенная**"
      ]
    },
    {
      "metadata": {
        "id": "LIyVDmuatllO",
        "colab_type": "code",
        "colab": {
          "base_uri": "https://localhost:8080/",
          "height": 175
        },
        "outputId": "b28476a4-bbc4-4ee7-c082-0fc984906530"
      },
      "cell_type": "code",
      "source": [
        "\n",
        "import numpy as np\n",
        "import tensorflow as tf\n",
        "from sklearn.datasets import fetch_california_housing\n",
        "housing = fetch_california_housing()\n",
        "m, n = housing.data.shape\n",
        "\n",
        "#print(housing.feature_names)\n",
        "#print(housing.DESCR)\n",
        "#print(housing.target.shape)\n",
        "\n",
        "# np.ones создает новый array заполненный 1ми, np.c_ создает новый масив обьединяя 2\n",
        "housing_data_plus_bias = np.c_[np.ones((m,1)), housing.data]\n",
        "\n",
        "X = tf.constant (housing_data_plus_bias, dtype=tf.float32, name=\"X\")\n",
        "y = tf.constant (housing.target.reshape(-1,1), dtype=tf.float32, name=\"y\")\n",
        "\n",
        "XT = tf.transpose(X)\n",
        "theta = tf.matmul (tf.matmul (tf.matrix_inverse(tf.matmul(XT,X)), XT) , y)\n",
        "\n",
        "with tf.Session() as sess:\n",
        "  theta_value = theta.eval ()\n",
        "  print(theta_value)"
      ],
      "execution_count": 7,
      "outputs": [
        {
          "output_type": "stream",
          "text": [
            "[[-3.7112991e+01]\n",
            " [ 4.3611991e-01]\n",
            " [ 9.4082914e-03]\n",
            " [-1.0654381e-01]\n",
            " [ 6.4201808e-01]\n",
            " [-4.0360574e-06]\n",
            " [-3.7822633e-03]\n",
            " [-4.2303962e-01]\n",
            " [-4.3648642e-01]]\n"
          ],
          "name": "stdout"
        }
      ]
    },
    {
      "metadata": {
        "colab_type": "code",
        "outputId": "f5c95f2e-0adf-4aeb-de22-1f3d93ffc237",
        "id": "WFM5Gjkxe14r",
        "colab": {
          "base_uri": "https://localhost:8080/",
          "height": 1777
        }
      },
      "cell_type": "code",
      "source": [
        "import numpy as np\n",
        "import tensorflow as tf\n",
        "from sklearn.datasets import fetch_california_housing\n",
        "housing = fetch_california_housing()\n",
        "m, n = housing.data.shape\n",
        "\n",
        "#нормализуем входы для градиентного спуска\n",
        "from sklearn.preprocessing import StandardScaler\n",
        "scaler = StandardScaler()\n",
        "scaled_housing_data = scaler.fit_transform(housing.data)\n",
        "\n",
        "# np.ones создает новый array заполненный 1ми, np.c_ создает новый масив обьединяя 2\n",
        "scaled_housing_data_plus_bias = np.c_[np.ones((m, 1)), scaled_housing_data]\n",
        "\n",
        "n_epochs = 10000\n",
        "learning_rate = 0.01\n",
        "\n",
        "X = tf.constant(scaled_housing_data_plus_bias, dtype=tf.float32, name=\"X\")\n",
        "y = tf.constant(housing.target.reshape(-1, 1), dtype=tf.float32, name=\"y\")\n",
        "\n",
        "#random_uniform() создает узел с тензером со случайными значениями с заданой формой и диапазоном\n",
        "theta = tf.Variable(tf.random_uniform([n + 1, 1], -1.0, 1.0, seed=42), name=\"theta\")\n",
        "\n",
        "\n",
        "y_pred = tf.matmul(X, theta, name=\"prediction\")\n",
        "error = y - y_pred\n",
        "\n",
        "mse = tf.reduce_mean (tf.square (error), name=\"mse\")\n",
        "gradients = 2/m * tf.matmul(tf.transpose(X), error)\n",
        "\n",
        "# assing() создает узел, который будет присваивать переменной новое значение\n",
        "training_op = tf.assign(theta, theta - learning_rate * gradients)\n",
        "init = tf.global_variables_initializer()\n",
        "\n",
        "with tf.Session() as sess:\n",
        "    sess.run(init)\n",
        "\n",
        "    for epoch in range(n_epochs):\n",
        "        if epoch % 100 == 0:\n",
        "           print(\"Epoch\", epoch, \"MSE =\", mse.eval())\n",
        "        sess.run(training_op)\n",
        "    \n",
        "    best_theta = theta.eval()\n",
        "\n",
        "\n",
        "\n",
        "\n",
        "\n",
        "\n",
        "\n",
        "\n",
        "\n",
        "\n",
        "\n",
        "\n",
        "\n",
        "\n",
        "\n",
        "\n",
        "\n"
      ],
      "execution_count": 2,
      "outputs": [
        {
          "output_type": "stream",
          "text": [
            "Epoch 0 MSE = 2.7544262\n",
            "Epoch 100 MSE = 313.76788\n",
            "Epoch 200 MSE = 379205.88\n",
            "Epoch 300 MSE = 756071000.0\n",
            "Epoch 400 MSE = 1664087800000.0\n",
            "Epoch 500 MSE = 3944475700000000.0\n",
            "Epoch 600 MSE = 9.927065e+18\n",
            "Epoch 700 MSE = 2.609519e+22\n",
            "Epoch 800 MSE = 7.0614478e+25\n",
            "Epoch 900 MSE = 1.9459335e+29\n",
            "Epoch 1000 MSE = 5.421672e+32\n",
            "Epoch 1100 MSE = inf\n",
            "Epoch 1200 MSE = inf\n",
            "Epoch 1300 MSE = inf\n",
            "Epoch 1400 MSE = inf\n",
            "Epoch 1500 MSE = inf\n",
            "Epoch 1600 MSE = inf\n",
            "Epoch 1700 MSE = inf\n",
            "Epoch 1800 MSE = inf\n",
            "Epoch 1900 MSE = inf\n",
            "Epoch 2000 MSE = inf\n",
            "Epoch 2100 MSE = nan\n",
            "Epoch 2200 MSE = nan\n",
            "Epoch 2300 MSE = nan\n",
            "Epoch 2400 MSE = nan\n",
            "Epoch 2500 MSE = nan\n",
            "Epoch 2600 MSE = nan\n",
            "Epoch 2700 MSE = nan\n",
            "Epoch 2800 MSE = nan\n",
            "Epoch 2900 MSE = nan\n",
            "Epoch 3000 MSE = nan\n",
            "Epoch 3100 MSE = nan\n",
            "Epoch 3200 MSE = nan\n",
            "Epoch 3300 MSE = nan\n",
            "Epoch 3400 MSE = nan\n",
            "Epoch 3500 MSE = nan\n",
            "Epoch 3600 MSE = nan\n",
            "Epoch 3700 MSE = nan\n",
            "Epoch 3800 MSE = nan\n",
            "Epoch 3900 MSE = nan\n",
            "Epoch 4000 MSE = nan\n",
            "Epoch 4100 MSE = nan\n",
            "Epoch 4200 MSE = nan\n",
            "Epoch 4300 MSE = nan\n",
            "Epoch 4400 MSE = nan\n",
            "Epoch 4500 MSE = nan\n",
            "Epoch 4600 MSE = nan\n",
            "Epoch 4700 MSE = nan\n",
            "Epoch 4800 MSE = nan\n",
            "Epoch 4900 MSE = nan\n",
            "Epoch 5000 MSE = nan\n",
            "Epoch 5100 MSE = nan\n",
            "Epoch 5200 MSE = nan\n",
            "Epoch 5300 MSE = nan\n",
            "Epoch 5400 MSE = nan\n",
            "Epoch 5500 MSE = nan\n",
            "Epoch 5600 MSE = nan\n",
            "Epoch 5700 MSE = nan\n",
            "Epoch 5800 MSE = nan\n",
            "Epoch 5900 MSE = nan\n",
            "Epoch 6000 MSE = nan\n",
            "Epoch 6100 MSE = nan\n",
            "Epoch 6200 MSE = nan\n",
            "Epoch 6300 MSE = nan\n",
            "Epoch 6400 MSE = nan\n",
            "Epoch 6500 MSE = nan\n",
            "Epoch 6600 MSE = nan\n",
            "Epoch 6700 MSE = nan\n",
            "Epoch 6800 MSE = nan\n",
            "Epoch 6900 MSE = nan\n",
            "Epoch 7000 MSE = nan\n",
            "Epoch 7100 MSE = nan\n",
            "Epoch 7200 MSE = nan\n",
            "Epoch 7300 MSE = nan\n",
            "Epoch 7400 MSE = nan\n",
            "Epoch 7500 MSE = nan\n",
            "Epoch 7600 MSE = nan\n",
            "Epoch 7700 MSE = nan\n",
            "Epoch 7800 MSE = nan\n",
            "Epoch 7900 MSE = nan\n",
            "Epoch 8000 MSE = nan\n",
            "Epoch 8100 MSE = nan\n",
            "Epoch 8200 MSE = nan\n",
            "Epoch 8300 MSE = nan\n",
            "Epoch 8400 MSE = nan\n",
            "Epoch 8500 MSE = nan\n",
            "Epoch 8600 MSE = nan\n",
            "Epoch 8700 MSE = nan\n",
            "Epoch 8800 MSE = nan\n",
            "Epoch 8900 MSE = nan\n",
            "Epoch 9000 MSE = nan\n",
            "Epoch 9100 MSE = nan\n",
            "Epoch 9200 MSE = nan\n",
            "Epoch 9300 MSE = nan\n",
            "Epoch 9400 MSE = nan\n",
            "Epoch 9500 MSE = nan\n",
            "Epoch 9600 MSE = nan\n",
            "Epoch 9700 MSE = nan\n",
            "Epoch 9800 MSE = nan\n",
            "Epoch 9900 MSE = nan\n"
          ],
          "name": "stdout"
        }
      ]
    }
  ]
}