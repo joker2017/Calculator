{
  "nbformat": 4,
  "nbformat_minor": 0,
  "metadata": {
    "colab": {
      "name": "TensorFlow with GPU",
      "version": "0.3.2",
      "provenance": [],
      "collapsed_sections": [],
      "include_colab_link": true
    },
    "kernelspec": {
      "display_name": "Python 2",
      "name": "python2"
    }
  },
  "cells": [
    {
      "cell_type": "markdown",
      "metadata": {
        "id": "view-in-github",
        "colab_type": "text"
      },
      "source": [
        "<a href=\"https://colab.research.google.com/github/joker2017/Calculator/blob/master/TF_Test.ipynb\" target=\"_parent\"><img src=\"https://colab.research.google.com/assets/colab-badge.svg\" alt=\"Open In Colab\"/></a>"
      ]
    },
    {
      "metadata": {
        "colab_type": "text",
        "id": "QXRh0DPiZRyG"
      },
      "cell_type": "markdown",
      "source": [
        "# Создаем простой граф\n"
      ]
    },
    {
      "metadata": {
        "id": "UdJNPbKAcmwh",
        "colab_type": "code",
        "colab": {}
      },
      "cell_type": "code",
      "source": [
        "import tensorflow as tf\n",
        "\n",
        "x = tf.Variable (3, name=\"x\")\n",
        "y = tf.Variable (4, name=\"y\")\n",
        "f = x*x*y + y + 2\n"
      ],
      "execution_count": 0,
      "outputs": []
    },
    {
      "metadata": {
        "id": "wvJEb-5yeOj1",
        "colab_type": "text"
      },
      "cell_type": "markdown",
      "source": [
        "**Добавляем сессию**"
      ]
    },
    {
      "metadata": {
        "id": "9DlhWUFueWam",
        "colab_type": "code",
        "colab": {
          "base_uri": "https://localhost:8080/",
          "height": 34
        },
        "outputId": "fa2fd0a8-eab0-405b-d6bd-afc6a9fcfb03"
      },
      "cell_type": "code",
      "source": [
        "sess = tf.Session()\n",
        "sess.run(x.initializer)\n",
        "sess.run(y.initializer)\n",
        "result = sess.run(f)\n",
        "print(result)\n",
        "sess.close()"
      ],
      "execution_count": 11,
      "outputs": [
        {
          "output_type": "stream",
          "text": [
            "42\n"
          ],
          "name": "stdout"
        }
      ]
    },
    {
      "metadata": {
        "id": "0UEr22MTfgQu",
        "colab_type": "text"
      },
      "cell_type": "markdown",
      "source": [
        "**Упращенная сессия (с автозакрытием)**"
      ]
    },
    {
      "metadata": {
        "id": "b-myuowRfmK2",
        "colab_type": "code",
        "colab": {
          "base_uri": "https://localhost:8080/",
          "height": 34
        },
        "outputId": "650417f0-4ab7-4fb4-b20f-f529fa0a7c22"
      },
      "cell_type": "code",
      "source": [
        "with tf.Session() as sess:\n",
        "  x.initializer.run()\n",
        "  y.initializer.run()\n",
        "  result = f.eval()\n",
        "  print(result)"
      ],
      "execution_count": 15,
      "outputs": [
        {
          "output_type": "stream",
          "text": [
            "42\n"
          ],
          "name": "stdout"
        }
      ]
    },
    {
      "metadata": {
        "id": "2PjTHZ-KgqPd",
        "colab_type": "text"
      },
      "cell_type": "markdown",
      "source": [
        "**Глобальная инициализация**"
      ]
    },
    {
      "metadata": {
        "id": "Krg9XNAIhHOd",
        "colab_type": "code",
        "colab": {
          "base_uri": "https://localhost:8080/",
          "height": 34
        },
        "outputId": "7afac975-154e-4e98-f987-b3be496d7008"
      },
      "cell_type": "code",
      "source": [
        "import tensorflow as tf\n",
        "\n",
        "x = tf.Variable(3, \"x\")\n",
        "y = tf.Variable(2, \"y\")\n",
        "z = x*x*y + y + 2\n",
        "\n",
        "init = tf.global_variables_initializer()\n",
        "\n",
        "with tf.Session() as sess:\n",
        "  init.run()\n",
        "  result = f.eval()\n",
        "  print(result)"
      ],
      "execution_count": 17,
      "outputs": [
        {
          "output_type": "stream",
          "text": [
            "42\n"
          ],
          "name": "stdout"
        }
      ]
    },
    {
      "metadata": {
        "id": "Kx6kYxOrmZU2",
        "colab_type": "text"
      },
      "cell_type": "markdown",
      "source": [
        "**Новый отдельный экземпляр графа **"
      ]
    },
    {
      "metadata": {
        "id": "cokyh1Szmgdl",
        "colab_type": "code",
        "colab": {
          "base_uri": "https://localhost:8080/",
          "height": 34
        },
        "outputId": "f4e7ca22-5b69-45cb-f6cb-77ed2010ba8d"
      },
      "cell_type": "code",
      "source": [
        "graph = tf.Graph()\n",
        "with graph.as_default():\n",
        "  x2 = tf.Variable(2)\n",
        "  y2 = tf.Variable(6)\n",
        "  Z2 = x2*y2\n",
        "  \n",
        "  init = tf.global_variables_initializer()\n",
        "  sess = tf.InteractiveSession()\n",
        "  init.run()\n",
        "  result2 = Z2.eval()\n",
        "  print(result2)\n",
        "  sess.close()\n",
        "  "
      ],
      "execution_count": 23,
      "outputs": [
        {
          "output_type": "stream",
          "text": [
            "12\n"
          ],
          "name": "stdout"
        }
      ]
    },
    {
      "metadata": {
        "id": "2lahSw9_qb2Q",
        "colab_type": "text"
      },
      "cell_type": "markdown",
      "source": [
        "**Оценка в одном прогоне**"
      ]
    },
    {
      "metadata": {
        "id": "xh3JJiAeqj0c",
        "colab_type": "code",
        "colab": {
          "base_uri": "https://localhost:8080/",
          "height": 52
        },
        "outputId": "352775fa-bcce-444e-abf1-7e19925a2186"
      },
      "cell_type": "code",
      "source": [
        "import tensorflow as tf\n",
        "w = tf.constant(3)\n",
        "x = w + 2\n",
        "y = x + 5 \n",
        "z = x * 3\n",
        "\n",
        "init = tf.global_variables_initializer()\n",
        "with tf.Session() as sess:\n",
        "  init.run()\n",
        "  y_val, z_val = sess.run([y,z])\n",
        "  print(y_val)\n",
        "  print(z_val)\n",
        " \n",
        "  sess.close()\n"
      ],
      "execution_count": 35,
      "outputs": [
        {
          "output_type": "stream",
          "text": [
            "10\n",
            "15\n"
          ],
          "name": "stdout"
        }
      ]
    },
    {
      "metadata": {
        "id": "LIyVDmuatllO",
        "colab_type": "code",
        "colab": {}
      },
      "cell_type": "code",
      "source": [
        "\n"
      ],
      "execution_count": 0,
      "outputs": []
    }
  ]
}