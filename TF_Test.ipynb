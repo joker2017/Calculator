{
  "nbformat": 4,
  "nbformat_minor": 0,
  "metadata": {
    "colab": {
      "name": "TensorFlow with GPU",
      "version": "0.3.2",
      "provenance": [],
      "collapsed_sections": [],
      "include_colab_link": true
    },
    "kernelspec": {
      "name": "python3",
      "display_name": "Python 3"
    }
  },
  "cells": [
    {
      "cell_type": "markdown",
      "metadata": {
        "id": "view-in-github",
        "colab_type": "text"
      },
      "source": [
        "<a href=\"https://colab.research.google.com/github/joker2017/Calculator/blob/master/TF_Test.ipynb\" target=\"_parent\"><img src=\"https://colab.research.google.com/assets/colab-badge.svg\" alt=\"Open In Colab\"/></a>"
      ]
    },
    {
      "metadata": {
        "colab_type": "text",
        "id": "QXRh0DPiZRyG"
      },
      "cell_type": "markdown",
      "source": [
        "# Создаем простой граф\n"
      ]
    },
    {
      "metadata": {
        "id": "UdJNPbKAcmwh",
        "colab_type": "code",
        "colab": {}
      },
      "cell_type": "code",
      "source": [
        "import tensorflow as tf\n",
        "\n",
        "x = tf.Variable (3, name=\"x\")\n",
        "y = tf.Variable (4, name=\"y\")\n",
        "f = x*x*y + y + 2\n"
      ],
      "execution_count": 0,
      "outputs": []
    },
    {
      "metadata": {
        "id": "wvJEb-5yeOj1",
        "colab_type": "text"
      },
      "cell_type": "markdown",
      "source": [
        "**Добавляем сессию**"
      ]
    },
    {
      "metadata": {
        "id": "9DlhWUFueWam",
        "colab_type": "code",
        "outputId": "6233cdca-208c-411c-8561-0e6b199823a2",
        "colab": {
          "base_uri": "https://localhost:8080/",
          "height": 34
        }
      },
      "cell_type": "code",
      "source": [
        "sess = tf.Session()\n",
        "sess.run(x.initializer)\n",
        "sess.run(y.initializer)\n",
        "result = sess.run(f)\n",
        "print(result)\n",
        "sess.close()"
      ],
      "execution_count": 2,
      "outputs": [
        {
          "output_type": "stream",
          "text": [
            "42\n"
          ],
          "name": "stdout"
        }
      ]
    },
    {
      "metadata": {
        "id": "0UEr22MTfgQu",
        "colab_type": "text"
      },
      "cell_type": "markdown",
      "source": [
        "**Упращенная сессия (с автозакрытием)**"
      ]
    },
    {
      "metadata": {
        "id": "b-myuowRfmK2",
        "colab_type": "code",
        "outputId": "0c188710-f270-41a1-afc9-febc5fb8f340",
        "colab": {
          "base_uri": "https://localhost:8080/",
          "height": 34
        }
      },
      "cell_type": "code",
      "source": [
        "with tf.Session() as sess:\n",
        "  x.initializer.run()\n",
        "  y.initializer.run()\n",
        "  result = f.eval()\n",
        "  print(result)"
      ],
      "execution_count": 3,
      "outputs": [
        {
          "output_type": "stream",
          "text": [
            "42\n"
          ],
          "name": "stdout"
        }
      ]
    },
    {
      "metadata": {
        "id": "2PjTHZ-KgqPd",
        "colab_type": "text"
      },
      "cell_type": "markdown",
      "source": [
        "**Глобальная инициализация**"
      ]
    },
    {
      "metadata": {
        "id": "Krg9XNAIhHOd",
        "colab_type": "code",
        "outputId": "bce2a29a-7643-4cb2-8d16-95a29755aea0",
        "colab": {
          "base_uri": "https://localhost:8080/",
          "height": 34
        }
      },
      "cell_type": "code",
      "source": [
        "import tensorflow as tf\n",
        "\n",
        "x = tf.Variable(3, \"x\")\n",
        "y = tf.Variable(2, \"y\")\n",
        "z = x*x*y + y + 2\n",
        "\n",
        "init = tf.global_variables_initializer()\n",
        "\n",
        "with tf.Session() as sess:\n",
        "  init.run()\n",
        "  result = f.eval()\n",
        "  print(result)"
      ],
      "execution_count": 4,
      "outputs": [
        {
          "output_type": "stream",
          "text": [
            "42\n"
          ],
          "name": "stdout"
        }
      ]
    },
    {
      "metadata": {
        "id": "Kx6kYxOrmZU2",
        "colab_type": "text"
      },
      "cell_type": "markdown",
      "source": [
        "**Новый отдельный экземпляр графа **"
      ]
    },
    {
      "metadata": {
        "id": "cokyh1Szmgdl",
        "colab_type": "code",
        "outputId": "35d570ff-88e9-4f58-8a33-3b8a811c8e2e",
        "colab": {
          "base_uri": "https://localhost:8080/",
          "height": 34
        }
      },
      "cell_type": "code",
      "source": [
        "graph = tf.Graph()\n",
        "with graph.as_default():\n",
        "  x2 = tf.Variable(2)\n",
        "  y2 = tf.Variable(6)\n",
        "  Z2 = x2*y2\n",
        "  \n",
        "  init = tf.global_variables_initializer()\n",
        "  sess = tf.InteractiveSession()\n",
        "  init.run()\n",
        "  result2 = Z2.eval()\n",
        "  print(result2)\n",
        "  sess.close()\n",
        "  "
      ],
      "execution_count": 5,
      "outputs": [
        {
          "output_type": "stream",
          "text": [
            "12\n"
          ],
          "name": "stdout"
        }
      ]
    },
    {
      "metadata": {
        "id": "2lahSw9_qb2Q",
        "colab_type": "text"
      },
      "cell_type": "markdown",
      "source": [
        "**Оценка в одном прогоне**"
      ]
    },
    {
      "metadata": {
        "id": "xh3JJiAeqj0c",
        "colab_type": "code",
        "outputId": "cdad4822-aa4b-42d1-ef33-8d0f64d180c9",
        "colab": {
          "base_uri": "https://localhost:8080/",
          "height": 52
        }
      },
      "cell_type": "code",
      "source": [
        "import tensorflow as tf\n",
        "w = tf.constant(3)\n",
        "x = w + 2\n",
        "y = x + 5 \n",
        "z = x * 3\n",
        "\n",
        "init = tf.global_variables_initializer()\n",
        "with tf.Session() as sess:\n",
        "  init.run()\n",
        "  y_val, z_val = sess.run([y,z])\n",
        "  print(y_val)\n",
        "  print(z_val)\n",
        " \n",
        "  sess.close()\n"
      ],
      "execution_count": 6,
      "outputs": [
        {
          "output_type": "stream",
          "text": [
            "10\n",
            "15\n"
          ],
          "name": "stdout"
        }
      ]
    },
    {
      "metadata": {
        "id": "CimBu8MdU5w6",
        "colab_type": "text"
      },
      "cell_type": "markdown",
      "source": [
        "**Линейная регресия упрощенная**"
      ]
    },
    {
      "metadata": {
        "id": "LIyVDmuatllO",
        "colab_type": "code",
        "colab": {
          "base_uri": "https://localhost:8080/",
          "height": 175
        },
        "outputId": "e6fe67ff-d3b4-4e9b-c775-672c23f805d0"
      },
      "cell_type": "code",
      "source": [
        "# to make this notebook's output stable across runs\n",
        "def reset_graph(seed=42):\n",
        "    tf.reset_default_graph()\n",
        "    tf.set_random_seed(seed)\n",
        "    np.random.seed(seed)\n",
        "reset_graph()   \n",
        "import numpy as np\n",
        "import tensorflow as tf\n",
        "from sklearn.datasets import fetch_california_housing\n",
        "housing = fetch_california_housing()\n",
        "m, n = housing.data.shape\n",
        "\n",
        "#print(housing.feature_names)\n",
        "#print(housing.DESCR)\n",
        "#print(housing.target.shape)\n",
        "\n",
        "# np.ones создает новый array заполненный 1ми, np.c_ создает новый масив обьединяя 2\n",
        "housing_data_plus_bias = np.c_[np.ones((m,1)), housing.data]\n",
        "\n",
        "X = tf.constant (housing_data_plus_bias, dtype=tf.float32, name=\"X\")\n",
        "y = tf.constant (housing.target.reshape(-1,1), dtype=tf.float32, name=\"y\")\n",
        "\n",
        "XT = tf.transpose(X)\n",
        "theta = tf.matmul (tf.matmul (tf.matrix_inverse(tf.matmul(XT,X)), XT) , y)\n",
        "\n",
        "with tf.Session() as sess:\n",
        "  theta_value = theta.eval ()\n",
        "  print(theta_value)"
      ],
      "execution_count": 3,
      "outputs": [
        {
          "output_type": "stream",
          "text": [
            "[[-3.7112991e+01]\n",
            " [ 4.3611991e-01]\n",
            " [ 9.4082914e-03]\n",
            " [-1.0654381e-01]\n",
            " [ 6.4201808e-01]\n",
            " [-4.0360574e-06]\n",
            " [-3.7822633e-03]\n",
            " [-4.2303962e-01]\n",
            " [-4.3648642e-01]]\n"
          ],
          "name": "stdout"
        }
      ]
    },
    {
      "metadata": {
        "id": "shtCel0-3zHc",
        "colab_type": "text"
      },
      "cell_type": "markdown",
      "source": [
        "**Вычисление градиента в ручную и автоматически**"
      ]
    },
    {
      "metadata": {
        "colab_type": "code",
        "id": "WFM5Gjkxe14r",
        "colab": {}
      },
      "cell_type": "code",
      "source": [
        "\n",
        "\n",
        "\n",
        "\n",
        "import numpy as np\n",
        "import tensorflow as tf\n",
        "from sklearn.datasets import fetch_california_housing\n",
        "housing = fetch_california_housing()\n",
        "\n",
        "m, n = housing.data.shape\n",
        "\n",
        "n_epochs = 100000\n",
        "learning_rate = 0.001\n",
        "\n",
        "# нормализация данных\n",
        "from sklearn.preprocessing import StandardScaler\n",
        "scaler = StandardScaler()\n",
        "scaled_housing_data = scaler.fit_transform(housing.data)\n",
        "\n",
        "# np.c_ сращивание матриц, np.ones создание матрицы заполненой нулями\n",
        "scaled_housing_data_plus_bias = np.c_[np.ones((m, 1)), scaled_housing_data]\n",
        "\n",
        "X = tf.constant(scaled_housing_data_plus_bias, dtype=tf.float32, name=\"X\")\n",
        "y = tf.constant(housing.target.reshape(-1, 1), dtype=tf.float32, name=\"y\")\n",
        "\n",
        "# tf.random_uniform генерировать случайный тензер с заданой формой и диапазоном\n",
        "theta = tf.Variable(tf.random_uniform([n + 1, 1], -1.0, 1.0, seed=42), name=\"theta\") \n",
        "y_pred = tf.matmul(X, theta, name=\"predictions\")\n",
        "error = y_pred - y\n",
        "\n",
        "# tf.reduce_mean вычисляет среднее значение\n",
        "mse = tf.reduce_mean(tf.square(error), name=\"mse\")\n",
        "\n",
        "#gradients = 2/m * tf.matmul(tf.transpose(X), error)\n",
        "gradients = tf.gradients (mse, [theta])[0]\n",
        "\n",
        "# создает узел который будет присваивать переменной новое значение \n",
        "training_op = tf.assign(theta, theta - learning_rate * gradients) \n",
        "init = tf.global_variables_initializer()\n",
        " \n",
        "\n",
        "with tf.Session() as sess:\n",
        "    sess.run(init)\n",
        "\n",
        "    for epoch in range(n_epochs):\n",
        "        if epoch % 100 == 0:\n",
        "           print(\"Epoch\", epoch, \"MSE =\", mse.eval())\n",
        "        sess.run(training_op)\n",
        "    \n",
        "    best_theta = theta.eval()"
      ],
      "execution_count": 0,
      "outputs": []
    },
    {
      "metadata": {
        "id": "fdVU_PkGyn5Z",
        "colab_type": "text"
      },
      "cell_type": "markdown",
      "source": [
        " **Вывод матрицы/тензора **"
      ]
    },
    {
      "metadata": {
        "id": "a3kvoTW_a7FX",
        "colab_type": "code",
        "colab": {}
      },
      "cell_type": "code",
      "source": [
        "import tensorflow as tf\n",
        "g = tf.random_uniform([10 + 1, 1], 0.0, 10.0, seed=42)\n",
        "init_op = tf.initialize_all_variables()\n",
        "\n",
        "with tf.Session() as sess:\n",
        "    sess.run(init_op) \n",
        "    print (sess.run(g))#распечатать тензор\n",
        "    print(g.get_shape) #получить размер массива статич\n",
        "\n",
        "       \n",
        "\n",
        "\n"
      ],
      "execution_count": 0,
      "outputs": []
    },
    {
      "metadata": {
        "id": "E0pOu-9T6e2R",
        "colab_type": "text"
      },
      "cell_type": "markdown",
      "source": [
        "**Использование оптимизатора**"
      ]
    },
    {
      "metadata": {
        "id": "mfQf0tc46oSL",
        "colab_type": "code",
        "colab": {
          "base_uri": "https://localhost:8080/",
          "height": 1777
        },
        "outputId": "ad7d49a4-6014-4bad-892c-521995ebeca8"
      },
      "cell_type": "code",
      "source": [
        "import tensorflow as tf\n",
        "import numpy as np\n",
        "\n",
        "from sklearn.datasets import fetch_california_housing\n",
        "from sklearn.preprocessing import StandardScaler\n",
        "\n",
        "\n",
        "housing = fetch_california_housing()\n",
        "m, n = housing.data.shape\n",
        "\n",
        "learn_rate = 0.01\n",
        "epoch_n = 10000\n",
        "\n",
        "scaler = StandardScaler()\n",
        "scaled_housing_data = scaler.fit_transform(housing.data)\n",
        "\n",
        "scaled_housing_data_plus_bias = np.c_[np.ones((m, 1)), scaled_housing_data]\n",
        "\n",
        "X = tf.constant(scaled_housing_data_plus_bias, dtype=tf.float32, name=\"X\")\n",
        "y = tf.constant(housing.target.reshape(-1, 1), dtype=tf.float32, name=\"y\")\n",
        "\n",
        "theta = tf.Variable(tf.random_uniform([n + 1, 1], -1.0, 1.0, seed=42), name=\"theta\")\n",
        "y_pred = tf.matmul(X, theta, name=\"prediction\")\n",
        "erorr = y_pred - y\n",
        "mse = tf.reduce_mean(tf.square(erorr), name=\"mse\")\n",
        "gradients = 2/m * tf.matmul(tf.transpose(X), erorr, name=\"gradients\")\n",
        "training_op = tf.assign(theta, theta - learning_rate * gradients)\n",
        "\n",
        "init = tf.global_variables_initializer()\n",
        "with tf.Session() as sess:\n",
        "  sess.run(init)\n",
        "  for epoch in range(epoch_n):\n",
        "    if epoch % 100 == 0:\n",
        "      print(epoch, mse.eval())\n",
        "    sess.run(training_op)    \n",
        "\n"
      ],
      "execution_count": 99,
      "outputs": [
        {
          "output_type": "stream",
          "text": [
            "0 9.161543\n",
            "100 6.23172\n",
            "200 4.316965\n",
            "300 3.0578647\n",
            "400 2.226154\n",
            "500 1.6748925\n",
            "600 1.3085481\n",
            "700 1.0645527\n",
            "800 0.90171033\n",
            "900 0.79279894\n",
            "1000 0.7197755\n",
            "1100 0.6706613\n",
            "1200 0.63748974\n",
            "1300 0.61495984\n",
            "1400 0.5995387\n",
            "1500 0.58887166\n",
            "1600 0.58138835\n",
            "1700 0.5760405\n",
            "1800 0.572129\n",
            "1900 0.5691857\n",
            "2000 0.56689906\n",
            "2100 0.5650599\n",
            "2200 0.563528\n",
            "2300 0.56221014\n",
            "2400 0.5610435\n",
            "2500 0.559985\n",
            "2600 0.55900675\n",
            "2700 0.5580897\n",
            "2800 0.55721974\n",
            "2900 0.55638915\n",
            "3000 0.55559045\n",
            "3100 0.55482006\n",
            "3200 0.5540747\n",
            "3300 0.553352\n",
            "3400 0.5526505\n",
            "3500 0.55196875\n",
            "3600 0.55130565\n",
            "3700 0.5506602\n",
            "3800 0.5500321\n",
            "3900 0.5494208\n",
            "4000 0.548825\n",
            "4100 0.548245\n",
            "4200 0.5476799\n",
            "4300 0.5471293\n",
            "4400 0.5465928\n",
            "4500 0.5460701\n",
            "4600 0.5455607\n",
            "4700 0.5450645\n",
            "4800 0.54458064\n",
            "4900 0.54410905\n",
            "5000 0.54364944\n",
            "5100 0.5432013\n",
            "5200 0.54276454\n",
            "5300 0.54233867\n",
            "5400 0.5419232\n",
            "5500 0.5415187\n",
            "5600 0.54112405\n",
            "5700 0.54073924\n",
            "5800 0.5403641\n",
            "5900 0.5399979\n",
            "6000 0.5396406\n",
            "6100 0.5392929\n",
            "6200 0.5389534\n",
            "6300 0.53862184\n",
            "6400 0.53829896\n",
            "6500 0.53798395\n",
            "6600 0.5376766\n",
            "6700 0.5373766\n",
            "6800 0.5370839\n",
            "6900 0.53679854\n",
            "7000 0.53651994\n",
            "7100 0.5362479\n",
            "7200 0.53598285\n",
            "7300 0.5357236\n",
            "7400 0.5354711\n",
            "7500 0.5352245\n",
            "7600 0.53498393\n",
            "7700 0.5347488\n",
            "7800 0.5345195\n",
            "7900 0.5342955\n",
            "8000 0.5340769\n",
            "8100 0.5338636\n",
            "8200 0.5336548\n",
            "8300 0.5334518\n",
            "8400 0.5332529\n",
            "8500 0.533059\n",
            "8600 0.53286964\n",
            "8700 0.5326847\n",
            "8800 0.53250396\n",
            "8900 0.53232783\n",
            "9000 0.5321554\n",
            "9100 0.5319869\n",
            "9200 0.5318225\n",
            "9300 0.53166175\n",
            "9400 0.5315052\n",
            "9500 0.5313516\n",
            "9600 0.53120196\n",
            "9700 0.53105545\n",
            "9800 0.53091246\n",
            "9900 0.530773\n"
          ],
          "name": "stdout"
        }
      ]
    }
  ]
}