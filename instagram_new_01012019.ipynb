{
  "nbformat": 4,
  "nbformat_minor": 0,
  "metadata": {
    "colab": {
      "name": "instagram_new_24012019.ipynb",
      "version": "0.3.2",
      "provenance": [],
      "include_colab_link": true
    },
    "kernelspec": {
      "name": "python3",
      "display_name": "Python 3"
    }
  },
  "cells": [
    {
      "cell_type": "markdown",
      "metadata": {
        "id": "view-in-github",
        "colab_type": "text"
      },
      "source": [
        "<a href=\"https://colab.research.google.com/github/joker2017/Calculator/blob/master/instagram_new_01012019.ipynb\" target=\"_parent\"><img src=\"https://colab.research.google.com/assets/colab-badge.svg\" alt=\"Open In Colab\"/></a>"
      ]
    },
    {
      "metadata": {
        "id": "Rju2Er1T5etz",
        "colab_type": "code",
        "colab": {}
      },
      "cell_type": "code",
      "source": [
        "import hashlib\n",
        "import json\n",
        "import re\n",
        "import requests\n",
        "\n",
        "\n",
        "\n",
        "session = requests.Session()\n",
        "\n",
        "      \n",
        "def update(obj=None, settings={}):\n",
        "        \n",
        "        \n",
        "        query = \"https://www.instagram.com/\"\n",
        "        if not obj is None:\n",
        "            query += base_url + primary_key\n",
        "        \n",
        "        response = session.get(query, **settings)\n",
        "        match = re.search(r\"<script[^>]*>\\s*window._sharedData\\s*=\\s*((?!<script>).*)\\s*;\\s*</script>\", response.text)\n",
        "        data = json.loads(match.group(1))\n",
        "        rhx_gis = data[\"rhx_gis\"]\n",
        "        csrf_token = data[\"config\"][\"csrf_token\"]    \n",
        "        if obj is None:\n",
        "                return None\n",
        "            \n",
        "        data = data[\"entry_data\"]\n",
        "        for key in obj.entry_data_path:\n",
        "          data=data[key]\n",
        "          obj._set_data(data)\n",
        "          return data\n",
        "      \n",
        "      \n",
        "def AgentAccount():\n",
        "        settings={}\n",
        "        primary_key = \"login\"                                       ############ A   \n",
        "        entry_data_path = (\"ProfilePage\", 0, \"graphql\", \"user\")                # C\n",
        "        base_url = \"\"                                                          # C\n",
        "        media_path = (\"user\", \"edge_owner_to_timeline_media\")                  # O\n",
        "        media_query_hash = \"c6809c9c025875ac6f02619eae97a80e\"                  # U\n",
        "        data = {\"username\": andivanov2019, \"password\": Asus2046}            ############ NT\n",
        "        \n",
        "        if \"headers\" in settings:\n",
        "            settings[\"headers\"][\"X-CSRFToken\"] = csrf_token\n",
        "            settings[\"headers\"][\"referer\"] = \"https://www.instagram.com/\"\n",
        "        else:\n",
        "            settings[\"headers\"] = {\"X-CSRFToken\": csrf_token, \"referer\": \"https://www.instagram.com/\"}\n",
        "\n",
        "        response = session.post(\"https://www.instagram.com/accounts/login/ajax/\",data=data, **settings)\n",
        "        response.raise_for_status()   \n",
        "        data = response.json()\n",
        "        return data\n",
        "\n",
        "  \n",
        "  def get_followers(account=None, pointer=None, count=20, settings={}, limit=50):\n",
        "\n",
        "\n",
        "        update(account, settings)\n",
        "        \n",
        "        if pointer is None:\n",
        "            variables_string = '{{\"id\":\"{id}\",\"first\":{first}}}'\n",
        "        else:\n",
        "            variables_string = '{{\"id\":\"{id}\",\"first\":{first},\"after\":\"{after}\"}}'\n",
        "        followers = []\n",
        "\n",
        "        while True:\n",
        "            data = {\"first\": count, \"id\": account}\n",
        "            if not pointer is None:\n",
        "                data[\"after\"] = pointer\n",
        "\n",
        "            response = graphql_request(\n",
        "                query_hash=\"37479f2b8209594dde7facb0d904896a\",\n",
        "                variables=variables_string.format(**data),\n",
        "                settings=settings)\n",
        "\n",
        "\n",
        "            data = response.json()[\"data\"][\"user\"][\"edge_followed_by\"]\n",
        "            edges = data[\"edges\"]\n",
        "            page_info = data[\"page_info\"]\n",
        "            followers_count = data[\"count\"]\n",
        "                \n",
        "            for index in range(min(len(edges), count)):\n",
        "                    node = edges[index][\"node\"]\n",
        "                    a = node[\"username\"]\n",
        "                    id = node[\"id\"]\n",
        "                    profile_pic_url = node[\"profile_pic_url\"]\n",
        "                    is_verified = node[\"is_verified\"]\n",
        "                    full_name = node[\"full_name\"]\n",
        "                    #followers.add(a)\n",
        "                    #followers.append(a)\n",
        "                \n",
        "                if page_info[\"has_next_page\"]:\n",
        "                    pointer = page_info[\"end_cursor\"]\n",
        "                else:\n",
        "                    pointer = None\n",
        "                \n",
        "                if len(edges) < count and page_info[\"has_next_page\"]:\n",
        "                    count = count-len(edges)\n",
        "                    variables_string = '{{\"id\":\"{id}\",\"first\":{first},\"after\":\"{after}\"}}'\n",
        "                else:\n",
        "                    return followers, pointer\n",
        "            \n",
        "\n",
        "            \n",
        "def graphql_request(query_hash, variables, settings={}):\n",
        "\n",
        "        if not \"params\" in settings:\n",
        "            settings[\"params\"] = {\"query_hash\": query_hash}\n",
        "        else:\n",
        "            settings[\"params\"][\"query_hash\"] = query_hash\n",
        "\n",
        "        settings[\"params\"][\"variables\"] = variables\n",
        "        gis = \"%s:%s\" % (rhx_gis, variables)\n",
        "        if not \"headers\" in settings:\n",
        "            settings[\"headers\"] = {\"X-Instagram-GIS\": hashlib.md5(gis.encode(\"utf-8\")).hexdigest()}\n",
        "        else:\n",
        "            settings[\"headers\"][\"X-Instagram-GIS\"] = hashlib.md5(gis.encode(\"utf-8\")).hexdigest()\n",
        "        settings[\"headers\"][\"X-Requested-With\"] = \"XMLHttpRequest\"    \n",
        "        response = session.get(\"https://www.instagram.com/graphql/query/\", **settings)\n",
        "        response.raise_for_status()\n",
        "        return response\n",
        "      \n",
        "\n",
        "\n",
        "\n",
        "           \n",
        "\n"
      ],
      "execution_count": 0,
      "outputs": []
    },
    {
      "metadata": {
        "id": "N3u64ExADF9I",
        "colab_type": "code",
        "outputId": "4496dbb5-48b6-4e8e-c8c6-d5635a4a3613",
        "colab": {
          "base_uri": "https://localhost:8080/",
          "height": 34
        }
      },
      "cell_type": "code",
      "source": [
        "obj=None\n",
        "if not obj is None:\n",
        "  print(\"a\")\n",
        "else: print(\"b\")"
      ],
      "execution_count": 0,
      "outputs": [
        {
          "output_type": "stream",
          "text": [
            "b\n"
          ],
          "name": "stdout"
        }
      ]
    },
    {
      "metadata": {
        "id": "bX4UIThIxuln",
        "colab_type": "code",
        "outputId": "72640cf1-a505-4e5a-a192-7f2561146606",
        "colab": {
          "base_uri": "https://localhost:8080/",
          "height": 72
        }
      },
      "cell_type": "code",
      "source": [
        "import hashlib\n",
        "import json\n",
        "import re\n",
        "import requests\n",
        "\n",
        "\n",
        "\n",
        "session = requests.Session()\n",
        "\n",
        "      \n",
        "def update(obj=None, settings={}):\n",
        "        entry_data_path = (\"ProfilePage\", 0, \"graphql\", \"user\")\n",
        "        primary_key = \"login\"\n",
        "         \n",
        "        base_url = \"\"\n",
        "        query = \"https://www.instagram.com/\"\n",
        "        if not obj is None:\n",
        "            primary_key = obj\n",
        "            query += base_url + primary_key\n",
        "        \n",
        "        response = session.get(query, **settings)\n",
        "        match = re.search(r\"<script[^>]*>\\s*window._sharedData\\s*=\\s*((?!<script>).*)\\s*;\\s*</script>\", response.text)\n",
        "        #print(\"gggggggg\", match)\n",
        "        data = json.loads(match.group(1))\n",
        "        #id = data[\"id\"]\n",
        "        #print(\"id\", id)\n",
        "        rhx_gis = data[\"rhx_gis\"]\n",
        "       \n",
        "        csrf_token = data[\"config\"][\"csrf_token\"] \n",
        "        print(csrf_token)\n",
        "\n",
        "        if obj is None:\n",
        "                return rhx_gis, csrf_token, data\n",
        "            \n",
        "        data = data[\"entry_data\"]\n",
        "        #print(data)\n",
        "        for key in entry_data_path:\n",
        "          data=data[key]\n",
        "          #obj._set_data(data)\n",
        "          #print(\"user\", user)\n",
        "          return rhx_gis, csrf_token, data    #, rhx_gis, csrf_token\n",
        "      \n",
        "      \n",
        "def AgentAccount():\n",
        "        rhx_gis, csrf_token, _ = update()\n",
        "        settings={}\n",
        "        #primary_key = \"login\"                                       ############ A   \n",
        "        #entry_data_path = (\"ProfilePage\", 0, \"graphql\", \"user\")                # C\n",
        "        #base_url = \"\"\n",
        "   \n",
        "        #media_path = (\"user\", \"edge_owner_to_timeline_media\")                  # O\n",
        "       # media_query_hash = \"c6809c9c025875ac6f02619eae97a80e\"                  # U\n",
        "        #data = {\"username\": andivanov2019, \"password\": Asus2046}            ############ NT\n",
        "        data = {'username': 'andivanov2019', 'password': 'Asus2046'}\n",
        "        #print(\"data:\", data)\n",
        "       \n",
        "        if \"headers\" in settings:\n",
        "            settings[\"headers\"][\"X-CSRFToken\"] = csrf_token\n",
        "            settings[\"headers\"][\"referer\"] = \"https://www.instagram.com/\"\n",
        "        else:\n",
        "            settings[\"headers\"] = {\"X-CSRFToken\": csrf_token, \"referer\": \"https://www.instagram.com/\"}\n",
        "        response = session.post(\"https://www.instagram.com/accounts/login/ajax/\",data=data, **settings)\n",
        "        response.raise_for_status()   \n",
        "        data = response.json()\n",
        "        return data\n",
        "\n",
        "print(AgentAccount())"
      ],
      "execution_count": 0,
      "outputs": [
        {
          "output_type": "stream",
          "text": [
            "D4lMu57lmJ73xVEg3frPI726w6I3sLVN\n",
            "{'authenticated': True, 'user': True, 'userId': '10397645874', 'oneTapPrompt': False, 'fr': 'ASAaisGM0OEeqVCZpoYOQO-O5A5PEaylox3Ap8RJM_g9eDNJczK5kpUDbSHeJu1NCh9t1ga1aTDRf97yU9vbaiTQA5LJd4WgYs_pBN5TJeDw1nDLwsOt7ZEzDe1A3N_7B06gnQ', 'reactivated': True, 'status': 'ok'}\n"
          ],
          "name": "stdout"
        }
      ]
    },
    {
      "metadata": {
        "id": "aNhz1WUfHQFR",
        "colab_type": "code",
        "colab": {}
      },
      "cell_type": "code",
      "source": [
        "\n",
        "_, _, data = update(\"valentivitell\")\n",
        "#d = json.loads(data)\n",
        "#media_path = (\"user\", \"edge_owner_to_timeline_media\")\n",
        "#data = data[media_path[-1]]\n",
        "#data = data[\"config\"][\"viewer\"][\"id\"]\n",
        "#data[\"graphql\"][\"user\"][\"edge_owner_to_timeline_media\"][\"edges\"]\n",
        "data\n",
        "#id = data[\"id\"]\n",
        "#data = data[\"graphql\"]"
      ],
      "execution_count": 0,
      "outputs": []
    },
    {
      "metadata": {
        "id": "XhGxK_lZ6Aou",
        "colab_type": "code",
        "colab": {}
      },
      "cell_type": "code",
      "source": [
        "import hashlib\n",
        "import json\n",
        "import re\n",
        "import requests\n",
        "\n",
        "\n",
        "count=36\n",
        "session = requests.Session()\n",
        "\n",
        "      \n",
        "def update(obj=None, pointer=None, idx=None, rhx_gis=None, settings={}):\n",
        "\n",
        "      src_adress = [] \n",
        "      base_url = \"\"\n",
        "      query = \"https://www.instagram.com/\"\n",
        "      if not obj is None:\n",
        "            query += base_url + obj\n",
        "            \n",
        "        \n",
        "      if pointer is None: \n",
        "        print(\"111111111111111\")\n",
        "        response = session.get(query, **settings)\n",
        "        match = re.search(r\"<script[^>]*>\\s*window._sharedData\\s*=\\s*((?!<script>).*)\\s*;\\s*</script>\", response.text)\n",
        "        data = json.loads(match.group(1))\n",
        "        rhx_gis = data[\"rhx_gis\"]\n",
        "        csrf_token = data[\"config\"][\"csrf_token\"]\n",
        "        idx = data[\"entry_data\"][\"ProfilePage\"][0][\"graphql\"][\"user\"][\"id\"]\n",
        "        \n",
        "        print(\"end_cursor\", data['entry_data']['ProfilePage'][0]['graphql']['user']['edge_owner_to_timeline_media']['page_info']['end_cursor'])\n",
        "        print(\"'has_next_page\", data['entry_data']['ProfilePage'][0]['graphql']['user']['edge_owner_to_timeline_media']['page_info']['has_next_page'])\n",
        "        \n",
        "        for number in range(len(data[\"entry_data\"][\"ProfilePage\"][0][\"graphql\"][\"user\"][\"edge_owner_to_timeline_media\"][\"edges\"])):\n",
        "\t          src_adress.append(data[\"entry_data\"][\"ProfilePage\"][0][\"graphql\"][\"user\"][\"edge_owner_to_timeline_media\"][\"edges\"][number][\"node\"][\"thumbnail_resources\"][4][\"src\"])\n",
        "        if data['entry_data']['ProfilePage'][0]['graphql']['user']['edge_owner_to_timeline_media']['page_info']['has_next_page']:                 \n",
        "            pointer = data['entry_data']['ProfilePage'][0]['graphql']['user']['edge_owner_to_timeline_media']['page_info']['end_cursor']\n",
        "        else:\n",
        "            pointer = None\n",
        "\n",
        "        return data, rhx_gis, csrf_token, pointer, src_adress, idx\n",
        "\n",
        "      \n",
        "      else:\n",
        "        variables_string = '{\"id\": {id}, \"first\": {first}, \"after\": {after}}'\n",
        "        print(\"22222222222222\")\n",
        "        data = {\"after\": pointer, \"first\": count}\n",
        "        while True:\n",
        "            data = {\"first\": \"36\", \"id\": idx, \"after\": pointer}\n",
        "            #data[\"first1\"] = count\n",
        "            #data[\"name_value\"] = idx\n",
        "            #data[\"after\"] = pointer\n",
        "            print(\"data\", data)\n",
        "            print(\"variables_string\", variables_string)\n",
        "            print(\"variables\", variables_string.format(**data))\n",
        "            response = graphql_request(\n",
        "                query_hash=\"c6809c9c025875ac6f02619eae97a80e\",\n",
        "                variables=variables_string.format(**data),\n",
        "                settings=settings)\n",
        "\n",
        "            \n",
        "            data = response.json()         #[\"data\"][\"user\"][\"edge_followed_by\"]\n",
        "            return data\n",
        "        \n",
        "      \n",
        "      \n",
        "      \n",
        "'''      \n",
        "def photo(account, count=12, settings={}, limit=50):\n",
        "        _, rhx_gis, _, pointer, _, idx = update(account)\n",
        "\n",
        "        #variables_string = '{{\"fetch_media_item_count\":{first},\"fetch_media_item_cursor\":\"{after}\",\\\n",
        "          #  \"fetch_comment_count\":4,\"fetch_like\":10,\"has_stories\":false}}'\n",
        "        if pointer is None:\n",
        "            variables_string = '{{\"id\":\"{name_value}\",\"first\":{first}}}'\n",
        "        else:\n",
        "            variables_string = '{{\"id\":\"{name_value}\",\"first\":{first},\"after\":\"{after}\"}}'\n",
        "        feed = []\n",
        "\n",
        "        while True:\n",
        "            data = {\"first\": count, \"name_value\": idx}\n",
        "            if not pointer is None:\n",
        "                data[\"after\"] = pointer\n",
        "\n",
        "            response = graphql_request(\n",
        "                query_hash=\"f2405b236d85e8296cf30347c9f08c2a\",\n",
        "                variables=variables_string.format(**data),\n",
        "                settings=settings)\n",
        "\n",
        "            \n",
        "            data = response.json()         #[\"data\"][\"user\"][\"edge_followed_by\"]\n",
        "        return data\n",
        "\n",
        "            edges = data[\"edges\"]\n",
        "            page_info = data[\"page_info\"]\n",
        "            length = len(edges)\n",
        "\n",
        "            \n",
        "            \n",
        "            for index in range(min(length, count)):\n",
        "                    node = edges[index][\"node\"]\n",
        "                    url = node[\"thumbnail_resources\"]        #[\"src\"]\n",
        "                    if not \"shortcode\" in node:\n",
        "                        length -= 1\n",
        "                        continue\n",
        "                    m = node[\"thumbnail_resources\"][0][\"src\"]\n",
        "                    #m._set_data(node)\n",
        "                    feed.append(m)\n",
        "                    #print(\"node\", node)\n",
        "                \n",
        "            if page_info[\"has_next_page\"]:\n",
        "                    \n",
        "                    pointer = page_info[\"end_cursor\"]\n",
        "            else:\n",
        "                    pointer = None\n",
        "                \n",
        "            if length < count and page_info[\"has_next_page\"]:\n",
        "                    count = count-length\n",
        "            else:\n",
        "                    return feed, pointer\n",
        "'''\n",
        "\n",
        "def graphql_request(query_hash, variables, settings={}, rhx_gis=None):\n",
        "\n",
        "        if not \"params\" in settings:\n",
        "            settings[\"params\"] = {\"query_hash\": query_hash}\n",
        "        else:\n",
        "            settings[\"params\"][\"query_hash\"] = query_hash\n",
        "\n",
        "        settings[\"params\"][\"variables\"] = variables\n",
        "        gis = \"%s:%s\" % (rhx_gis, variables)\n",
        "        if not \"headers\" in settings:\n",
        "            settings[\"headers\"] = {\"X-Instagram-GIS\": hashlib.md5(gis.encode(\"utf-8\")).hexdigest()}\n",
        "        else:\n",
        "            settings[\"headers\"][\"X-Instagram-GIS\"] = hashlib.md5(gis.encode(\"utf-8\")).hexdigest()\n",
        "        settings[\"headers\"][\"X-Requested-With\"] = \"XMLHttpRequest\" \n",
        "        print(settings)\n",
        "        response = session.get(\"https://www.instagram.com/graphql/query/\", **settings)\n",
        "        response.raise_for_status()\n",
        "        return response\n",
        "   "
      ],
      "execution_count": 0,
      "outputs": []
    },
    {
      "metadata": {
        "id": "WYjsWBgTZOEF",
        "colab_type": "code",
        "colab": {
          "base_uri": "https://localhost:8080/",
          "height": 239
        },
        "outputId": "3b77536f-6ae3-4a6f-eb71-80cfd6539604"
      },
      "cell_type": "code",
      "source": [
        " variables_string = '{\"id\": {id}, \"first\": \"{first}\", \"after\": \"{after}\"}'\n",
        "\n",
        "data = {\"after\": pointer, \"first\": count}\n",
        "\n",
        "data = {\"first\": \"36\", \"id\": idx, \"after\": pointer}\n",
        "variables = variables_string.format(**data)\n",
        "print(\"data\", data)\n",
        "print(\"variables_string\", variables_string)\n",
        "print(\"variables\", variables)"
      ],
      "execution_count": 63,
      "outputs": [
        {
          "output_type": "error",
          "ename": "KeyError",
          "evalue": "ignored",
          "traceback": [
            "\u001b[0;31m---------------------------------------------------------------------------\u001b[0m",
            "\u001b[0;31mKeyError\u001b[0m                                  Traceback (most recent call last)",
            "\u001b[0;32m<ipython-input-63-8a124c1e1b5c>\u001b[0m in \u001b[0;36m<module>\u001b[0;34m()\u001b[0m\n\u001b[1;32m      4\u001b[0m \u001b[0;34m\u001b[0m\u001b[0m\n\u001b[1;32m      5\u001b[0m \u001b[0mdata\u001b[0m \u001b[0;34m=\u001b[0m \u001b[0;34m{\u001b[0m\u001b[0;34m\"first\"\u001b[0m\u001b[0;34m:\u001b[0m \u001b[0;34m\"36\"\u001b[0m\u001b[0;34m,\u001b[0m \u001b[0;34m\"id\"\u001b[0m\u001b[0;34m:\u001b[0m \u001b[0midx\u001b[0m\u001b[0;34m,\u001b[0m \u001b[0;34m\"after\"\u001b[0m\u001b[0;34m:\u001b[0m \u001b[0mpointer\u001b[0m\u001b[0;34m}\u001b[0m\u001b[0;34m\u001b[0m\u001b[0;34m\u001b[0m\u001b[0m\n\u001b[0;32m----> 6\u001b[0;31m \u001b[0mvariables\u001b[0m \u001b[0;34m=\u001b[0m \u001b[0mvariables_string\u001b[0m\u001b[0;34m.\u001b[0m\u001b[0mformat\u001b[0m\u001b[0;34m(\u001b[0m\u001b[0;34m**\u001b[0m\u001b[0mdata\u001b[0m\u001b[0;34m)\u001b[0m\u001b[0;34m\u001b[0m\u001b[0;34m\u001b[0m\u001b[0m\n\u001b[0m\u001b[1;32m      7\u001b[0m \u001b[0mprint\u001b[0m\u001b[0;34m(\u001b[0m\u001b[0;34m\"data\"\u001b[0m\u001b[0;34m,\u001b[0m \u001b[0mdata\u001b[0m\u001b[0;34m)\u001b[0m\u001b[0;34m\u001b[0m\u001b[0;34m\u001b[0m\u001b[0m\n\u001b[1;32m      8\u001b[0m \u001b[0mprint\u001b[0m\u001b[0;34m(\u001b[0m\u001b[0;34m\"variables_string\"\u001b[0m\u001b[0;34m,\u001b[0m \u001b[0mvariables_string\u001b[0m\u001b[0;34m)\u001b[0m\u001b[0;34m\u001b[0m\u001b[0;34m\u001b[0m\u001b[0m\n",
            "\u001b[0;31mKeyError\u001b[0m: '\"id\"'"
          ]
        }
      ]
    },
    {
      "metadata": {
        "id": "qFea06Q-wQKv",
        "colab_type": "code",
        "outputId": "2b2568b1-dc7c-4d03-9a12-ce7c4c72a520",
        "colab": {
          "base_uri": "https://localhost:8080/",
          "height": 122
        }
      },
      "cell_type": "code",
      "source": [
        "\n",
        "data, rhx_gis, csrf_token, pointer, src_adress, idx = update(\"likekate_\")\n",
        "print(pointer)\n",
        "print(idx)\n",
        "print(rhx_gis)\n"
      ],
      "execution_count": 59,
      "outputs": [
        {
          "output_type": "stream",
          "text": [
            "111111111111111\n",
            "end_cursor QVFCV1YwUlpjeVIxV29vUGRNRFN5RU1EUFRfMklzNExZaTdnSTEtRm9BVEhjRnZ4UUROZUpWbTFsQnNCTVhJd2IyVzFVbjlnME5sWFFGNl9OQm90cXYteA==\n",
            "'has_next_page True\n",
            "QVFCV1YwUlpjeVIxV29vUGRNRFN5RU1EUFRfMklzNExZaTdnSTEtRm9BVEhjRnZ4UUROZUpWbTFsQnNCTVhJd2IyVzFVbjlnME5sWFFGNl9OQm90cXYteA==\n",
            "2120762022\n",
            "fc2e73d4fd7dddcd31d28bea5cb2df59\n"
          ],
          "name": "stdout"
        }
      ]
    },
    {
      "metadata": {
        "id": "420e46JE0dN-",
        "colab_type": "code",
        "outputId": "c9908d4f-0a24-4cef-d841-2e825efa1765",
        "colab": {
          "base_uri": "https://localhost:8080/",
          "height": 400
        }
      },
      "cell_type": "code",
      "source": [
        "\n",
        "data = update(\"likekate_\", idx=\"2120762022\", pointer=\"QVFCemp2NVFKLVVoQ0xlWjg3UkFjTTJUSFo3MndSYjNuNGxlVlIyS1QyZ2NPNC1xME5qNWsyREtuRkNXbnRzSUI4RTVRRjdoS1d6YkdDbUhhbVBwdVFTRA==\", rhx_gis=\"fc2e73d4fd7dddcd31d28bea5cb2df59\")\n",
        "print(data)"
      ],
      "execution_count": 60,
      "outputs": [
        {
          "output_type": "stream",
          "text": [
            "22222222222222\n",
            "data {'first': '36', 'id': '2120762022', 'after': 'QVFCemp2NVFKLVVoQ0xlWjg3UkFjTTJUSFo3MndSYjNuNGxlVlIyS1QyZ2NPNC1xME5qNWsyREtuRkNXbnRzSUI4RTVRRjdoS1d6YkdDbUhhbVBwdVFTRA=='}\n",
            "variables_string {\"id\": {id}, \"first\": {first}, \"after\": {after}}\n"
          ],
          "name": "stdout"
        },
        {
          "output_type": "error",
          "ename": "KeyError",
          "evalue": "ignored",
          "traceback": [
            "\u001b[0;31m---------------------------------------------------------------------------\u001b[0m",
            "\u001b[0;31mKeyError\u001b[0m                                  Traceback (most recent call last)",
            "\u001b[0;32m<ipython-input-60-51d4593b84bd>\u001b[0m in \u001b[0;36m<module>\u001b[0;34m()\u001b[0m\n\u001b[1;32m      1\u001b[0m \u001b[0;34m\u001b[0m\u001b[0m\n\u001b[0;32m----> 2\u001b[0;31m \u001b[0mdata\u001b[0m \u001b[0;34m=\u001b[0m \u001b[0mupdate\u001b[0m\u001b[0;34m(\u001b[0m\u001b[0;34m\"likekate_\"\u001b[0m\u001b[0;34m,\u001b[0m \u001b[0midx\u001b[0m\u001b[0;34m=\u001b[0m\u001b[0;34m\"2120762022\"\u001b[0m\u001b[0;34m,\u001b[0m \u001b[0mpointer\u001b[0m\u001b[0;34m=\u001b[0m\u001b[0;34m\"QVFCemp2NVFKLVVoQ0xlWjg3UkFjTTJUSFo3MndSYjNuNGxlVlIyS1QyZ2NPNC1xME5qNWsyREtuRkNXbnRzSUI4RTVRRjdoS1d6YkdDbUhhbVBwdVFTRA==\"\u001b[0m\u001b[0;34m,\u001b[0m \u001b[0mrhx_gis\u001b[0m\u001b[0;34m=\u001b[0m\u001b[0;34m\"fc2e73d4fd7dddcd31d28bea5cb2df59\"\u001b[0m\u001b[0;34m)\u001b[0m\u001b[0;34m\u001b[0m\u001b[0;34m\u001b[0m\u001b[0m\n\u001b[0m\u001b[1;32m      3\u001b[0m \u001b[0mprint\u001b[0m\u001b[0;34m(\u001b[0m\u001b[0mdata\u001b[0m\u001b[0;34m)\u001b[0m\u001b[0;34m\u001b[0m\u001b[0;34m\u001b[0m\u001b[0m\n",
            "\u001b[0;32m<ipython-input-58-322726681a3d>\u001b[0m in \u001b[0;36mupdate\u001b[0;34m(obj, pointer, idx, rhx_gis, settings)\u001b[0m\n\u001b[1;32m     51\u001b[0m             \u001b[0mprint\u001b[0m\u001b[0;34m(\u001b[0m\u001b[0;34m\"data\"\u001b[0m\u001b[0;34m,\u001b[0m \u001b[0mdata\u001b[0m\u001b[0;34m)\u001b[0m\u001b[0;34m\u001b[0m\u001b[0;34m\u001b[0m\u001b[0m\n\u001b[1;32m     52\u001b[0m             \u001b[0mprint\u001b[0m\u001b[0;34m(\u001b[0m\u001b[0;34m\"variables_string\"\u001b[0m\u001b[0;34m,\u001b[0m \u001b[0mvariables_string\u001b[0m\u001b[0;34m)\u001b[0m\u001b[0;34m\u001b[0m\u001b[0;34m\u001b[0m\u001b[0m\n\u001b[0;32m---> 53\u001b[0;31m             \u001b[0mprint\u001b[0m\u001b[0;34m(\u001b[0m\u001b[0;34m\"variables\"\u001b[0m\u001b[0;34m,\u001b[0m \u001b[0mvariables_string\u001b[0m\u001b[0;34m.\u001b[0m\u001b[0mformat\u001b[0m\u001b[0;34m(\u001b[0m\u001b[0;34m**\u001b[0m\u001b[0mdata\u001b[0m\u001b[0;34m)\u001b[0m\u001b[0;34m)\u001b[0m\u001b[0;34m\u001b[0m\u001b[0;34m\u001b[0m\u001b[0m\n\u001b[0m\u001b[1;32m     54\u001b[0m             response = graphql_request(\n\u001b[1;32m     55\u001b[0m                 \u001b[0mquery_hash\u001b[0m\u001b[0;34m=\u001b[0m\u001b[0;34m\"c6809c9c025875ac6f02619eae97a80e\"\u001b[0m\u001b[0;34m,\u001b[0m\u001b[0;34m\u001b[0m\u001b[0;34m\u001b[0m\u001b[0m\n",
            "\u001b[0;31mKeyError\u001b[0m: '\"id\"'"
          ]
        }
      ]
    },
    {
      "metadata": {
        "id": "IG00VsrqozSo",
        "colab_type": "code",
        "colab": {}
      },
      "cell_type": "code",
      "source": [
        "#short_adress = []\n",
        "# shortcode - code picture\n",
        "#for number in range(len(json_dict['entry_data']['ProfilePage'][0]['graphql']['user']['edge_owner_to_timeline_media']['edges'])):\n",
        "#\tshort_adress.append(json_dict['entry_data']['ProfilePage'][0]['graphql']['user']['edge_owner_to_timeline_media']['edges'][number]['node']['shortcode'])\n",
        "#json_dict['entry_data']['ProfilePage'][0]['graphql']['user']['edge_owner_to_timeline_media']['page_info'][end_cursor]['has_next_page']\n",
        "\n",
        "def photo(account, pointer=None, count=100, settings={}, limit=50):\n",
        "        rhx_gis, _, _ = update(account)\n",
        "\n",
        "        #variables_string = '{{\"fetch_media_item_count\":{first},\"fetch_media_item_cursor\":\"{after}\",\\\n",
        "          #  \"fetch_comment_count\":4,\"fetch_like\":10,\"has_stories\":false}}'\n",
        "        if pointer is None:\n",
        "            variables_string = '{{\"id\":\"{name_value}\",\"first\":{first}}}'\n",
        "        else:\n",
        "            variables_string = '{{\"id\":\"{name_value}\",\"first\":{first},\"after\":\"{after}\"}}'\n",
        "        feed = []\n",
        "\n",
        "        while True:\n",
        "            data = {\"first\": count, \"name_value\": 1090074015}\n",
        "            if not pointer is None:\n",
        "                data[\"after\"] = pointer\n",
        "\n",
        "            response = graphql_request(\n",
        "                query_hash=\"37479f2b8209594dde7facb0d904896a\",\n",
        "                variables=variables_string.format(**data),\n",
        "                settings=settings)\n",
        "\n",
        "            \n",
        "            data = response.json()         #[\"data\"][\"user\"][\"edge_followed_by\"]\n",
        "\n",
        "            edges = data[\"edges\"]\n",
        "            page_info = data[\"page_info\"]\n",
        "            length = len(edges)\n",
        "\n",
        "            \n",
        "            \n",
        "            for index in range(min(length, count)):\n",
        "                    node = edges[index][\"node\"]\n",
        "                    url = node[\"thumbnail_resources\"]        #[\"src\"]\n",
        "                    if not \"shortcode\" in node:\n",
        "                        length -= 1\n",
        "                        continue\n",
        "                    m = node[\"thumbnail_resources\"][0][\"src\"]\n",
        "                    #m._set_data(node)\n",
        "                    feed.append(m)\n",
        "                    #print(\"node\", node)\n",
        "                \n",
        "            if page_info[\"has_next_page\"]:\n",
        "                    \n",
        "                    pointer = page_info[\"end_cursor\"]\n",
        "            else:\n",
        "                    pointer = None\n",
        "                \n",
        "            if length < count and page_info[\"has_next_page\"]:\n",
        "                    count = count-length\n",
        "            else:\n",
        "                    return feed, pointer\n",
        "            \n",
        "def graphql_request(query_hash, variables, settings={}, rhx_gis=None):\n",
        "\n",
        "        if not \"params\" in settings:\n",
        "            settings[\"params\"] = {\"query_hash\": query_hash}\n",
        "        else:\n",
        "            settings[\"params\"][\"query_hash\"] = query_hash\n",
        "\n",
        "        settings[\"params\"][\"variables\"] = variables\n",
        "        gis = \"%s:%s\" % (rhx_gis, variables)\n",
        "        if not \"headers\" in settings:\n",
        "            settings[\"headers\"] = {\"X-Instagram-GIS\": hashlib.md5(gis.encode(\"utf-8\")).hexdigest()}\n",
        "        else:\n",
        "            settings[\"headers\"][\"X-Instagram-GIS\"] = hashlib.md5(gis.encode(\"utf-8\")).hexdigest()\n",
        "        settings[\"headers\"][\"X-Requested-With\"] = \"XMLHttpRequest\" \n",
        "        print(settings)\n",
        "        response = session.get(\"https://www.instagram.com/graphql/query/\", **settings)\n",
        "        response.raise_for_status()\n",
        "        return response"
      ],
      "execution_count": 0,
      "outputs": []
    },
    {
      "metadata": {
        "id": "K_X1QD7w0wRS",
        "colab_type": "code",
        "outputId": "06b52a4d-3b24-43e4-a6ff-7dfc16bbe6ac",
        "colab": {
          "base_uri": "https://localhost:8080/",
          "height": 453
        }
      },
      "cell_type": "code",
      "source": [
        "ai = []\n",
        "a, b = photo(\"valentivitell\")\n",
        "ai.extend(a)\n",
        "print(len(a))\n",
        "\n",
        "for i in range(100):\n",
        "  a, b = photo(\"valentivitell\", pointer=b)\n",
        "  ai.extend(a)\n",
        "  print(ai)"
      ],
      "execution_count": 0,
      "outputs": [
        {
          "output_type": "stream",
          "text": [
            "FgP01YZtfT5VCVtNpi8ZAUfrFkkmSvoa\n",
            "{'params': {'query_hash': '37479f2b8209594dde7facb0d904896a', 'variables': '{\"id\":\"1090074015\",\"first\":100}'}, 'headers': {'X-Instagram-GIS': '0fff0206712eea1efbdfecb0ea215a9b', 'X-Requested-With': 'XMLHttpRequest'}}\n",
            "\n",
            "{'data': {'user': {'edge_followed_by': {'count': 1675784, 'page_info': {'has_next_page': True, 'end_cursor': 'QVFCcU1fVTRTbmh4akNzMlluQkFsOEpKMzR6Yi1HdndFMGpFYjlnMTdqM3VIeTQzM1lIbFJOMUp4MHdyRTZCOHZ6UWlwX1l5bmVFQWhkRmlRa29rMVVCcQ=='}, 'edges': [{'node': {'id': '5663021408', 'username': 'andyraj76', 'full_name': 'Ayudh', 'profile_pic_url': 'https://scontent-sea1-1.cdninstagram.com/vp/d9801fa4fc78e07b9210aaaed6acf16e/5CEECDEB/t51.2885-19/s150x150/40752671_299175030672429_394309711811313664_n.jpg?_nc_ht=scontent-sea1-1.cdninstagram.com', 'is_verified': False, 'followed_by_viewer': False, 'requested_by_viewer': False}}, {'node': {'id': '10591383194', 'username': 'somaya1111akter', 'full_name': 'md maruf hasan', 'profile_pic_url': 'https://scontent-sea1-1.cdninstagram.com/vp/18f217c4414d618a8480d99153810dca/5CF201F5/t51.2885-19/s150x150/50636920_205039730371002_8470509440037027840_n.jpg?_nc_ht=scontent-sea1-1.cdninstagram.com', 'is_verified': False, 'followed_by_viewer': False, 'requested_by_viewer': False}}, {'node': {'id': '3578985580', 'username': 'knowl3dge_fx_trading', 'full_name': 'ERIC MANZINI 😒🖕🏼', 'profile_pic_url': 'https://scontent-sea1-1.cdninstagram.com/vp/fe1b3fca38076bbcc4c37a0d030b219c/5CC6734A/t51.2885-19/s150x150/45634498_2182942905278479_7434956468073267200_n.jpg?_nc_ht=scontent-sea1-1.cdninstagram.com', 'is_verified': False, 'followed_by_viewer': False, 'requested_by_viewer': False}}, {'node': {'id': '7710066755', 'username': 'talisonolliveira', 'full_name': 'Tálison Olliveira', 'profile_pic_url': 'https://scontent-sea1-1.cdninstagram.com/vp/1b86200a502321c30328556210e37b33/5CE5C40A/t51.2885-19/s150x150/41656315_292118738274638_9125791505171087360_n.jpg?_nc_ht=scontent-sea1-1.cdninstagram.com', 'is_verified': False, 'followed_by_viewer': False, 'requested_by_viewer': False}}, {'node': {'id': '9951605426', 'username': 'temptationloveshop', 'full_name': 'Temptation Love', 'profile_pic_url': 'https://scontent-sea1-1.cdninstagram.com/vp/1a491cd43134fc49b41cd076fa3cbb9e/5CC60BF3/t51.2885-19/s150x150/47448282_2104605693183802_663964813969326080_n.jpg?_nc_ht=scontent-sea1-1.cdninstagram.com', 'is_verified': False, 'followed_by_viewer': False, 'requested_by_viewer': False}}, {'node': {'id': '9266487771', 'username': 'fhdhsnshnyn', 'full_name': 'فهد حسن شنين', 'profile_pic_url': 'https://scontent-sea1-1.cdninstagram.com/vp/05e685f6236fb22d4d59479e4dd074b9/5CEE7891/t51.2885-19/s150x150/46169222_208816789994064_5033704106158456832_n.jpg?_nc_ht=scontent-sea1-1.cdninstagram.com', 'is_verified': False, 'followed_by_viewer': False, 'requested_by_viewer': False}}, {'node': {'id': '8434652550', 'username': 'jasonjohnsham1974', 'full_name': 'Shamotions CC', 'profile_pic_url': 'https://scontent-sea1-1.cdninstagram.com/vp/f8a303a3a5dc35c25758718a702bafcb/5CE71348/t51.2885-19/s150x150/39287177_290440344873496_1605218300025896960_n.jpg?_nc_ht=scontent-sea1-1.cdninstagram.com', 'is_verified': False, 'followed_by_viewer': False, 'requested_by_viewer': False}}, {'node': {'id': '5348669382', 'username': 'serseri35___', 'full_name': 'serseri35', 'profile_pic_url': 'https://scontent-sea1-1.cdninstagram.com/vp/52445f2002794f8bdd409948bf103a13/5CF5E623/t51.2885-19/s150x150/40379276_247051039334763_3196318617348079616_n.jpg?_nc_ht=scontent-sea1-1.cdninstagram.com', 'is_verified': False, 'followed_by_viewer': False, 'requested_by_viewer': False}}, {'node': {'id': '3901632481', 'username': 'buldunk', 'full_name': 'buldunk', 'profile_pic_url': 'https://scontent-sea1-1.cdninstagram.com/vp/0ca6c60f05e497ed6c7dc0fcd8f188a4/5CE7044B/t51.2885-19/s150x150/29715321_591481464560844_4808511424571637760_n.jpg?_nc_ht=scontent-sea1-1.cdninstagram.com', 'is_verified': False, 'followed_by_viewer': False, 'requested_by_viewer': False}}, {'node': {'id': '10628110559', 'username': 'marciarodrigues3556', 'full_name': 'marcia Rodrigues', 'profile_pic_url': 'https://scontent-sea1-1.cdninstagram.com/vp/7350398bd4f522bf5073cc84c99483fc/5CEEFA28/t51.2885-19/s150x150/50127036_2214656672187369_1751160202117251072_n.jpg?_nc_ht=scontent-sea1-1.cdninstagram.com', 'is_verified': False, 'followed_by_viewer': False, 'requested_by_viewer': False}}, {'node': {'id': '3142982191', 'username': 'willarse_15', 'full_name': 'Leo Asencios', 'profile_pic_url': 'https://scontent-sea1-1.cdninstagram.com/vp/2859e536d0f687dc70cdec07f1b8d655/5CF20B00/t51.2885-19/s150x150/49858190_582183082194161_2136060499576487936_n.jpg?_nc_ht=scontent-sea1-1.cdninstagram.com', 'is_verified': False, 'followed_by_viewer': False, 'requested_by_viewer': False}}, {'node': {'id': '10638012381', 'username': 'laurent_pty', 'full_name': 'Laurent_pty', 'profile_pic_url': 'https://scontent-sea1-1.cdninstagram.com/vp/2ab2408b532331f229227d04f51c2ad1/5CEF0F41/t51.2885-19/s150x150/49913246_575588339571313_6631218231287742464_n.jpg?_nc_ht=scontent-sea1-1.cdninstagram.com', 'is_verified': False, 'followed_by_viewer': False, 'requested_by_viewer': False}}, {'node': {'id': '2235718632', 'username': 'pzikopath', 'full_name': 'Psychopath', 'profile_pic_url': 'https://scontent-sea1-1.cdninstagram.com/vp/368bb15620cda6128ebdd536b0feef7c/5CF35D6D/t51.2885-19/s150x150/37750137_1779704248793372_3576732950315663360_n.jpg?_nc_ht=scontent-sea1-1.cdninstagram.com', 'is_verified': False, 'followed_by_viewer': False, 'requested_by_viewer': False}}, {'node': {'id': '7637162097', 'username': 'hoeflich_man', 'full_name': 'Höflich-Man', 'profile_pic_url': 'https://scontent-sea1-1.cdninstagram.com/vp/281ba60ba5edff15f2d97c09e214cb25/5D0006C5/t51.2885-19/s150x150/40119474_309134343226812_4385096888353816576_n.jpg?_nc_ht=scontent-sea1-1.cdninstagram.com', 'is_verified': False, 'followed_by_viewer': False, 'requested_by_viewer': False}}, {'node': {'id': '3966056026', 'username': 'dannykru_', 'full_name': 'Danny', 'profile_pic_url': 'https://scontent-sea1-1.cdninstagram.com/vp/7e75f3b3e032be93728e580aaea4e676/5CEABEC0/t51.2885-19/s150x150/28157064_757503944444259_5012429084441968640_n.jpg?_nc_ht=scontent-sea1-1.cdninstagram.com', 'is_verified': False, 'followed_by_viewer': False, 'requested_by_viewer': False}}, {'node': {'id': '6322660753', 'username': 'lexromar', 'full_name': 'Lex  Romar', 'profile_pic_url': 'https://scontent-sea1-1.cdninstagram.com/vp/9c6a3597ab4d5e0701e0b29a48d235f3/5CE30245/t51.2885-19/s150x150/49858625_1134589296714556_5038434772116832256_n.jpg?_nc_ht=scontent-sea1-1.cdninstagram.com', 'is_verified': False, 'followed_by_viewer': False, 'requested_by_viewer': False}}, {'node': {'id': '262493643', 'username': 'mrjuan24', 'full_name': 'Juan Antonio', 'profile_pic_url': 'https://scontent-sea1-1.cdninstagram.com/vp/8f207e9141c7188434686078363fd564/5CF0ECC3/t51.2885-19/s150x150/35461503_1075426945955514_7677250648575836160_n.jpg?_nc_ht=scontent-sea1-1.cdninstagram.com', 'is_verified': False, 'followed_by_viewer': False, 'requested_by_viewer': False}}, {'node': {'id': '1668594779', 'username': 'osadchev_00', 'full_name': 'Евгений', 'profile_pic_url': 'https://scontent-sea1-1.cdninstagram.com/vp/f5ebbcd1ee974a16b7ab95a12f326ecd/5CE1CD99/t51.2885-19/s150x150/45383869_2433322250017513_473264984671911936_n.jpg?_nc_ht=scontent-sea1-1.cdninstagram.com', 'is_verified': False, 'followed_by_viewer': False, 'requested_by_viewer': False}}, {'node': {'id': '1398148604', 'username': 'kennylfc345', 'full_name': 'Kenneth Byrne', 'profile_pic_url': 'https://scontent-sea1-1.cdninstagram.com/vp/aa053d6e8e7df81b1119687a2b99ff5f/5CE08348/t51.2885-19/s150x150/40626517_2175891602734468_201302295370006528_n.jpg?_nc_ht=scontent-sea1-1.cdninstagram.com', 'is_verified': False, 'followed_by_viewer': False, 'requested_by_viewer': False}}, {'node': {'id': '8591325596', 'username': 'i_conny', 'full_name': 'Kornelia Getler', 'profile_pic_url': 'https://scontent-dus1-1.cdninstagram.com/vp/986a9baa0027523d64af7497aec4d35b/5CDDD9F1/t51.2885-19/44884218_345707102882519_2446069589734326272_n.jpg?_nc_ht=scontent-dus1-1.cdninstagram.com', 'is_verified': False, 'followed_by_viewer': False, 'requested_by_viewer': False}}, {'node': {'id': '1335963755', 'username': 'michailidischris', 'full_name': '', 'profile_pic_url': 'https://scontent-sea1-1.cdninstagram.com/vp/cfa0fbfdb4fa6b82b493f31dcff4f514/5D009913/t51.2885-19/10616817_1454112501531318_186173169_a.jpg?_nc_ht=scontent-sea1-1.cdninstagram.com', 'is_verified': False, 'followed_by_viewer': False, 'requested_by_viewer': False}}, {'node': {'id': '7809965584', 'username': 'morrisk1721', 'full_name': 'Morrisk1721', 'profile_pic_url': 'https://scontent-sea1-1.cdninstagram.com/vp/6a6b728c8af08087d288ef4db3114c13/5CEC3DAB/t51.2885-19/s150x150/47155905_2181854621845756_2560204033478361088_n.jpg?_nc_ht=scontent-sea1-1.cdninstagram.com', 'is_verified': False, 'followed_by_viewer': False, 'requested_by_viewer': False}}, {'node': {'id': '243847247', 'username': 'marco75pm', 'full_name': 'Marco Imperato', 'profile_pic_url': 'https://scontent-sea1-1.cdninstagram.com/vp/34a0db0098038bc2e44cbdbdbab35975/5CE51276/t51.2885-19/s150x150/43913584_314740665988443_2131099966968430592_n.jpg?_nc_ht=scontent-sea1-1.cdninstagram.com', 'is_verified': False, 'followed_by_viewer': False, 'requested_by_viewer': False}}, {'node': {'id': '9163171177', 'username': 'yuvayaparerdal', 'full_name': 'Erdal Yuvayapar', 'profile_pic_url': 'https://scontent-sea1-1.cdninstagram.com/vp/55cec1bfa391ea1437e066af915f1638/5CFD78F1/t51.2885-19/s150x150/43913424_306994683235396_4386313742783086592_n.jpg?_nc_ht=scontent-sea1-1.cdninstagram.com', 'is_verified': False, 'followed_by_viewer': False, 'requested_by_viewer': False}}, {'node': {'id': '2800795167', 'username': 'kierznowski.w', 'full_name': 'Wojciech Kierznowski', 'profile_pic_url': 'https://scontent-sea1-1.cdninstagram.com/vp/86a9d812c75d584dbb5a5f9235b43a07/5CE90055/t51.2885-19/s150x150/41780550_718246035206884_4723514880777256960_n.jpg?_nc_ht=scontent-sea1-1.cdninstagram.com', 'is_verified': False, 'followed_by_viewer': False, 'requested_by_viewer': False}}, {'node': {'id': '6793722455', 'username': 'of.the.record', 'full_name': 'Göksel Güç🦎', 'profile_pic_url': 'https://scontent-dus1-1.cdninstagram.com/vp/986a9baa0027523d64af7497aec4d35b/5CDDD9F1/t51.2885-19/44884218_345707102882519_2446069589734326272_n.jpg?_nc_ht=scontent-dus1-1.cdninstagram.com', 'is_verified': False, 'followed_by_viewer': False, 'requested_by_viewer': False}}, {'node': {'id': '9519382301', 'username': 'waild974', 'full_name': 'وليد العقيد', 'profile_pic_url': 'https://scontent-sea1-1.cdninstagram.com/vp/4146de6dbdcd46cf2e4b1d09240af700/5CE77539/t51.2885-19/s150x150/47363992_574520609641013_6410168964780916736_n.jpg?_nc_ht=scontent-sea1-1.cdninstagram.com', 'is_verified': False, 'followed_by_viewer': False, 'requested_by_viewer': False}}, {'node': {'id': '10028183094', 'username': 'kikiprogutierrez', 'full_name': 'Kikipro Gutierrez', 'profile_pic_url': 'https://scontent-sea1-1.cdninstagram.com/vp/12697c0957625a6acea5e00e4630f255/5CE58BF9/t51.2885-19/s150x150/47689723_361515201066687_9140143585067270144_n.jpg?_nc_ht=scontent-sea1-1.cdninstagram.com', 'is_verified': False, 'followed_by_viewer': False, 'requested_by_viewer': False}}, {'node': {'id': '4235293424', 'username': 'iamvdm', 'full_name': '🅥🅐🅓🅘🅜', 'profile_pic_url': 'https://scontent-sea1-1.cdninstagram.com/vp/9517dce8d298e141f6096b05692a3c81/5CF78377/t51.2885-19/s150x150/50327457_1441827619281481_2309977323257987072_n.jpg?_nc_ht=scontent-sea1-1.cdninstagram.com', 'is_verified': False, 'followed_by_viewer': False, 'requested_by_viewer': False}}, {'node': {'id': '3974162363', 'username': 'perro_124', 'full_name': 'mujeres al 100', 'profile_pic_url': 'https://scontent-sea1-1.cdninstagram.com/vp/b53c4a9e4546ebadfd90de01bc1410fa/5CFE04F9/t51.2885-19/s150x150/45611702_914763618723318_6677014020161011712_n.jpg?_nc_ht=scontent-sea1-1.cdninstagram.com', 'is_verified': False, 'followed_by_viewer': False, 'requested_by_viewer': False}}, {'node': {'id': '4610381514', 'username': 'djony__007', 'full_name': 'Evgeny Temchuk', 'profile_pic_url': 'https://scontent-sea1-1.cdninstagram.com/vp/34cc8c39b0cb24dc79ef9f57f35403a1/5CE6A4E5/t51.2885-19/s150x150/44718710_262239967809235_5056286533099716608_n.jpg?_nc_ht=scontent-sea1-1.cdninstagram.com', 'is_verified': False, 'followed_by_viewer': False, 'requested_by_viewer': False}}, {'node': {'id': '10464601794', 'username': 'bff.1373', 'full_name': 'lajbazam', 'profile_pic_url': 'https://scontent-sea1-1.cdninstagram.com/vp/3431d7511bbac5521ddd378e18c1a931/5CE6D6F6/t51.2885-19/s150x150/49527173_1765510283554340_1827351921220911104_n.jpg?_nc_ht=scontent-sea1-1.cdninstagram.com', 'is_verified': False, 'followed_by_viewer': False, 'requested_by_viewer': False}}, {'node': {'id': '10138411595', 'username': 'mdht_g', 'full_name': 'مدحت غانيم', 'profile_pic_url': 'https://scontent-sea1-1.cdninstagram.com/vp/e08b9bb6458b78064280e9baa80be2aa/5CE0AF1F/t51.2885-19/s150x150/47583911_554631328349649_7129154830957805568_n.jpg?_nc_ht=scontent-sea1-1.cdninstagram.com', 'is_verified': False, 'followed_by_viewer': False, 'requested_by_viewer': False}}, {'node': {'id': '261079801', 'username': 'tonyperrot_official', 'full_name': 'Tony Perrot. 🎥 🎹 🎼', 'profile_pic_url': 'https://scontent-sea1-1.cdninstagram.com/vp/28e13002c5165bb8430e4c05f88a68ae/5CE26E8B/t51.2885-19/s150x150/49858431_996052563920571_8367035148071337984_n.jpg?_nc_ht=scontent-sea1-1.cdninstagram.com', 'is_verified': False, 'followed_by_viewer': False, 'requested_by_viewer': False}}, {'node': {'id': '5482996237', 'username': 'stefan_possegger', 'full_name': 'Stefan Possegger', 'profile_pic_url': 'https://scontent-sea1-1.cdninstagram.com/vp/125b502ed32f32c0f89823714653f64b/5CE5A95A/t51.2885-19/s150x150/51014232_762802900761272_4019190070148857856_n.jpg?_nc_ht=scontent-sea1-1.cdninstagram.com', 'is_verified': False, 'followed_by_viewer': False, 'requested_by_viewer': False}}, {'node': {'id': '8933580194', 'username': 'al.exandr651', 'full_name': 'Alexandr', 'profile_pic_url': 'https://scontent-sea1-1.cdninstagram.com/vp/b4d21f76ac12db432c8e7575da13ff01/5CFA5171/t51.2885-19/s150x150/40178813_264624674175547_5470805268629553152_n.jpg?_nc_ht=scontent-sea1-1.cdninstagram.com', 'is_verified': False, 'followed_by_viewer': False, 'requested_by_viewer': False}}, {'node': {'id': '2319101144', 'username': 'the_casual_maverick', 'full_name': 'Saptarshi Bhattacharya', 'profile_pic_url': 'https://scontent-sea1-1.cdninstagram.com/vp/252a26ab01fe493cf7476bb142a2665b/5CFA3E29/t51.2885-19/s150x150/17126441_1336654083087244_2893781829687443456_a.jpg?_nc_ht=scontent-sea1-1.cdninstagram.com', 'is_verified': False, 'followed_by_viewer': False, 'requested_by_viewer': False}}, {'node': {'id': '10479343898', 'username': 'tfxojgzuj', 'full_name': 'tfxojgzuj', 'profile_pic_url': 'https://scontent-dus1-1.cdninstagram.com/vp/986a9baa0027523d64af7497aec4d35b/5CDDD9F1/t51.2885-19/44884218_345707102882519_2446069589734326272_n.jpg?_nc_ht=scontent-dus1-1.cdninstagram.com', 'is_verified': False, 'followed_by_viewer': False, 'requested_by_viewer': False}}, {'node': {'id': '1537079761', 'username': 'thomas.watson.16', 'full_name': 'Thomas J Watson', 'profile_pic_url': 'https://scontent-sea1-1.cdninstagram.com/vp/8cf8d0d63415895f3a9f6abaae6cb348/5CF465B7/t51.2885-19/10725144_344640595713304_2115138205_a.jpg?_nc_ht=scontent-sea1-1.cdninstagram.com', 'is_verified': False, 'followed_by_viewer': False, 'requested_by_viewer': False}}, {'node': {'id': '1982699574', 'username': '_gusttavo18', 'full_name': 'Luiz Gusttavo', 'profile_pic_url': 'https://scontent-sea1-1.cdninstagram.com/vp/46eba1d44044422a7c692a204fbd6de8/5CFC8297/t51.2885-19/s150x150/50741441_365089140737050_3841794035194789888_n.jpg?_nc_ht=scontent-sea1-1.cdninstagram.com', 'is_verified': False, 'followed_by_viewer': False, 'requested_by_viewer': False}}, {'node': {'id': '10476822154', 'username': 'alexander.boat', 'full_name': 'Alexander  Boat', 'profile_pic_url': 'https://scontent-sea1-1.cdninstagram.com/vp/7939c33e2c9b67e8779d996e02cc4d2f/5CFE76FC/t51.2885-19/s150x150/50192632_2223530591235067_2922799466257842176_n.jpg?_nc_ht=scontent-sea1-1.cdninstagram.com', 'is_verified': False, 'followed_by_viewer': False, 'requested_by_viewer': False}}, {'node': {'id': '10631605987', 'username': 'tushardhuri19', 'full_name': 'Tushar Dhuri', 'profile_pic_url': 'https://scontent-sea1-1.cdninstagram.com/vp/e33800e9ebfaacf2c44f6641d80850c0/5CF9449E/t51.2885-19/s150x150/50499610_1877354502393531_8339717717254733824_n.jpg?_nc_ht=scontent-sea1-1.cdninstagram.com', 'is_verified': False, 'followed_by_viewer': False, 'requested_by_viewer': False}}, {'node': {'id': '180619191', 'username': 't.alen.t', 'full_name': 'Alen T', 'profile_pic_url': 'https://scontent-sea1-1.cdninstagram.com/vp/7ea541d6920d83a8a027a3fe332a1801/5CE98DE9/t51.2885-19/s150x150/44392022_825003771172528_1170338322841600000_n.jpg?_nc_ht=scontent-sea1-1.cdninstagram.com', 'is_verified': False, 'followed_by_viewer': False, 'requested_by_viewer': False}}, {'node': {'id': '10594394536', 'username': 'itzp4t_r3d', 'full_name': 'ItzP4t_R3d', 'profile_pic_url': 'https://scontent-dus1-1.cdninstagram.com/vp/986a9baa0027523d64af7497aec4d35b/5CDDD9F1/t51.2885-19/44884218_345707102882519_2446069589734326272_n.jpg?_nc_ht=scontent-dus1-1.cdninstagram.com', 'is_verified': False, 'followed_by_viewer': False, 'requested_by_viewer': False}}, {'node': {'id': '5757713413', 'username': 'day_nazazil', 'full_name': '🔯NAZAR NURDIN NST (TRIPLE N)🔯', 'profile_pic_url': 'https://scontent-sea1-1.cdninstagram.com/vp/a3d0db9a14d5c875c90266850596aee3/5D01365F/t51.2885-19/s150x150/43915392_308445629971989_5165643079130021888_n.jpg?_nc_ht=scontent-sea1-1.cdninstagram.com', 'is_verified': False, 'followed_by_viewer': False, 'requested_by_viewer': False}}, {'node': {'id': '9739834697', 'username': 'chatday99', 'full_name': 'chatday99', 'profile_pic_url': 'https://scontent-dus1-1.cdninstagram.com/vp/986a9baa0027523d64af7497aec4d35b/5CDDD9F1/t51.2885-19/44884218_345707102882519_2446069589734326272_n.jpg?_nc_ht=scontent-dus1-1.cdninstagram.com', 'is_verified': False, 'followed_by_viewer': False, 'requested_by_viewer': False}}, {'node': {'id': '5390482633', 'username': 'bj434647', 'full_name': 'bj434647', 'profile_pic_url': 'https://scontent-sea1-1.cdninstagram.com/vp/424834dc7558d4bb1c341c35ae3f7efd/5CF24BA1/t51.2885-19/s150x150/18251462_1458105637574071_5096710271368429568_a.jpg?_nc_ht=scontent-sea1-1.cdninstagram.com', 'is_verified': False, 'followed_by_viewer': False, 'requested_by_viewer': False}}, {'node': {'id': '10509353825', 'username': 'pizzakeebab', 'full_name': 'francesco', 'profile_pic_url': 'https://scontent-dus1-1.cdninstagram.com/vp/986a9baa0027523d64af7497aec4d35b/5CDDD9F1/t51.2885-19/44884218_345707102882519_2446069589734326272_n.jpg?_nc_ht=scontent-dus1-1.cdninstagram.com', 'is_verified': False, 'followed_by_viewer': False, 'requested_by_viewer': False}}, {'node': {'id': '9768239139', 'username': 'sakkrr5e4', 'full_name': 'a', 'profile_pic_url': 'https://scontent-dus1-1.cdninstagram.com/vp/986a9baa0027523d64af7497aec4d35b/5CDDD9F1/t51.2885-19/44884218_345707102882519_2446069589734326272_n.jpg?_nc_ht=scontent-dus1-1.cdninstagram.com', 'is_verified': False, 'followed_by_viewer': False, 'requested_by_viewer': False}}, {'node': {'id': '612626642', 'username': 'a.r.i.s.a.h.l.b.b', 'full_name': 'アリ💭ᎯᏒᎥઽᎯ💭', 'profile_pic_url': 'https://scontent-sea1-1.cdninstagram.com/vp/5d142beb0404d6cb3cc14e7033823dcd/5CF93BFD/t51.2885-19/s150x150/47693627_793331827681658_8576645864401928192_n.jpg?_nc_ht=scontent-sea1-1.cdninstagram.com', 'is_verified': False, 'followed_by_viewer': False, 'requested_by_viewer': False}}]}}}, 'status': 'ok'}\n"
          ],
          "name": "stdout"
        },
        {
          "output_type": "error",
          "ename": "KeyError",
          "evalue": "ignored",
          "traceback": [
            "\u001b[0;31m---------------------------------------------------------------------------\u001b[0m",
            "\u001b[0;31mKeyError\u001b[0m                                  Traceback (most recent call last)",
            "\u001b[0;32m<ipython-input-75-7558ee025fd1>\u001b[0m in \u001b[0;36m<module>\u001b[0;34m()\u001b[0m\n\u001b[1;32m      1\u001b[0m \u001b[0mai\u001b[0m \u001b[0;34m=\u001b[0m \u001b[0;34m[\u001b[0m\u001b[0;34m]\u001b[0m\u001b[0;34m\u001b[0m\u001b[0;34m\u001b[0m\u001b[0m\n\u001b[0;32m----> 2\u001b[0;31m \u001b[0ma\u001b[0m\u001b[0;34m,\u001b[0m \u001b[0mb\u001b[0m \u001b[0;34m=\u001b[0m \u001b[0mphoto\u001b[0m\u001b[0;34m(\u001b[0m\u001b[0;34m\"valentivitell\"\u001b[0m\u001b[0;34m)\u001b[0m\u001b[0;34m\u001b[0m\u001b[0;34m\u001b[0m\u001b[0m\n\u001b[0m\u001b[1;32m      3\u001b[0m \u001b[0mai\u001b[0m\u001b[0;34m.\u001b[0m\u001b[0mextend\u001b[0m\u001b[0;34m(\u001b[0m\u001b[0ma\u001b[0m\u001b[0;34m)\u001b[0m\u001b[0;34m\u001b[0m\u001b[0;34m\u001b[0m\u001b[0m\n\u001b[1;32m      4\u001b[0m \u001b[0mprint\u001b[0m\u001b[0;34m(\u001b[0m\u001b[0mlen\u001b[0m\u001b[0;34m(\u001b[0m\u001b[0ma\u001b[0m\u001b[0;34m)\u001b[0m\u001b[0;34m)\u001b[0m\u001b[0;34m\u001b[0m\u001b[0;34m\u001b[0m\u001b[0m\n\u001b[1;32m      5\u001b[0m \u001b[0;34m\u001b[0m\u001b[0m\n",
            "\u001b[0;32m<ipython-input-74-a3b7d7eeb996>\u001b[0m in \u001b[0;36mphoto\u001b[0;34m(account, pointer, count, settings, limit)\u001b[0m\n\u001b[1;32m     24\u001b[0m             \u001b[0mdata\u001b[0m \u001b[0;34m=\u001b[0m \u001b[0mresponse\u001b[0m\u001b[0;34m.\u001b[0m\u001b[0mjson\u001b[0m\u001b[0;34m(\u001b[0m\u001b[0;34m)\u001b[0m         \u001b[0;31m#[\"data\"][\"user\"][\"edge_followed_by\"]\u001b[0m\u001b[0;34m\u001b[0m\u001b[0;34m\u001b[0m\u001b[0m\n\u001b[1;32m     25\u001b[0m             \u001b[0mprint\u001b[0m\u001b[0;34m(\u001b[0m\u001b[0mdata\u001b[0m\u001b[0;34m)\u001b[0m\u001b[0;34m\u001b[0m\u001b[0;34m\u001b[0m\u001b[0m\n\u001b[0;32m---> 26\u001b[0;31m             \u001b[0medges\u001b[0m \u001b[0;34m=\u001b[0m \u001b[0mdata\u001b[0m\u001b[0;34m[\u001b[0m\u001b[0;34m\"edges\"\u001b[0m\u001b[0;34m]\u001b[0m\u001b[0;34m\u001b[0m\u001b[0;34m\u001b[0m\u001b[0m\n\u001b[0m\u001b[1;32m     27\u001b[0m             \u001b[0mpage_info\u001b[0m \u001b[0;34m=\u001b[0m \u001b[0mdata\u001b[0m\u001b[0;34m[\u001b[0m\u001b[0;34m\"page_info\"\u001b[0m\u001b[0;34m]\u001b[0m\u001b[0;34m\u001b[0m\u001b[0;34m\u001b[0m\u001b[0m\n\u001b[1;32m     28\u001b[0m             \u001b[0mlength\u001b[0m \u001b[0;34m=\u001b[0m \u001b[0mlen\u001b[0m\u001b[0;34m(\u001b[0m\u001b[0medges\u001b[0m\u001b[0;34m)\u001b[0m\u001b[0;34m\u001b[0m\u001b[0;34m\u001b[0m\u001b[0m\n",
            "\u001b[0;31mKeyError\u001b[0m: 'edges'"
          ]
        }
      ]
    },
    {
      "metadata": {
        "id": "39RNuXuksH-C",
        "colab_type": "code",
        "colab": {}
      },
      "cell_type": "code",
      "source": [
        "def graphql_request(query_hash, variables, settings={}, rhx_gis=None):\n",
        "\n",
        "        if not \"params\" in settings:\n",
        "            settings[\"params\"] = {\"query_hash\": query_hash}\n",
        "        else:\n",
        "            settings[\"params\"][\"query_hash\"] = query_hash\n",
        "\n",
        "        settings[\"params\"][\"variables\"] = variables\n",
        "        gis = \"%s:%s\" % (rhx_gis, variables)\n",
        "        if not \"headers\" in settings:\n",
        "            settings[\"headers\"] = {\"X-Instagram-GIS\": hashlib.md5(gis.encode(\"utf-8\")).hexdigest()}\n",
        "        else:\n",
        "            settings[\"headers\"][\"X-Instagram-GIS\"] = hashlib.md5(gis.encode(\"utf-8\")).hexdigest()\n",
        "        settings[\"headers\"][\"X-Requested-With\"] = \"XMLHttpRequest\" \n",
        "        print(settings)\n",
        "        response = session.get(\"https://www.instagram.com/graphql/query/\", **settings)\n",
        "        response.raise_for_status()\n",
        "        return response\n",
        "\n",
        "\n",
        "def feed(account, pointer=None, count=100, settings={}, limit=50):\n",
        "        rhx_gis, _, _ = update(account)\n",
        "\n",
        "        variables_string = '{{\"fetch_media_item_count\":{first},\"fetch_media_item_cursor\":\"{after}\",\\\n",
        "            \"fetch_comment_count\":4,\"fetch_like\":10,\"has_stories\":false}}'\n",
        "        feed = []\n",
        "\n",
        "        while True:\n",
        "            response = graphql_request(\n",
        "                rhx_gis=rhx_gis,\n",
        "                query_hash=\"485c25657308f08317c1e4b967356828\",\n",
        "                variables=variables_string.format(after=pointer, first=min(limit, count)) if pointer else \"{}\",\n",
        "                settings=settings,\n",
        "            )\n",
        "\n",
        "            \n",
        "            data = response.json()[\"data\"][\"user\"][\"edge_web_feed_timeline\"]\n",
        "            edges = data[\"edges\"]\n",
        "            page_info = data[\"page_info\"]\n",
        "            length = len(edges)\n",
        "                \n",
        "            for index in range(min(length, count)):\n",
        "                    node = edges[index][\"node\"]\n",
        "                    if not \"shortcode\" in node:\n",
        "                        length -= 1\n",
        "                        continue\n",
        "                    m = node[\"shortcode\"]\n",
        "                    #m._set_data(node)\n",
        "                    feed.append(m)\n",
        "                    print(\"node\", node)\n",
        "                \n",
        "            if page_info[\"has_next_page\"]:\n",
        "                    \n",
        "                    pointer = page_info[\"end_cursor\"]\n",
        "            else:\n",
        "                    pointer = None\n",
        "                \n",
        "            if length < count and page_info[\"has_next_page\"]:\n",
        "                    count = count-length\n",
        "            else:\n",
        "                    return feed, pointer\n",
        "            \n"
      ],
      "execution_count": 0,
      "outputs": []
    },
    {
      "metadata": {
        "id": "h6ZarTtXMI7Z",
        "colab_type": "code",
        "outputId": "73b8bfa6-53f7-4c31-aea1-a1d73954a92b",
        "colab": {
          "base_uri": "https://localhost:8080/",
          "height": 380
        }
      },
      "cell_type": "code",
      "source": [
        ""
      ],
      "execution_count": 0,
      "outputs": [
        {
          "output_type": "stream",
          "text": [
            "n9EkuMRUBfEEMFxnraqWJnuSVWSiDgQO\n"
          ],
          "name": "stdout"
        },
        {
          "output_type": "error",
          "ename": "KeyError",
          "evalue": "ignored",
          "traceback": [
            "\u001b[0;31m---------------------------------------------------------------------------\u001b[0m",
            "\u001b[0;31mKeyError\u001b[0m                                  Traceback (most recent call last)",
            "\u001b[0;32m<ipython-input-91-7558ee025fd1>\u001b[0m in \u001b[0;36m<module>\u001b[0;34m()\u001b[0m\n\u001b[1;32m      1\u001b[0m \u001b[0mai\u001b[0m \u001b[0;34m=\u001b[0m \u001b[0;34m[\u001b[0m\u001b[0;34m]\u001b[0m\u001b[0;34m\u001b[0m\u001b[0;34m\u001b[0m\u001b[0m\n\u001b[0;32m----> 2\u001b[0;31m \u001b[0ma\u001b[0m\u001b[0;34m,\u001b[0m \u001b[0mb\u001b[0m \u001b[0;34m=\u001b[0m \u001b[0mphoto\u001b[0m\u001b[0;34m(\u001b[0m\u001b[0;34m\"valentivitell\"\u001b[0m\u001b[0;34m)\u001b[0m\u001b[0;34m\u001b[0m\u001b[0;34m\u001b[0m\u001b[0m\n\u001b[0m\u001b[1;32m      3\u001b[0m \u001b[0mai\u001b[0m\u001b[0;34m.\u001b[0m\u001b[0mextend\u001b[0m\u001b[0;34m(\u001b[0m\u001b[0ma\u001b[0m\u001b[0;34m)\u001b[0m\u001b[0;34m\u001b[0m\u001b[0;34m\u001b[0m\u001b[0m\n\u001b[1;32m      4\u001b[0m \u001b[0mprint\u001b[0m\u001b[0;34m(\u001b[0m\u001b[0mlen\u001b[0m\u001b[0;34m(\u001b[0m\u001b[0ma\u001b[0m\u001b[0;34m)\u001b[0m\u001b[0;34m)\u001b[0m\u001b[0;34m\u001b[0m\u001b[0;34m\u001b[0m\u001b[0m\n\u001b[1;32m      5\u001b[0m \u001b[0;34m\u001b[0m\u001b[0m\n",
            "\u001b[0;32m<ipython-input-90-1331f39846be>\u001b[0m in \u001b[0;36mphoto\u001b[0;34m(account, pointer, count, settings, limit)\u001b[0m\n\u001b[1;32m     27\u001b[0m             \u001b[0;32mfor\u001b[0m \u001b[0mindex\u001b[0m \u001b[0;32min\u001b[0m \u001b[0mrange\u001b[0m\u001b[0;34m(\u001b[0m\u001b[0mmin\u001b[0m\u001b[0;34m(\u001b[0m\u001b[0mlength\u001b[0m\u001b[0;34m,\u001b[0m \u001b[0mcount\u001b[0m\u001b[0;34m)\u001b[0m\u001b[0;34m)\u001b[0m\u001b[0;34m:\u001b[0m\u001b[0;34m\u001b[0m\u001b[0;34m\u001b[0m\u001b[0m\n\u001b[1;32m     28\u001b[0m                     \u001b[0mnode\u001b[0m \u001b[0;34m=\u001b[0m \u001b[0medges\u001b[0m\u001b[0;34m[\u001b[0m\u001b[0mindex\u001b[0m\u001b[0;34m]\u001b[0m\u001b[0;34m[\u001b[0m\u001b[0;34m\"node\"\u001b[0m\u001b[0;34m]\u001b[0m\u001b[0;34m\u001b[0m\u001b[0;34m\u001b[0m\u001b[0m\n\u001b[0;32m---> 29\u001b[0;31m                     \u001b[0murl\u001b[0m \u001b[0;34m=\u001b[0m \u001b[0mnode\u001b[0m\u001b[0;34m[\u001b[0m\u001b[0;34m\"thumbnail_resources\"\u001b[0m\u001b[0;34m]\u001b[0m        \u001b[0;31m#[\"src\"]\u001b[0m\u001b[0;34m\u001b[0m\u001b[0;34m\u001b[0m\u001b[0m\n\u001b[0m\u001b[1;32m     30\u001b[0m                     \u001b[0;32mif\u001b[0m \u001b[0;32mnot\u001b[0m \u001b[0;34m\"shortcode\"\u001b[0m \u001b[0;32min\u001b[0m \u001b[0mnode\u001b[0m\u001b[0;34m:\u001b[0m\u001b[0;34m\u001b[0m\u001b[0;34m\u001b[0m\u001b[0m\n\u001b[1;32m     31\u001b[0m                         \u001b[0mlength\u001b[0m \u001b[0;34m-=\u001b[0m \u001b[0;36m1\u001b[0m\u001b[0;34m\u001b[0m\u001b[0;34m\u001b[0m\u001b[0m\n",
            "\u001b[0;31mKeyError\u001b[0m: 'thumbnail_resources'"
          ]
        }
      ]
    },
    {
      "metadata": {
        "id": "g9WKLyJUgd-S",
        "colab_type": "code",
        "colab": {}
      },
      "cell_type": "code",
      "source": [
        "ai"
      ],
      "execution_count": 0,
      "outputs": []
    },
    {
      "metadata": {
        "id": "wgzxFsu3L10t",
        "colab_type": "code",
        "colab": {}
      },
      "cell_type": "code",
      "source": [
        " def get_followers(account=None, pointer=None, count=20, settings={}, limit=50):\n",
        "\n",
        "\n",
        "        update(account, settings)\n",
        "        \n",
        "        if pointer is None:\n",
        "            variables_string = '{{\"id\":\"{id}\",\"first\":{first}}}'\n",
        "        else:\n",
        "            variables_string = '{{\"id\":\"{id}\",\"first\":{first},\"after\":\"{after}\"}}'\n",
        "        followers = []\n",
        "\n",
        "        while True:\n",
        "            data = {\"first\": count, \"id\": account}\n",
        "            if not pointer is None:\n",
        "                data[\"after\"] = pointer\n",
        "\n",
        "            response = graphql_request(\n",
        "                query_hash=\"37479f2b8209594dde7facb0d904896a\",\n",
        "                variables=variables_string.format(**data),\n",
        "                settings=settings)\n",
        "\n",
        "\n",
        "            data = response.json()[\"data\"][\"user\"][\"edge_followed_by\"]\n",
        "            edges = data[\"edges\"]\n",
        "            page_info = data[\"page_info\"]\n",
        "            followers_count = data[\"count\"]\n",
        "                \n",
        "            for index in range(min(len(edges), count)):\n",
        "                    node = edges[index][\"node\"]\n",
        "                    a = node[\"username\"]\n",
        "                    id = node[\"id\"]\n",
        "                    profile_pic_url = node[\"profile_pic_url\"]\n",
        "                    is_verified = node[\"is_verified\"]\n",
        "                    full_name = node[\"full_name\"]\n",
        "                    #followers.add(a)\n",
        "                    #followers.append(a)\n",
        "                \n",
        "                if page_info[\"has_next_page\"]:\n",
        "                    pointer = page_info[\"end_cursor\"]\n",
        "                else:\n",
        "                    pointer = None\n",
        "                \n",
        "                if len(edges) < count and page_info[\"has_next_page\"]:\n",
        "                    count = count-len(edges)\n",
        "                    variables_string = '{{\"id\":\"{id}\",\"first\":{first},\"after\":\"{after}\"}}'\n",
        "                else:\n",
        "                    return followers, pointer\n",
        "            \n"
      ],
      "execution_count": 0,
      "outputs": []
    },
    {
      "metadata": {
        "id": "Ir4zH1B8DLs2",
        "colab_type": "code",
        "colab": {}
      },
      "cell_type": "code",
      "source": [
        "def get_media(obj, pointer=None, count=12, settings={}, limit=50):  \n",
        "        primary_key = \"code\"\n",
        "        entry_data_path = (\"PostPage\", 0, \"graphql\", \"shortcode_media\")\n",
        "        media_path = (\"user\", \"edge_owner_to_timeline_media\")\n",
        "        base_url = \"p/\"\n",
        "        data = update(obj, settings)\n",
        "        variables_string = '{{\"{name}\":\"{name_value}\",\"first\":{first},\"after\":\"{after}\"}}'\n",
        "        medias = []\n",
        "        \n",
        "        if pointer is None:\n",
        "                data = data[media_path[-1]]\n",
        "                \n",
        "                page_info = data[\"page_info\"]\n",
        "                edges = data[\"edges\"]\n",
        "                \n",
        "                for index in range(min(len(edges), count)):\n",
        "                    node = edges[index][\"node\"]\n",
        "                    m = node[\"shortcode\"]\n",
        "                    #m._set_data(node)\n",
        "                    #if isinstance(obj, Account):\n",
        "                    likes_count = node[\"edge_media_preview_like\"][\"count\"]\n",
        "                        #m.owner = obj\n",
        "                   # else:\n",
        "                       # m.likes_count = node[\"edge_liked_by\"]\n",
        "                    \n",
        "                    #obj.media.add(m)\n",
        "                    medias.append(m)\n",
        "                \n",
        "                if page_info[\"has_next_page\"]:\n",
        "                    pointer = page_info[\"end_cursor\"]\n",
        "                \n",
        "                if len(edges) < count and page_info[\"has_next_page\"]:\n",
        "                    count = count - len(edges)\n",
        "                else:\n",
        "                    return medias, pointer\n",
        "                \n",
        "\n",
        "        while True:\n",
        "            data = {\"after\": pointer, \"first\": min(limit, count)}\n",
        "            #if isinstance(obj, Tag):\n",
        "            #    data[\"name\"] = \"tag_name\"\n",
        "            #    data[\"name_value\"] = name\n",
        "            #else:\n",
        "            data[\"name\"] = \"id\"\n",
        "            data[\"name_value\"] = id\n",
        "\n",
        "            response = graphql_request(query_hash=media_query_hash, variables=variables_string.format(**data),settings=settings)\n",
        "            data = response.json()[\"data\"]\n",
        "            for key in media_path:\n",
        "                    data = data[key]\n",
        "            page_info = data[\"page_info\"]\n",
        "            edges = data[\"edges\"]\n",
        "                \n",
        "            for index in range(min(len(edges), count)):\n",
        "                    node = edges[index][\"node\"]\n",
        "                    m = Media(node[\"shortcode\"])\n",
        "                    #m._set_data(node)\n",
        "                    #if isinstance(obj, Account):\n",
        "                    likes_count = node[\"edge_media_preview_like\"][\"count\"]\n",
        "                      #  m.owner = obj\n",
        "                    #else:\n",
        "                      #  m.likes_count = node[\"edge_liked_by\"]\n",
        "                   # obj.media.add(m)\n",
        "                    medias.append(m)\n",
        "                \n",
        "            if page_info[\"has_next_page\"]:\n",
        "                    pointer = page_info[\"end_cursor\"]\n",
        "            else:\n",
        "                    pointer = None\n",
        "                \n",
        "            if len(edges) < count and page_info[\"has_next_page\"]:\n",
        "                    count = count - len(edges)\n",
        "            else:\n",
        "                    return medias, pointer\n"
      ],
      "execution_count": 0,
      "outputs": []
    },
    {
      "metadata": {
        "id": "BP2XjLwh0rKl",
        "colab_type": "code",
        "outputId": "c0d3b72d-92fd-42ee-aa7b-032ce1cf0bd7",
        "colab": {
          "base_uri": "https://localhost:8080/",
          "height": 169
        }
      },
      "cell_type": "code",
      "source": [
        "get_media(valentivitell)"
      ],
      "execution_count": 0,
      "outputs": [
        {
          "output_type": "error",
          "ename": "NameError",
          "evalue": "ignored",
          "traceback": [
            "\u001b[0;31m---------------------------------------------------------------------------\u001b[0m",
            "\u001b[0;31mNameError\u001b[0m                                 Traceback (most recent call last)",
            "\u001b[0;32m<ipython-input-4-487a32082868>\u001b[0m in \u001b[0;36m<module>\u001b[0;34m()\u001b[0m\n\u001b[0;32m----> 1\u001b[0;31m \u001b[0mget_media\u001b[0m\u001b[0;34m(\u001b[0m\u001b[0mvalentivitell\u001b[0m\u001b[0;34m)\u001b[0m\u001b[0;34m\u001b[0m\u001b[0;34m\u001b[0m\u001b[0m\n\u001b[0m",
            "\u001b[0;31mNameError\u001b[0m: name 'valentivitell' is not defined"
          ]
        }
      ]
    },
    {
      "metadata": {
        "id": "RjSPaB2X0rDT",
        "colab_type": "text"
      },
      "cell_type": "markdown",
      "source": [
        ""
      ]
    },
    {
      "metadata": {
        "id": "LNDnhQg4yzLl",
        "colab_type": "code",
        "outputId": "4d923d81-6841-40a0-ca59-6c691f991592",
        "colab": {
          "base_uri": "https://localhost:8080/",
          "height": 186
        }
      },
      "cell_type": "code",
      "source": [
        "#data1 = {}\n",
        "#data1 = {'username': 'andivanov2019', 'password': 'Asus2046'}  \n",
        "#dict = \"d1\"\n",
        "d1 = dict(shorts='dictq', long='dictionary')\n",
        "d1"
      ],
      "execution_count": 0,
      "outputs": [
        {
          "output_type": "error",
          "ename": "TypeError",
          "evalue": "ignored",
          "traceback": [
            "\u001b[0;31m---------------------------------------------------------------------------\u001b[0m",
            "\u001b[0;31mTypeError\u001b[0m                                 Traceback (most recent call last)",
            "\u001b[0;32m<ipython-input-10-0c96cb5e2f1e>\u001b[0m in \u001b[0;36m<module>\u001b[0;34m()\u001b[0m\n\u001b[0;32m----> 1\u001b[0;31m \u001b[0md1\u001b[0m \u001b[0;34m=\u001b[0m \u001b[0mdict\u001b[0m\u001b[0;34m(\u001b[0m\u001b[0mshorts\u001b[0m\u001b[0;34m=\u001b[0m\u001b[0;34m'dictq'\u001b[0m\u001b[0;34m,\u001b[0m \u001b[0mlong\u001b[0m\u001b[0;34m=\u001b[0m\u001b[0;34m'dictionary'\u001b[0m\u001b[0;34m)\u001b[0m\u001b[0;34m\u001b[0m\u001b[0;34m\u001b[0m\u001b[0m\n\u001b[0m\u001b[1;32m      2\u001b[0m \u001b[0md1\u001b[0m\u001b[0;34m\u001b[0m\u001b[0;34m\u001b[0m\u001b[0m\n",
            "\u001b[0;31mTypeError\u001b[0m: 'str' object is not callable"
          ]
        }
      ]
    },
    {
      "metadata": {
        "id": "xcYiEmUo7eyG",
        "colab_type": "code",
        "outputId": "4ece3559-cee4-4086-e13d-56634ba5555a",
        "colab": {
          "base_uri": "https://localhost:8080/",
          "height": 34
        }
      },
      "cell_type": "code",
      "source": [
        "f=6\n",
        "v = {'dict': f, 'dictionary': 2}\n",
        "v"
      ],
      "execution_count": 0,
      "outputs": [
        {
          "output_type": "execute_result",
          "data": {
            "text/plain": [
              "{'dict': 6, 'dictionary': 2}"
            ]
          },
          "metadata": {
            "tags": []
          },
          "execution_count": 11
        }
      ]
    }
  ]
}