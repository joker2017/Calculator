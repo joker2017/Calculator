{
  "nbformat": 4,
  "nbformat_minor": 0,
  "metadata": {
    "colab": {
      "name": "Hello, Colaboratory",
      "version": "0.3.2",
      "provenance": [],
      "collapsed_sections": [],
      "include_colab_link": true
    },
    "kernelspec": {
      "display_name": "Python 3",
      "name": "python3"
    }
  },
  "cells": [
    {
      "cell_type": "markdown",
      "metadata": {
        "id": "view-in-github",
        "colab_type": "text"
      },
      "source": [
        "<a href=\"https://colab.research.google.com/github/joker2017/Calculator/blob/master/parsing_instagram.ipynb\" target=\"_parent\"><img src=\"https://colab.research.google.com/assets/colab-badge.svg\" alt=\"Open In Colab\"/></a>"
      ]
    },
    {
      "metadata": {
        "id": "rnY5drdudYyM",
        "colab_type": "code",
        "colab": {
          "base_uri": "https://localhost:8080/",
          "height": 34
        },
        "outputId": "9216ca62-8a21-4556-c44e-93c9d3df07cb"
      },
      "cell_type": "code",
      "source": [
        "import requests\n",
        "import json\n",
        "\n",
        "class Instagram_Parser:\n",
        "\n",
        "    def __init__(self, username):\n",
        "        self.data = None\n",
        "        self.username = username\n",
        "        self.fetchData()\n",
        "\n",
        "    def fetchData(self):\n",
        "        pt = requests.get(\"https://instagram.com/{}\".format(self.username)).text\n",
        "        jd = pt.split(\"window._sharedData = \")[1].split(\";</script>\")[0]\n",
        "        jj = json.loads(jd)\n",
        "        self.data = jj\n",
        "\n",
        "    def getFollowers(self):\n",
        "        return self.data['entry_data']['ProfilePage'][0]['graphql']['user']['edge_followed_by']['count']\n",
        "\n",
        "    def getFollowing(self):\n",
        "        return self.data['entry_data']['ProfilePage'][0]['graphql']['user']['edge_follow']['count']\n",
        "\n",
        "    def getPostsCount(self):\n",
        "        return self.data['entry_data']['ProfilePage'][0]['graphql']['user']['edge_owner_to_timeline_media']['count']\n",
        "\n",
        "    def getFullName(self):\n",
        "        return self.data['entry_data']['ProfilePage'][0]['graphql']['user']['full_name']\n",
        "\n",
        "    def getProfilePic(self):\n",
        "        return {\n",
        "            \"lowres\": self.data['entry_data']['ProfilePage'][0]['graphql']['user']['profile_pic_url'],\n",
        "            \"highres\": self.data['entry_data']['ProfilePage'][0]['graphql']['user']['profile_pic_url_hd']\n",
        "        }\n",
        "\n",
        "    def getBio(self):\n",
        "        return self.data['entry_data']['ProfilePage'][0]['graphql']['user']['biography']\n",
        "\n",
        "\n",
        "inst = Instagram_Parser(\"nikita.danil0v\")\n",
        "print(inst.getFollowers(), inst.getFollowing(), inst.getPostsCount(), inst.getFullName())"
      ],
      "execution_count": 1,
      "outputs": [
        {
          "output_type": "stream",
          "text": [
            "313 262 61 N I K I T A   D A N I L O V\n"
          ],
          "name": "stdout"
        }
      ]
    },
    {
      "metadata": {
        "id": "F9jQ93LGeQHy",
        "colab_type": "code",
        "colab": {
          "base_uri": "https://localhost:8080/",
          "height": 248
        },
        "outputId": "be3ae18a-604f-4f89-9219-94eec6213bb5"
      },
      "cell_type": "code",
      "source": [
        "from urllib import request \n",
        "import urllib\n",
        "import requests\n",
        "import datetime\n",
        "from bs4 import BeautifulSoup\n",
        "import re\n",
        "import json\n",
        "\n",
        "\n",
        "USER_NAME = 'valentivitell' # add instagram username\n",
        "COUNT_PICTURES = 5 # number of pictures\n",
        "\n",
        "\n",
        "def download_file(url):\n",
        "\tprint('Downloading image...')\n",
        "\tf = urllib.request.urlopen(url)\n",
        "\thtmlSource = f.read()\n",
        "\tsoup = BeautifulSoup(htmlSource,'html.parser')\n",
        "\tmetaTag = soup.find_all('meta', {'property':'og:image'})\n",
        "\timgURL = metaTag[0]['content']\n",
        "\tfileName = datetime.datetime.now().strftime(\"%Y-%m-%d_%H:%M:%S\") + '.jpg'\n",
        "\turllib.request.urlretrieve(imgURL, fileName)\n",
        "\tprint('Done. Image saved to disk as ' + fileName)\n",
        "\n",
        "soup = BeautifulSoup(request.urlopen('https://www.instagram.com/' + USER_NAME),'html.parser')\n",
        "metaTag = soup.find_all('script', type=\"text/javascript\")\n",
        "pattern = 'window._sharedData = {.+};</script>'\n",
        "parse_text = re.findall(pattern, str(metaTag))\n",
        "parse_text = parse_text[0].replace(';</script>', '')\n",
        "parse_text = parse_text.replace('window._sharedData = ', '')\n",
        "\n",
        "json_dict = json.loads(parse_text)\n",
        "print(json_dict)\n",
        "short_adress = []\n",
        "# shortcode - code picture\n",
        "for number in range(len(json_dict['entry_data']['ProfilePage'][0]['graphql']['user']['edge_owner_to_timeline_media']['edges'])):\n",
        "\tshort_adress.append(json_dict['entry_data']['ProfilePage'][0]['graphql']['user']['edge_owner_to_timeline_media']['edges'][number]['node']['shortcode'])\n",
        "\n",
        "temp_url = 'https://www.instagram.com/p/'   #https://www.instagram.com/p/BsiHNlPngr9\n",
        "\n",
        "for item in range(COUNT_PICTURES):\n",
        "\tdownload_file(temp_url + short_adress[item])\n",
        "\n",
        "print('All pictures are downloaded!')"
      ],
      "execution_count": 23,
      "outputs": [
        {
          "output_type": "stream",
          "text": [
            "{'config': {'csrf_token': 'YFrBkerMbuhcC98IrAR0UqxSU8Z4ILDT', 'viewer': None, 'viewerId': None}, 'supports_es6': False, 'country_code': 'US', 'language_code': 'en', 'locale': 'en_US', 'entry_data': {'ProfilePage': [{'logging_page_id': 'profilePage_1090074015', 'show_suggested_profiles': False, 'graphql': {'user': {'biography': 'MOSCOW 👀direct📩valentivitel@mail.ru', 'blocked_by_viewer': False, 'country_block': False, 'external_url': None, 'external_url_linkshimmed': None, 'edge_followed_by': {'count': 1626833}, 'followed_by_viewer': False, 'edge_follow': {'count': 37}, 'follows_viewer': False, 'full_name': 'Vi', 'has_channel': False, 'has_blocked_viewer': False, 'highlight_reel_count': 7, 'has_requested_viewer': False, 'id': '1090074015', 'is_business_account': False, 'is_joined_recently': False, 'business_category_name': None, 'business_email': None, 'business_phone_number': None, 'business_address_json': None, 'is_private': False, 'is_verified': True, 'edge_mutual_followed_by': {'count': 0, 'edges': []}, 'profile_pic_url': 'https://scontent-atl3-1.cdninstagram.com/vp/796f47f0b09f36e55c98bf662cd03bfd/5CDBA00E/t51.2885-19/s150x150/38096761_649269845446876_4161954052923457536_n.jpg?_nc_ht=scontent-atl3-1.cdninstagram.com', 'profile_pic_url_hd': 'https://scontent-atl3-1.cdninstagram.com/vp/89b1c9548920c4a102f1e8a6debd493c/5CC67BFE/t51.2885-19/s320x320/38096761_649269845446876_4161954052923457536_n.jpg?_nc_ht=scontent-atl3-1.cdninstagram.com', 'requested_by_viewer': False, 'username': 'valentivitell', 'connected_fb_page': None, 'edge_felix_video_timeline': {'count': 0, 'page_info': {'has_next_page': False, 'end_cursor': None}, 'edges': []}, 'edge_owner_to_timeline_media': {'count': 254, 'page_info': {'has_next_page': True, 'end_cursor': 'QVFEQ3BDNm4tS0pYQTh0TkxCcUp2OXRnSU9mZjNNLWJoNWhDX3lfdDVLN0x5YURWRWswa2J3TElVUnVCVU40YXdia1ZMSmMxNWZNZldXRnZsTmMwamlYQw=='}, 'edges': [{'node': {'__typename': 'GraphSidecar', 'id': '1955872593133058522', 'edge_media_to_caption': {'edges': [{'node': {'text': 'Старый Новый Год🎄 \\U0001f973Всех с праздником😘💋'}}]}, 'shortcode': 'Bskp8LDnjna', 'edge_media_to_comment': {'count': 649}, 'comments_disabled': False, 'taken_at_timestamp': 1547378204, 'dimensions': {'height': 1080, 'width': 1080}, 'display_url': 'https://scontent-atl3-1.cdninstagram.com/vp/f196f9be88dd507c82e7593c794cced7/5CC27F54/t51.2885-15/e35/47690550_544159949431806_250097195167894852_n.jpg?_nc_ht=scontent-atl3-1.cdninstagram.com', 'edge_liked_by': {'count': 44737}, 'edge_media_preview_like': {'count': 44737}, 'location': {'id': '17326249', 'has_public_page': True, 'name': 'Moscow, Russia', 'slug': 'moscow-russia'}, 'gating_info': None, 'media_preview': None, 'owner': {'id': '1090074015', 'username': 'valentivitell'}, 'thumbnail_src': 'https://scontent-atl3-1.cdninstagram.com/vp/a9ca754e7dce5f69869cdd28db0f3461/5CCC9927/t51.2885-15/sh0.08/e35/s640x640/47690550_544159949431806_250097195167894852_n.jpg?_nc_ht=scontent-atl3-1.cdninstagram.com', 'thumbnail_resources': [{'src': 'https://scontent-atl3-1.cdninstagram.com/vp/8d8dd7898c202366f469394a8f1963e9/5CC250C6/t51.2885-15/e35/s150x150/47690550_544159949431806_250097195167894852_n.jpg?_nc_ht=scontent-atl3-1.cdninstagram.com', 'config_width': 150, 'config_height': 150}, {'src': 'https://scontent-atl3-1.cdninstagram.com/vp/01f5e2cefeee61cac66e291769942eb3/5CBAF973/t51.2885-15/e35/s240x240/47690550_544159949431806_250097195167894852_n.jpg?_nc_ht=scontent-atl3-1.cdninstagram.com', 'config_width': 240, 'config_height': 240}, {'src': 'https://scontent-atl3-1.cdninstagram.com/vp/000c36486aa755ee7b4385d9b95c3561/5CCB02CB/t51.2885-15/e35/s320x320/47690550_544159949431806_250097195167894852_n.jpg?_nc_ht=scontent-atl3-1.cdninstagram.com', 'config_width': 320, 'config_height': 320}, {'src': 'https://scontent-atl3-1.cdninstagram.com/vp/c7b22ec65f8c844edca0bc196234aa78/5CD6C997/t51.2885-15/e35/s480x480/47690550_544159949431806_250097195167894852_n.jpg?_nc_ht=scontent-atl3-1.cdninstagram.com', 'config_width': 480, 'config_height': 480}, {'src': 'https://scontent-atl3-1.cdninstagram.com/vp/a9ca754e7dce5f69869cdd28db0f3461/5CCC9927/t51.2885-15/sh0.08/e35/s640x640/47690550_544159949431806_250097195167894852_n.jpg?_nc_ht=scontent-atl3-1.cdninstagram.com', 'config_width': 640, 'config_height': 640}], 'is_video': False, 'accessibility_caption': 'Image may contain: 1 person, standing'}}, {'node': {'__typename': 'GraphImage', 'id': '1955156907901455101', 'edge_media_to_caption': {'edges': [{'node': {'text': '💋'}}]}, 'shortcode': 'BsiHNlPngr9', 'edge_media_to_comment': {'count': 459}, 'comments_disabled': False, 'taken_at_timestamp': 1547292887, 'dimensions': {'height': 1080, 'width': 1080}, 'display_url': 'https://scontent-atl3-1.cdninstagram.com/vp/5a0b801cab99cd00c95c406ba2031c40/5CCBA721/t51.2885-15/e35/49641305_395087891058064_2423156184829751913_n.jpg?_nc_ht=scontent-atl3-1.cdninstagram.com', 'edge_liked_by': {'count': 37778}, 'edge_media_preview_like': {'count': 37778}, 'location': {'id': '17326249', 'has_public_page': True, 'name': 'Moscow, Russia', 'slug': 'moscow-russia'}, 'gating_info': None, 'media_preview': 'ACoqfIuxACP4j/IVSfjJ961518wqvcn+lZV9mJhHgjPU/j27f4UgJIhvJz26cfrn9OKljBZSQOB1rEaQq3yHAxj8q6G0fdHIp6qAcjuGXNA2XbL/AFX4mrWKqWR/dfiat5piM/P74ezL/Km3KeYX9hx+OKa5xKcdQV/lUd7OIkkOfmIAH1O3+XWgDnzCdxVeSCeBzjHWt2wTCylcmMqoBPGSAc/zrCtrgwNnnB64rpLKdHidU+6oyB35zn9RTAs2YxHj3NWar2n3PqTVmkBiBi7sT6j+VRtErEhhkZpIz8zf57UA8UgMiSLZLs7Ejb+PT8q6CCNIVKoB8wwT3P4+ntWPN/x8J9B/M1ZkdgOp/OmBu2gxHx6mrNVLP/V/iatUAf/Z', 'owner': {'id': '1090074015', 'username': 'valentivitell'}, 'thumbnail_src': 'https://scontent-atl3-1.cdninstagram.com/vp/6d9cef987a464c195d88666a89dd58b7/5CC986C4/t51.2885-15/sh0.08/e35/s640x640/49641305_395087891058064_2423156184829751913_n.jpg?_nc_ht=scontent-atl3-1.cdninstagram.com', 'thumbnail_resources': [{'src': 'https://scontent-atl3-1.cdninstagram.com/vp/ccf9153fced7d4713ba4b83efab68140/5CD0BB63/t51.2885-15/e35/s150x150/49641305_395087891058064_2423156184829751913_n.jpg?_nc_ht=scontent-atl3-1.cdninstagram.com', 'config_width': 150, 'config_height': 150}, {'src': 'https://scontent-atl3-1.cdninstagram.com/vp/8573e51d8271d137a2997eb4533b7569/5CC39C29/t51.2885-15/e35/s240x240/49641305_395087891058064_2423156184829751913_n.jpg?_nc_ht=scontent-atl3-1.cdninstagram.com', 'config_width': 240, 'config_height': 240}, {'src': 'https://scontent-atl3-1.cdninstagram.com/vp/e862e27921e0d5eec82020e961695c01/5CC97A93/t51.2885-15/e35/s320x320/49641305_395087891058064_2423156184829751913_n.jpg?_nc_ht=scontent-atl3-1.cdninstagram.com', 'config_width': 320, 'config_height': 320}, {'src': 'https://scontent-atl3-1.cdninstagram.com/vp/1d7e07b2552cfaca391859ba72c563a1/5CC213C9/t51.2885-15/e35/s480x480/49641305_395087891058064_2423156184829751913_n.jpg?_nc_ht=scontent-atl3-1.cdninstagram.com', 'config_width': 480, 'config_height': 480}, {'src': 'https://scontent-atl3-1.cdninstagram.com/vp/6d9cef987a464c195d88666a89dd58b7/5CC986C4/t51.2885-15/sh0.08/e35/s640x640/49641305_395087891058064_2423156184829751913_n.jpg?_nc_ht=scontent-atl3-1.cdninstagram.com', 'config_width': 640, 'config_height': 640}], 'is_video': False, 'accessibility_caption': 'Image may contain: 1 person, standing'}}, {'node': {'__typename': 'GraphImage', 'id': '1953779159727587743', 'edge_media_to_caption': {'edges': [{'node': {'text': 'Какой знак зодиака самый темпераментный, как вы думаете?😜'}}]}, 'shortcode': 'BsdN8tRH8Gf', 'edge_media_to_comment': {'count': 937}, 'comments_disabled': False, 'taken_at_timestamp': 1547128647, 'dimensions': {'height': 1080, 'width': 1080}, 'display_url': 'https://scontent-atl3-1.cdninstagram.com/vp/eaab248262accf2a37e8a8e56ce37327/5CCA7FE1/t51.2885-15/e35/47692261_633972690355852_4333042468903099670_n.jpg?_nc_ht=scontent-atl3-1.cdninstagram.com', 'edge_liked_by': {'count': 57543}, 'edge_media_preview_like': {'count': 57543}, 'location': {'id': '6889842', 'has_public_page': True, 'name': 'Paris, France', 'slug': 'paris-france'}, 'gating_info': None, 'media_preview': 'ACoquXbgQt78VnvalIxJkc4457/jT7yUs2zHC9/WlkugybAOw9e1AGsrKyhgcAgH6VStJJGkYOTgjPP17VDC7SoYyMBefr7UloH3ljwMcfj/APqpdUPozbytGVqoM9zTsf7X6VRJgsXKs+M45J7DJwPc5PQegrQ+wcZ3AcA8qMc/TmqKBgpwSMnnn2xUvONoOKRQiMYpNrduDjHOe+f5e4q7BLnhiAPfrmqHl7n+YkYGM9Rn/PSmS8quOvPH5Uh9GbAmizjjP1/rTftEf+T/APXrGMbd8j0zTTkdjTuTY1mh9OnqSf8AIo8hfvd+me9WWqKWkMjMGehOfqf8aqtDKADHnvkdfxz3q9BVheOlAGMbe4bsce5o+yXHp+taMxOahzSsKx//2Q==', 'owner': {'id': '1090074015', 'username': 'valentivitell'}, 'thumbnail_src': 'https://scontent-atl3-1.cdninstagram.com/vp/f259e67a23a775149fd24e5a76b0ac89/5CC77C04/t51.2885-15/sh0.08/e35/s640x640/47692261_633972690355852_4333042468903099670_n.jpg?_nc_ht=scontent-atl3-1.cdninstagram.com', 'thumbnail_resources': [{'src': 'https://scontent-atl3-1.cdninstagram.com/vp/5f70108d1b6cee6d1d8f9f8a814033ae/5CD613A3/t51.2885-15/e35/s150x150/47692261_633972690355852_4333042468903099670_n.jpg?_nc_ht=scontent-atl3-1.cdninstagram.com', 'config_width': 150, 'config_height': 150}, {'src': 'https://scontent-atl3-1.cdninstagram.com/vp/1a69857fca646227a944017b39523769/5CDAE3E9/t51.2885-15/e35/s240x240/47692261_633972690355852_4333042468903099670_n.jpg?_nc_ht=scontent-atl3-1.cdninstagram.com', 'config_width': 240, 'config_height': 240}, {'src': 'https://scontent-atl3-1.cdninstagram.com/vp/1d07184e6995689e1963200457465d03/5CC1E953/t51.2885-15/e35/s320x320/47692261_633972690355852_4333042468903099670_n.jpg?_nc_ht=scontent-atl3-1.cdninstagram.com', 'config_width': 320, 'config_height': 320}, {'src': 'https://scontent-atl3-1.cdninstagram.com/vp/1801833cc3dbb1f6dd629d8cabb3d4d5/5CC12909/t51.2885-15/e35/s480x480/47692261_633972690355852_4333042468903099670_n.jpg?_nc_ht=scontent-atl3-1.cdninstagram.com', 'config_width': 480, 'config_height': 480}, {'src': 'https://scontent-atl3-1.cdninstagram.com/vp/f259e67a23a775149fd24e5a76b0ac89/5CC77C04/t51.2885-15/sh0.08/e35/s640x640/47692261_633972690355852_4333042468903099670_n.jpg?_nc_ht=scontent-atl3-1.cdninstagram.com', 'config_width': 640, 'config_height': 640}], 'is_video': False, 'accessibility_caption': 'Image may contain: 1 person, sky, shoes and outdoor'}}, {'node': {'__typename': 'GraphImage', 'id': '1952265966504903564', 'edge_media_to_caption': {'edges': [{'node': {'text': 'Эта лучше😁Передумала\\U0001f92a'}}]}, 'shortcode': 'BsX142QnAOM', 'edge_media_to_comment': {'count': 384}, 'comments_disabled': False, 'taken_at_timestamp': 1546948260, 'dimensions': {'height': 1350, 'width': 1080}, 'display_url': 'https://scontent-atl3-1.cdninstagram.com/vp/1f6e78d636b58efee545a1130cd0a39d/5CD476D9/t51.2885-15/e35/47582641_107064623603029_4159311745993485107_n.jpg?_nc_ht=scontent-atl3-1.cdninstagram.com', 'edge_liked_by': {'count': 37675}, 'edge_media_preview_like': {'count': 37675}, 'location': {'id': '6889842', 'has_public_page': True, 'name': 'Paris, France', 'slug': 'paris-france'}, 'gating_info': None, 'media_preview': 'ACEquW0a4G7Ab0/lVxWUdxxVW3RnG5gBk8HuOOtWmVSeT0Hrx7//AF6QwjmSVtinJHNS44zXMW1wFlXn2GP6/Uf/AF66QEjGaPUfoJ5Qop/Pt+dFAiIyLjHT8aqX0qmB9pwSOuO2Rnn0I4pjSjzQmQSVznGMY4xz178+1VNRDYCgna2M4+vYd+3FAzEQnzAV611nnsdh/hPXPrg/yPpXJq2D6c8/gc1pw3eMsQTtwR+HY/40xHRb/wDOKKxPNb+5/wCPUUhkUl1tk3bFJKjcPT3XPQj8qklaS5wyqAoGR29znHrSxqC4yM1dU0xHKHrn1raWBiuzGBgH9BmsV+/1/wAa6qHlFP8Asj+VAEOJfUfp/hRViigD/9k=', 'owner': {'id': '1090074015', 'username': 'valentivitell'}, 'thumbnail_src': 'https://scontent-atl3-1.cdninstagram.com/vp/d27816fe654a08902bc4a4ef2eb2b1f0/5CD09B2E/t51.2885-15/sh0.08/e35/c0.114.909.909/s640x640/47582641_107064623603029_4159311745993485107_n.jpg?_nc_ht=scontent-atl3-1.cdninstagram.com', 'thumbnail_resources': [{'src': 'https://scontent-atl3-1.cdninstagram.com/vp/f9c1372b0aa4efda8d9a9f5fdc16db0d/5CD01224/t51.2885-15/e35/c0.114.909.909/s150x150/47582641_107064623603029_4159311745993485107_n.jpg?_nc_ht=scontent-atl3-1.cdninstagram.com', 'config_width': 150, 'config_height': 150}, {'src': 'https://scontent-atl3-1.cdninstagram.com/vp/73d23a7b30865c5c91028229bf60ad63/5CBC536E/t51.2885-15/e35/c0.114.909.909/s240x240/47582641_107064623603029_4159311745993485107_n.jpg?_nc_ht=scontent-atl3-1.cdninstagram.com', 'config_width': 240, 'config_height': 240}, {'src': 'https://scontent-atl3-1.cdninstagram.com/vp/5136b3385575052c74003c4f24ffb83c/5CD225D4/t51.2885-15/e35/c0.114.909.909/s320x320/47582641_107064623603029_4159311745993485107_n.jpg?_nc_ht=scontent-atl3-1.cdninstagram.com', 'config_width': 320, 'config_height': 320}, {'src': 'https://scontent-atl3-1.cdninstagram.com/vp/19804d09bfb09632bdc01ce2b72c0bab/5CD6B48E/t51.2885-15/e35/c0.114.909.909/s480x480/47582641_107064623603029_4159311745993485107_n.jpg?_nc_ht=scontent-atl3-1.cdninstagram.com', 'config_width': 480, 'config_height': 480}, {'src': 'https://scontent-atl3-1.cdninstagram.com/vp/d27816fe654a08902bc4a4ef2eb2b1f0/5CD09B2E/t51.2885-15/sh0.08/e35/c0.114.909.909/s640x640/47582641_107064623603029_4159311745993485107_n.jpg?_nc_ht=scontent-atl3-1.cdninstagram.com', 'config_width': 640, 'config_height': 640}], 'is_video': False, 'accessibility_caption': 'Image may contain: 1 person, standing and outdoor'}}, {'node': {'__typename': 'GraphImage', 'id': '1950784314121454482', 'edge_media_to_caption': {'edges': [{'node': {'text': 'В каком ухе звенит?😁'}}]}, 'shortcode': 'BsSk_98nQOS', 'edge_media_to_comment': {'count': 1146}, 'comments_disabled': False, 'taken_at_timestamp': 1546771633, 'dimensions': {'height': 1349, 'width': 1080}, 'display_url': 'https://scontent-atl3-1.cdninstagram.com/vp/9b078f3a1667208b0bc314a2abb1d45d/5CBE4FFB/t51.2885-15/e35/47582979_284587508925880_3504868262721009610_n.jpg?_nc_ht=scontent-atl3-1.cdninstagram.com', 'edge_liked_by': {'count': 68142}, 'edge_media_preview_like': {'count': 68142}, 'location': {'id': '17326249', 'has_public_page': True, 'name': 'Moscow, Russia', 'slug': 'moscow-russia'}, 'gating_info': None, 'media_preview': 'ACEqhCon1qVFxy4wD68E/QdTUUcxU7hyf8/lSlkc7gTu75qWykicbS/lEld/3WIxyOce2Rx9aiI9On+fzqB43YBm6qf07Z9CaRXwM+9JFNFjbRUHmUUyCFSRSKcMR7U0uA3HSpREJiDnGOp/p9TSKLOJUjYZUhv0Hft/nmqDkquKvzS/Lx6YA/Dp+FY4JIxSRpJ33HbzRTMGiqMiwpQjnrViAgK6nkED9KzRU8PU/Q0mNPUueVsi8xiSW6CszGDzWve9EHbaP5VmPTQ5MZRS0UyD/9k=', 'owner': {'id': '1090074015', 'username': 'valentivitell'}, 'thumbnail_src': 'https://scontent-atl3-1.cdninstagram.com/vp/20008ca3f0aa467da58915bd0fdacbe9/5CCB443A/t51.2885-15/sh0.08/e35/c0.133.1066.1066/s640x640/47582979_284587508925880_3504868262721009610_n.jpg?_nc_ht=scontent-atl3-1.cdninstagram.com', 'thumbnail_resources': [{'src': 'https://scontent-atl3-1.cdninstagram.com/vp/39aae1ee70e0b292e92de021e16cf71c/5CC01F21/t51.2885-15/e35/c0.133.1066.1066/s150x150/47582979_284587508925880_3504868262721009610_n.jpg?_nc_ht=scontent-atl3-1.cdninstagram.com', 'config_width': 150, 'config_height': 150}, {'src': 'https://scontent-atl3-1.cdninstagram.com/vp/727b1ee0d7e25fbd784319b0864ae6f5/5CB9946B/t51.2885-15/e35/c0.133.1066.1066/s240x240/47582979_284587508925880_3504868262721009610_n.jpg?_nc_ht=scontent-atl3-1.cdninstagram.com', 'config_width': 240, 'config_height': 240}, {'src': 'https://scontent-atl3-1.cdninstagram.com/vp/ba101ea26a1f26482436547b87419045/5CBF46D1/t51.2885-15/e35/c0.133.1066.1066/s320x320/47582979_284587508925880_3504868262721009610_n.jpg?_nc_ht=scontent-atl3-1.cdninstagram.com', 'config_width': 320, 'config_height': 320}, {'src': 'https://scontent-atl3-1.cdninstagram.com/vp/2f81f3ddd9cabc953d3c2f863d9b181f/5CB8EF8B/t51.2885-15/e35/c0.133.1066.1066/s480x480/47582979_284587508925880_3504868262721009610_n.jpg?_nc_ht=scontent-atl3-1.cdninstagram.com', 'config_width': 480, 'config_height': 480}, {'src': 'https://scontent-atl3-1.cdninstagram.com/vp/20008ca3f0aa467da58915bd0fdacbe9/5CCB443A/t51.2885-15/sh0.08/e35/c0.133.1066.1066/s640x640/47582979_284587508925880_3504868262721009610_n.jpg?_nc_ht=scontent-atl3-1.cdninstagram.com', 'config_width': 640, 'config_height': 640}], 'is_video': False, 'accessibility_caption': 'Image may contain: 1 person, closeup'}}, {'node': {'__typename': 'GraphImage', 'id': '1950092980733789029', 'edge_media_to_caption': {'edges': [{'node': {'text': 'Спасибо, что живой\\U0001f92aКто-где отметил?😁Как после праздников перестать вставать в 15 часов?👀🤦\\u200d♀️'}}]}, 'shortcode': 'BsQHzvjnsNl', 'edge_media_to_comment': {'count': 302}, 'comments_disabled': False, 'taken_at_timestamp': 1546689220, 'dimensions': {'height': 1080, 'width': 1080}, 'display_url': 'https://scontent-atl3-1.cdninstagram.com/vp/fb7b5cdcddab1b4867ccbb25b14e9934/5CC24433/t51.2885-15/e35/46607239_973000619577426_1082734778775776975_n.jpg?_nc_ht=scontent-atl3-1.cdninstagram.com', 'edge_liked_by': {'count': 28775}, 'edge_media_preview_like': {'count': 28775}, 'location': {'id': '17326249', 'has_public_page': True, 'name': 'Moscow, Russia', 'slug': 'moscow-russia'}, 'gating_info': None, 'media_preview': 'ACoq1IyrjK808OhOAy/mKz7RChz0C5z6cVnYDEn1P86i5di5eJuUgd2A/M1HtWLa6cZOCM9R0/DHemQKqtuPQZoaMquGI7t0wQT2yT6cdKW+w9FuVw6+e5b+f9asC8bHT/x6swnzDzSYHpVEWNNjIM/Meevv+Apigjr2rS8rNZ178ihQOW/l/wDXNKxdyOVwVIBGfr3our4XMIVs7xtzxwcZ759/Tmq6WwypbcQSCwUdB35NS3MUQI8kbR3yT19B7CnohO7KcZweeKkzTRH3PJqXyzQI3A20c81Q86KaVXGSwBBB6A9sfhn8atEZBB6f/XpI0UDIAB+lACeWSfT2qnLEXbKDArRHWkFAzNWDby1S4X3q24GKqUCP/9k=', 'owner': {'id': '1090074015', 'username': 'valentivitell'}, 'thumbnail_src': 'https://scontent-atl3-1.cdninstagram.com/vp/d3bf1028f6ec22d27ebc69587e76bd1f/5CBC5CD6/t51.2885-15/sh0.08/e35/s640x640/46607239_973000619577426_1082734778775776975_n.jpg?_nc_ht=scontent-atl3-1.cdninstagram.com', 'thumbnail_resources': [{'src': 'https://scontent-atl3-1.cdninstagram.com/vp/4d63d711dbca0f87669f4892693d9601/5CD1AB71/t51.2885-15/e35/s150x150/46607239_973000619577426_1082734778775776975_n.jpg?_nc_ht=scontent-atl3-1.cdninstagram.com', 'config_width': 150, 'config_height': 150}, {'src': 'https://scontent-atl3-1.cdninstagram.com/vp/423a2f813243d9fdd022ca232b51fda8/5CC7143B/t51.2885-15/e35/s240x240/46607239_973000619577426_1082734778775776975_n.jpg?_nc_ht=scontent-atl3-1.cdninstagram.com', 'config_width': 240, 'config_height': 240}, {'src': 'https://scontent-atl3-1.cdninstagram.com/vp/22cc53e8d3b948daf9f0801bb764be1a/5CCD5581/t51.2885-15/e35/s320x320/46607239_973000619577426_1082734778775776975_n.jpg?_nc_ht=scontent-atl3-1.cdninstagram.com', 'config_width': 320, 'config_height': 320}, {'src': 'https://scontent-atl3-1.cdninstagram.com/vp/25973fa59cad0b8bb606daef904b28e8/5CBA72DB/t51.2885-15/e35/s480x480/46607239_973000619577426_1082734778775776975_n.jpg?_nc_ht=scontent-atl3-1.cdninstagram.com', 'config_width': 480, 'config_height': 480}, {'src': 'https://scontent-atl3-1.cdninstagram.com/vp/d3bf1028f6ec22d27ebc69587e76bd1f/5CBC5CD6/t51.2885-15/sh0.08/e35/s640x640/46607239_973000619577426_1082734778775776975_n.jpg?_nc_ht=scontent-atl3-1.cdninstagram.com', 'config_width': 640, 'config_height': 640}], 'is_video': False, 'accessibility_caption': 'Image may contain: 1 person, sitting'}}, {'node': {'__typename': 'GraphImage', 'id': '1948732916534068163', 'edge_media_to_caption': {'edges': [{'node': {'text': 'Стиль бомжа в кроссах и куртке оверсайз я больше люблю, но девочкой иногда быть тоже нужно☝️😁Хотя бы на фото в инсте🌚'}}]}, 'shortcode': 'BsLSkNEH8PD', 'edge_media_to_comment': {'count': 604}, 'comments_disabled': False, 'taken_at_timestamp': 1546527088, 'dimensions': {'height': 1080, 'width': 1080}, 'display_url': 'https://scontent-atl3-1.cdninstagram.com/vp/ad1eaa4d639045dc0b6c3d3128dc3bdb/5CBB5B00/t51.2885-15/e35/47581589_697602350641317_4336545859554036027_n.jpg?_nc_ht=scontent-atl3-1.cdninstagram.com', 'edge_liked_by': {'count': 41880}, 'edge_media_preview_like': {'count': 41880}, 'location': {'id': '6889842', 'has_public_page': True, 'name': 'Paris, France', 'slug': 'paris-france'}, 'gating_info': None, 'media_preview': 'ACoqvqu4kF/Tt/n0oKrhmJb5cnPTtTIpGBPy9cd+/amXczIg3AAMccfXmkMjF3uU5IwMfr0/KrEMwcA5yc8Z55wRx7d8npWVdsnSMDHAOPxpbaYiVU65PGOoyP1/pQM0Q4y6jqOvGO3r3qosnA+b9asbH3MNrD3xwazPM/zxQIveYVByTknPyr/9bqKhuQ0g3fwhuM8E9M8cZNap+tUbmJnOewHX27/jTEZ0oO38Rz+PT8M0+GUxsSvBPt7+/wBB0pba3MkQbdgHPGPenLbsw3KQM9tv9c0hmhHcsD87KSegzgn8KoG2yc7xz7Gj7DKQc7ST36f40/7HP/eX9aANbym71XuAUjY4Odpx+VXYzkDNBoAyLdhFCwIOeSMdOQP61PbYClN2Ap4/EAn9aL8AR5HHI/nVVetAGgVJ6FTTdj+g/wA/jVWkyaAP/9k=', 'owner': {'id': '1090074015', 'username': 'valentivitell'}, 'thumbnail_src': 'https://scontent-atl3-1.cdninstagram.com/vp/1637ac21c930aa854b8f93f3fa6ff5ca/5CD09FE5/t51.2885-15/sh0.08/e35/s640x640/47581589_697602350641317_4336545859554036027_n.jpg?_nc_ht=scontent-atl3-1.cdninstagram.com', 'thumbnail_resources': [{'src': 'https://scontent-atl3-1.cdninstagram.com/vp/3c174f2d8efc2b1705eabf975abac43d/5CBD0A42/t51.2885-15/e35/s150x150/47581589_697602350641317_4336545859554036027_n.jpg?_nc_ht=scontent-atl3-1.cdninstagram.com', 'config_width': 150, 'config_height': 150}, {'src': 'https://scontent-atl3-1.cdninstagram.com/vp/e55b37181cc40adec1f0df992a5f7aec/5CC88808/t51.2885-15/e35/s240x240/47581589_697602350641317_4336545859554036027_n.jpg?_nc_ht=scontent-atl3-1.cdninstagram.com', 'config_width': 240, 'config_height': 240}, {'src': 'https://scontent-atl3-1.cdninstagram.com/vp/4b2cdc873014237ec991eed892df7bf7/5CC371B2/t51.2885-15/e35/s320x320/47581589_697602350641317_4336545859554036027_n.jpg?_nc_ht=scontent-atl3-1.cdninstagram.com', 'config_width': 320, 'config_height': 320}, {'src': 'https://scontent-atl3-1.cdninstagram.com/vp/87ae918ac64a1d8ee9067a308f9d67c9/5CB716E8/t51.2885-15/e35/s480x480/47581589_697602350641317_4336545859554036027_n.jpg?_nc_ht=scontent-atl3-1.cdninstagram.com', 'config_width': 480, 'config_height': 480}, {'src': 'https://scontent-atl3-1.cdninstagram.com/vp/1637ac21c930aa854b8f93f3fa6ff5ca/5CD09FE5/t51.2885-15/sh0.08/e35/s640x640/47581589_697602350641317_4336545859554036027_n.jpg?_nc_ht=scontent-atl3-1.cdninstagram.com', 'config_width': 640, 'config_height': 640}], 'is_video': False, 'accessibility_caption': 'Image may contain: 2 people, people standing and outdoor'}}, {'node': {'__typename': 'GraphImage', 'id': '1947182142800709819', 'edge_media_to_caption': {'edges': [{'node': {'text': 'Всех с годом желтой земляной свиньи!!!\\U0001f973\\U0001f973\\U0001f973Хрю)🐷🐖P.S. Я скрестила пальцы на ногах, что бы цыгане меня не украли в этом наряде😁🤞'}}]}, 'shortcode': 'BsFx9eensi7', 'edge_media_to_comment': {'count': 832}, 'comments_disabled': False, 'taken_at_timestamp': 1546342221, 'dimensions': {'height': 1350, 'width': 1080}, 'display_url': 'https://scontent-atl3-1.cdninstagram.com/vp/89ef06ce10066e4f256bff3005874df8/5CDB96ED/t51.2885-15/e35/47692382_1852798641514658_8084608618368653864_n.jpg?_nc_ht=scontent-atl3-1.cdninstagram.com', 'edge_liked_by': {'count': 58721}, 'edge_media_preview_like': {'count': 58721}, 'location': {'id': '6889842', 'has_public_page': True, 'name': 'Paris, France', 'slug': 'paris-france'}, 'gating_info': None, 'media_preview': 'ACEq0J4xM6oT0BJ/pUsc6iIN/dHI9xWYJBJISwPrx/ntTvMIRkA4Ycex6YouMuw3PnEg4HQjr3q1tx71ioJLc54fcArc9D6//Xp7XsnQdv1pJ9xtdjXx7UVj/b2op3JsSKd/TIHv/SoniwpKnnI+p5qWS3kIOWwOD9MYxS7PLA5znt+fPXPXPJqWUiCVcjH0z+HWqzoeoP58VfEZYjnqcVHJYnaVB7k5Pv2/wpIGZ/kyf3h+Y/xoqX7BJ/fH+fxopkmvdxC4j2c9QeOOlRG1ywYcEKFOec4Of8mrK06mMqWwII/2Bz9auE5GPWoIurfWpDSQ3uQ+QfU0U+imI//Z', 'owner': {'id': '1090074015', 'username': 'valentivitell'}, 'thumbnail_src': 'https://scontent-atl3-1.cdninstagram.com/vp/e27825c9c2f41805c6c3222dd1581e9d/5CC02E75/t51.2885-15/sh0.08/e35/c0.135.1080.1080/s640x640/47692382_1852798641514658_8084608618368653864_n.jpg?_nc_ht=scontent-atl3-1.cdninstagram.com', 'thumbnail_resources': [{'src': 'https://scontent-atl3-1.cdninstagram.com/vp/7851d8403c94f923d6246bbbd0318e75/5CCFE4E2/t51.2885-15/e35/c0.135.1080.1080/s150x150/47692382_1852798641514658_8084608618368653864_n.jpg?_nc_ht=scontent-atl3-1.cdninstagram.com', 'config_width': 150, 'config_height': 150}, {'src': 'https://scontent-atl3-1.cdninstagram.com/vp/fa7118546f84687bef73f4637436f6fb/5CD543E4/t51.2885-15/e35/c0.135.1080.1080/s240x240/47692382_1852798641514658_8084608618368653864_n.jpg?_nc_ht=scontent-atl3-1.cdninstagram.com', 'config_width': 240, 'config_height': 240}, {'src': 'https://scontent-atl3-1.cdninstagram.com/vp/ef624a532e27be7fff67174ce5d94029/5CC4449A/t51.2885-15/e35/c0.135.1080.1080/s320x320/47692382_1852798641514658_8084608618368653864_n.jpg?_nc_ht=scontent-atl3-1.cdninstagram.com', 'config_width': 320, 'config_height': 320}, {'src': 'https://scontent-atl3-1.cdninstagram.com/vp/5ed3ee2d228d9851dd603296d4253efb/5CBCB2DD/t51.2885-15/e35/c0.135.1080.1080/s480x480/47692382_1852798641514658_8084608618368653864_n.jpg?_nc_ht=scontent-atl3-1.cdninstagram.com', 'config_width': 480, 'config_height': 480}, {'src': 'https://scontent-atl3-1.cdninstagram.com/vp/e27825c9c2f41805c6c3222dd1581e9d/5CC02E75/t51.2885-15/sh0.08/e35/c0.135.1080.1080/s640x640/47692382_1852798641514658_8084608618368653864_n.jpg?_nc_ht=scontent-atl3-1.cdninstagram.com', 'config_width': 640, 'config_height': 640}], 'is_video': False, 'accessibility_caption': 'Image may contain: 1 person, standing and outdoor'}}, {'node': {'__typename': 'GraphImage', 'id': '1945031205881406789', 'edge_media_to_caption': {'edges': [{'node': {'text': 'Чем занимаетесь?👀😁Готовы к праздникам?\\U0001f973🎄'}}]}, 'shortcode': 'Br-I5OXnGVF', 'edge_media_to_comment': {'count': 466}, 'comments_disabled': False, 'taken_at_timestamp': 1546085809, 'dimensions': {'height': 1349, 'width': 1080}, 'display_url': 'https://scontent-atl3-1.cdninstagram.com/vp/ec2341b01f1fd0bb225b18efd4815f6d/5CDBC500/t51.2885-15/e35/47692553_2391991874206348_4937114053044444653_n.jpg?_nc_ht=scontent-atl3-1.cdninstagram.com', 'edge_liked_by': {'count': 39519}, 'edge_media_preview_like': {'count': 39519}, 'location': {'id': '17326249', 'has_public_page': True, 'name': 'Moscow, Russia', 'slug': 'moscow-russia'}, 'gating_info': None, 'media_preview': 'ACEq6GVsL9eKpyEYx/dIOfw/rnGKsXD7Rn3rKkuCqs/Zcdf9oHGP6enakMVrhSSqjJXovb0y3f8ADvTVwVZydzAqSfTHYY4AGMYFYttclpE3YAUEfXP9715rbQl43GMcH/P4UijR2Ciq/mGimSJP5jsD8pA5Ayf8Kx752EZVuMlfyUHv9TWwzZqhcwrMVL5IU9PXOOtMDDhYpj+6WGfqOnvxmtlLsQg5GQR09+Bn9Kp2ESM5DjO0d/UMRn8q1ZERxyAaQDPt4/un8xRUf2dPT9aKBE4kzUbmqopSaYytG3lyv74P55NWvP8AWqjj5j9BTDSAvef70VQooA//2Q==', 'owner': {'id': '1090074015', 'username': 'valentivitell'}, 'thumbnail_src': 'https://scontent-atl3-1.cdninstagram.com/vp/5466d222de76ca30223533b522179da0/5D00BA0C/t51.2885-15/sh0.08/e35/c0.134.1080.1080/s640x640/47692553_2391991874206348_4937114053044444653_n.jpg?_nc_ht=scontent-atl3-1.cdninstagram.com', 'thumbnail_resources': [{'src': 'https://scontent-atl3-1.cdninstagram.com/vp/e84e5e9c2ddf39f1b0d2b2474ce0fc8c/5CCA249B/t51.2885-15/e35/c0.134.1080.1080/s150x150/47692553_2391991874206348_4937114053044444653_n.jpg?_nc_ht=scontent-atl3-1.cdninstagram.com', 'config_width': 150, 'config_height': 150}, {'src': 'https://scontent-atl3-1.cdninstagram.com/vp/cc10500917537fd94d0ee96835c5bf95/5CD2669D/t51.2885-15/e35/c0.134.1080.1080/s240x240/47692553_2391991874206348_4937114053044444653_n.jpg?_nc_ht=scontent-atl3-1.cdninstagram.com', 'config_width': 240, 'config_height': 240}, {'src': 'https://scontent-atl3-1.cdninstagram.com/vp/b1c643f432c5ac1dee13181489623bf9/5CCF80E3/t51.2885-15/e35/c0.134.1080.1080/s320x320/47692553_2391991874206348_4937114053044444653_n.jpg?_nc_ht=scontent-atl3-1.cdninstagram.com', 'config_width': 320, 'config_height': 320}, {'src': 'https://scontent-atl3-1.cdninstagram.com/vp/5a2b006f5c3aaeb871eadb907d389770/5CC046A4/t51.2885-15/e35/c0.134.1080.1080/s480x480/47692553_2391991874206348_4937114053044444653_n.jpg?_nc_ht=scontent-atl3-1.cdninstagram.com', 'config_width': 480, 'config_height': 480}, {'src': 'https://scontent-atl3-1.cdninstagram.com/vp/5466d222de76ca30223533b522179da0/5D00BA0C/t51.2885-15/sh0.08/e35/c0.134.1080.1080/s640x640/47692553_2391991874206348_4937114053044444653_n.jpg?_nc_ht=scontent-atl3-1.cdninstagram.com', 'config_width': 640, 'config_height': 640}], 'is_video': False, 'accessibility_caption': 'Image may contain: 1 person, standing, shoes and outdoor'}}, {'node': {'__typename': 'GraphImage', 'id': '1944350213776664039', 'edge_media_to_caption': {'edges': [{'node': {'text': 'Зови меня Лео😁'}}]}, 'shortcode': 'Br7uDfDHOXn', 'edge_media_to_comment': {'count': 1427}, 'comments_disabled': False, 'taken_at_timestamp': 1546004629, 'dimensions': {'height': 1350, 'width': 1080}, 'display_url': 'https://scontent-atl3-1.cdninstagram.com/vp/fe1be18636081f45a912a6e4cbd00c83/5CD2413E/t51.2885-15/e35/47586281_383513378889967_7706121840469742974_n.jpg?_nc_ht=scontent-atl3-1.cdninstagram.com', 'edge_liked_by': {'count': 87586}, 'edge_media_preview_like': {'count': 87586}, 'location': {'id': '6889842', 'has_public_page': True, 'name': 'Paris, France', 'slug': 'paris-france'}, 'gating_info': None, 'media_preview': 'ACEqnMS/NkEdwf8AD0qFHMeFU8HGSeM+3tTGN0Mt0ABx0P8AKmXLnaAeC3PvSaKTNAyEZxycDA9v5GkEodGZlICY46ZqsZgYgSTgYBwOSfQ/5GRRFPG8UmTg+h4wMgfr7dKBDvOHp/46f8aKreb7N+f/ANeiiwxzz/PySRkbckgHPfjP8/1qteM0jFsYx1x2z0z9a0REnoPyqG52gEcZYDJ9h/j71VhXILQebkEZXHI988Uk0EhdnVTk4x7+tTWXGR1QkA9eCc46VoNCnTB/8e/wpCM7Yf7rUVe8iP0P5vRRYLkYbPSq93EWXcOq/qKfH0FTdm/3TVCKFucLk5X5l5/PNaZdf77fnVGHkfiKuTKPQVK1G9NBPMH98/nRVTAopiP/2Q==', 'owner': {'id': '1090074015', 'username': 'valentivitell'}, 'thumbnail_src': 'https://scontent-atl3-1.cdninstagram.com/vp/dcd93daa1876782996fd178d5e4ba4c5/5CD10D7D/t51.2885-15/sh0.08/e35/c0.135.1080.1080/s640x640/47586281_383513378889967_7706121840469742974_n.jpg?_nc_ht=scontent-atl3-1.cdninstagram.com', 'thumbnail_resources': [{'src': 'https://scontent-atl3-1.cdninstagram.com/vp/4ab88a27abaa99fb00bfc28409eb2a08/5CC27C66/t51.2885-15/e35/c0.135.1080.1080/s150x150/47586281_383513378889967_7706121840469742974_n.jpg?_nc_ht=scontent-atl3-1.cdninstagram.com', 'config_width': 150, 'config_height': 150}, {'src': 'https://scontent-atl3-1.cdninstagram.com/vp/34868880029f3461957d5c2e60384658/5CD6622C/t51.2885-15/e35/c0.135.1080.1080/s240x240/47586281_383513378889967_7706121840469742974_n.jpg?_nc_ht=scontent-atl3-1.cdninstagram.com', 'config_width': 240, 'config_height': 240}, {'src': 'https://scontent-atl3-1.cdninstagram.com/vp/f3e18df3f899273a70326fa8225407a0/5CB81496/t51.2885-15/e35/c0.135.1080.1080/s320x320/47586281_383513378889967_7706121840469742974_n.jpg?_nc_ht=scontent-atl3-1.cdninstagram.com', 'config_width': 320, 'config_height': 320}, {'src': 'https://scontent-atl3-1.cdninstagram.com/vp/dc8a407992d11163e2e1a0ed944d1e13/5CD436CC/t51.2885-15/e35/c0.135.1080.1080/s480x480/47586281_383513378889967_7706121840469742974_n.jpg?_nc_ht=scontent-atl3-1.cdninstagram.com', 'config_width': 480, 'config_height': 480}, {'src': 'https://scontent-atl3-1.cdninstagram.com/vp/dcd93daa1876782996fd178d5e4ba4c5/5CD10D7D/t51.2885-15/sh0.08/e35/c0.135.1080.1080/s640x640/47586281_383513378889967_7706121840469742974_n.jpg?_nc_ht=scontent-atl3-1.cdninstagram.com', 'config_width': 640, 'config_height': 640}], 'is_video': False, 'accessibility_caption': 'Image may contain: 1 person, standing and outdoor'}}, {'node': {'__typename': 'GraphImage', 'id': '1943609623867003302', 'edge_media_to_caption': {'edges': [{'node': {'text': 'Самый романтичный город♥️💋'}}]}, 'shortcode': 'Br5Fqe8n5Gm', 'edge_media_to_comment': {'count': 761}, 'comments_disabled': False, 'taken_at_timestamp': 1545916344, 'dimensions': {'height': 1350, 'width': 1080}, 'display_url': 'https://scontent-atl3-1.cdninstagram.com/vp/996b89a8b42a7137c363aaffa7c10d69/5CB5FBFD/t51.2885-15/e35/47693498_228779794682897_5875662289381390547_n.jpg?_nc_ht=scontent-atl3-1.cdninstagram.com', 'edge_liked_by': {'count': 62894}, 'edge_media_preview_like': {'count': 62894}, 'location': {'id': '6889842', 'has_public_page': True, 'name': 'Paris, France', 'slug': 'paris-france'}, 'gating_info': None, 'media_preview': 'ACEqu2q5XP1/kKnG4fNnrj9elV0lSCPe/TI6dckVKgEih16EAj86Bl1ZABk9z296xrpeeOx/z/Krsh25wMhc8frVDzvtCFsbSDgjrSYIixRSc0Uhk10oZVjJxg5P5YH9alt5Qq7c9McZAx3I5I6HNQzupPXnHf0FZ/B687uMHnr/AFpF20N5rgYJHI5PGDj64Jqpb7SSF4DD88cZ/nVSOfylXYAo244wSfrjnPt1qeIsvzHA9uf60xaJE/2dvainfafb9aKZJUlCn72OPWqb/OCI+q8+3pUEzEkAkngfyq9Zj5W+lABu2qMjHr9ff/GpC4ReahmOS2f9n+VZZOW57HikBs4f0/WipKKYH//Z', 'owner': {'id': '1090074015', 'username': 'valentivitell'}, 'thumbnail_src': 'https://scontent-atl3-1.cdninstagram.com/vp/0f50aaa48c8be16c4838ca71d0dced89/5CD617BE/t51.2885-15/sh0.08/e35/c0.135.1080.1080/s640x640/47693498_228779794682897_5875662289381390547_n.jpg?_nc_ht=scontent-atl3-1.cdninstagram.com', 'thumbnail_resources': [{'src': 'https://scontent-atl3-1.cdninstagram.com/vp/4a4d9b4854b713e06180878e08a6a2e3/5CB60BA5/t51.2885-15/e35/c0.135.1080.1080/s150x150/47693498_228779794682897_5875662289381390547_n.jpg?_nc_ht=scontent-atl3-1.cdninstagram.com', 'config_width': 150, 'config_height': 150}, {'src': 'https://scontent-atl3-1.cdninstagram.com/vp/29ebe23b18d0bd0182b81c4cc85f31c6/5CB7C3EF/t51.2885-15/e35/c0.135.1080.1080/s240x240/47693498_228779794682897_5875662289381390547_n.jpg?_nc_ht=scontent-atl3-1.cdninstagram.com', 'config_width': 240, 'config_height': 240}, {'src': 'https://scontent-atl3-1.cdninstagram.com/vp/96decfce3f85e258e884cb542b87a849/5CC21F55/t51.2885-15/e35/c0.135.1080.1080/s320x320/47693498_228779794682897_5875662289381390547_n.jpg?_nc_ht=scontent-atl3-1.cdninstagram.com', 'config_width': 320, 'config_height': 320}, {'src': 'https://scontent-atl3-1.cdninstagram.com/vp/719039f287c4f0cb4ab7bd830f1d7f45/5CC7C70F/t51.2885-15/e35/c0.135.1080.1080/s480x480/47693498_228779794682897_5875662289381390547_n.jpg?_nc_ht=scontent-atl3-1.cdninstagram.com', 'config_width': 480, 'config_height': 480}, {'src': 'https://scontent-atl3-1.cdninstagram.com/vp/0f50aaa48c8be16c4838ca71d0dced89/5CD617BE/t51.2885-15/sh0.08/e35/c0.135.1080.1080/s640x640/47693498_228779794682897_5875662289381390547_n.jpg?_nc_ht=scontent-atl3-1.cdninstagram.com', 'config_width': 640, 'config_height': 640}], 'is_video': False, 'accessibility_caption': 'Image may contain: 1 person, sitting, indoor and food'}}, {'node': {'__typename': 'GraphImage', 'id': '1942910293854003863', 'edge_media_to_caption': {'edges': [{'node': {'text': 'Кто-где на Новый год будет?🎅\\U0001f973...а для вас это семейный праздник или очередная тусовка?🙃'}}]}, 'shortcode': 'Br2mp5HniKX', 'edge_media_to_comment': {'count': 583}, 'comments_disabled': False, 'taken_at_timestamp': 1545832977, 'dimensions': {'height': 1350, 'width': 1080}, 'display_url': 'https://scontent-atl3-1.cdninstagram.com/vp/06ea5202ec648af217278176dd6ab21c/5CB5C530/t51.2885-15/e35/47583303_2301380226562732_6936514288717512116_n.jpg?_nc_ht=scontent-atl3-1.cdninstagram.com', 'edge_liked_by': {'count': 50991}, 'edge_media_preview_like': {'count': 50991}, 'location': {'id': '17326249', 'has_public_page': True, 'name': 'Moscow, Russia', 'slug': 'moscow-russia'}, 'gating_info': None, 'media_preview': 'ACEqnmjETZb5myDknrz36jj1zULyL/Fyw9Ohz9OmOayzMScmrtioncr6Ln9aQDSuMshZTnIPuKSC6Kg7hkjqRj86utDl/LXnglj6en51mCMqXjP3sDH55pFdDZwv+c/4UVT8+iqEK9tGCM4A/wA9eaqRSruKgbc9CO/sasXkpUbfX0Hb/P8AnjnMddv16/Q1SRFzp0/d/IBtAx9D757/AI4rOul/fD1Ixn8f/r0waoGGGUggckc//qpBMJH3E7gRx/s1JYu1v8iipvMooAqXKCQb16EcHPAGecjrn2GQPWswbvTirkRyjk8/N/Som6D6sPw54+lO9iSsGIpVfacjtR/hR6Uhlj7U/qPyFFMwKKQz/9k=', 'owner': {'id': '1090074015', 'username': 'valentivitell'}, 'thumbnail_src': 'https://scontent-atl3-1.cdninstagram.com/vp/d9522b49a84a17ee1a8667ec0b2a9698/5D00CEA8/t51.2885-15/sh0.08/e35/c0.135.1080.1080/s640x640/47583303_2301380226562732_6936514288717512116_n.jpg?_nc_ht=scontent-atl3-1.cdninstagram.com', 'thumbnail_resources': [{'src': 'https://scontent-atl3-1.cdninstagram.com/vp/fe18ce53d6f52878928786af31764144/5CB78B3F/t51.2885-15/e35/c0.135.1080.1080/s150x150/47583303_2301380226562732_6936514288717512116_n.jpg?_nc_ht=scontent-atl3-1.cdninstagram.com', 'config_width': 150, 'config_height': 150}, {'src': 'https://scontent-atl3-1.cdninstagram.com/vp/5bfd81e051de4a6cd3f7d1fe9cacfa9e/5CC08F39/t51.2885-15/e35/c0.135.1080.1080/s240x240/47583303_2301380226562732_6936514288717512116_n.jpg?_nc_ht=scontent-atl3-1.cdninstagram.com', 'config_width': 240, 'config_height': 240}, {'src': 'https://scontent-atl3-1.cdninstagram.com/vp/19a329b2b4fd8b1d9ef6e6516167ed8f/5CC51547/t51.2885-15/e35/c0.135.1080.1080/s320x320/47583303_2301380226562732_6936514288717512116_n.jpg?_nc_ht=scontent-atl3-1.cdninstagram.com', 'config_width': 320, 'config_height': 320}, {'src': 'https://scontent-atl3-1.cdninstagram.com/vp/c09dc2448b93e5bf8efd5d1786afd5ee/5CCFCE00/t51.2885-15/e35/c0.135.1080.1080/s480x480/47583303_2301380226562732_6936514288717512116_n.jpg?_nc_ht=scontent-atl3-1.cdninstagram.com', 'config_width': 480, 'config_height': 480}, {'src': 'https://scontent-atl3-1.cdninstagram.com/vp/d9522b49a84a17ee1a8667ec0b2a9698/5D00CEA8/t51.2885-15/sh0.08/e35/c0.135.1080.1080/s640x640/47583303_2301380226562732_6936514288717512116_n.jpg?_nc_ht=scontent-atl3-1.cdninstagram.com', 'config_width': 640, 'config_height': 640}], 'is_video': False, 'accessibility_caption': 'Image may contain: 1 person, shoes and outdoor'}}]}, 'edge_saved_media': {'count': 0, 'page_info': {'has_next_page': False, 'end_cursor': None}, 'edges': []}, 'edge_media_collections': {'count': 0, 'page_info': {'has_next_page': False, 'end_cursor': None}, 'edges': []}}}, 'felix_onboarding_video_resources': {'mp4': '/static/videos/felix-onboarding/onboardingVideo.mp4/9d16838ca7f9.mp4', 'poster': '/static/images/felix-onboarding/onboardingVideoPoster.png/8fdba7cf2120.png'}}]}, 'gatekeepers': {'seo': True, 'seoht': True, 'phone_qp': True, 'nt': True, 'rp': True, 'daid': True, 'frx': True, 'oba': True, 'hpi': True}, 'knobs': {'acct:ntb': 0, 'cb': 0, 'captcha': 0, 'fr': 0}, 'qe': {'fsu_count': {'g': '', 'p': {}}, 'iab': {'g': 'control', 'p': {'has_open_app_ios': 'false'}}, 'app_upsell': {'g': 'control_new_qp', 'p': {'use_new_megaphone': 'false'}}, 'profile_header_name': {'g': '', 'p': {}}, 'bc3l': {'g': '', 'p': {}}, 'direct_conversation_reporting': {'g': '', 'p': {}}, 'frx_reporting': {'g': '', 'p': {}}, 'general_reporting': {'g': '', 'p': {}}, 'reporting': {'g': '', 'p': {}}, 'acc_recovery_link': {'g': '', 'p': {}}, 'notif': {'g': '', 'p': {}}, 'mobile_stories_doodling': {'g': '', 'p': {}}, 'show_copy_link': {'g': '', 'p': {}}, 'p_edit': {'g': '', 'p': {}}, '404_as_react': {'g': '', 'p': {}}, 'acc_recovery': {'g': '', 'p': {}}, 'collections': {'g': '', 'p': {}}, 'comment_ta': {'g': '', 'p': {}}, 'su': {'g': '', 'p': {}}, 'ebd_ul': {'g': '', 'p': {}}, 'ebdsim_li': {'g': '', 'p': {}}, 'ebdsim_lo': {'g': '', 'p': {}}, 'empty_feed': {'g': '', 'p': {}}, 'appsell': {'g': '', 'p': {}}, 'heart_tab': {'g': '', 'p': {}}, 'follow_button': {'g': '', 'p': {}}, 'log_cont': {'g': '', 'p': {}}, 'msisdn': {'g': '', 'p': {}}, 'onetaplogin': {'g': 'control', 'p': {'after_login': 'true', 'storage_version': 'one_tap_storage_version'}}, 'profile_tabs': {'g': '', 'p': {}}, 'em_sig': {'g': 'control_no_sug_d', 'p': {'has_signup_email_suggestion': 'false', 'has_multi_step_email_suggestion': 'false'}}, 'multireg_iter': {'g': 'control_12_21', 'p': {'has_new_phone_form': 'false'}}, 'reg_vp': {'g': 'control_group_2', 'p': {'hide_value_prop': 'false'}}, 'report_media': {'g': '', 'p': {}}, 'report_profile': {'g': '', 'p': {}}, 'sidecar_swipe': {'g': '', 'p': {}}, 'su_universe': {'g': '', 'p': {}}, 'stale': {'g': '', 'p': {}}, 'tp_pblshr': {'g': '', 'p': {}}, 'video': {'g': '', 'p': {}}, 'felix': {'g': '', 'p': {}}, 'felix_clear_fb_cookie': {'g': '', 'p': {}}, 'felix_creation_duration_limits': {'g': '', 'p': {}}, 'felix_creation_enabled': {'g': '', 'p': {}}, 'felix_creation_fb_crossposting': {'g': '', 'p': {}}, 'felix_creation_fb_crossposting_v2': {'g': '', 'p': {}}, 'felix_creation_validation': {'g': '', 'p': {}}, 'felix_creation_video_upload': {'g': '', 'p': {}}, 'felix_early_onboarding': {'g': '', 'p': {}}, 'unfollow_confirm': {'g': '', 'p': {}}, 'profile_enhance_li': {'g': '', 'p': {}}, 'profile_enhance_lo': {'g': '', 'p': {}}, 'comment_enhance': {'g': '', 'p': {}}, 'mweb_topical_explore': {'g': '', 'p': {}}, 'follow_all_fb': {'g': '', 'p': {}}, 'lite_direct_upsell': {'g': '', 'p': {}}, 'web_loggedout_noop': {'g': '', 'p': {}}, 'a2hs_heuristic_uc': {'g': '', 'p': {}}, 'a2hs_heuristic_non_uc': {'g': '', 'p': {}}, 'web_hashtag': {'g': '', 'p': {}}, 'web_hashtag_logged_out': {'g': '', 'p': {}}, 'header_scroll': {'g': '', 'p': {}}, 'rout': {'g': '', 'p': {}}, 'web_lo_follow': {'g': '', 'p': {}}, 'web_share': {'g': '', 'p': {}}, 'lite_rating': {'g': '', 'p': {}}, 'web_embeds_share': {'g': '', 'p': {}}, 'web_share_lo': {'g': '', 'p': {}}, 'web_embeds_logged_out': {'g': '', 'p': {}}, 'web_datasaver_mode': {'g': '', 'p': {}}, 'lite_datasaver_mode': {'g': '', 'p': {}}, 'lite_video_upload': {'g': '', 'p': {}}, 'post_options': {'g': '', 'p': {}}, 'igtv_public_viewing': {'g': '', 'p': {}}, 'caching': {'g': '', 'p': {}}, 'nux': {'g': '', 'p': {}}, 'hpi': {'g': '', 'p': {}}, 'iglmsr': {'g': 'multi_reg', 'p': {'has_multi_step_registration': 'true', 'has_prefill': 'false'}}, 'igwsvl': {'g': '', 'p': {}}, 'iglcp': {'g': 'has_prefill', 'p': {'has_login_prefill': 'true'}}, 'lite_story_video_upload': {'g': '', 'p': {}}, 'iglscioi': {'g': '', 'p': {}}, 'ws2': {'g': '', 'p': {}}, 'wpn': {'g': '', 'p': {}}, 'hc': {'g': '', 'p': {}}}, 'hostname': 'www.instagram.com', 'deployment_stage': 'c2', 'platform': 'web', 'rhx_gis': '63cb628fba29b4fdc837565c8107afd6', 'nonce': 'ynV+BR8TCR0tEc5wH5lh+A==', 'mid_pct': 95.12259, 'server_checks': {}, 'zero_data': {}, 'rollout_hash': '69aa01c6bec6', 'bundle_variant': 'metro', 'probably_has_app': False}\n",
            "Downloading image...\n",
            "Done. Image saved to disk as 2019-01-15_13:12:46.jpg\n",
            "Downloading image...\n",
            "Done. Image saved to disk as 2019-01-15_13:12:47.jpg\n",
            "Downloading image...\n",
            "Done. Image saved to disk as 2019-01-15_13:12:48.jpg\n",
            "Downloading image...\n",
            "Done. Image saved to disk as 2019-01-15_13:12:48.jpg\n",
            "Downloading image...\n",
            "Done. Image saved to disk as 2019-01-15_13:12:49.jpg\n",
            "All pictures are downloaded!\n"
          ],
          "name": "stdout"
        }
      ]
    },
    {
      "metadata": {
        "id": "xPJKVH0gewmb",
        "colab_type": "code",
        "colab": {
          "base_uri": "https://localhost:8080/",
          "height": 54
        },
        "outputId": "13397f2d-9dc8-4b79-bb0c-3a5685d45981"
      },
      "cell_type": "code",
      "source": [
        "import os\n",
        "print( os.listdir('/content') )"
      ],
      "execution_count": 7,
      "outputs": [
        {
          "output_type": "stream",
          "text": [
            "['.config', 'images', 'output', '2019-01-15_07:46:14.jpg', 'posenet-python', '2019-01-15_07:46:11.jpg', 'InstaParser', '_models', '2019-01-15_07:46:12.jpg', '2019-01-15_07:46:13.jpg', 'sample_data']\n"
          ],
          "name": "stdout"
        }
      ]
    },
    {
      "metadata": {
        "colab_type": "text",
        "id": "9J7p406abzgl"
      },
      "cell_type": "markdown",
      "source": [
        "<img height=\"60px\" src=\"https://colab.research.google.com/img/colab_favicon.ico\" align=\"left\" hspace=\"20px\" vspace=\"5px\">\n",
        "\n",
        "<h1>Welcome to Colaboratory!</h1>\n",
        "Colaboratory is a free Jupyter notebook environment that requires no setup and runs entirely in the cloud. See our [FAQ](https://research.google.com/colaboratory/faq.html) for more info."
      ]
    },
    {
      "metadata": {
        "colab_type": "text",
        "id": "-Rh3-Vt9Nev9"
      },
      "cell_type": "markdown",
      "source": [
        "## Getting Started\n",
        "- [Overview of Colaboratory](/notebooks/basic_features_overview.ipynb)\n",
        "- [Loading and saving data: Local files, Drive, Sheets, Google Cloud Storage](/notebooks/io.ipynb)\n",
        "- [Importing libraries and installing dependencies](/notebooks/snippets/importing_libraries.ipynb)\n",
        "- [Using Google Cloud BigQuery](/notebooks/bigquery.ipynb)\n",
        "- [Forms](/notebooks/forms.ipynb), [Charts](/notebooks/charts.ipynb), [Markdown](/notebooks/markdown_guide.ipynb), & [Widgets](/notebooks/widgets.ipynb)\n",
        "- [TensorFlow with GPU](/notebooks/gpu.ipynb)\n",
        "- [TensorFlow with TPU](/notebooks/tpu.ipynb)\n",
        "- [Machine Learning Crash Course](https://developers.google.com/machine-learning/crash-course/): [Intro to Pandas](/notebooks/mlcc/intro_to_pandas.ipynb) & [First Steps with TensorFlow](/notebooks/mlcc/first_steps_with_tensor_flow.ipynb)\n",
        "- [Using Colab with GitHub](https://colab.research.google.com/github/googlecolab/colabtools/blob/master/notebooks/colab-github-demo.ipynb)\n"
      ]
    },
    {
      "metadata": {
        "colab_type": "text",
        "id": "1fr51oVCHRZU"
      },
      "cell_type": "markdown",
      "source": [
        "## Highlighted Features\n",
        "### Seedbank\n",
        "\n",
        "Looking for Colab notebooks to learn from? Check out [Seedbank](https://tools.google.com/seedbank/), a place to discover interactive machine learning examples."
      ]
    },
    {
      "metadata": {
        "colab_type": "text",
        "id": "9wi5kfGdhK0R"
      },
      "cell_type": "markdown",
      "source": [
        "### TensorFlow execution"
      ]
    },
    {
      "metadata": {
        "colab_type": "text",
        "id": "S9GW-n-oYWIj"
      },
      "cell_type": "markdown",
      "source": [
        "Colaboratory allows you to execute TensorFlow code in your browser with a single click. The example below adds two matrices.\n",
        "\n",
        "$\\begin{bmatrix}\n",
        "  1. & 1. & 1. \\\\\n",
        "  1. & 1. & 1. \\\\\n",
        "\\end{bmatrix} +\n",
        "\\begin{bmatrix}\n",
        "  1. & 2. & 3. \\\\\n",
        "  4. & 5. & 6. \\\\\n",
        "\\end{bmatrix} =\n",
        "\\begin{bmatrix}\n",
        "  2. & 3. & 4. \\\\\n",
        "  5. & 6. & 7. \\\\\n",
        "\\end{bmatrix}$"
      ]
    },
    {
      "metadata": {
        "colab_type": "code",
        "id": "oYZkU7ZN3CL0",
        "outputId": "9589151d-5ff4-4bca-f05e-8bcba8ffcba1",
        "colab": {
          "base_uri": "https://localhost:8080/",
          "height": 53
        }
      },
      "cell_type": "code",
      "source": [
        "import tensorflow as tf\n",
        "\n",
        "input1 = tf.ones((2, 3))\n",
        "input2 = tf.reshape(tf.range(1, 7, dtype=tf.float32), (2, 3))\n",
        "output = input1 + input2\n",
        "\n",
        "with tf.Session():\n",
        "  result = output.eval()\n",
        "result  "
      ],
      "execution_count": 0,
      "outputs": [
        {
          "output_type": "execute_result",
          "data": {
            "text/plain": [
              "array([[2., 3., 4.],\n",
              "       [5., 6., 7.]], dtype=float32)"
            ]
          },
          "metadata": {
            "tags": []
          },
          "execution_count": 0
        }
      ]
    },
    {
      "metadata": {
        "colab_type": "text",
        "id": "nwYF0E3Sjiy4"
      },
      "cell_type": "markdown",
      "source": [
        "### GitHub\n",
        "\n",
        "For a full discussion of interactions between Colab and GitHub, see [Using Colab with GitHub](https://colab.research.google.com/github/googlecolab/colabtools/blob/master/notebooks/colab-github-demo.ipynb). As a brief summary:\n",
        "\n",
        "To save a copy of your Colab notebook to Github, select *File → Save a copy to GitHub…*\n",
        "\n",
        "To load a specific notebook from github, append the github path to http://colab.research.google.com/github/.\n",
        "For example to load this notebook in Colab: [https://github.com/tensorflow/docs/blob/master/site/en/tutorials/_index.ipynb](https://github.com/tensorflow/docs/blob/master/site/en/tutorials/_index.ipynb) use the following Colab URL: [https://colab.research.google.com/github/tensorflow/docs/blob/master/site/en/tutorials/_index.ipynb](https://colab.research.google.com/github/tensorflow/docs/blob/master/site/en/tutorials/_index.ipynb)\n",
        "\n",
        "To open a github notebook in one click, we recommend installing the [Open in Colab Chrome Extension](https://chrome.google.com/webstore/detail/open-in-colab/iogfkhleblhcpcekbiedikdehleodpjo).\n",
        "\n"
      ]
    },
    {
      "metadata": {
        "colab_type": "text",
        "id": "yv2XIwi5hQ_g"
      },
      "cell_type": "markdown",
      "source": [
        "### Visualization"
      ]
    },
    {
      "metadata": {
        "colab_type": "text",
        "id": "rYs5mx2JZkmy"
      },
      "cell_type": "markdown",
      "source": [
        "Colaboratory includes widely used libraries like [matplotlib](https://matplotlib.org/), simplifying visualization."
      ]
    },
    {
      "metadata": {
        "colab_type": "code",
        "id": "xqrc5C-IaA5J",
        "outputId": "3460cc84-faf8-4d8c-a4e6-96a6809c389a",
        "colab": {
          "height": 360
        }
      },
      "cell_type": "code",
      "source": [
        "import matplotlib.pyplot as plt\n",
        "import numpy as np\n",
        "\n",
        "x = np.arange(20)\n",
        "y = [x_i + np.random.randn(1) for x_i in x]\n",
        "a, b = np.polyfit(x, y, 1)\n",
        "_ = plt.plot(x, y, 'o', np.arange(20), a*np.arange(20)+b, '-')"
      ],
      "execution_count": 0,
      "outputs": [
        {
          "output_type": "display_data",
          "data": {
            "image/png": "[encoded data removed]",
            "text/plain": [
              "<matplotlib.figure.Figure at 0x562d64cf1b10>"
            ]
          },
          "metadata": {
            "tags": []
          }
        }
      ]
    },
    {
      "metadata": {
        "colab_type": "text",
        "id": "AN_LRQ9NkOjs"
      },
      "cell_type": "markdown",
      "source": [
        "Want to use a new library?  `pip install` it at the top of the notebook. Then that library can be used anywhere else in the notebook. For recipes to import commonly used libraries, refer to the [importing libraries example notebook](/notebooks/snippets/importing_libraries.ipynb)."
      ]
    },
    {
      "metadata": {
        "colab_type": "code",
        "id": "FlQq0SUepQbd",
        "outputId": "6e404831-3336-4633-b76f-c6313ecdd356",
        "colab": {
          "base_uri": "https://localhost:8080/",
          "height": 349
        }
      },
      "cell_type": "code",
      "source": [
        "!pip install -q matplotlib-venn\n",
        "\n",
        "from matplotlib_venn import venn2\n",
        "_ = venn2(subsets = (3, 2, 1))"
      ],
      "execution_count": 0,
      "outputs": [
        {
          "output_type": "display_data",
          "data": {
            "image/png": "[encoded data removed]",
            "text/plain": [
              "<matplotlib.figure.Figure at 0x7f48ff99ff10>"
            ]
          },
          "metadata": {
            "tags": []
          }
        }
      ]
    },
    {
      "metadata": {
        "colab_type": "text",
        "id": "LxZ3dPzYnyNF"
      },
      "cell_type": "markdown",
      "source": [
        "### Forms\n",
        "\n",
        "Forms can be used to parameterize code. See the [forms example notebook](/notebooks/forms.ipynb) for more details."
      ]
    },
    {
      "metadata": {
        "colab_type": "code",
        "id": "FQ_Hx_9tn7uF",
        "colab": {}
      },
      "cell_type": "code",
      "source": [
        "#@title Examples\n",
        "\n",
        "text = 'value' #@param \n",
        "date_input = '2018-03-22' #@param {type:\"date\"}\n",
        "number_slider = 0 #@param {type:\"slider\", min:-1, max:1, step:0.1}\n",
        "dropdown = '1st option' #@param [\"1st option\", \"2nd option\", \"3rd option\"]\n"
      ],
      "execution_count": 0,
      "outputs": []
    },
    {
      "metadata": {
        "colab_type": "text",
        "id": "rTX3heEtu0b2"
      },
      "cell_type": "markdown",
      "source": [
        "### Local runtime support\n",
        "\n",
        "Colab  supports connecting to a Jupyter runtime on your local machine. For more information, see our [documentation](https://research.google.com/colaboratory/local-runtimes.html)."
      ]
    }
  ]
}