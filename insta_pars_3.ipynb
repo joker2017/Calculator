{
  "nbformat": 4,
  "nbformat_minor": 0,
  "metadata": {
    "colab": {
      "name": "Hello, Colaboratory",
      "version": "0.3.2",
      "provenance": [],
      "collapsed_sections": [],
      "include_colab_link": true
    },
    "kernelspec": {
      "display_name": "Python 3",
      "name": "python3"
    }
  },
  "cells": [
    {
      "cell_type": "markdown",
      "metadata": {
        "id": "view-in-github",
        "colab_type": "text"
      },
      "source": [
        "<a href=\"https://colab.research.google.com/github/joker2017/Calculator/blob/master/insta_pars_3.ipynb\" target=\"_parent\"><img src=\"https://colab.research.google.com/assets/colab-badge.svg\" alt=\"Open In Colab\"/></a>"
      ]
    },
    {
      "metadata": {
        "id": "S5hlo2Xl6D_E",
        "colab_type": "text"
      },
      "cell_type": "markdown",
      "source": [
        "# Импорт репозитория и подключение пути"
      ]
    },
    {
      "metadata": {
        "id": "vIHveFT-l79r",
        "colab_type": "code",
        "outputId": "c550233a-7341-47f4-8cb1-f33fe7b89683",
        "colab": {
          "base_uri": "https://localhost:8080/",
          "height": 140
        }
      },
      "cell_type": "code",
      "source": [
        "#!git clone https://github.com/OlegYurchik/InstaParser\n",
        "!git clone https://github.com/joker2017/InstaParser.git\n",
        "  \n",
        "import sys\n",
        "sys.path.append('/content/InstaParser')"
      ],
      "execution_count": 1,
      "outputs": [
        {
          "output_type": "stream",
          "text": [
            "Cloning into 'InstaParser'...\n",
            "remote: Enumerating objects: 180, done.\u001b[K\n",
            "remote: Counting objects: 100% (180/180), done.\u001b[K\n",
            "remote: Compressing objects: 100% (98/98), done.\u001b[K\n",
            "remote: Total 180 (delta 92), reused 154 (delta 74), pack-reused 0\u001b[K\n",
            "Receiving objects: 100% (180/180), 56.96 KiB | 7.12 MiB/s, done.\n",
            "Resolving deltas: 100% (92/92), done.\n"
          ],
          "name": "stdout"
        }
      ]
    },
    {
      "metadata": {
        "id": "stkvJ58dnDn3",
        "colab_type": "code",
        "colab": {}
      },
      "cell_type": "code",
      "source": [
        "import sys\n",
        "sys.path.append('/content/InstaParser')"
      ],
      "execution_count": 0,
      "outputs": []
    },
    {
      "metadata": {
        "id": "nrSKCpuKnNC-",
        "colab_type": "code",
        "outputId": "016fcafc-e4a5-4aa4-d61a-ba07f7911567",
        "colab": {
          "base_uri": "https://localhost:8080/",
          "height": 54
        }
      },
      "cell_type": "code",
      "source": [
        "import os\n",
        "print( os.listdir('/content/InstaParser') )"
      ],
      "execution_count": 0,
      "outputs": [
        {
          "output_type": "stream",
          "text": [
            "['LICENSE', 'instaparser', 'requirements.txt', 'setup.py', '.git', 'README.md', '.gitignore', 'tests']\n"
          ],
          "name": "stdout"
        }
      ]
    },
    {
      "metadata": {
        "id": "lyjUAYn4mCMm",
        "colab_type": "code",
        "colab": {}
      },
      "cell_type": "code",
      "source": [
        "'''\n",
        "from instaparser.agents import Agent\n",
        "from instaparser.entities import Account, Media\n",
        "\n",
        "agent = Agent()\n",
        "account = Account(\"valentivitell\")\n",
        "media1, pointer = agent.get_media(account)\n",
        "print(media1)\n",
        "print(pointer)\n",
        "\n",
        "'''\n",
        "from instaparser.agents import Agent\n",
        "from instaparser.entities import Account, Media\n",
        "\n",
        "agent = Agent()\n",
        "#media = Media(\"BpyYw_lgIPV\")\n",
        "account = Account(\"valentivitell\")\n",
        "#comments, pointer = agent.get_comments(media)\n",
        "comments, pointer = agent.get_media(account, count=10)\n",
        "#print(\"COUNT: %s\" % len(comments))\n",
        "#print(\"POINTER: %s\" % pointer)\n",
        "#while not pointer is None:\n",
        "    #tmp, pointer = agent.get_comments(media, pointer=pointer)\n",
        "    #print(\"COUNT: %s\" % len(tmp))\n",
        "    #print(\"POINTER: %s\" % pointer)\n",
        "    #comments += tmp\n",
        "#photo, pointer = agent.get_likes(media)\n",
        "#while not pointer is None:\n",
        "   # tmp, pointer = agent.get_likes(media, pointer=pointer)\n",
        "    #print(\"COUNT: %s\" % len(tmp))\n",
        "   # print(\"POINTER: %s\" % pointer)\n",
        "    #photo += tmp\n",
        "#print(len(comments))\n",
        "#print(comments)\n",
        "#print(login.agent)\n",
        "\n",
        "#m = Media(\"Bk09NSFn3IX\")\n",
        "\n",
        "\n",
        "print(len(account.media))\n",
        "print(account.media)\n",
        "print(Media(\"Biwp6NEDEno\").display_url)\n",
        "#Media(\"Biwp6NEDEno\").comments\n",
        "f = Media(\"Biwp6NEDEno\")\n",
        "t = f.date\n",
        "from datetime import datetime\n",
        "print(\"Date\", f.date)\n",
        "print(datetime.utcfromtimestamp(t).strftime('%Y-%m-%d %H:%M:%S'))\n",
        "\n",
        "print(comments)\n",
        "p = Comment(17951132761004011).created_at                     #17951132761004011)\n",
        "print(\"Data commment\", p)\n",
        "\n",
        "comments, pointer = agent.get_comments(f, count=1000)\n",
        "\n",
        "print(\"KKKKKKKKKK\", comments, pointer)\n",
        "for i in range(len(comments)):\n",
        "  print(Comment(comments[i]).text)"
      ],
      "execution_count": 0,
      "outputs": []
    },
    {
      "metadata": {
        "id": "knnpvwJNZg3J",
        "colab_type": "code",
        "colab": {}
      },
      "cell_type": "code",
      "source": [
        "from instaparser.agents import Agent\n",
        "from instaparser.entities import Account, Media, Location\n",
        "\n",
        "agent = Agent()\n",
        "account = Account(\"likekate_\") # likekate_    valentivitell\n",
        "\n",
        "\n",
        "followers_count = account.followers_count\n",
        "country_block = account.country_block\n",
        "print(\"Подписчиков:\", followers_count)\n",
        "print(\"Страна:\", country_block)\n",
        "\n",
        "photos, pointer = agent.get_media(account, count=1000)\n",
        "for i in range(len(photos)):\n",
        "  url = Media(photos[i]).display_url\n",
        "  like = Media(photos[i]).likes_count\n",
        "  date = Media(photos[i]).date\n",
        "  location = Media(photos[i]).location\n",
        "  is_video = Media(photos[i]).is_video\n",
        "  print(\"is_video:\", is_video, \"location:\", Location(location).slug, \"like:\", like, \"date:\", date, \"url:\", url)\n",
        "  \n",
        "  \n",
        "  comments, pointer = agent.get_comments(Media(photos[i]), count=1000)"
      ],
      "execution_count": 0,
      "outputs": []
    },
    {
      "metadata": {
        "id": "_jj6yzo2QIjA",
        "colab_type": "code",
        "outputId": "2470d7a6-708d-45ce-949a-9a0109496377",
        "colab": {
          "base_uri": "https://localhost:8080/",
          "height": 52
        }
      },
      "cell_type": "code",
      "source": [
        "location = Media(photos[6]).location\n",
        "print(location)\n",
        "print(Location(213006401).slug)"
      ],
      "execution_count": 0,
      "outputs": [
        {
          "output_type": "stream",
          "text": [
            "213006401\n",
            "None\n"
          ],
          "name": "stdout"
        }
      ]
    },
    {
      "metadata": {
        "id": "vFfDr7CKJ8F5",
        "colab_type": "code",
        "colab": {}
      },
      "cell_type": "code",
      "source": [
        "sbuf = set(Word)\n",
        "result = [x for x in Ans if x in sbuf)]"
      ],
      "execution_count": 0,
      "outputs": []
    },
    {
      "metadata": {
        "id": "Qyy17m9fcJMA",
        "colab_type": "code",
        "colab": {}
      },
      "cell_type": "code",
      "source": [
        "from instaparser.agents import AgentAccount\n",
        "from instaparser.entities import Media\n",
        "\n",
        "photos = []\n",
        "agent = AgentAccount(\"andivanov2019\", \"Asus2046\")\n",
        "\n",
        "medias, pointer = agent.feed()\n",
        "for media in medias:\n",
        "    if not media.is_video:\n",
        "        photos.append(media.display_url)\n",
        "\n",
        "while not pointer is None:\n",
        "    medias, pointer = agent.feed(pointer=pointer)\n",
        "    for media in medias:\n",
        "        if not media.is_video:\n",
        "            photos.append(media.display_url)"
      ],
      "execution_count": 0,
      "outputs": []
    },
    {
      "metadata": {
        "id": "hnJdme88dUX7",
        "colab_type": "code",
        "outputId": "83615425-5501-45b2-eece-b072927701a6",
        "colab": {
          "base_uri": "https://localhost:8080/",
          "height": 90
        }
      },
      "cell_type": "code",
      "source": [
        "photos"
      ],
      "execution_count": 0,
      "outputs": [
        {
          "output_type": "execute_result",
          "data": {
            "text/plain": [
              "['https://scontent-mia3-2.cdninstagram.com/vp/3c5ff4b929d4d456e3288c54b55997ef/5D012959/t51.2885-15/e35/50837902_1438790349591092_9115408134025701781_n.jpg?_nc_ht=scontent-mia3-2.cdninstagram.com',\n",
              " 'https://scontent-mia3-2.cdninstagram.com/vp/5c84e1b2da78318160741628483924cc/5CCCD92C/t51.2885-15/e35/50311253_344429243060771_3993368138464820438_n.jpg?_nc_ht=scontent-mia3-2.cdninstagram.com',\n",
              " 'https://scontent-mia3-2.cdninstagram.com/vp/ff71efe99c769d55eff4f8cffb84d98b/5CBF2439/t51.2885-15/e35/49512412_2113510618695931_1597415578004403118_n.jpg?_nc_ht=scontent-mia3-2.cdninstagram.com']"
            ]
          },
          "metadata": {
            "tags": []
          },
          "execution_count": 10
        }
      ]
    },
    {
      "metadata": {
        "id": "xAP0tb4FzlVr",
        "colab_type": "text"
      },
      "cell_type": "markdown",
      "source": [
        "**Готовый скрипт получения ссылок на фото**"
      ]
    },
    {
      "metadata": {
        "id": "J19s6J00chLR",
        "colab_type": "code",
        "colab": {
          "base_uri": "https://localhost:8080/",
          "height": 1022
        },
        "outputId": "3f832f0e-9ab6-4520-b24d-ddf113652990"
      },
      "cell_type": "code",
      "source": [
        "from instaparser.entities import Account, Media, Location\n",
        "from instaparser.agents import Agent\n",
        "agent = Agent()\n",
        "account = Account(\"likekate_\") # likekate_    valentivitell\n",
        "\n",
        "#followers = agent.get_followers(account, limit=1000)\n",
        "#print(\"followers\", followers )\n",
        "\n",
        "followers_count = account.followers_count\n",
        "country_block = account.country_block\n",
        "print(\"Подписчиков:\", followers_count)\n",
        "print(\"Страна:\", country_block)\n",
        "\n",
        "photos, pointer = agent.get_media(account, count=48)\n",
        "for i in range(len(photos)):\n",
        "  url = Media(photos[i]).display_url\n",
        "  like = Media(photos[i]).likes_count\n",
        "  date = Media(photos[i]).date\n",
        "  location = Media(photos[i]).location\n",
        "  is_video = Media(photos[i]).is_video\n",
        "  print(\"is_video:\", is_video, \"location:\", Location(location).name, \"like:\", like, \"date:\", date, \"url:\", url)"
      ],
      "execution_count": 3,
      "outputs": [
        {
          "output_type": "stream",
          "text": [
            "rhx_gis fc2e73d4fd7dddcd31d28bea5cb2df59\n",
            "Подписчиков: 310110\n",
            "Страна: False\n",
            "rhx_gis fc2e73d4fd7dddcd31d28bea5cb2df59\n",
            "settings {'params': {'query_hash': 'c6809c9c025875ac6f02619eae97a80e', 'variables': '{\"id\":\"2120762022\",\"first\":48,\"after\":\"QVFCbnY4bWdITlIzbXh2R0ZvTHc0aVdNM0VIUFpDUDBvMlJqUTJZcUJTdGgwQ0hldkdWbzhIT1VRakVvUWxDNFhkbTQ5Y29fR3l5V01TZE9ONllKZUE5Sw==\"}'}, 'headers': {'X-Instagram-GIS': '56579c3a0b2f0347e6fa9745199e7340', 'X-Requested-With': 'XMLHttpRequest'}}\n",
            "variables_string {\"id\":\"2120762022\",\"first\":36,\"after\":\"QVFCemp2NVFKLVVoQ0xlWjg3UkFjTTJUSFo3MndSYjNuNGxlVlIyS1QyZ2NPNC1xME5qNWsyREtuRkNXbnRzSUI4RTVRRjdoS1d6YkdDbUhhbVBwdVFTRA==\"}\n",
            "rhx_gis_2 fc2e73d4fd7dddcd31d28bea5cb2df59\n",
            "**settings {'params': {'query_hash': 'c6809c9c025875ac6f02619eae97a80e', 'variables': '{\"id\":\"2120762022\",\"first\":36,\"after\":\"QVFCemp2NVFKLVVoQ0xlWjg3UkFjTTJUSFo3MndSYjNuNGxlVlIyS1QyZ2NPNC1xME5qNWsyREtuRkNXbnRzSUI4RTVRRjdoS1d6YkdDbUhhbVBwdVFTRA==\"}'}, 'headers': {'X-Instagram-GIS': 'dbbda13927b375ff8fd1379933b60293', 'X-Requested-With': 'XMLHttpRequest'}}\n",
            "is_video: False location: None like: 6649 date: 1549006491 url: https://scontent-atl3-1.cdninstagram.com/vp/39482eeb69235aa8b6c0d65b3009bdc7/5CE6A118/t51.2885-15/e35/49485939_405039770304599_1471793903944027609_n.jpg?_nc_ht=scontent-atl3-1.cdninstagram.com\n",
            "is_video: False location: None like: 6434 date: 1548941846 url: https://scontent-atl3-1.cdninstagram.com/vp/02772ed45fdf92712c625554d9acf417/5CF706A2/t51.2885-15/e35/50850075_249767562598516_1610835668035212279_n.jpg?_nc_ht=scontent-atl3-1.cdninstagram.com\n",
            "is_video: False location: None like: 7145 date: 1548929596 url: https://scontent-atl3-1.cdninstagram.com/vp/2b7ff9d3a328610fb698e788c0c8ef17/5CF11F70/t51.2885-15/e35/50575124_321829805113005_2774109152261977260_n.jpg?_nc_ht=scontent-atl3-1.cdninstagram.com\n",
            "is_video: True location: None like: 6976 date: 1548853811 url: https://scontent-atl3-1.cdninstagram.com/vp/4fade7224865e24f3783d1d2570a0e64/5C577AB0/t51.2885-15/e15/50068021_1068764106640509_544769445619182075_n.jpg?_nc_ht=scontent-atl3-1.cdninstagram.com\n",
            "is_video: False location: None like: 8042 date: 1548749652 url: https://scontent-atl3-1.cdninstagram.com/vp/4c4ec663e2a3bcd611a78498e70d648a/5CEB5D59/t51.2885-15/e35/49739646_113593053067152_1009524349678270107_n.jpg?_nc_ht=scontent-atl3-1.cdninstagram.com\n",
            "is_video: False location: None like: 9842 date: 1548657229 url: https://scontent-atl3-1.cdninstagram.com/vp/20f10f26cac6c73b842990051e7bbbbd/5CDAA7C6/t51.2885-15/e35/49802186_142162176803290_656499812269261748_n.jpg?_nc_ht=scontent-atl3-1.cdninstagram.com\n",
            "is_video: False location: None like: 7538 date: 1548536100 url: https://scontent-atl3-1.cdninstagram.com/vp/d6964b779a8eed3da95ce402df863d04/5CF4EA6F/t51.2885-15/e35/49646931_315031675799533_7927615428961579934_n.jpg?_nc_ht=scontent-atl3-1.cdninstagram.com\n",
            "is_video: False location: None like: 7608 date: 1548490432 url: https://scontent-atl3-1.cdninstagram.com/vp/0f552454e2f13bde68c4e051de750902/5CDC6451/t51.2885-15/e35/49756213_287248491958671_1103014011103946249_n.jpg?_nc_ht=scontent-atl3-1.cdninstagram.com\n",
            "is_video: False location: None like: 8566 date: 1548430967 url: https://scontent-atl3-1.cdninstagram.com/vp/e4fc10b0982944a7e71a1ebf0f7ad102/5CF58F1A/t51.2885-15/e35/49768151_1973081459478400_408557009685473918_n.jpg?_nc_ht=scontent-atl3-1.cdninstagram.com\n",
            "is_video: False location: None like: 8391 date: 1548362906 url: https://scontent-atl3-1.cdninstagram.com/vp/f6a72e7734dc06be9f24ee8be73964ff/5CE5010A/t51.2885-15/e35/49308637_388638238378295_1371433325026273535_n.jpg?_nc_ht=scontent-atl3-1.cdninstagram.com\n",
            "is_video: False location: None like: 9688 date: 1548333274 url: https://scontent-atl3-1.cdninstagram.com/vp/d57fd8d1a23c8d9f6d3a24a601a5b85f/5CEAC780/t51.2885-15/e35/50074705_320446355481260_2428915369426463515_n.jpg?_nc_ht=scontent-atl3-1.cdninstagram.com\n",
            "is_video: False location: None like: 7684 date: 1548262290 url: https://scontent-atl3-1.cdninstagram.com/vp/fb8b5c3f763a12a195853cc9b9ff3eca/5CF698E1/t51.2885-15/e35/49769609_372200270241724_6178964822544040001_n.jpg?_nc_ht=scontent-atl3-1.cdninstagram.com\n",
            "is_video: False location: None like: 8808 date: 1548232475 url: https://scontent-atl3-1.cdninstagram.com/vp/d3e2aeb8c57416149877d0dd35c62fbc/5CEB0CBC/t51.2885-15/e35/49463691_351836228970486_6021991836456573335_n.jpg?_nc_ht=scontent-atl3-1.cdninstagram.com\n",
            "is_video: False location: None like: 8173 date: 1548151078 url: https://scontent-atl3-1.cdninstagram.com/vp/7601a21e53ba0c14e842b79d2a236dc0/5CDE5DC9/t51.2885-15/e35/49933634_2339059122780329_65271664831692163_n.jpg?_nc_ht=scontent-atl3-1.cdninstagram.com\n",
            "is_video: False location: None like: 7609 date: 1548143361 url: https://scontent-atl3-1.cdninstagram.com/vp/7cb5ff6acc9a1661772e03ebac0d4254/5CEDA161/t51.2885-15/e35/50572331_2145863482410826_5994304792067171987_n.jpg?_nc_ht=scontent-atl3-1.cdninstagram.com\n",
            "is_video: False location: None like: 8371 date: 1548075322 url: https://scontent-atl3-1.cdninstagram.com/vp/c29dd0cae85a017d3a55f95e1f4e3734/5CF419A3/t51.2885-15/e35/49426799_2279330862129304_556807059599215601_n.jpg?_nc_ht=scontent-atl3-1.cdninstagram.com\n",
            "is_video: False location: None like: 8323 date: 1547985602 url: https://scontent-atl3-1.cdninstagram.com/vp/4de0cd1c2ae2496fa00e34ee96b188fd/5CFA09C1/t51.2885-15/e35/49858591_104676060644699_4931295912485810705_n.jpg?_nc_ht=scontent-atl3-1.cdninstagram.com\n",
            "is_video: False location: None like: 7708 date: 1547977001 url: https://scontent-atl3-1.cdninstagram.com/vp/e25241c1755b701efeb2f55fdfe9fbd9/5CDEDF9D/t51.2885-15/e35/49913197_370453903770524_7268135662336443473_n.jpg?_nc_ht=scontent-atl3-1.cdninstagram.com\n",
            "is_video: True location: None like: 7818 date: 1547923783 url: https://scontent-atl3-1.cdninstagram.com/vp/f79a42dc86baca5e0549b99f688e5828/5C56EB80/t51.2885-15/e15/49913341_2166401763625545_5269093690227596508_n.jpg?_nc_ht=scontent-atl3-1.cdninstagram.com\n",
            "is_video: False location: None like: 7513 date: 1547841096 url: https://scontent-atl3-1.cdninstagram.com/vp/68baf36c795dc3f2545651b33db28437/5CE04A59/t51.2885-15/e35/49766704_2194364387294553_3864083990820982362_n.jpg?_nc_ht=scontent-atl3-1.cdninstagram.com\n",
            "is_video: False location: None like: 8283 date: 1547820103 url: https://scontent-atl3-1.cdninstagram.com/vp/cae60d5514cfa51e429f544f13ea887c/5CF8680C/t51.2885-15/e35/49370460_162685161281184_2499294491390204988_n.jpg?_nc_ht=scontent-atl3-1.cdninstagram.com\n",
            "is_video: False location: None like: 6875 date: 1547748289 url: https://scontent-atl3-1.cdninstagram.com/vp/59462d145039835a2b4c478b4a185d1e/5CDD8631/t51.2885-15/e35/49592639_2242313479421232_182691088596142737_n.jpg?_nc_ht=scontent-atl3-1.cdninstagram.com\n",
            "is_video: False location: None like: 10869 date: 1547719477 url: https://scontent-atl3-1.cdninstagram.com/vp/86fa1b10364039c77cc17d4272d99705/5CEB5669/t51.2885-15/e35/49351296_380636389370706_1788130581530738441_n.jpg?_nc_ht=scontent-atl3-1.cdninstagram.com\n",
            "is_video: False location: None like: 9901 date: 1547718628 url: https://scontent-atl3-1.cdninstagram.com/vp/59f9355e32ac2a2591fd109bc02c5c8d/5CFDB41F/t51.2885-15/e35/50039922_545138406000412_8577970102892119469_n.jpg?_nc_ht=scontent-atl3-1.cdninstagram.com\n",
            "is_video: True location: None like: 7613 date: 1547636640 url: https://scontent-atl3-1.cdninstagram.com/vp/1a742119210c7e66089944bfb542694a/5C576C0F/t51.2885-15/e15/49398052_204412913757983_3992277137261669568_n.jpg?_nc_ht=scontent-atl3-1.cdninstagram.com\n",
            "is_video: False location: None like: 8040 date: 1547622260 url: https://scontent-atl3-1.cdninstagram.com/vp/e9bf19cec064894583ef50fecf35d855/5CDC9297/t51.2885-15/e35/50231702_140573776945190_2439769712085077903_n.jpg?_nc_ht=scontent-atl3-1.cdninstagram.com\n",
            "is_video: False location: None like: 8456 date: 1547567794 url: https://scontent-atl3-1.cdninstagram.com/vp/e38c4831bedaf0cfeb8df2b506f2875d/5CEB40FD/t51.2885-15/e35/49384983_140063357002895_3391429982652132459_n.jpg?_nc_ht=scontent-atl3-1.cdninstagram.com\n",
            "is_video: False location: None like: 7594 date: 1547483910 url: https://scontent-atl3-1.cdninstagram.com/vp/047e4892e88eb998b949837977ff2784/5CDBDB08/t51.2885-15/e35/47695078_309589273021126_1467024172071896470_n.jpg?_nc_ht=scontent-atl3-1.cdninstagram.com\n",
            "is_video: False location: None like: 7987 date: 1547456921 url: https://scontent-atl3-1.cdninstagram.com/vp/98b60cd2c026ee85a19339d9a259ce4b/5CFE3826/t51.2885-15/e35/49327552_285636872143383_2478632639012066989_n.jpg?_nc_ht=scontent-atl3-1.cdninstagram.com\n",
            "is_video: False location: None like: 9886 date: 1547369252 url: https://scontent-atl3-1.cdninstagram.com/vp/f6b0780f9efa697d2c242ef1668927cb/5CE962A4/t51.2885-15/e35/49735484_2315676055329236_5684572135209692179_n.jpg?_nc_ht=scontent-atl3-1.cdninstagram.com\n",
            "is_video: False location: None like: 8733 date: 1547363552 url: https://scontent-atl3-1.cdninstagram.com/vp/f3006aaf9d3e1380bcd7985b7faea5a9/5CFCFAE7/t51.2885-15/e35/49614738_331775067679306_6479682361434182879_n.jpg?_nc_ht=scontent-atl3-1.cdninstagram.com\n",
            "is_video: False location: None like: 9762 date: 1547327764 url: https://scontent-atl3-1.cdninstagram.com/vp/280cc953fd965886c9a1999f40be3a5f/5CDB97FE/t51.2885-15/e35/47693878_2059693764124064_4273880850454902066_n.jpg?_nc_ht=scontent-atl3-1.cdninstagram.com\n",
            "is_video: False location: None like: 8427 date: 1547294284 url: https://scontent-atl3-1.cdninstagram.com/vp/710f97a8b55df4b121d3f5abf246670b/5CE82C42/t51.2885-15/e35/49360371_1037913253067764_1696572780840874505_n.jpg?_nc_ht=scontent-atl3-1.cdninstagram.com\n",
            "is_video: False location: None like: 7649 date: 1547275306 url: https://scontent-atl3-1.cdninstagram.com/vp/d3e8b444bf7a43178fe58d508049027d/5CF4A8AF/t51.2885-15/e35/49515994_319547771993903_4023096177168508151_n.jpg?_nc_ht=scontent-atl3-1.cdninstagram.com\n",
            "is_video: False location: None like: 8784 date: 1547240704 url: https://scontent-atl3-1.cdninstagram.com/vp/7d62f923f1a92314045dbddc99b26915/5CF283E6/t51.2885-15/e35/47692717_2486097098084515_1924722559752206498_n.jpg?_nc_ht=scontent-atl3-1.cdninstagram.com\n",
            "is_video: False location: None like: 8192 date: 1547204593 url: https://scontent-atl3-1.cdninstagram.com/vp/8299709941279081f5e320f4f519ea33/5CF55C99/t51.2885-15/e35/49985487_303375237041929_7907827371355015352_n.jpg?_nc_ht=scontent-atl3-1.cdninstagram.com\n",
            "is_video: False location: None like: 6464 date: 1547196766 url: https://scontent-atl3-1.cdninstagram.com/vp/d9e6439edbbc2ca5ef4f83418929b8f0/5CE2608B/t51.2885-15/e35/47584334_2117412658572242_986972365761564872_n.jpg?_nc_ht=scontent-atl3-1.cdninstagram.com\n",
            "is_video: True location: None like: 7682 date: 1547110177 url: https://scontent-atl3-1.cdninstagram.com/vp/6153dabdabcb319346896896d7772721/5C564660/t51.2885-15/e15/47693701_2161177940607754_6125206825897573936_n.jpg?_nc_ht=scontent-atl3-1.cdninstagram.com\n",
            "is_video: False location: None like: 9861 date: 1547045719 url: https://scontent-atl3-1.cdninstagram.com/vp/961cda2d21a56878ad979acfddae178b/5CE378EC/t51.2885-15/e35/47693140_586328855165720_6884152590788298478_n.jpg?_nc_ht=scontent-atl3-1.cdninstagram.com\n",
            "is_video: False location: None like: 8080 date: 1547016544 url: https://scontent-atl3-1.cdninstagram.com/vp/837105877e8c31cc5fb587a2642cb2b7/5CEF01C8/t51.2885-15/e35/49833650_1479906212140575_7932429251163591017_n.jpg?_nc_ht=scontent-atl3-1.cdninstagram.com\n",
            "is_video: False location: None like: 7505 date: 1546959360 url: https://scontent-atl3-1.cdninstagram.com/vp/592f36025b2a6d682b8b234dc4c0a8b2/5CE4DBCB/t51.2885-15/e35/47694863_321820011761512_8804586414337204636_n.jpg?_nc_ht=scontent-atl3-1.cdninstagram.com\n",
            "is_video: False location: None like: 7905 date: 1546931987 url: https://scontent-atl3-1.cdninstagram.com/vp/77990643bd4396ed1002c75d14ace70e/5CE0DA2A/t51.2885-15/e35/47691793_2009534696016261_4926043697503420393_n.jpg?_nc_ht=scontent-atl3-1.cdninstagram.com\n",
            "is_video: False location: None like: 10542 date: 1546857883 url: https://scontent-atl3-1.cdninstagram.com/vp/2b7471539d5f5d75757d0fa6e47f3f03/5CF50E0D/t51.2885-15/e35/47584060_1219515021521074_7601126647753730700_n.jpg?_nc_ht=scontent-atl3-1.cdninstagram.com\n",
            "is_video: False location: None like: 6539 date: 1546815369 url: https://scontent-atl3-1.cdninstagram.com/vp/d26f13f92dc32c0860a1ebe06543a17b/5CFBDDE4/t51.2885-15/e35/47583465_378503062898704_4811882974744038573_n.jpg?_nc_ht=scontent-atl3-1.cdninstagram.com\n",
            "is_video: False location: None like: 7509 date: 1546772107 url: https://scontent-atl3-1.cdninstagram.com/vp/031fca863edf700ceac2911232682f17/5CF5142E/t51.2885-15/e35/47301278_1178363568979164_2296718574581927978_n.jpg?_nc_ht=scontent-atl3-1.cdninstagram.com\n",
            "is_video: False location: None like: 10431 date: 1546715463 url: https://scontent-atl3-1.cdninstagram.com/vp/d7d795f96fcd6b0e3b63adb7d973d8c5/5CDE4A25/t51.2885-15/e35/50088355_536737053499104_172607470946657659_n.jpg?_nc_ht=scontent-atl3-1.cdninstagram.com\n",
            "is_video: False location: None like: 11227 date: 1546689544 url: https://scontent-atl3-1.cdninstagram.com/vp/57cc9852425bbef62eaaf3282f8ad04f/5CF16E66/t51.2885-15/e35/47692671_2485712111500881_6946768683105055366_n.jpg?_nc_ht=scontent-atl3-1.cdninstagram.com\n",
            "is_video: False location: None like: 10753 date: 1546672323 url: https://scontent-atl3-1.cdninstagram.com/vp/eb53cf56dc2cb7bbfb2640373a0b31eb/5CE9DCF1/t51.2885-15/e35/47196878_303192183658283_3587432309447709392_n.jpg?_nc_ht=scontent-atl3-1.cdninstagram.com\n"
          ],
          "name": "stdout"
        }
      ]
    },
    {
      "metadata": {
        "id": "qmovihq3FWhm",
        "colab_type": "code",
        "colab": {}
      },
      "cell_type": "code",
      "source": [
        "from instaparser.entities import Account, Media, Location\n",
        "from instaparser.agents import AgentAccount\n",
        "agent4 = AgentAccount(\"andivanov2019\", \"Asus2046\")"
      ],
      "execution_count": 0,
      "outputs": []
    },
    {
      "metadata": {
        "id": "2MaMEloFwJqU",
        "colab_type": "code",
        "colab": {}
      },
      "cell_type": "code",
      "source": [
        "\n",
        "account = Account(\"valentivitell\")\n",
        "#followers = []\n",
        "#follower = []\n",
        "followers_all = []\n",
        "print(\"agent\", agent4)\n",
        "print(\"account\", account)\n",
        "followers, pointer = agent4.get_followers(account, count=100000)\n",
        "print(\"aaa\", len(followers))\n",
        "'''for follower in followers:\n",
        "    followers_all.append(follower)\n",
        "    \n",
        "print(\"bbb\", len(followers_all))\n",
        "while not pointer is None:\n",
        "    followers, pointer = agent4.get_followers(account, pointer=pointer)\n",
        "    print(\"ccc\", len(followers_all))\n",
        "    for follower in followers:\n",
        "        followers_all.append(follower)\n",
        "    print(\"eee\", len(followers_all))    \n",
        "    \n",
        "print(\"ddd\", len(followers_all))\n",
        "'''\n"
      ],
      "execution_count": 0,
      "outputs": []
    },
    {
      "metadata": {
        "id": "-7m-FKaUvCDl",
        "colab_type": "code",
        "outputId": "628dd204-a96f-4114-d227-391c8ebf509f",
        "colab": {
          "base_uri": "https://localhost:8080/",
          "height": 34
        }
      },
      "cell_type": "code",
      "source": [
        "len(followers)"
      ],
      "execution_count": 0,
      "outputs": [
        {
          "output_type": "execute_result",
          "data": {
            "text/plain": [
              "20"
            ]
          },
          "metadata": {
            "tags": []
          },
          "execution_count": 9
        }
      ]
    },
    {
      "metadata": {
        "id": "D5MPIfEjqV2l",
        "colab_type": "code",
        "colab": {}
      },
      "cell_type": "code",
      "source": [
        "comments, pointer = agent.get_comments(media)\n",
        "owner = comments[1].owner\n",
        "text = comments[1].text\n",
        "created_at = comments[1].created_at"
      ],
      "execution_count": 0,
      "outputs": []
    },
    {
      "metadata": {
        "id": "fddi4z0lfHyc",
        "colab_type": "code",
        "colab": {}
      },
      "cell_type": "code",
      "source": [
        "media = []\n",
        "medias, pointer = agent.feed()\n",
        "for media in medias:\n",
        "    if not media.is_video:\n",
        "        photos.append(media)\n",
        "\n",
        "while not pointer is None:\n",
        "    medias, pointer = agent.feed(pointer=pointer)\n",
        "    for media in medias:\n",
        "        if not media.is_video:\n",
        "            photos.append(media)"
      ],
      "execution_count": 0,
      "outputs": []
    },
    {
      "metadata": {
        "id": "U3e3FwFUiQAt",
        "colab_type": "code",
        "colab": {}
      },
      "cell_type": "code",
      "source": [
        "photos"
      ],
      "execution_count": 0,
      "outputs": []
    },
    {
      "metadata": {
        "id": "BPibT9Iefcl1",
        "colab_type": "code",
        "colab": {}
      },
      "cell_type": "code",
      "source": [
        "g = Media(\"BrFzz6tF5MK\")\n",
        "h = agent.get_likes(g, count=100000)\n",
        "h"
      ],
      "execution_count": 0,
      "outputs": []
    }
  ]
}