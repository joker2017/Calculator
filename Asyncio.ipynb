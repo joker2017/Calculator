{
  "nbformat": 4,
  "nbformat_minor": 0,
  "metadata": {
    "colab": {
      "name": "Asyncio.ipynb",
      "version": "0.3.2",
      "provenance": [],
      "include_colab_link": true
    },
    "kernelspec": {
      "name": "python3",
      "display_name": "Python 3"
    }
  },
  "cells": [
    {
      "cell_type": "markdown",
      "metadata": {
        "id": "view-in-github",
        "colab_type": "text"
      },
      "source": [
        "<a href=\"https://colab.research.google.com/github/joker2017/Calculator/blob/master/Asyncio.ipynb\" target=\"_parent\"><img src=\"https://colab.research.google.com/assets/colab-badge.svg\" alt=\"Open In Colab\"/></a>"
      ]
    },
    {
      "metadata": {
        "id": "fD47QFBUSn5L",
        "colab_type": "text"
      },
      "cell_type": "markdown",
      "source": [
        "# **Asyncio**"
      ]
    },
    {
      "metadata": {
        "id": "Kl9tnlnD-vDP",
        "colab_type": "code",
        "colab": {
          "base_uri": "https://localhost:8080/",
          "height": 34
        },
        "outputId": "49465fff-c65b-4d6d-d25e-abec8b9a942b"
      },
      "cell_type": "code",
      "source": [
        "!python --version"
      ],
      "execution_count": 5,
      "outputs": [
        {
          "output_type": "stream",
          "text": [
            "Python 3.6.7\n"
          ],
          "name": "stdout"
        }
      ]
    },
    {
      "metadata": {
        "id": "2VFk3u5790rx",
        "colab_type": "code",
        "colab": {
          "base_uri": "https://localhost:8080/",
          "height": 512
        },
        "outputId": "f21ba5f8-132d-4237-a951-9027215e0bff"
      },
      "cell_type": "code",
      "source": [
        "!pip install --upgrade pip aiohttp aiofiles"
      ],
      "execution_count": 1,
      "outputs": [
        {
          "output_type": "stream",
          "text": [
            "Requirement already up-to-date: pip in /usr/local/lib/python3.6/dist-packages (18.1)\n",
            "Collecting aiohttp\n",
            "\u001b[?25l  Downloading https://files.pythonhosted.org/packages/0d/5c/f87987f4dc8b2cfcf37c83a814ea4b2aff4d285cbffc0ab08b2b4fa3f584/aiohttp-3.5.4-cp36-cp36m-manylinux1_x86_64.whl (1.2MB)\n",
            "\u001b[K    100% |████████████████████████████████| 1.2MB 12.9MB/s \n",
            "\u001b[?25hCollecting aiofiles\n",
            "  Downloading https://files.pythonhosted.org/packages/cf/f2/a67a23bc0bb61d88f82aa7fb84a2fb5f278becfbdc038c5cbb36c31feaf1/aiofiles-0.4.0-py3-none-any.whl\n",
            "Collecting typing-extensions>=3.6.5; python_version < \"3.7\" (from aiohttp)\n",
            "  Downloading https://files.pythonhosted.org/packages/0f/62/c66e553258c37c33f9939abb2dd8d2481803d860ff68e635466f12aa7efa/typing_extensions-3.7.2-py3-none-any.whl\n",
            "Collecting yarl<2.0,>=1.0 (from aiohttp)\n",
            "\u001b[?25l  Downloading https://files.pythonhosted.org/packages/fa/c0/9a73968a9f4e4dac8dffb0ba35f932dd7798fe97901f4942c2d38667862c/yarl-1.3.0-cp36-cp36m-manylinux1_x86_64.whl (251kB)\n",
            "\u001b[K    100% |████████████████████████████████| 256kB 25.1MB/s \n",
            "\u001b[?25hCollecting async-timeout<4.0,>=3.0 (from aiohttp)\n",
            "  Downloading https://files.pythonhosted.org/packages/e1/1e/5a4441be21b0726c4464f3f23c8b19628372f606755a9d2e46c187e65ec4/async_timeout-3.0.1-py3-none-any.whl\n",
            "Requirement already satisfied, skipping upgrade: attrs>=17.3.0 in /usr/local/lib/python3.6/dist-packages (from aiohttp) (18.2.0)\n",
            "Collecting multidict<5.0,>=4.0 (from aiohttp)\n",
            "\u001b[?25l  Downloading https://files.pythonhosted.org/packages/71/cc/ceb5b8c76e7a23212b9e0353053cc35a9d86c763d852a76d9b941fe81fbc/multidict-4.5.2-cp36-cp36m-manylinux1_x86_64.whl (309kB)\n",
            "\u001b[K    100% |████████████████████████████████| 317kB 24.7MB/s \n",
            "\u001b[?25hCollecting idna-ssl>=1.0; python_version < \"3.7\" (from aiohttp)\n",
            "  Downloading https://files.pythonhosted.org/packages/46/03/07c4894aae38b0de52b52586b24bf189bb83e4ddabfe2e2c8f2419eec6f4/idna-ssl-1.1.0.tar.gz\n",
            "Requirement already satisfied, skipping upgrade: chardet<4.0,>=2.0 in /usr/local/lib/python3.6/dist-packages (from aiohttp) (3.0.4)\n",
            "Requirement already satisfied, skipping upgrade: idna>=2.0 in /usr/local/lib/python3.6/dist-packages (from yarl<2.0,>=1.0->aiohttp) (2.6)\n",
            "Building wheels for collected packages: idna-ssl\n",
            "  Running setup.py bdist_wheel for idna-ssl ... \u001b[?25l-\b \bdone\n",
            "\u001b[?25h  Stored in directory: /root/.cache/pip/wheels/d3/00/b3/32d613e19e08a739751dd6bf998cfed277728f8b2127ad4eb7\n",
            "Successfully built idna-ssl\n",
            "Installing collected packages: typing-extensions, multidict, yarl, async-timeout, idna-ssl, aiohttp, aiofiles\n",
            "Successfully installed aiofiles-0.4.0 aiohttp-3.5.4 async-timeout-3.0.1 idna-ssl-1.1.0 multidict-4.5.2 typing-extensions-3.7.2 yarl-1.3.0\n"
          ],
          "name": "stdout"
        }
      ]
    },
    {
      "metadata": {
        "id": "Zff0ycaAQo7o",
        "colab_type": "text"
      },
      "cell_type": "markdown",
      "source": [
        "* 1# Вам необходим некий экземпляр цикла прежде чем вы можете запустить какие бы то ни было сопрограммы, а это именно он и есть. На самом деле, где бы вы его не вызывали, get_event_loop() предоставит вам всякий раз тот же самый экземпляр loop, \n",
        "раз уж вы используете только один единственный поток.  \n",
        "* 2# В приведённом ниже коде loop.create_task(main()) является неким особенным вызовом. Ваша функция сопрограммы не будет исполняться пока вы не сделает его. Мы говорим, что create_task() планирует исполнение вашей сопрограммы в данном цикле. Возвращаемый объект task может применяться для отслеживания текущего состояния данной задачи, например, исполняется ли она ещё или уже выполнена, а помимо этого может также применяться для получения некоторого результирующего значения от вашей завершённой сопрограммы. Вы также можете завершать данную задачу при помощи task.cancel(). [с другой стороны: вы можете заметить в этой строке кода что основным параметром в таком вызове функции для create_task() является coro. Именно это соглашение используется в большей части документации API, которую вы обнаружите, и он ссылается на некую coroutine; т.е., строго говоря, собственно результат вызова некоторой функции async def, а не саму эту функцию.]\n",
        "* 3# Это два способа запуска данного цикла. Они оба заблокируют данный текущий поток, которым обычно является самый основной поток {main}. Отметим, что run_until_complete() сохранит данный цикл исполняемым до тех пор, пока не завершится заданный coro - но все прочие запланированные задачи в этом цикле также будут исполняться при выполнении данного цикла.\n",
        "* 4# Типичная манера для большинства программ будет состоять в том, чтобы начаться с loop.run_forever() для самой \"главной\" части ваше программы {main} , а затем, когда получен некий сигнал процесса, остановить данный цикл, собрать всё ещё приостановленные задачи, а затем воспользоваться loop.run_until_complete() до тех пор, пока эти задачи не выполнятся. именно этот метод служит для выполнения сбора. В более общем плане он также может применяться для сбора множества сопрограмм воедино и ожидания (при помощи await!) пока все собранные задачи не завершатся.\n",
        "* 5# Как уже описано выше, они применяются для постепенного останова некоторой программы. stop() обычно вызывается как следствие получения некоторого сигнала выключения, а close() обычно является самым последним действием: и оно очистит все очереди и остановит Исполнителя {Executor}. \"Остановленный\" цикл может быть запущен вновь, а \"закрытый\" цикл исчезает навсегда."
      ]
    },
    {
      "metadata": {
        "id": "BBEG8pKg99Qq",
        "colab_type": "code",
        "colab": {
          "base_uri": "https://localhost:8080/",
          "height": 52
        },
        "outputId": "b8d4f092-07a0-49cc-da6d-5bbca7cbf674"
      },
      "cell_type": "code",
      "source": [
        "\n",
        "# quickstart.py\n",
        "import time\n",
        "import asyncio\n",
        "\n",
        "async def main():\n",
        "    print(f'{time.ctime()} Hello!')\n",
        "    await asyncio.sleep(1.0)\n",
        "    print(f'{time.ctime()} Goodbye!')\n",
        "    loop.stop()\n",
        "\n",
        "        \n",
        "loop = asyncio.get_event_loop() #1\n",
        "\n",
        "\n",
        "\n",
        "loop.create_task(main()) #2 \n",
        "loop.run_forever() #3\n",
        "pending = asyncio.Task.all_tasks(loop=loop)\n",
        "group = asyncio.gather(*pending, return_exceptions=True) #4\n",
        "loop.run_until_complete(group) #3\n",
        "loop.close() #5"
      ],
      "execution_count": 7,
      "outputs": [
        {
          "output_type": "stream",
          "text": [
            "Mon Jan 21 11:51:18 2019 Hello!\n",
            "Mon Jan 21 11:51:19 2019 Goodbye!\n"
          ],
          "name": "stdout"
        }
      ]
    },
    {
      "metadata": {
        "id": "ujgsXhhYUkXF",
        "colab_type": "text"
      },
      "cell_type": "markdown",
      "source": [
        "* (1) blocking() обычно вызывает внутри себя time.sleep(), что привело бы к блокировке вашего основного потока и предотвращало бы исполнение вашего цикла событий. Это означает, что вам не следует делать такую функцию сопрограммой, но что ещё более серьёзно, вы не можете вызывать эту функцию из любого места в своём основном потоке, который является именно тем местом, в котором исполняется основной цикл asyncio. Мы решаем данную проблему запуская эту функцию в некотором исполнителе (executor).\n",
        "\n",
        "* (2) Безотносительно к данному разделу, но нечто, что следует держать на уме далее в этой книге: отметим, что значение времени сна с блокировкой (0.5 секунды) короче чем значение засыпания без блокировки (1 секунда) в вашей сопрограмме main(). Это делает данный код примера изящным и опрятным. В своём следующем разделе мы объясним что бы произошло если бы функции исполнителя переживали бы свои асинхронные эквиваленты во время последовательности выключения.\n",
        "\n",
        "* (3) await loop.run_in_executor(None, func) Это самый последний момент в нашем списке существенных функций asyncio, о которых следует знать. Иногда вам требуется запускать вещи в некотором отдельном потоке, или даже в отдельном процессе: данный метод применяется именно для этого. Здесь мы передаём свою блокирующую функцию для запуска в определённом по умолчанию исполнителе. [к сожалению, самым первым параметром run_in_executor() является сам экземпляр Executor, который следует применять и вы обязаны передать None чтобы использовать установленный по умолчанию. Всякий раз, как я применяю это, я ощущаю как мой параметр \"исполнитель\" плачет, будучи вынужденным именоваться ключевым словом аргумента с определённым по умолчанию значением None.] \n",
        "Отметим, что loop.run_in_executor() возвращает некое Future, что означает, что вы можете await {подождать} его при вызове в рамках функции другой сопрограммы.\n",
        "\n",
        "* (4) Продолжаем отмечать вслед за элементом 2: наш набор задач в pending не содержит некоего элемента для того вызова blocking(), который делается в run_in_executor(). Это будет справедливо для любого вызова, который возвращает некое Future вместо какой- то Task. Имеющаяся документация достаточно хорошо определяет возвращаемые типы, поэтому об этом несложно знать; всего лишь просто запомните, что all_tasks() на самом деле возвращает только Task, и никаких Future."
      ]
    },
    {
      "metadata": {
        "id": "LY47zzgz-tip",
        "colab_type": "code",
        "colab": {
          "base_uri": "https://localhost:8080/",
          "height": 70
        },
        "outputId": "99b765f3-3f76-4e4f-e536-e4af4d377c8a"
      },
      "cell_type": "code",
      "source": [
        "# требуется перезагрузить ядро после выполнения предыдущего примера\n",
        "# quickstart_exe.py\n",
        "import time\n",
        "import asyncio\n",
        "\n",
        "async def main():\n",
        "    print(f'{time.ctime()} Hello!')\n",
        "    await asyncio.sleep(1.0)\n",
        "    print(f'{time.ctime()} Goodbye!')\n",
        "    loop.stop()\n",
        "\n",
        "def blocking(): #1\n",
        "    time.sleep(0.5) #2\n",
        "    print(f\"{time.ctime()} Hello from a thread!\")\n",
        "\n",
        "loop = asyncio.get_event_loop()\n",
        "\n",
        "loop.create_task(main())\n",
        "loop.run_in_executor(None, blocking) #3\n",
        "\n",
        "loop.run_forever()\n",
        "\n",
        "pending = asyncio.Task.all_tasks(loop=loop) #4\n",
        "group = asyncio.gather(*pending)\n",
        "loop.run_until_complete(group)\n",
        "loop.close()"
      ],
      "execution_count": 2,
      "outputs": [
        {
          "output_type": "stream",
          "text": [
            "Mon Jan 21 12:10:15 2019 Hello!\n",
            "Mon Jan 21 12:10:16 2019 Hello from a thread!\n",
            "Mon Jan 21 12:10:16 2019 Goodbye!\n"
          ],
          "name": "stdout"
        }
      ]
    },
    {
      "metadata": {
        "id": "SVVG0tuDAeLU",
        "colab_type": "code",
        "colab": {
          "base_uri": "https://localhost:8080/",
          "height": 369
        },
        "outputId": "4aa8ce56-3576-4698-a101-fcf8bdf062c3"
      },
      "cell_type": "code",
      "source": [
        "import random\n",
        "from time import sleep\n",
        "import asyncio\n",
        "\n",
        "\n",
        "def task(pid):\n",
        "    \"\"\"Synchronous non-deterministic task.\n",
        "    \"\"\"\n",
        "    sleep(random.randint(0, 2) * 0.001)\n",
        "    print('Task %s done' % pid)\n",
        "\n",
        "\n",
        "async def task_coro(pid):\n",
        "    \"\"\"Coroutine non-deterministic task\n",
        "    \"\"\"\n",
        "    await asyncio.sleep(random.randint(0, 2) * 0.001)\n",
        "    print('Task %s done' % pid)\n",
        "\n",
        "\n",
        "def synchronous():\n",
        "    for i in range(1, 10):\n",
        "        task(i)\n",
        "\n",
        "\n",
        "async def asynchronous():\n",
        "    tasks = [asyncio.ensure_future(task_coro(i)) for i in range(1, 10)]\n",
        "    await asyncio.wait(tasks)\n",
        "\n",
        "\n",
        "print('Synchronous:')\n",
        "synchronous()\n",
        "\n",
        "ioloop = asyncio.get_event_loop()\n",
        "print('Asynchronous:')\n",
        "ioloop.run_until_complete(asynchronous())\n",
        "ioloop.close()"
      ],
      "execution_count": 2,
      "outputs": [
        {
          "output_type": "stream",
          "text": [
            "Synchronous:\n",
            "Task 1 done\n",
            "Task 2 done\n",
            "Task 3 done\n",
            "Task 4 done\n",
            "Task 5 done\n",
            "Task 6 done\n",
            "Task 7 done\n",
            "Task 8 done\n",
            "Task 9 done\n",
            "Asynchronous:\n",
            "Task 2 done\n",
            "Task 4 done\n",
            "Task 5 done\n",
            "Task 6 done\n",
            "Task 9 done\n",
            "Task 1 done\n",
            "Task 3 done\n",
            "Task 7 done\n",
            "Task 8 done\n"
          ],
          "name": "stdout"
        }
      ]
    },
    {
      "metadata": {
        "id": "94i7v_hkC7tV",
        "colab_type": "code",
        "colab": {}
      },
      "cell_type": "code",
      "source": [
        "import aiohttp\n",
        "import asyncio\n",
        "\n",
        "async def fetch(session, url):\n",
        "    async with session.get(url) as response:\n",
        "        return await response.text()\n",
        "\n",
        "async def main():\n",
        "    async with aiohttp.ClientSession() as session:\n",
        "        html = await fetch(session, 'http://python.org')\n",
        "        print(html)\n",
        "\n",
        "loop = asyncio.get_event_loop()\n",
        "loop.run_until_complete(main())"
      ],
      "execution_count": 0,
      "outputs": []
    },
    {
      "metadata": {
        "id": "2cN7hyPaDVn9",
        "colab_type": "code",
        "colab": {
          "base_uri": "https://localhost:8080/",
          "height": 688
        },
        "outputId": "144fbd64-db4c-4540-909a-6db9d3999c9d"
      },
      "cell_type": "code",
      "source": [
        "import time\n",
        "import urllib.request\n",
        "import asyncio\n",
        "import aiohttp\n",
        "\n",
        "URL = 'https://api.github.com/events'\n",
        "MAX_CLIENTS = 3\n",
        "\n",
        "\n",
        "def fetch_sync(pid):\n",
        "    print('Fetch sync process {} started'.format(pid))\n",
        "    start = time.time()\n",
        "    response = urllib.request.urlopen(URL)\n",
        "    datetime = response.getheader('Date')\n",
        "\n",
        "    print('Process {}: {}, took: {:.2f} seconds'.format(\n",
        "        pid, datetime, time.time() - start))\n",
        "\n",
        "    return datetime\n",
        "\n",
        "\n",
        "async def fetch_async(pid):\n",
        "    print('Fetch async process {} started'.format(pid))\n",
        "    start = time.time()\n",
        "    response = await aiohttp.request('GET', URL)\n",
        "    datetime = response.headers.get('Date')\n",
        "\n",
        "    print('Process {}: {}, took: {:.2f} seconds'.format(\n",
        "        pid, datetime, time.time() - start))\n",
        "\n",
        "    response.close()\n",
        "    return datetime\n",
        "\n",
        "\n",
        "def synchronous():\n",
        "    start = time.time()\n",
        "    for i in range(1, MAX_CLIENTS + 1):\n",
        "        fetch_sync(i)\n",
        "    print(\"Process took: {:.2f} seconds\".format(time.time() - start))\n",
        "\n",
        "\n",
        "async def asynchronous():\n",
        "    start = time.time()\n",
        "    tasks = [asyncio.ensure_future(\n",
        "        fetch_async(i)) for i in range(1, MAX_CLIENTS + 1)]\n",
        "    await asyncio.wait(tasks)\n",
        "    print(\"Process took: {:.2f} seconds\".format(time.time() - start))\n",
        "\n",
        "\n",
        "print('Synchronous:')\n",
        "synchronous()\n",
        "\n",
        "print('Asynchronous:')\n",
        "ioloop = asyncio.get_event_loop()\n",
        "ioloop.run_until_complete(asynchronous())\n",
        "ioloop.close()"
      ],
      "execution_count": 3,
      "outputs": [
        {
          "output_type": "stream",
          "text": [
            "Synchronous:\n",
            "Fetch sync process 1 started\n",
            "Process 1: Tue, 22 Jan 2019 10:13:59 GMT, took: 0.31 seconds\n",
            "Fetch sync process 2 started\n",
            "Process 2: Tue, 22 Jan 2019 10:13:59 GMT, took: 0.26 seconds\n",
            "Fetch sync process 3 started\n"
          ],
          "name": "stdout"
        },
        {
          "output_type": "stream",
          "text": [
            "Unclosed client session\n",
            "client_session: <aiohttp.client.ClientSession object at 0x7fc053687a20>\n",
            "Unclosed client session\n",
            "client_session: <aiohttp.client.ClientSession object at 0x7fc053687a20>\n",
            "Unclosed client session\n",
            "client_session: <aiohttp.client.ClientSession object at 0x7fc053678f98>\n",
            "Task exception was never retrieved\n",
            "future: <Task finished coro=<fetch_async() done, defined at <ipython-input-3-0f35650d1944>:22> exception=TypeError(\"object _SessionRequestContextManager can't be used in 'await' expression\",)>\n",
            "Traceback (most recent call last):\n",
            "  File \"<ipython-input-3-0f35650d1944>\", line 25, in fetch_async\n",
            "    response = await aiohttp.request('GET', URL)\n",
            "TypeError: object _SessionRequestContextManager can't be used in 'await' expression\n",
            "Task exception was never retrieved\n",
            "future: <Task finished coro=<fetch_async() done, defined at <ipython-input-3-0f35650d1944>:22> exception=TypeError(\"object _SessionRequestContextManager can't be used in 'await' expression\",)>\n",
            "Traceback (most recent call last):\n",
            "  File \"<ipython-input-3-0f35650d1944>\", line 25, in fetch_async\n",
            "    response = await aiohttp.request('GET', URL)\n",
            "TypeError: object _SessionRequestContextManager can't be used in 'await' expression\n",
            "Task exception was never retrieved\n",
            "future: <Task finished coro=<fetch_async() done, defined at <ipython-input-3-0f35650d1944>:22> exception=TypeError(\"object _SessionRequestContextManager can't be used in 'await' expression\",)>\n",
            "Traceback (most recent call last):\n",
            "  File \"<ipython-input-3-0f35650d1944>\", line 25, in fetch_async\n",
            "    response = await aiohttp.request('GET', URL)\n",
            "TypeError: object _SessionRequestContextManager can't be used in 'await' expression\n"
          ],
          "name": "stderr"
        },
        {
          "output_type": "stream",
          "text": [
            "Process 3: Tue, 22 Jan 2019 10:14:00 GMT, took: 0.26 seconds\n",
            "Process took: 0.82 seconds\n",
            "Asynchronous:\n",
            "Fetch async process 1 started\n",
            "Fetch async process 2 started\n",
            "Fetch async process 3 started\n",
            "Process took: 0.01 seconds\n"
          ],
          "name": "stdout"
        }
      ]
    },
    {
      "metadata": {
        "id": "kGkjhr1PjPm3",
        "colab_type": "code",
        "colab": {
          "base_uri": "https://localhost:8080/",
          "height": 87
        },
        "outputId": "ee647380-b7e1-46e3-cdf3-da37a2f1ca08"
      },
      "cell_type": "code",
      "source": [
        "# требуется перезагрузить ядро после выполнения предыдущего примера\n",
        "# quickstart_exe.py\n",
        "import time\n",
        "import asyncio\n",
        "from concurrent.futures import ThreadPoolExecutor ############\n",
        "import multiprocessing                         ##################\n",
        "print(\"RUN\", time.ctime())\n",
        "async def main():\n",
        "    print(f'{time.ctime()} Hello!')\n",
        "    await asyncio.sleep(1.0)\n",
        "    print(f'{time.ctime()} Goodbye!')\n",
        "    loop.stop()\n",
        "\n",
        "def blocking(): #1\n",
        "    time.sleep(2.0) #2\n",
        "    print(f\"{time.ctime()} Hello from a thread!\")\n",
        "pool = ThreadPoolExecutor(max_workers=multiprocessing.cpu_count()) #####\n",
        "loop = asyncio.get_event_loop()\n",
        "\n",
        "loop.create_task(main())\n",
        "loop.run_in_executor(pool, blocking)                 #None, blocking) #3\n",
        "\n",
        "loop.run_forever()\n",
        "\n",
        "pending = asyncio.Task.all_tasks(loop=loop) #4\n",
        "group = asyncio.gather(*pending)\n",
        "loop.run_until_complete(group)\n",
        "#loop.close()"
      ],
      "execution_count": 16,
      "outputs": [
        {
          "output_type": "stream",
          "text": [
            "RUN Tue Jan 22 13:46:29 2019\n",
            "Tue Jan 22 13:46:29 2019 Hello!\n",
            "Tue Jan 22 13:46:30 2019 Goodbye!\n"
          ],
          "name": "stdout"
        },
        {
          "output_type": "execute_result",
          "data": {
            "text/plain": [
              "[]"
            ]
          },
          "metadata": {
            "tags": []
          },
          "execution_count": 16
        }
      ]
    },
    {
      "metadata": {
        "id": "OnMWDIe0vRHB",
        "colab_type": "code",
        "colab": {}
      },
      "cell_type": "code",
      "source": [
        ""
      ],
      "execution_count": 0,
      "outputs": []
    }
  ]
}