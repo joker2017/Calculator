{
  "nbformat": 4,
  "nbformat_minor": 0,
  "metadata": {
    "colab": {
      "name": "Untitled16.ipynb",
      "version": "0.3.2",
      "provenance": [],
      "include_colab_link": true
    },
    "kernelspec": {
      "name": "python3",
      "display_name": "Python 3"
    },
    "accelerator": "GPU"
  },
  "cells": [
    {
      "cell_type": "markdown",
      "metadata": {
        "id": "view-in-github",
        "colab_type": "text"
      },
      "source": [
        "<a href=\"https://colab.research.google.com/github/joker2017/Calculator/blob/master/test%20_multiprocessing.ipynb\" target=\"_parent\"><img src=\"https://colab.research.google.com/assets/colab-badge.svg\" alt=\"Open In Colab\"/></a>"
      ]
    },
    {
      "metadata": {
        "id": "IO2OsG95j942",
        "colab_type": "code",
        "outputId": "e563de2f-1d80-455c-971e-f08a25838782",
        "colab": {
          "base_uri": "https://localhost:8080/",
          "height": 158
        }
      },
      "cell_type": "code",
      "source": [
        "!df -h"
      ],
      "execution_count": 0,
      "outputs": [
        {
          "output_type": "stream",
          "text": [
            "Filesystem      Size  Used Avail Use% Mounted on\n",
            "overlay          49G   21G   27G  44% /\n",
            "tmpfs           6.4G     0  6.4G   0% /dev\n",
            "tmpfs           6.4G     0  6.4G   0% /sys/fs/cgroup\n",
            "tmpfs           6.4G  8.0K  6.4G   1% /var/colab\n",
            "/dev/sda1        55G   22G   34G  39% /etc/hosts\n",
            "shm             6.0G     0  6.0G   0% /dev/shm\n",
            "tmpfs           6.4G     0  6.4G   0% /sys/firmware\n"
          ],
          "name": "stdout"
        }
      ]
    },
    {
      "metadata": {
        "id": "_Ra_dU3rWd2E",
        "colab_type": "code",
        "colab": {}
      },
      "cell_type": "code",
      "source": [
        "import time \n",
        "from datetime import datetime\n",
        "\n",
        "\n",
        "def f1():\n",
        "    \n",
        "    a = datetime.now() #time.time()\n",
        "    pname = current_process().name\n",
        "    print(\"Process {}, begin time {}\".format(pname, a))\n",
        "    \n",
        "    #time.sleep(3)\n",
        "    i = 0\n",
        "    while i<100000000:\n",
        "      i+= 1\n",
        "    b = datetime.now() #time.time()\n",
        "    c = b-a\n",
        "    print(\"Process {}, finish time {}, full time {}\".format(pname, b, c))"
      ],
      "execution_count": 0,
      "outputs": []
    },
    {
      "metadata": {
        "colab_type": "code",
        "outputId": "a3d96fbe-ce0a-4f7f-d778-60e10a6ac1db",
        "id": "l_pIysj87w_9",
        "colab": {
          "base_uri": "https://localhost:8080/",
          "height": 140
        }
      },
      "cell_type": "code",
      "source": [
        "import multiprocessing\n",
        "\n",
        "\n",
        "\n",
        "\n",
        "from multiprocessing import Process, current_process\n",
        "import time \n",
        "from datetime import datetime\n",
        "\n",
        "def f2():\n",
        "    pname = current_process().name\n",
        "    a = datetime.now()\n",
        "    time.sleep(30)\n",
        "    b = datetime.now()\n",
        "    b = datetime.now()\n",
        "    print(\"Process f2 {}, begin time {}\".format(pname, a))\n",
        "  \n",
        "def f1():\n",
        "    \n",
        "    a = datetime.now() #time.time()\n",
        "    pname = current_process().name\n",
        "    print(\"Process {}, begin time {}\".format(pname, a))\n",
        "    \n",
        "    #time.sleep(3)\n",
        "    i = 0\n",
        "    while i<100000000:\n",
        "      i+= 1\n",
        "    b = datetime.now() #time.time()\n",
        "    c = b-a\n",
        "    print(\"Process f1 {}, finish time {}, full time {}\".format(pname, b, c))\n",
        "\n",
        "start = time.time()\n",
        "if __name__ == '__main__':\n",
        "    p1 = Process(target=f2)\n",
        "    p2 = Process(target=f1)\n",
        "    p3 = Process(target=f2)\n",
        "    p4 = Process(target=f1)\n",
        "\n",
        "    p1.start()\n",
        "    \n",
        "    p2.start()\n",
        "    p3.start()\n",
        "    p4.start()\n",
        "\n",
        "    p1.join()\n",
        "    p2.join()\n",
        "    p3.join()\n",
        "    p4.join()\n",
        "    \n",
        "end = time.time()\n",
        "print(\"Total time: {}\".format(end - start))"
      ],
      "execution_count": 0,
      "outputs": [
        {
          "output_type": "stream",
          "text": [
            "Process Process-8, begin time 2019-03-04 13:58:47.200695\n",
            "Process Process-10, begin time 2019-03-04 13:58:47.214448\n",
            "Process f1 Process-8, finish time 2019-03-04 13:58:59.031877, full time 0:00:11.831182\n",
            "Process f1 Process-10, finish time 2019-03-04 13:58:59.159553, full time 0:00:11.945105\n",
            "Process f2 Process-7, begin time 2019-03-04 13:58:47.195340\n",
            "Process f2 Process-9, begin time 2019-03-04 13:58:47.211323\n",
            "Total time: 30.043368339538574\n"
          ],
          "name": "stdout"
        }
      ]
    },
    {
      "metadata": {
        "id": "OEIcu3SkRNjl",
        "colab_type": "code",
        "outputId": "91e78db6-5324-4f5d-e8d5-6038329fc581",
        "colab": {
          "base_uri": "https://localhost:8080/",
          "height": 175
        }
      },
      "cell_type": "code",
      "source": [
        "\n",
        "\n",
        "import time \n",
        "from datetime import datetime\n",
        "\n",
        "\n",
        "def f1():\n",
        "    \n",
        "    a = datetime.now() #time.time()\n",
        "    pname = current_process().name\n",
        "    print(\"Process {}, begin time {}\".format(pname, a))\n",
        "    \n",
        "    #time.sleep(3)\n",
        "    i = 0\n",
        "    while i<100000000:\n",
        "      i+= 1\n",
        "    b = datetime.now() #time.time()\n",
        "    \n",
        "    c = b-a\n",
        "    print(\"Process {}, finish time {}, full time {}\".format(pname, b, c))\n",
        "start = time.time()\n",
        "f1()\n",
        "f1()\n",
        "f1()\n",
        "f1()\n",
        "    \n",
        "end = time.time()\n",
        "print(\"Total time: {}\".format(end - start))"
      ],
      "execution_count": 0,
      "outputs": [
        {
          "output_type": "stream",
          "text": [
            "Process MainProcess, begin time 2019-03-04 10:42:32.408553\n",
            "Process MainProcess, finish time 2019-03-04 10:42:39.290966, full time 0:00:06.882413\n",
            "Process MainProcess, begin time 2019-03-04 10:42:39.291971\n",
            "Process MainProcess, finish time 2019-03-04 10:42:46.192539, full time 0:00:06.900568\n",
            "Process MainProcess, begin time 2019-03-04 10:42:46.193060\n",
            "Process MainProcess, finish time 2019-03-04 10:42:53.077757, full time 0:00:06.884697\n",
            "Process MainProcess, begin time 2019-03-04 10:42:53.078723\n",
            "Process MainProcess, finish time 2019-03-04 10:42:59.973913, full time 0:00:06.895190\n",
            "Total time: 27.56584119796753\n"
          ],
          "name": "stdout"
        }
      ]
    }
  ]
}