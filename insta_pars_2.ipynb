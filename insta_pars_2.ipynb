{
  "nbformat": 4,
  "nbformat_minor": 0,
  "metadata": {
    "colab": {
      "name": "Hello, Colaboratory",
      "version": "0.3.2",
      "provenance": [],
      "collapsed_sections": [],
      "include_colab_link": true
    },
    "kernelspec": {
      "display_name": "Python 3",
      "name": "python3"
    }
  },
  "cells": [
    {
      "cell_type": "markdown",
      "metadata": {
        "id": "view-in-github",
        "colab_type": "text"
      },
      "source": [
        "<a href=\"https://colab.research.google.com/github/joker2017/Calculator/blob/master/insta_pars_2.ipynb\" target=\"_parent\"><img src=\"https://colab.research.google.com/assets/colab-badge.svg\" alt=\"Open In Colab\"/></a>"
      ]
    },
    {
      "metadata": {
        "id": "vIHveFT-l79r",
        "colab_type": "code",
        "colab": {
          "base_uri": "https://localhost:8080/",
          "height": 34
        },
        "outputId": "0f186b54-4209-40a9-ef0e-6c2f46d1c73a"
      },
      "cell_type": "code",
      "source": [
        "!git clone https://github.com/OlegYurchik/InstaParser"
      ],
      "execution_count": 56,
      "outputs": [
        {
          "output_type": "stream",
          "text": [
            "fatal: destination path 'InstaParser' already exists and is not an empty directory.\n"
          ],
          "name": "stdout"
        }
      ]
    },
    {
      "metadata": {
        "id": "stkvJ58dnDn3",
        "colab_type": "code",
        "colab": {}
      },
      "cell_type": "code",
      "source": [
        "import sys\n",
        "sys.path.append('/content/InstaParser')"
      ],
      "execution_count": 0,
      "outputs": []
    },
    {
      "metadata": {
        "id": "nrSKCpuKnNC-",
        "colab_type": "code",
        "colab": {
          "base_uri": "https://localhost:8080/",
          "height": 54
        },
        "outputId": "016fcafc-e4a5-4aa4-d61a-ba07f7911567"
      },
      "cell_type": "code",
      "source": [
        "import os\n",
        "print( os.listdir('/content/InstaParser') )"
      ],
      "execution_count": 7,
      "outputs": [
        {
          "output_type": "stream",
          "text": [
            "['LICENSE', 'instaparser', 'requirements.txt', 'setup.py', '.git', 'README.md', '.gitignore', 'tests']\n"
          ],
          "name": "stdout"
        }
      ]
    },
    {
      "metadata": {
        "id": "lyjUAYn4mCMm",
        "colab_type": "code",
        "colab": {}
      },
      "cell_type": "code",
      "source": [
        "'''\n",
        "from instaparser.agents import Agent\n",
        "from instaparser.entities import Account, Media\n",
        "\n",
        "agent = Agent()\n",
        "account = Account(\"valentivitell\")\n",
        "media1, pointer = agent.get_media(account)\n",
        "print(media1)\n",
        "print(pointer)\n",
        "\n",
        "'''\n",
        "from instaparser.agents import Agent\n",
        "from instaparser.entities import Account, Media\n",
        "\n",
        "agent = Agent()\n",
        "#media = Media(\"BpyYw_lgIPV\")\n",
        "account = Account(\"valentivitell\")\n",
        "#comments, pointer = agent.get_comments(media)\n",
        "comments, pointer = agent.get_media(account, count=10)\n",
        "#print(\"COUNT: %s\" % len(comments))\n",
        "#print(\"POINTER: %s\" % pointer)\n",
        "#while not pointer is None:\n",
        "    #tmp, pointer = agent.get_comments(media, pointer=pointer)\n",
        "    #print(\"COUNT: %s\" % len(tmp))\n",
        "    #print(\"POINTER: %s\" % pointer)\n",
        "    #comments += tmp\n",
        "#photo, pointer = agent.get_likes(media)\n",
        "#while not pointer is None:\n",
        "   # tmp, pointer = agent.get_likes(media, pointer=pointer)\n",
        "    #print(\"COUNT: %s\" % len(tmp))\n",
        "   # print(\"POINTER: %s\" % pointer)\n",
        "    #photo += tmp\n",
        "#print(len(comments))\n",
        "#print(comments)\n",
        "#print(login.agent)\n",
        "\n",
        "#m = Media(\"Bk09NSFn3IX\")\n",
        "\n",
        "\n",
        "print(len(account.media))\n",
        "print(account.media)\n",
        "print(Media(\"Biwp6NEDEno\").display_url)\n",
        "#Media(\"Biwp6NEDEno\").comments\n",
        "f = Media(\"Biwp6NEDEno\")\n",
        "t = f.date\n",
        "from datetime import datetime\n",
        "print(\"Date\", f.date)\n",
        "print(datetime.utcfromtimestamp(t).strftime('%Y-%m-%d %H:%M:%S'))\n",
        "\n",
        "print(comments)\n",
        "p = Comment(17951132761004011).created_at                     #17951132761004011)\n",
        "print(\"Data commment\", p)\n",
        "\n",
        "comments, pointer = agent.get_comments(f, count=1000)\n",
        "\n",
        "print(\"KKKKKKKKKK\", comments, pointer)\n",
        "for i in range(len(comments)):\n",
        "  print(Comment(comments[i]).text)"
      ],
      "execution_count": 0,
      "outputs": []
    },
    {
      "metadata": {
        "id": "knnpvwJNZg3J",
        "colab_type": "code",
        "colab": {}
      },
      "cell_type": "code",
      "source": [
        "from instaparser.agents import Agent\n",
        "from instaparser.entities import Account, Media, Location\n",
        "\n",
        "agent = Agent()\n",
        "account = Account(\"likekate_\") # likekate_    valentivitell\n",
        "\n",
        "followers_count = account.followers_count\n",
        "country_block = account.country_block\n",
        "print(\"Подписчиков:\", followers_count)\n",
        "print(\"Страна:\", country_block)\n",
        "\n",
        "photos, pointer = agent.get_media(account, count=1000)\n",
        "for i in range(len(photos)):\n",
        "  url = Media(photos[i]).display_url\n",
        "  like = Media(photos[i]).likes_count\n",
        "  date = Media(photos[i]).date\n",
        "  location = Media(photos[i]).location\n",
        "  is_video = Media(photos[i]).is_video\n",
        "  print(\"is_video:\", is_video, \"location:\", Location(location).slug, \"like:\", like, \"date:\", date, \"url:\", url)\n",
        "  \n",
        "  \n",
        "  comments, pointer = agent.get_comments(Media(photos[i]), count=1000)"
      ],
      "execution_count": 0,
      "outputs": []
    },
    {
      "metadata": {
        "id": "_jj6yzo2QIjA",
        "colab_type": "code",
        "colab": {
          "base_uri": "https://localhost:8080/",
          "height": 52
        },
        "outputId": "2470d7a6-708d-45ce-949a-9a0109496377"
      },
      "cell_type": "code",
      "source": [
        "location = Media(photos[6]).location\n",
        "print(location)\n",
        "print(Location(213006401).slug)"
      ],
      "execution_count": 119,
      "outputs": [
        {
          "output_type": "stream",
          "text": [
            "213006401\n",
            "None\n"
          ],
          "name": "stdout"
        }
      ]
    },
    {
      "metadata": {
        "id": "vFfDr7CKJ8F5",
        "colab_type": "code",
        "colab": {}
      },
      "cell_type": "code",
      "source": [
        "sbuf = set(Word)\n",
        "result = [x for x in Ans if x in sbuf)]"
      ],
      "execution_count": 0,
      "outputs": []
    }
  ]
}