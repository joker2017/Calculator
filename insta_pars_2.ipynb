{
  "nbformat": 4,
  "nbformat_minor": 0,
  "metadata": {
    "colab": {
      "name": "Hello, Colaboratory",
      "version": "0.3.2",
      "provenance": [],
      "collapsed_sections": [],
      "include_colab_link": true
    },
    "kernelspec": {
      "display_name": "Python 3",
      "name": "python3"
    }
  },
  "cells": [
    {
      "cell_type": "markdown",
      "metadata": {
        "id": "view-in-github",
        "colab_type": "text"
      },
      "source": [
        "<a href=\"https://colab.research.google.com/github/joker2017/Calculator/blob/master/insta_pars_2.ipynb\" target=\"_parent\"><img src=\"https://colab.research.google.com/assets/colab-badge.svg\" alt=\"Open In Colab\"/></a>"
      ]
    },
    {
      "metadata": {
        "id": "vIHveFT-l79r",
        "colab_type": "code",
        "outputId": "e2d3819a-6bf9-4143-e768-9c6dc4001d8e",
        "colab": {
          "base_uri": "https://localhost:8080/",
          "height": 140
        }
      },
      "cell_type": "code",
      "source": [
        "!git clone https://github.com/OlegYurchik/InstaParser"
      ],
      "execution_count": 1,
      "outputs": [
        {
          "output_type": "stream",
          "text": [
            "Cloning into 'InstaParser'...\n",
            "remote: Enumerating objects: 7, done.\u001b[K\n",
            "remote: Counting objects: 100% (7/7), done.\u001b[K\n",
            "remote: Compressing objects: 100% (7/7), done.\u001b[K\n",
            "remote: Total 156 (delta 0), reused 3 (delta 0), pack-reused 149\u001b[K\n",
            "Receiving objects: 100% (156/156), 68.12 KiB | 4.87 MiB/s, done.\n",
            "Resolving deltas: 100% (69/69), done.\n"
          ],
          "name": "stdout"
        }
      ]
    },
    {
      "metadata": {
        "id": "stkvJ58dnDn3",
        "colab_type": "code",
        "colab": {}
      },
      "cell_type": "code",
      "source": [
        "import sys\n",
        "sys.path.append('/content/InstaParser')"
      ],
      "execution_count": 0,
      "outputs": []
    },
    {
      "metadata": {
        "id": "nrSKCpuKnNC-",
        "colab_type": "code",
        "outputId": "016fcafc-e4a5-4aa4-d61a-ba07f7911567",
        "colab": {
          "base_uri": "https://localhost:8080/",
          "height": 54
        }
      },
      "cell_type": "code",
      "source": [
        "import os\n",
        "print( os.listdir('/content/InstaParser') )"
      ],
      "execution_count": 0,
      "outputs": [
        {
          "output_type": "stream",
          "text": [
            "['LICENSE', 'instaparser', 'requirements.txt', 'setup.py', '.git', 'README.md', '.gitignore', 'tests']\n"
          ],
          "name": "stdout"
        }
      ]
    },
    {
      "metadata": {
        "id": "lyjUAYn4mCMm",
        "colab_type": "code",
        "colab": {}
      },
      "cell_type": "code",
      "source": [
        "'''\n",
        "from instaparser.agents import Agent\n",
        "from instaparser.entities import Account, Media\n",
        "\n",
        "agent = Agent()\n",
        "account = Account(\"valentivitell\")\n",
        "media1, pointer = agent.get_media(account)\n",
        "print(media1)\n",
        "print(pointer)\n",
        "\n",
        "'''\n",
        "from instaparser.agents import Agent\n",
        "from instaparser.entities import Account, Media\n",
        "\n",
        "agent = Agent()\n",
        "#media = Media(\"BpyYw_lgIPV\")\n",
        "account = Account(\"valentivitell\")\n",
        "#comments, pointer = agent.get_comments(media)\n",
        "comments, pointer = agent.get_media(account, count=10)\n",
        "#print(\"COUNT: %s\" % len(comments))\n",
        "#print(\"POINTER: %s\" % pointer)\n",
        "#while not pointer is None:\n",
        "    #tmp, pointer = agent.get_comments(media, pointer=pointer)\n",
        "    #print(\"COUNT: %s\" % len(tmp))\n",
        "    #print(\"POINTER: %s\" % pointer)\n",
        "    #comments += tmp\n",
        "#photo, pointer = agent.get_likes(media)\n",
        "#while not pointer is None:\n",
        "   # tmp, pointer = agent.get_likes(media, pointer=pointer)\n",
        "    #print(\"COUNT: %s\" % len(tmp))\n",
        "   # print(\"POINTER: %s\" % pointer)\n",
        "    #photo += tmp\n",
        "#print(len(comments))\n",
        "#print(comments)\n",
        "#print(login.agent)\n",
        "\n",
        "#m = Media(\"Bk09NSFn3IX\")\n",
        "\n",
        "\n",
        "print(len(account.media))\n",
        "print(account.media)\n",
        "print(Media(\"Biwp6NEDEno\").display_url)\n",
        "#Media(\"Biwp6NEDEno\").comments\n",
        "f = Media(\"Biwp6NEDEno\")\n",
        "t = f.date\n",
        "from datetime import datetime\n",
        "print(\"Date\", f.date)\n",
        "print(datetime.utcfromtimestamp(t).strftime('%Y-%m-%d %H:%M:%S'))\n",
        "\n",
        "print(comments)\n",
        "p = Comment(17951132761004011).created_at                     #17951132761004011)\n",
        "print(\"Data commment\", p)\n",
        "\n",
        "comments, pointer = agent.get_comments(f, count=1000)\n",
        "\n",
        "print(\"KKKKKKKKKK\", comments, pointer)\n",
        "for i in range(len(comments)):\n",
        "  print(Comment(comments[i]).text)"
      ],
      "execution_count": 0,
      "outputs": []
    },
    {
      "metadata": {
        "id": "knnpvwJNZg3J",
        "colab_type": "code",
        "colab": {}
      },
      "cell_type": "code",
      "source": [
        "from instaparser.agents import Agent\n",
        "from instaparser.entities import Account, Media, Location\n",
        "\n",
        "agent = Agent()\n",
        "account = Account(\"likekate_\") # likekate_    valentivitell\n",
        "\n",
        "\n",
        "followers_count = account.followers_count\n",
        "country_block = account.country_block\n",
        "print(\"Подписчиков:\", followers_count)\n",
        "print(\"Страна:\", country_block)\n",
        "\n",
        "photos, pointer = agent.get_media(account, count=1000)\n",
        "for i in range(len(photos)):\n",
        "  url = Media(photos[i]).display_url\n",
        "  like = Media(photos[i]).likes_count\n",
        "  date = Media(photos[i]).date\n",
        "  location = Media(photos[i]).location\n",
        "  is_video = Media(photos[i]).is_video\n",
        "  print(\"is_video:\", is_video, \"location:\", Location(location).slug, \"like:\", like, \"date:\", date, \"url:\", url)\n",
        "  \n",
        "  \n",
        "  comments, pointer = agent.get_comments(Media(photos[i]), count=1000)"
      ],
      "execution_count": 0,
      "outputs": []
    },
    {
      "metadata": {
        "id": "_jj6yzo2QIjA",
        "colab_type": "code",
        "outputId": "2470d7a6-708d-45ce-949a-9a0109496377",
        "colab": {
          "base_uri": "https://localhost:8080/",
          "height": 52
        }
      },
      "cell_type": "code",
      "source": [
        "location = Media(photos[6]).location\n",
        "print(location)\n",
        "print(Location(213006401).slug)"
      ],
      "execution_count": 0,
      "outputs": [
        {
          "output_type": "stream",
          "text": [
            "213006401\n",
            "None\n"
          ],
          "name": "stdout"
        }
      ]
    },
    {
      "metadata": {
        "id": "vFfDr7CKJ8F5",
        "colab_type": "code",
        "colab": {}
      },
      "cell_type": "code",
      "source": [
        "sbuf = set(Word)\n",
        "result = [x for x in Ans if x in sbuf)]"
      ],
      "execution_count": 0,
      "outputs": []
    },
    {
      "metadata": {
        "id": "Qyy17m9fcJMA",
        "colab_type": "code",
        "colab": {}
      },
      "cell_type": "code",
      "source": [
        "from instaparser.agents import AgentAccount\n",
        "from instaparser.entities import Media\n",
        "\n",
        "photos = []\n",
        "agent = AgentAccount(\"andivanov2019\", \"Asus2046\")\n",
        "\n",
        "medias, pointer = agent.feed()\n",
        "for media in medias:\n",
        "    if not media.is_video:\n",
        "        photos.append(media.display_url)\n",
        "\n",
        "while not pointer is None:\n",
        "    medias, pointer = agent.feed(pointer=pointer)\n",
        "    for media in medias:\n",
        "        if not media.is_video:\n",
        "            photos.append(media.display_url)"
      ],
      "execution_count": 0,
      "outputs": []
    },
    {
      "metadata": {
        "id": "hnJdme88dUX7",
        "colab_type": "code",
        "colab": {
          "base_uri": "https://localhost:8080/",
          "height": 90
        },
        "outputId": "83615425-5501-45b2-eece-b072927701a6"
      },
      "cell_type": "code",
      "source": [
        "photos"
      ],
      "execution_count": 10,
      "outputs": [
        {
          "output_type": "execute_result",
          "data": {
            "text/plain": [
              "['https://scontent-mia3-2.cdninstagram.com/vp/3c5ff4b929d4d456e3288c54b55997ef/5D012959/t51.2885-15/e35/50837902_1438790349591092_9115408134025701781_n.jpg?_nc_ht=scontent-mia3-2.cdninstagram.com',\n",
              " 'https://scontent-mia3-2.cdninstagram.com/vp/5c84e1b2da78318160741628483924cc/5CCCD92C/t51.2885-15/e35/50311253_344429243060771_3993368138464820438_n.jpg?_nc_ht=scontent-mia3-2.cdninstagram.com',\n",
              " 'https://scontent-mia3-2.cdninstagram.com/vp/ff71efe99c769d55eff4f8cffb84d98b/5CBF2439/t51.2885-15/e35/49512412_2113510618695931_1597415578004403118_n.jpg?_nc_ht=scontent-mia3-2.cdninstagram.com']"
            ]
          },
          "metadata": {
            "tags": []
          },
          "execution_count": 10
        }
      ]
    },
    {
      "metadata": {
        "id": "J19s6J00chLR",
        "colab_type": "code",
        "colab": {}
      },
      "cell_type": "code",
      "source": [
        "from instaparser.entities import Account, Media, Location\n",
        "account = Account(\"likekate_\") # likekate_    valentivitell\n",
        "\n",
        "followers = agent.get_followers(account, limit=1000)\n",
        "print(\"followers\", followers )\n",
        "\n",
        "followers_count = account.followers_count\n",
        "country_block = account.country_block\n",
        "print(\"Подписчиков:\", followers_count)\n",
        "print(\"Страна:\", country_block)\n",
        "\n",
        "photos, pointer = agent.get_media(account, count=1000)\n",
        "for i in range(len(photos)):\n",
        "  url = Media(photos[i]).display_url\n",
        "  like = Media(photos[i]).likes_count\n",
        "  date = Media(photos[i]).date\n",
        "  location = Media(photos[i]).location\n",
        "  is_video = Media(photos[i]).is_video\n",
        "  print(\"is_video:\", is_video, \"location:\", Location(location).name, \"like:\", like, \"date:\", date, \"url:\", url)"
      ],
      "execution_count": 0,
      "outputs": []
    },
    {
      "metadata": {
        "id": "qmovihq3FWhm",
        "colab_type": "code",
        "colab": {}
      },
      "cell_type": "code",
      "source": [
        "from instaparser.entities import Account, Media, Location\n",
        "from instaparser.agents import AgentAccount\n",
        "agent4 = AgentAccount(\"andivanov2019\", \"Asus2046\")"
      ],
      "execution_count": 0,
      "outputs": []
    },
    {
      "metadata": {
        "id": "2MaMEloFwJqU",
        "colab_type": "code",
        "colab": {}
      },
      "cell_type": "code",
      "source": [
        "\n",
        "account = Account(\"valentivitell\")\n",
        "#followers = []\n",
        "#follower = []\n",
        "followers_all = []\n",
        "print(\"agent\", agent4)\n",
        "print(\"account\", account)\n",
        "followers, pointer = agent4.get_followers(account, count=100000)\n",
        "print(\"aaa\", len(followers))\n",
        "'''for follower in followers:\n",
        "    followers_all.append(follower)\n",
        "    \n",
        "print(\"bbb\", len(followers_all))\n",
        "while not pointer is None:\n",
        "    followers, pointer = agent4.get_followers(account, pointer=pointer)\n",
        "    print(\"ccc\", len(followers_all))\n",
        "    for follower in followers:\n",
        "        followers_all.append(follower)\n",
        "    print(\"eee\", len(followers_all))    \n",
        "    \n",
        "print(\"ddd\", len(followers_all))\n",
        "'''\n"
      ],
      "execution_count": 0,
      "outputs": []
    },
    {
      "metadata": {
        "id": "-7m-FKaUvCDl",
        "colab_type": "code",
        "colab": {
          "base_uri": "https://localhost:8080/",
          "height": 34
        },
        "outputId": "628dd204-a96f-4114-d227-391c8ebf509f"
      },
      "cell_type": "code",
      "source": [
        "len(followers)"
      ],
      "execution_count": 9,
      "outputs": [
        {
          "output_type": "execute_result",
          "data": {
            "text/plain": [
              "20"
            ]
          },
          "metadata": {
            "tags": []
          },
          "execution_count": 9
        }
      ]
    },
    {
      "metadata": {
        "id": "D5MPIfEjqV2l",
        "colab_type": "code",
        "colab": {}
      },
      "cell_type": "code",
      "source": [
        "comments, pointer = agent.get_comments(media)\n",
        "owner = comments[1].owner\n",
        "text = comments[1].text\n",
        "created_at = comments[1].created_at"
      ],
      "execution_count": 0,
      "outputs": []
    },
    {
      "metadata": {
        "id": "fddi4z0lfHyc",
        "colab_type": "code",
        "colab": {}
      },
      "cell_type": "code",
      "source": [
        "media = []\n",
        "medias, pointer = agent.feed()\n",
        "for media in medias:\n",
        "    if not media.is_video:\n",
        "        photos.append(media)\n",
        "\n",
        "while not pointer is None:\n",
        "    medias, pointer = agent.feed(pointer=pointer)\n",
        "    for media in medias:\n",
        "        if not media.is_video:\n",
        "            photos.append(media)"
      ],
      "execution_count": 0,
      "outputs": []
    },
    {
      "metadata": {
        "id": "U3e3FwFUiQAt",
        "colab_type": "code",
        "colab": {}
      },
      "cell_type": "code",
      "source": [
        "photos"
      ],
      "execution_count": 0,
      "outputs": []
    },
    {
      "metadata": {
        "id": "BPibT9Iefcl1",
        "colab_type": "code",
        "colab": {}
      },
      "cell_type": "code",
      "source": [
        "g = Media(\"BrFzz6tF5MK\")\n",
        "h = agent.get_likes(g, count=100000)\n",
        "h"
      ],
      "execution_count": 0,
      "outputs": []
    }
  ]
}