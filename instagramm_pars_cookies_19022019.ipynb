{
  "nbformat": 4,
  "nbformat_minor": 0,
  "metadata": {
    "colab": {
      "name": "Untitled14.ipynb",
      "version": "0.3.2",
      "provenance": [],
      "include_colab_link": true
    },
    "kernelspec": {
      "name": "python3",
      "display_name": "Python 3"
    }
  },
  "cells": [
    {
      "cell_type": "markdown",
      "metadata": {
        "id": "view-in-github",
        "colab_type": "text"
      },
      "source": [
        "<a href=\"https://colab.research.google.com/github/joker2017/Calculator/blob/master/instagramm_pars_cookies_19022019.ipynb\" target=\"_parent\"><img src=\"https://colab.research.google.com/assets/colab-badge.svg\" alt=\"Open In Colab\"/></a>"
      ]
    },
    {
      "metadata": {
        "id": "qmFpMVMPrRoD",
        "colab_type": "text"
      },
      "cell_type": "markdown",
      "source": [
        "# Получение фото"
      ]
    },
    {
      "metadata": {
        "id": "0bVMfQG1osgQ",
        "colab_type": "code",
        "colab": {}
      },
      "cell_type": "code",
      "source": [
        "import hashlib\n",
        "import json\n",
        "import re\n",
        "import requests\n",
        "\n",
        "\n",
        "count=36\n",
        "session = requests.Session()\n",
        "\n",
        "      \n",
        "def update(obj=None, pointer=None, idx=None, rhx_gis=None, settings={}):\n",
        "\n",
        "      src_adress = [] \n",
        "      base_url = \"\"\n",
        "      query = \"https://www.instagram.com/\"\n",
        "      if not obj is None:\n",
        "            query += base_url + obj\n",
        "            \n",
        "        \n",
        "      if pointer is None: \n",
        "        response = session.get(query, **settings)\n",
        "        match = re.search(r\"<script[^>]*>\\s*window._sharedData\\s*=\\s*((?!<script>).*)\\s*;\\s*</script>\", response.text)\n",
        "        data = json.loads(match.group(1))\n",
        "        rhx_gis = data[\"rhx_gis\"]\n",
        "        csrf_token = data[\"config\"][\"csrf_token\"]\n",
        "        idx = data[\"entry_data\"][\"ProfilePage\"][0][\"graphql\"][\"user\"][\"id\"]\n",
        "        \n",
        "        #print(\"end_cursor\", data['entry_data']['ProfilePage'][0]['graphql']['user']['edge_owner_to_timeline_media']['page_info']['end_cursor'])\n",
        "        #print(\"'has_next_page\", data['entry_data']['ProfilePage'][0]['graphql']['user']['edge_owner_to_timeline_media']['page_info']['has_next_page'])\n",
        "        \n",
        "        for number in range(len(data[\"entry_data\"][\"ProfilePage\"][0][\"graphql\"][\"user\"][\"edge_owner_to_timeline_media\"][\"edges\"])):\n",
        "\t          src_adress.append(data[\"entry_data\"][\"ProfilePage\"][0][\"graphql\"][\"user\"][\"edge_owner_to_timeline_media\"][\"edges\"][number][\"node\"][\"thumbnail_resources\"][4][\"src\"])\n",
        "        if data['entry_data']['ProfilePage'][0]['graphql']['user']['edge_owner_to_timeline_media']['page_info']['has_next_page']:                 \n",
        "            pointer = data['entry_data']['ProfilePage'][0]['graphql']['user']['edge_owner_to_timeline_media']['page_info']['end_cursor']\n",
        "        else:\n",
        "            pointer = None\n",
        "\n",
        "        return rhx_gis, pointer, src_adress, idx, csrf_token\n",
        "\n",
        "      \n",
        "      else:\n",
        "        variables_string = '{{\"id\":\"{id}\",\"first\":{first},\"after\":\"{after}\"}}'\n",
        "        while True:\n",
        "            data = {\"id\": idx, \"first\": 36, \"after\": pointer}\n",
        "            variables=variables_string.format(**data)\n",
        "            query_hash=\"c6809c9c025875ac6f02619eae97a80e\"\n",
        "            #response = graphql_request(query_hash=\"c6809c9c025875ac6f02619eae97a80e\", variables=variables, settings=settings)\n",
        "            settings[\"params\"] = {\"query_hash\": query_hash}\n",
        "            settings[\"params\"][\"variables\"] = variables\n",
        "            gis = \"%s:%s\" % (rhx_gis, variables)\n",
        "            settings[\"headers\"] = {\"X-Instagram-GIS\": hashlib.md5(gis.encode(\"utf-8\")).hexdigest()}\n",
        "            settings[\"headers\"][\"X-Requested-With\"] = \"XMLHttpRequest\" \n",
        "            response = session.get(\"https://www.instagram.com/graphql/query/\", **settings)\n",
        "            response.raise_for_status()\n",
        "            \n",
        "            data = response.json()[\"data\"][\"user\"][\"edge_owner_to_timeline_media\"]\n",
        "\n",
        "            edges = data[\"edges\"]\n",
        "            page_info = data[\"page_info\"]\n",
        "            length = len(edges)\n",
        "\n",
        "            for index in range(length):\n",
        "                    node = edges[index][\"node\"]\n",
        "                    shortcode = node[\"shortcode\"]        #[\"src\"]\n",
        "                    if not \"shortcode\" in node:\n",
        "                        length -= 1\n",
        "                        continue\n",
        "                    m = node[\"display_url\"]\n",
        "                    #m._set_data(node)\n",
        "                    src_adress.append(m)\n",
        "                    #print(\"node\", node)\n",
        "                \n",
        "            if page_info[\"has_next_page\"]:\n",
        "                    \n",
        "                    pointer = page_info[\"end_cursor\"]\n",
        "            else:\n",
        "                    pointer = None\n",
        "\n",
        "            return src_adress, pointer\n",
        "\n",
        "      "
      ],
      "execution_count": 0,
      "outputs": []
    },
    {
      "metadata": {
        "id": "2USwqtnFo1iC",
        "colab_type": "code",
        "colab": {}
      },
      "cell_type": "code",
      "source": [
        "src_adress = []\n",
        "rhx_gis, pointer, src, idx, csrf_token = update(\"likekate_\")\n",
        "src_adress.extend(src)\n",
        "print(\"rhx_gis:\", rhx_gis, \"csrf_token:\", csrf_token, \"idx =\", idx)\n",
        "for i in range(100):\n",
        "  src, pointer = update(\"likekate_\", pointer=pointer, idx=idx, rhx_gis=rhx_gis)\n",
        "  src_adress.extend(src)\n",
        "  print(len(src_adress))\n"
      ],
      "execution_count": 0,
      "outputs": []
    },
    {
      "metadata": {
        "id": "ovp0LVoarO3z",
        "colab_type": "text"
      },
      "cell_type": "markdown",
      "source": [
        "# Авторизация"
      ]
    },
    {
      "metadata": {
        "id": "zwEzEkfGqg2r",
        "colab_type": "code",
        "outputId": "00c92afe-c8f3-4d20-d0c3-e7f8c2a02b5e",
        "colab": {
          "base_uri": "https://localhost:8080/",
          "height": 72
        }
      },
      "cell_type": "code",
      "source": [
        "import hashlib\n",
        "import json\n",
        "import pickle\n",
        "import re\n",
        "import requests\n",
        "session = requests.Session()\n",
        "# rhx_gis: fc2e73d4fd7dddcd31d28bea5cb2df59 csrf_token: 23QtJMvu9FzAuskGBKqVy3PcPvOdvxnv\n",
        "def AgentAccount(login=None, password=None, settings={}, load=False):\n",
        "    # load cookie    \n",
        "        if load:\n",
        "           print(\"1\")\n",
        "           LOGIN_URL = \"https://www.instagram.com/accounts/login/ajax/\"\n",
        "           with open('cookie.txt', 'rb') as s:\n",
        "              cookies = requests.utils.cookiejar_from_dict(pickle.load(s))\n",
        "              session.cookies.update(cookies)\n",
        "              print(\"session.cookies\", session.cookies)\n",
        "              csrf_token = session.cookies['csrftoken']\n",
        "        \n",
        "              headers = {\n",
        "                    \"X-CSRFToken\": csrf_token,\n",
        "                    \"referer\": \"https://www.instagram.com/\",\n",
        "                       }\n",
        "              response = session.post(LOGIN_URL, headers=headers, cookies=cookies)\n",
        "              response.raise_for_status()\n",
        "              session.cookies.update(response.cookies)\n",
        "              \n",
        "        else:\n",
        "            print(\"2\")\n",
        "            csrf_token = \"23QtJMvu9FzAuskGBKqVy3PcPvOdvxnv\"\n",
        "            login = \"andivanov2019\"\n",
        "            password = \"Asus2046\"\n",
        "            data = {\"username\": login, \"password\": password}\n",
        "        \n",
        "            if \"headers\" in settings:\n",
        "                settings[\"headers\"][\"X-CSRFToken\"] = csrf_token\n",
        "                settings[\"headers\"][\"referer\"] = \"https://www.instagram.com/\"\n",
        "            else:\n",
        "                settings[\"headers\"] = {\n",
        "                    \"X-CSRFToken\": csrf_token,\n",
        "                    \"referer\": \"https://www.instagram.com/\",\n",
        "                       }\n",
        "\n",
        "            response = session.post(\"https://www.instagram.com/accounts/login/ajax/\", data, **settings)\n",
        "            response.raise_for_status()\n",
        "            # Save cookie\n",
        "            with open(\"cookie.txt\", 'wb') as fout:\n",
        "              #f.truncate()\n",
        "              pickle.dump(requests.utils.dict_from_cookiejar(session.cookies), fout)  #session.cookies._cookies\n",
        "              print(\"f\")\n",
        "            print(\"response2:\", response)\n",
        "            try:\n",
        "               data = response.json()\n",
        "               if not data[\"authenticated\"]:\n",
        "                  raise AuthException(login) \n",
        "            except (ValueError, KeyError) as exception:\n",
        "               print(\"ERROR1\")\n",
        "\n",
        "AgentAccount(load=True)\n",
        "#AgentAccount()"
      ],
      "execution_count": 4,
      "outputs": [
        {
          "output_type": "stream",
          "text": [
            "1\n",
            "session.cookies <RequestsCookieJar[<Cookie csrftoken=A9LdToKOTP0h5WgmtA8XhqEy5j0MXeyW for />, <Cookie ds_user_id=10397645874 for />, <Cookie mid=XGvZvwAEAAEasWNHIYiZiQ3Jnmwm for />, <Cookie rur=FRC for />, <Cookie sessionid=10397645874%3AyTCUAmlOdbvrh6%3A3 for />, <Cookie shbid=2881 for />, <Cookie shbts=1550571967.8486845 for />]>\n"
          ],
          "name": "stdout"
        }
      ]
    },
    {
      "metadata": {
        "id": "TBcWtDh1gnmX",
        "colab_type": "text"
      },
      "cell_type": "markdown",
      "source": [
        "# Скачать файл Cookies"
      ]
    },
    {
      "metadata": {
        "id": "3703vdRPHCIY",
        "colab_type": "code",
        "outputId": "10b02653-e19d-47e2-aebe-8ecc5ac65b5a",
        "colab": {
          "base_uri": "https://localhost:8080/",
          "height": 34
        }
      },
      "cell_type": "code",
      "source": [
        "import os\n",
        "#session.close()\n",
        "#response.raise_for_status()\n",
        "#session\n",
        "print( os.listdir('/content') )\n",
        "from google.colab import files\n",
        "files.download('cookie.txt') "
      ],
      "execution_count": 3,
      "outputs": [
        {
          "output_type": "stream",
          "text": [
            "['.config', 'cookie.txt', 'sample_data']\n"
          ],
          "name": "stdout"
        }
      ]
    },
    {
      "metadata": {
        "id": "Awh05k9Ggad_",
        "colab_type": "text"
      },
      "cell_type": "markdown",
      "source": [
        "# Загрузить файл Cookies"
      ]
    },
    {
      "metadata": {
        "id": "JNPXvEdSM5RN",
        "colab_type": "code",
        "outputId": "f22bba33-f6e7-4bf2-b0a7-cc4a8e959cef",
        "colab": {
          "resources": {
            "http://localhost:8080/nbextensions/google.colab/files.js": {
              "data": "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",
              "ok": true,
              "headers": [
                [
                  "content-type",
                  "application/javascript"
                ]
              ],
              "status": 200,
              "status_text": ""
            }
          },
          "base_uri": "https://localhost:8080/",
          "height": 113
        }
      },
      "cell_type": "code",
      "source": [
        "from google.colab import files\n",
        "files.upload()"
      ],
      "execution_count": 3,
      "outputs": [
        {
          "output_type": "display_data",
          "data": {
            "text/html": [
              "\n",
              "     <input type=\"file\" id=\"files-309e55f4-9e2e-4691-9d25-604b806c0554\" name=\"files[]\" multiple disabled />\n",
              "     <output id=\"result-309e55f4-9e2e-4691-9d25-604b806c0554\">\n",
              "      Upload widget is only available when the cell has been executed in the\n",
              "      current browser session. Please rerun this cell to enable.\n",
              "      </output>\n",
              "      <script src=\"/nbextensions/google.colab/files.js\"></script> "
            ],
            "text/plain": [
              "<IPython.core.display.HTML object>"
            ]
          },
          "metadata": {
            "tags": []
          }
        },
        {
          "output_type": "stream",
          "text": [
            "Saving cookie.txt to cookie.txt\n"
          ],
          "name": "stdout"
        },
        {
          "output_type": "execute_result",
          "data": {
            "text/plain": [
              "{'cookie.txt': b'\\x80\\x03}q\\x00(X\\t\\x00\\x00\\x00csrftokenq\\x01X \\x00\\x00\\x00A9LdToKOTP0h5WgmtA8XhqEy5j0MXeyWq\\x02X\\n\\x00\\x00\\x00ds_user_idq\\x03X\\x0b\\x00\\x00\\x0010397645874q\\x04X\\x03\\x00\\x00\\x00midq\\x05X\\x1c\\x00\\x00\\x00XGvZvwAEAAEasWNHIYiZiQ3Jnmwmq\\x06X\\x03\\x00\\x00\\x00rurq\\x07X\\x03\\x00\\x00\\x00FRCq\\x08X\\t\\x00\\x00\\x00sessionidq\\tX \\x00\\x00\\x0010397645874%3AyTCUAmlOdbvrh6%3A3q\\nX\\x05\\x00\\x00\\x00shbidq\\x0bX\\x04\\x00\\x00\\x002881q\\x0cX\\x05\\x00\\x00\\x00shbtsq\\rX\\x12\\x00\\x00\\x001550571967.8486845q\\x0eu.'}"
            ]
          },
          "metadata": {
            "tags": []
          },
          "execution_count": 3
        }
      ]
    },
    {
      "metadata": {
        "id": "ZIhJ-iD5gtdH",
        "colab_type": "text"
      },
      "cell_type": "markdown",
      "source": [
        "# Просмотр директории"
      ]
    },
    {
      "metadata": {
        "id": "UgMIogq2NEvP",
        "colab_type": "code",
        "outputId": "6cb3d623-8ff1-4b7d-c260-ea8e5643f299",
        "colab": {
          "base_uri": "https://localhost:8080/",
          "height": 34
        }
      },
      "cell_type": "code",
      "source": [
        "import os\n",
        "print( os.listdir('/content') )"
      ],
      "execution_count": 0,
      "outputs": [
        {
          "output_type": "stream",
          "text": [
            "['.config', 'cookie.txt', 'sample_data']\n"
          ],
          "name": "stdout"
        }
      ]
    },
    {
      "metadata": {
        "id": "B76FLhkIrJVD",
        "colab_type": "text"
      },
      "cell_type": "markdown",
      "source": [
        "# Получение подписчиков\n"
      ]
    },
    {
      "metadata": {
        "id": "kVA95SAnqYMK",
        "colab_type": "code",
        "outputId": "1e5d54ab-c171-425f-9502-e96e74fe8c45",
        "colab": {
          "base_uri": "https://localhost:8080/",
          "height": 1867
        }
      },
      "cell_type": "code",
      "source": [
        "#query_hash:56066f031e6239f35a904ac20c9f37d9\n",
        "#variables:{\"id\":\"10180157718\",\"include_reel\":true,\"fetch_mutual\":false,\"first\":12,\"after\":\"\"}\n",
        "\n",
        "import hashlib\n",
        "from time import sleep\n",
        "from requests.exceptions import HTTPError\n",
        "def get_followers(account=None, pointer=None, count=100, settings={}, limit=50):\n",
        "  \n",
        "        #update(account, settings)\n",
        "        csrf_token = \"23QtJMvu9FzAuskGBKqVy3PcPvOdvxnv\"\n",
        "        rhx_gis = \"fc2e73d4fd7dddcd31d28bea5cb2df59\"\n",
        "        #query_hash = \"QVFENklrNmY2Y2JvRGhEa2k5UV9XZTVkRHcwSDB6OXM3dWhhZkVsSXpNdlZacEJQVU9QVkcybDQtaC11c04tSXN3cWlmUzVIN3NxeG1BR2phV0VYSU1fcw==\"\n",
        "        query_hash=\"37479f2b8209594dde7facb0d904896a\"\n",
        "        idx = \"2120762022\"\n",
        "\n",
        "        if pointer is None:\n",
        "            #variables_string = '{{\"id\":\"{id}\",\"include_reel\":true,\"fetch_mutual\":false,\"first\":{first}}}'\n",
        "            variables_string = '{{\"id\":\"{id}\",\"first\":{first}}}'\n",
        "        else:\n",
        "            #variables_string = '{{\"id\":\"{id}\",\"include_reel\":true,\"fetch_mutual\":false,\"first\":{first},\"after\":\"{after}\"}}'\n",
        "            variables_string = '{{\"id\":\"{id}\",\"first\":{first},\"after\":\"{after}\"}}'\n",
        "        followers = []\n",
        "\n",
        "        while True:\n",
        "            data = {\"first\": min(limit, count), \"id\": idx}\n",
        "            if not pointer is None:\n",
        "                data[\"after\"] = pointer\n",
        "            settings[\"params\"] = {\"query_hash\": query_hash}\n",
        "            variables=variables_string.format(**data)\n",
        "            settings[\"params\"][\"variables\"] = variables\n",
        "            gis = \"%s:%s\" % (rhx_gis, variables)\n",
        "            settings[\"headers\"] = {\"X-Instagram-GIS\": hashlib.md5(gis.encode(\"utf-8\")).hexdigest()}\n",
        "            settings[\"headers\"][\"X-Requested-With\"] = \"XMLHttpRequest\" \n",
        "            #response = session.get(\"https://www.instagram.com/graphql/query/\", **settings)\n",
        "            #response.raise_for_status()\n",
        "            \n",
        "            \n",
        "           \n",
        "            for i in range(0, 3):\n",
        "              try:\n",
        "                response = session.get(\"https://www.instagram.com/graphql/query/\", **settings)\n",
        "                print(response.headers)\n",
        "                response.raise_for_status()\n",
        "\n",
        "              except (HTTPError, ValueError, KeyError) as exception:\n",
        "\n",
        "                    print(\"ERROR\", exception.response.status_code)\n",
        "  \n",
        "                    print(\"sleep\") \n",
        "                    sleep(6) \n",
        "                    print(\"end sleep\")\n",
        "                    continue\n",
        "              break\n",
        "            #data = response.json()\n",
        "            data = response.json()[\"data\"][\"user\"][\"edge_followed_by\"]\n",
        "            edges = data[\"edges\"]\n",
        "            page_info = data[\"page_info\"]\n",
        "            #print(page_info)\n",
        "            followers_count = data[\"count\"]\n",
        "                \n",
        "            for index in range(min(len(edges), count)):\n",
        "                    node = edges[index][\"node\"]\n",
        "                    a = node[\"username\"]\n",
        "                    id = node[\"id\"]\n",
        "                    profile_pic_url = node[\"profile_pic_url\"]\n",
        "                    is_verified = node[\"is_verified\"]\n",
        "                    full_name = node[\"full_name\"]\n",
        "                    followers.append(a)\n",
        "                    if len(followers) % 100 == 0:\n",
        "                      print(len(followers))\n",
        "                \n",
        "            if page_info[\"has_next_page\"]:\n",
        "                    pointer = page_info[\"end_cursor\"]\n",
        "            else:\n",
        "                    pointer = None\n",
        "                \n",
        "            if len(edges) < count and page_info[\"has_next_page\"]:\n",
        "                    count = count-len(edges)\n",
        "                    variables_string = '{{\"id\":\"{id}\",\"first\":{first},\"after\":\"{after}\"}}'\n",
        "            else:\n",
        "                    return followers, pointer\n",
        "            \n",
        "                \n",
        "get_followers(\"likekate_\")"
      ],
      "execution_count": 5,
      "outputs": [
        {
          "output_type": "stream",
          "text": [
            "{'Content-Type': 'application/json; charset=utf-8', 'Vary': 'Accept-Language, Cookie, Accept-Encoding', 'Content-Language': 'en', 'Content-Encoding': 'gzip', 'Date': 'Tue, 19 Feb 2019 11:24:56 GMT', 'Strict-Transport-Security': 'max-age=2592000', 'Cache-Control': 'private, no-cache, no-store, must-revalidate', 'Pragma': 'no-cache', 'Expires': 'Sat, 01 Jan 2000 00:00:00 GMT', 'X-Frame-Options': 'SAMEORIGIN', 'content-security-policy': \"report-uri https://www.instagram.com/security/csp_report/; default-src 'self' https://www.instagram.com; img-src https: data: blob:; font-src https: data:; media-src 'self' blob: https://www.instagram.com https://*.cdninstagram.com https://*.fbcdn.net; manifest-src 'self' https://www.instagram.com; script-src 'self' https://instagram.com https://www.instagram.com https://*.www.instagram.com https://*.cdninstagram.com wss://www.instagram.com https://*.facebook.com https://*.fbcdn.net https://*.facebook.net 'unsafe-inline' 'unsafe-eval' blob:; style-src 'self' https://*.www.instagram.com https://www.instagram.com 'unsafe-inline'; connect-src 'self' https://instagram.com https://www.instagram.com https://*.www.instagram.com https://graph.instagram.com https://*.graph.instagram.com https://*.cdninstagram.com https://api.instagram.com wss://www.instagram.com wss://edge-chat.instagram.com https://*.facebook.com https://*.fbcdn.net https://*.facebook.net chrome-extension://boadgeojelhgndaghljhdicfkmllpafd; worker-src 'self' blob: https://www.instagram.com; frame-src 'self' https://instagram.com https://www.instagram.com https://staticxx.facebook.com https://www.facebook.com https://web.facebook.com https://connect.facebook.net https://m.facebook.com; object-src 'none'; upgrade-insecure-requests\", 'X-Content-Type-Options': 'nosniff', 'X-XSS-Protection': '0', 'Set-Cookie': 'rur=FTW; Domain=.instagram.com; HttpOnly; Path=/; Secure, ds_user_id=10397645874; Domain=.instagram.com; expires=Mon, 20-May-2019 11:24:56 GMT; Max-Age=7776000; Path=/; Secure, urlgen=\"{\\\\\"35.227.90.16\\\\\": 15169}:1gw3WC:3JXM0v1x_ESz-MFNV9aygL6umck\"; Domain=.instagram.com; HttpOnly; Path=/; Secure, csrftoken=A9LdToKOTP0h5WgmtA8XhqEy5j0MXeyW; Domain=.instagram.com; expires=Tue, 18-Feb-2020 11:24:56 GMT; Max-Age=31449600; Path=/; Secure', 'Connection': 'keep-alive', 'Content-Length': '4795'}\n",
            "{'Content-Type': 'application/json; charset=utf-8', 'Vary': 'Accept-Language, Cookie, Accept-Encoding', 'Content-Language': 'en', 'Content-Encoding': 'gzip', 'Date': 'Tue, 19 Feb 2019 11:24:56 GMT', 'Strict-Transport-Security': 'max-age=2592000', 'Cache-Control': 'private, no-cache, no-store, must-revalidate', 'Pragma': 'no-cache', 'Expires': 'Sat, 01 Jan 2000 00:00:00 GMT', 'X-Frame-Options': 'SAMEORIGIN', 'content-security-policy': \"report-uri https://www.instagram.com/security/csp_report/; default-src 'self' https://www.instagram.com; img-src https: data: blob:; font-src https: data:; media-src 'self' blob: https://www.instagram.com https://*.cdninstagram.com https://*.fbcdn.net; manifest-src 'self' https://www.instagram.com; script-src 'self' https://instagram.com https://www.instagram.com https://*.www.instagram.com https://*.cdninstagram.com wss://www.instagram.com https://*.facebook.com https://*.fbcdn.net https://*.facebook.net 'unsafe-inline' 'unsafe-eval' blob:; style-src 'self' https://*.www.instagram.com https://www.instagram.com 'unsafe-inline'; connect-src 'self' https://instagram.com https://www.instagram.com https://*.www.instagram.com https://graph.instagram.com https://*.graph.instagram.com https://*.cdninstagram.com https://api.instagram.com wss://www.instagram.com wss://edge-chat.instagram.com https://*.facebook.com https://*.fbcdn.net https://*.facebook.net chrome-extension://boadgeojelhgndaghljhdicfkmllpafd; worker-src 'self' blob: https://www.instagram.com; frame-src 'self' https://instagram.com https://www.instagram.com https://staticxx.facebook.com https://www.facebook.com https://web.facebook.com https://connect.facebook.net https://m.facebook.com; object-src 'none'; upgrade-insecure-requests\", 'X-Content-Type-Options': 'nosniff', 'X-XSS-Protection': '0', 'Set-Cookie': 'rur=FTW; Domain=.instagram.com; HttpOnly; Path=/; Secure, ds_user_id=10397645874; Domain=.instagram.com; expires=Mon, 20-May-2019 11:24:56 GMT; Max-Age=7776000; Path=/; Secure, urlgen=\"{\\\\\"35.227.90.16\\\\\": 15169}:1gw3WC:3JXM0v1x_ESz-MFNV9aygL6umck\"; Domain=.instagram.com; HttpOnly; Path=/; Secure, csrftoken=A9LdToKOTP0h5WgmtA8XhqEy5j0MXeyW; Domain=.instagram.com; expires=Tue, 18-Feb-2020 11:24:56 GMT; Max-Age=31449600; Path=/; Secure', 'Connection': 'keep-alive', 'Content-Length': '4842'}\n",
            "100\n"
          ],
          "name": "stdout"
        },
        {
          "output_type": "execute_result",
          "data": {
            "text/plain": [
              "(['mel_instablonde',\n",
              "  'anna_shtolik',\n",
              "  'yu1ia_21',\n",
              "  'hqingbaby8',\n",
              "  'soblazn_chelny',\n",
              "  'pyr_kateryna',\n",
              "  'vikason24',\n",
              "  'artur.peplinski',\n",
              "  'im__lyud__mila',\n",
              "  'annparhomenka',\n",
              "  'annalisa_servadei',\n",
              "  'shorenatatelishvili',\n",
              "  '777z0000',\n",
              "  'y.tolkacheva',\n",
              "  'white_style_msk2',\n",
              "  'agres46',\n",
              "  'sirena_by',\n",
              "  'vika_l_',\n",
              "  'mamadvg',\n",
              "  'foto_1991',\n",
              "  'charlesrweber',\n",
              "  'blrkin',\n",
              "  'jules_lamedh',\n",
              "  'cioandcio',\n",
              "  'dilqn__dimitrov',\n",
              "  'iva_petrova_smile',\n",
              "  'celiabuzato9538',\n",
              "  'rufat_00000',\n",
              "  '000_sunny_prince',\n",
              "  'angelbankz',\n",
              "  'pasqualebuonanova',\n",
              "  'daria_fbi',\n",
              "  'g.sedegova777',\n",
              "  'daisy_okoduwa',\n",
              "  'filatovoficial',\n",
              "  'vais8781',\n",
              "  'anastasiyaalekhina',\n",
              "  'ka_azino_777',\n",
              "  'fua85___33',\n",
              "  'ennergiia_brend_ru',\n",
              "  'hasten_aly',\n",
              "  'davobravoo',\n",
              "  'therealomc',\n",
              "  'irinagamarli',\n",
              "  'fuckerr110',\n",
              "  'aleksey_shvab',\n",
              "  '_armo_m',\n",
              "  'tolgawieczorek',\n",
              "  'stachonka',\n",
              "  'burtseva3682',\n",
              "  'borisovich672',\n",
              "  'ori.kat74',\n",
              "  'evgeniy_lyfar',\n",
              "  'putin_president_mira',\n",
              "  'red_orchid_design_studio',\n",
              "  'nasty_oriflame_34',\n",
              "  'liu_zhao_wang',\n",
              "  'helen_whims_',\n",
              "  '_____stavrev_82',\n",
              "  'juanbmw3ps',\n",
              "  'zama2180',\n",
              "  'belavin_',\n",
              "  'hong_kong_vipshop',\n",
              "  'gaspachofelizv',\n",
              "  'binushha',\n",
              "  'arfatalik',\n",
              "  'david___gyan',\n",
              "  'anastasiya_iacub',\n",
              "  'mramores12',\n",
              "  'diana_stamen',\n",
              "  'karina2001m',\n",
              "  'luk_oj',\n",
              "  'asirbari',\n",
              "  'bhatirishabh770',\n",
              "  'odezhdarusskikhbrendov',\n",
              "  'habbba10',\n",
              "  'jasonbaleme',\n",
              "  'samahoseini6ggg26',\n",
              "  'arinnet_',\n",
              "  'kachestvo_accessories',\n",
              "  '99_synatii_99',\n",
              "  'iasonas_arv',\n",
              "  'forsport_wear',\n",
              "  'neha._00',\n",
              "  'edaranmedical',\n",
              "  'mehrnaz.bm',\n",
              "  'theterrylee736',\n",
              "  'sad.5494',\n",
              "  'mr.tedski',\n",
              "  'qowun2015',\n",
              "  'brandshop_yerevan',\n",
              "  'sourabh.chavan.1004',\n",
              "  'marina10345',\n",
              "  'advertisechaos',\n",
              "  'razvandreea_fitness_life',\n",
              "  'shawazang7',\n",
              "  'niklaus1775',\n",
              "  'parfum.rai',\n",
              "  'riosleuza',\n",
              "  'hossamabdalwareth'],\n",
              " 'QVFBV1ZiRVhnNEhPbVAyV0JHYm5rNTNrRzVHLXdTZHhlaFZTcHl0RWNZTjhNYUp3eHhmbENhLTFILWVlbGtGdW9MWThEZ2xMMDJzamphbXdIaTd2c1g2SQ==')"
            ]
          },
          "metadata": {
            "tags": []
          },
          "execution_count": 5
        }
      ]
    },
    {
      "metadata": {
        "id": "jnBVaucdHNkq",
        "colab_type": "code",
        "colab": {}
      },
      "cell_type": "code",
      "source": [
        "import hashlib\n",
        "import json\n",
        "import re\n",
        "import requests\n",
        "user = {\n",
        "\t\"email\" : \"depsemt2009@yandex.ru\",\n",
        "\t\"username\" : \"andivanov2019\",\n",
        "\t\"password\" : \"Asus2046\",\n",
        "}\n",
        "import time\n",
        "import random\n",
        "def login(user):\n",
        "\n",
        "    url = 'https://www.instagram.com/'\n",
        "    url_login = 'https://www.instagram.com/accounts/login/ajax/'\n",
        "    s = requests.Session()      \n",
        "    s.cookies.update({\n",
        "        'sessionid': '',\n",
        "        'mid': '',\n",
        "        'ig_pr': '1',\n",
        "        'ig_vw': '1920',\n",
        "        'csrftoken': '',\n",
        "        's_network': '',\n",
        "        'ds_user_id': ''\n",
        "    })\n",
        "    login_post = {\n",
        "        'username': user['username'],\n",
        "        'password': user['password']\n",
        "    }\n",
        "    s.headers.update({\n",
        "        'Accept-Language': 'en-US,en;q=0.5',\n",
        "\t'Accept-Encoding': 'gzip, deflate, br',\n",
        "        'Connection': 'keep-alive',\n",
        "        'Content-Length': '0',\n",
        "        'Host': 'www.instagram.com',\n",
        "        'Origin': 'https://www.instagram.com',\n",
        "        'Referer': 'https://www.instagram.com/',\n",
        "\t'User-Agent': 'Mozilla/5.0 (X11; Ubuntu; Linux x86_64; rv:56.0) Gecko/20100101 Firefox/56.0',\n",
        "        'X-Instagram-AJAX': '1',\n",
        "        'X-Requested-With': 'XMLHttpRequest'\n",
        "    })\n",
        "    try:\n",
        "        r = s.get(url)\n",
        "    except Exception as e:\n",
        "        print(e)\n",
        "    s.headers.update({'X-CSRFToken': r.cookies['csrftoken']})\n",
        "    time.sleep(5 * random.random())\n",
        "\n",
        "    login = s.post(\n",
        "            url_login, data=login_post, allow_redirects=True)\n",
        "    s.headers.update({'X-CSRFToken': login.cookies['csrftoken']})\n",
        "    csrftoken = login.cookies['csrftoken']\n",
        "    ds_user_id = login.cookies['ds_user_id']\n",
        "    sessionid = login.cookies['sessionid']\n",
        "    time.sleep(5 * random.random())\n",
        "    loginjson = json.loads(login.content.decode('utf-8'))\n",
        "    return csrftoken,ds_user_id,sessionid\n",
        "\n",
        "\n",
        "csrftoken, ds_user_id, sessionid = login(user)"
      ],
      "execution_count": 0,
      "outputs": []
    },
    {
      "metadata": {
        "id": "ZXiVybiuTffv",
        "colab_type": "code",
        "outputId": "d817f110-3aa1-44f3-9f70-8d32afb445a4",
        "colab": {
          "base_uri": "https://localhost:8080/",
          "height": 169
        }
      },
      "cell_type": "code",
      "source": [
        "followers"
      ],
      "execution_count": 0,
      "outputs": [
        {
          "output_type": "error",
          "ename": "NameError",
          "evalue": "ignored",
          "traceback": [
            "\u001b[0;31m---------------------------------------------------------------------------\u001b[0m",
            "\u001b[0;31mNameError\u001b[0m                                 Traceback (most recent call last)",
            "\u001b[0;32m<ipython-input-32-485859307e30>\u001b[0m in \u001b[0;36m<module>\u001b[0;34m()\u001b[0m\n\u001b[0;32m----> 1\u001b[0;31m \u001b[0mfollowers\u001b[0m\u001b[0;34m\u001b[0m\u001b[0;34m\u001b[0m\u001b[0m\n\u001b[0m",
            "\u001b[0;31mNameError\u001b[0m: name 'followers' is not defined"
          ]
        }
      ]
    },
    {
      "metadata": {
        "id": "EK5DCQOJSS-C",
        "colab_type": "code",
        "outputId": "a3857132-558d-4aed-a3ad-a9f5db9e32e2",
        "colab": {
          "base_uri": "https://localhost:8080/",
          "height": 72
        }
      },
      "cell_type": "code",
      "source": [
        "get_followers(\"likekate_\", pointer=\"QVFDSGVsXzh6MjVkWW5Oc1dNQ1RVcFlkOU5WTDFBcHVoMGozQXpGVjJvU1Q3M1RPc3lhMDRwaS1SYm9uVjdFY2dkZmU1eWtScUZ6cXc3YURMT2k3RnZkZw==\")"
      ],
      "execution_count": 0,
      "outputs": [
        {
          "output_type": "stream",
          "text": [
            "{'Content-Type': 'application/json; charset=utf-8', 'Vary': 'Accept-Language, Cookie', 'Content-Language': 'en', 'Date': 'Thu, 07 Feb 2019 13:48:28 GMT', 'Strict-Transport-Security': 'max-age=604800', 'Cache-Control': 'private, no-cache, no-store, must-revalidate', 'Pragma': 'no-cache', 'Expires': 'Sat, 01 Jan 2000 00:00:00 GMT', 'X-Frame-Options': 'SAMEORIGIN', 'content-security-policy': \"report-uri https://www.instagram.com/security/csp_report/; default-src 'self' https://www.instagram.com; img-src https: data: blob:; font-src https: data:; media-src 'self' blob: https://www.instagram.com https://*.cdninstagram.com https://*.fbcdn.net; manifest-src 'self' https://www.instagram.com; script-src 'self' https://instagram.com https://www.instagram.com https://*.www.instagram.com https://*.cdninstagram.com wss://www.instagram.com https://*.facebook.com https://*.fbcdn.net https://*.facebook.net 'unsafe-inline' 'unsafe-eval' blob:; style-src 'self' https://*.www.instagram.com https://www.instagram.com 'unsafe-inline'; connect-src 'self' https://instagram.com https://www.instagram.com https://*.www.instagram.com https://graph.instagram.com https://*.graph.instagram.com https://*.cdninstagram.com https://api.instagram.com wss://www.instagram.com wss://edge-chat.instagram.com https://*.facebook.com https://*.fbcdn.net https://*.facebook.net chrome-extension://boadgeojelhgndaghljhdicfkmllpafd; worker-src 'self' https://www.instagram.com; frame-src 'self' https://instagram.com https://www.instagram.com https://staticxx.facebook.com https://www.facebook.com https://web.facebook.com https://connect.facebook.net https://m.facebook.com; object-src 'none'; upgrade-insecure-requests\", 'X-Content-Type-Options': 'nosniff', 'X-XSS-Protection': '0', 'Set-Cookie': 'rur=FTW; Domain=.instagram.com; HttpOnly; Path=/; Secure, csrftoken=Iy68GcJL2tum7tY1xZK9sDqVAY6RpVYT; Domain=.instagram.com; expires=Thu, 06-Feb-2020 13:48:28 GMT; Max-Age=31449600; Path=/; Secure', 'Connection': 'keep-alive', 'Content-Length': '134'}\n"
          ],
          "name": "stdout"
        },
        {
          "output_type": "execute_result",
          "data": {
            "text/plain": [
              "([], None)"
            ]
          },
          "metadata": {
            "tags": []
          },
          "execution_count": 13
        }
      ]
    }
  ]
}