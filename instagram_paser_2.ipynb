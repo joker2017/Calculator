{
  "nbformat": 4,
  "nbformat_minor": 0,
  "metadata": {
    "colab": {
      "name": "Hello, Colaboratory",
      "version": "0.3.2",
      "provenance": [],
      "collapsed_sections": [],
      "toc_visible": true,
      "include_colab_link": true
    },
    "kernelspec": {
      "display_name": "Python 3",
      "name": "python3"
    }
  },
  "cells": [
    {
      "cell_type": "markdown",
      "metadata": {
        "id": "view-in-github",
        "colab_type": "text"
      },
      "source": [
        "<a href=\"https://colab.research.google.com/github/joker2017/Calculator/blob/master/instagram_paser_2.ipynb\" target=\"_parent\"><img src=\"https://colab.research.google.com/assets/colab-badge.svg\" alt=\"Open In Colab\"/></a>"
      ]
    },
    {
      "metadata": {
        "id": "vIHveFT-l79r",
        "colab_type": "code",
        "colab": {
          "base_uri": "https://localhost:8080/",
          "height": 34
        },
        "outputId": "0f186b54-4209-40a9-ef0e-6c2f46d1c73a"
      },
      "cell_type": "code",
      "source": [
        "!git clone https://github.com/OlegYurchik/InstaParser"
      ],
      "execution_count": 56,
      "outputs": [
        {
          "output_type": "stream",
          "text": [
            "fatal: destination path 'InstaParser' already exists and is not an empty directory.\n"
          ],
          "name": "stdout"
        }
      ]
    },
    {
      "metadata": {
        "id": "stkvJ58dnDn3",
        "colab_type": "code",
        "colab": {}
      },
      "cell_type": "code",
      "source": [
        "import sys\n",
        "sys.path.append('/content/InstaParser')"
      ],
      "execution_count": 0,
      "outputs": []
    },
    {
      "metadata": {
        "id": "nrSKCpuKnNC-",
        "colab_type": "code",
        "colab": {
          "base_uri": "https://localhost:8080/",
          "height": 54
        },
        "outputId": "016fcafc-e4a5-4aa4-d61a-ba07f7911567"
      },
      "cell_type": "code",
      "source": [
        "import os\n",
        "print( os.listdir('/content/InstaParser') )"
      ],
      "execution_count": 7,
      "outputs": [
        {
          "output_type": "stream",
          "text": [
            "['LICENSE', 'instaparser', 'requirements.txt', 'setup.py', '.git', 'README.md', '.gitignore', 'tests']\n"
          ],
          "name": "stdout"
        }
      ]
    },
    {
      "metadata": {
        "id": "lyjUAYn4mCMm",
        "colab_type": "code",
        "colab": {
          "base_uri": "https://localhost:8080/",
          "height": 9013
        },
        "outputId": "2c005d15-0f80-49d7-b373-bd592ddd1122"
      },
      "cell_type": "code",
      "source": [
        "'''\n",
        "from instaparser.agents import Agent\n",
        "from instaparser.entities import Account, Media\n",
        "\n",
        "agent = Agent()\n",
        "account = Account(\"valentivitell\")\n",
        "media1, pointer = agent.get_media(account)\n",
        "print(media1)\n",
        "print(pointer)\n",
        "\n",
        "'''\n",
        "from instaparser.agents import Agent\n",
        "from instaparser.entities import Account, Media\n",
        "\n",
        "agent = Agent()\n",
        "#media = Media(\"BpyYw_lgIPV\")\n",
        "account = Account(\"valentivitell\")\n",
        "#comments, pointer = agent.get_comments(media)\n",
        "comments, pointer = agent.get_media(account, count=10)\n",
        "#print(\"COUNT: %s\" % len(comments))\n",
        "#print(\"POINTER: %s\" % pointer)\n",
        "#while not pointer is None:\n",
        "    #tmp, pointer = agent.get_comments(media, pointer=pointer)\n",
        "    #print(\"COUNT: %s\" % len(tmp))\n",
        "    #print(\"POINTER: %s\" % pointer)\n",
        "    #comments += tmp\n",
        "#photo, pointer = agent.get_likes(media)\n",
        "#while not pointer is None:\n",
        "   # tmp, pointer = agent.get_likes(media, pointer=pointer)\n",
        "    #print(\"COUNT: %s\" % len(tmp))\n",
        "   # print(\"POINTER: %s\" % pointer)\n",
        "    #photo += tmp\n",
        "#print(len(comments))\n",
        "#print(comments)\n",
        "#print(login.agent)\n",
        "\n",
        "#m = Media(\"Bk09NSFn3IX\")\n",
        "\n",
        "\n",
        "print(len(account.media))\n",
        "print(account.media)\n",
        "print(Media(\"Biwp6NEDEno\").display_url)\n",
        "#Media(\"Biwp6NEDEno\").comments\n",
        "f = Media(\"Biwp6NEDEno\")\n",
        "print(\"Date\", f.date)\n",
        "\n",
        "print(comments)\n",
        "p = Comment(17951132761004011).created_at                     #17951132761004011)\n",
        "print(\"Data commment\", p)\n",
        "\n",
        "comments, pointer = agent.get_comments(f, count=1000)\n",
        "\n",
        "print(\"KKKKKKKKKK\", comments, pointer)\n",
        "for i in range(len(comments)):\n",
        "  print(Comment(comments[i]).text)"
      ],
      "execution_count": 75,
      "outputs": [
        {
          "output_type": "stream",
          "text": [
            "254\n",
            "{Biwp6NEDEno, BMHMIaGg3-M, BpPX95KlKfR, BQ5ZiCejr94, Bl0MrwbjrhT, BYa6YPgjNk_, BUPOPocj0bb, Bskp8LDnjna, BlLH5LuDExT, BOhdwcXAcmg, BqztcTDn56Q, BYdf3CkjLgf, BU6kaWDj5EX, Bp6-b0lnVu8, BOPkYawgWLr, BgyfSXvDGBu, BZGrThbF3BW, BSJNfvNDDB0, Bkkgo3wjmqq, BkKwdTOjaaT, BWU1GYQDcAW, BYvjx0bjhGu, BsiHNlPngr9, BjAHkqijVIR, BU1wHZwjI0A, BVmwkwtjCwM, Bp_zTGgnorY, BphhUMonqzX, BXXyVLYDQu1, BrSmSsPnWT2, BiRvD83jwoE, BRVn0iKD3fe, BqH3TRdncis, BRGQYaWj0KS, BMl-yLpg3_p, BRiJwNwjUcj, BQXo5UTABGv, Bg6NZuFj_CY, BY23ujpjIrm, BWh3GyMjM2a, BZ6Nrk4jLpv, Bl5RJTAjlUl, BT9GYB3Dy14, BNRiFQFAMnJ, BkQL417Dds9, BamIQODjGs2, BQnd-EMjh-X, BZs74vfj5e0, BW46AyUDM5X, BqfC95fH4PF, Bo3hysvF54D, BXKx9oZjhPo, BprqpYanMod, BY8baKdDVqY, BhwUTbWjnjS, Bl71PjmDFFT, BWXp2iajHnq, BCuJD1TPsNH, Bpo6w2Rnl0n, BONConTAuQh, BFqcJ-_vsIr, Bkrt4vojZuP, Br2mp5HniKX, BpHfPGsFM6E, BrsZ_VbHpo-, BZELguIDSTt, BkxYYRSjc61, BWmmKB3DYWT, BqceXu-niyF, BhREqRRDUdT, BRLgxVBjDyf, BXATVN0DK_8, BfdhYaujGjZ, BMW1kmaAyE0, BpFRj-3FwI5, BSi8mC_jNal, BjKbHdMDctB, BNrX_enh4Rh, BpZiG2HlTSE, BUrh2nkDjU-, BLRPjx_Av6c, Bmnw2eRFx4s, BCa9jPEvsHE, BSD18PGDdIS, BWvBD7GDDwZ, BQQNCJ9g1zY, BO6yqL2Agn7, BXC96c6jVCQ, BORk4u6gX63, BhWtwRDj6i_, Bkpek3gDhFA, BWsKbPYDJvR, BOZS9l5AmIg, BrVJCEdnAzz, Bh3mLUcj6lf, Ba0_cKKDX3j, Bqma6_unBUA, BQxtXaNjF1w, BknGdJujr1g, BLTDltHgjuP, BH9RUB3gbCk, BfY5DxnDNgy, Bq2T2yFn29A, Bj7bNAaDnrt, BRflWHBDEV9, Bqr8NFPHgkW, BOpPvcAAf5w, BhosB_JDtO6, BUJ-CRajc19, BPC_DYJghX9, BrH5PKXHaYN, BLnuaGRACIr, BrNaCDUHCJe, BqZ8RWIHVnp, Bjj0U9sj5Of, BLgvtJmBZJ1, Bkz9nq8jhGb, BaeSLmTj95G, BLL1oP_B00S, BkDDJd3ja3i, BZydtp6DxW2, BrAjYBvHYiQ, Bqhd4Wdnmah, Ba_uWnsDGO7, BiMLd7zjrnt, BQ8A3_zjB1b, BMJOMmOgkXh, BgjC1blDP8J, BPABBySAK-b, BjCqTHFDg3U, BU9eDxXjqBB, BPSWIqCgW01, BOUnB32gwrM, Bmp4HuPFDM7, BY0E7BbDKAc, BXIWd-cj_-v, BSWL0C3DiwG, BlA9DOtDQtQ, BO4S0UpgQPC, BrxXG4ynZkE, Bl-dhzpD-jw, BRnuBN6Dp18, BQaC2MEgVHd, Bga8lguDwXc, BdU4Y7Yjjt7, BbEbMKrjQab, BcUrp5IDIQg, BsSk_98nQOS, BdAdg0ejcK_, BpzFTwRn0jv, BPVAbp9gAS3, Bmiq6wflly7, BKiyDn0AHZ-, BXfyJ-5jvRA, BTwCXU7DLsY, BAy1DbivsLD, BgWKc1ejQ7K, BbhZHHxjvbw, BBZfFamPsPE, BnyA_cpHJZ9, BbRuCe8DQq4, Bp15v74nWtB, BoEKed6FlmJ, BXu47IwjACt, Br5Fqe8n5Gm, BpwPSHJnNGB, BoT_LY-lIWx, Bfs8potDxKt, BXnawwWjWaL, BPxSHOCAtct, BsX142QnAOM, BcFP9SyD4PC, BIiE5zJAEGF, Bmd1nniFTd5, BPctkbYgM6Y, BKc9LWAg_Wx, BS5u6kKjklH, BYA77JtDXhL, BKBH8J-AyWu, BbCPtjGD8r2, BPh1XlFgX5-, BIPWpFeAMgQ, Br-I5OXnGVF, BnGvNfIDdrP, BcHxE8ij28D, BCaIDRFPsEA, BsQHzvjnsNl, BnOG-JYl2rK, BeAz5ijjq_v, Bf8YVNXDNTc, BsLSkNEH8PD, Bbok8asD33p, BX5iHuhjl4l, BJ8XCQwA70X, Br7uDfDHOXn, BXQOAwfDyNL, Bb12yjSjb6u, BCFE-WwPsAp, Bce0IdPDxxC, Bcr2GOuDfyb, BP7mZQxAean, Bn_bZKtFu6s, BfgM-XcDbvf, BeKm8z4j0RM, Bmvot3Slmky, BdP8hkiDWSO, BmDdiMdDZrb, BgRBMYxDM2F, Bog6ZCplCWd, BnTmikmFRas, BdxXMF1DGUD, BsqF8_0nN5w, BfveSI4DfDO, BckHUBBDULi, BdmvD3uDTlM, BPXlTDVAqK-, BcSIXbpDA0C, BTrDcXkDq01, BbKAixJDTjh, BABPiG4vsPH, Bf0qvAiDBk4, Bbb_YmhDPbx, BnRBu8xjguG, BmVhsy_FCmg, BntYHoEl822, BmQwEhBjvZR, BojbS3NllZJ, BTocdXYDeBT, BolrMotFRGv, BKvCB08g5kf, BobxNOolefa, BKQx7_NgRVO, BsdN8tRH8Gf, Bot0t_2FQX3, BX0RRS_jgDp, _JcME5PsAS, BKGesDBA6dT, BoHLzHoFG4P, BgGtOjwDV-l, BP-bZm1gw6r, BsFx9eensi7, BfyHVNyj-XV, BYDxpoqDAQ2, Bn3tDwglw7i, Bfqaelkje18, BQDVs5lgC3u, Bn82GEGlFG_, Bngkr09FJxb, BdryUQQDPvr, BnJXeP7FccF, BeGAB8Wjn_a, BQAxDsXgrYx, BgBiuFvDBe5, Bd-P9YSDmTK}\n",
            "https://scontent-iad3-1.cdninstagram.com/vp/e7dfa2e4696ddefb83d08a09d012cd1f/5CD552C3/t51.2885-15/e35/31900888_423776141406628_5412886861548879872_n.jpg?_nc_ht=scontent-iad3-1.cdninstagram.com\n",
            "Date 1526306004\n",
            "[BsqF8_0nN5w, Bskp8LDnjna, BsiHNlPngr9, BsdN8tRH8Gf, BsX142QnAOM, BsSk_98nQOS, BsQHzvjnsNl, BsLSkNEH8PD, BsFx9eensi7, Br-I5OXnGVF]\n",
            "Data commment 1528778523\n",
            "KKKKKKKKKK [17951132761004011, 17952369547049268, 17852840305265247, 17953132024024120, 17952156862071737, 17928184645155105, 17867585734256682, 17863043812267050, 17887484413240224, 17961897841037207, 17955708136074281, 17875757170247231, 17967399763022037, 17946572389090924, 17908186843203886, 17938371547162986, 17940372313158224, 17962242361079564, 17950069897137421, 17904655237238983, 17939798590194527, 17851251814292165, 17909858440229798, 17922822565213586, 17983407025055992, 17992123552028383, 17901122674260428, 17918828377228416, 17995146766044446, 17996104423042018, 17966916523176175, 17929324417235266, 17915751271247563, 17990928895103157, 17944020430217496, 17892261778301794, 18010246609020127, 17989798615080360, 17854652587259549, 17946662362008100, 17946557824031008, 17930255491122579, 17921083570140319, 17932406575102015, 17949235828031424, 17941280911068670, 17946567628043865, 17855615059257954, 17927357077088224, 17847559432268931, 17874564997224787, 17931032695124770, 17913933502169301, 17847766063268583, 17917710325161095, 17948845681020576, 17918799874147397, 17909578084197535, 17919517837158181, 17947071820044029, 17928038215083145, 17919331954145054, 17946799243023644, 17915169313168271, 17914647661170173, 17923918231142543, 17921291683131797, 17858611099255589, 17948553346049688, 17914746424173918, 17934680611097491, 17919026179152748, 17929706440086801, 17948526280042595, 17921621011146542, 17944503736068439, 17941916605072190, 17916802405168547, 17919774172162898, 17950469611047646, 17921456539154928, 17951888467008553, 17850793429267855, 17925194155190683, 17951007706005785, 17878280665230980, 17931480751112058, 17945518330048059, 17945702662017470, 17914632667164444, 17925808882088175, 17846001292265009, 17872841296227364, 17944143076013962, 17917885468183270, 17931379723115102, 17929105984121376, 17884141621216607, 17943810166065496, 17867911021243659, 17947438102033824, 17937133351073814, 17936939137073118, 17945111044059603, 17936845165074786, 17945945029016231, 17945073850062742, 17931195223116560, 17917660669193786, 17883796330217786, 17946520600025126, 17945237107024401, 17928768934126112, 17868398542246606, 17940476824070604, 17885001601214967, 17917388050193787, 17920474057136364, 17945189605019652, 17931378289116282, 17917873396151236, 17945703703023070, 17918803492186833, 17932166728107698, 17946714922010277, 17946579391030540, 17917369069149133, 17873084914232287, 17885242159210335, 17945932888006155, 17930271979125828, 17945581528030844, 17945881021045000, 17857742959247491, 17915627059160512, 17917230196147779, 17955058519024685, 17936463601078247, 17947757698055005, 17954886955035627, 17919873640142275, 17944209196062749, 17884117741222827, 17916588376177167, 17931363928098464, 17868074587244661, 17919235390131516, 17939980093069427, 17916809269176282, 17945042344002335, 17855656867249185, 17872660927234578, 17884378690223163, 17884760329214934, 17925995827091420, 17931609193119998, 17883466666221389, 17853738409262613, 17920768480142458, 17867756314243764, 17946360907007958, 17928553813124361, 17918197531158539, 17871020182240258, 17929038496124351, 17873272018231097, 17945525122020916, 17853702355260805, 17922143974140060, 17926062220095996, 17916694810154841, 17947391944050785, 17944811569029836, 17944276156020560, 17871116389242017, 17845961719267746, 17931734149128130, 17945435149061434, 17903820334198317, 17919241153135004, 17945901994048824, 17845987678265760, 17931111667114552, 17931636130102340, 17926285987087281, 17867888506245122, 17944455958028701, 17855783395252472, 17946230659040876, 17945405008011872, 17945851828019055, 17920956379142148, 17932330009104030, 17929114840125533, 17944192150047115, 17945126113063824, 17946307237030763, 17845868494268644, 17931249730115507, 17853891529256712, 17946252256034087, 17914755682164606, 17917303159149345, 17915895205161914, 17937503197075348, 17945728909033268, 17920281982138974, 17945270572033598, 17944165375036645, 17936792119079814, 17884753084213812, 17853644740261659, 17853790990257665, 17873303311230890, 17937395107072954, 17916647461156933, 17884621990210306, 17946428605036508, 17945163988058314, 17944406110018932, 17853690532260974, 17944621918061630, 17917166551144293, 17944593379012742, 17919324670184247, 17937770896075051, 17945241322013002, 17947267774044827, 17918815741176816, 17921207431139240, 17853712744260377, 17845878730267491, 17854531456256424, 17885187652208840, 17930775832106023, 17845837705271075, 17919398812130494, 17945500087057129, 17925864862091777, 17917302979156230, 17931128986104474, 17944306537028509, 17944693537000339, 17947937761059777, 17868253750244419, 17932771129111120, 17916516634151423, 17867799091245107, 17932528342111373, 17886719452205682, 17872450777224600, 17914482982167561, 17945587453003308, 17945290333048136, 17925604873089288, 17945040016057262, 17916701221157613, 17855883292254477, 17915078599162593, 17931811576110438, 17903627734197228, 17925632413081146, 17931280306125185, 17944363471001635, 17872124593226301, 17944463650015551, 17928501880123515, 17945991430000035, 17918919598186883, 17918265121187229, 17873531809229479, 17939930755068670, 17917482394149495, 17945103670020122, 17871194821240879, 17914383469166255, 17944425748050679, 17887114276202035, 17872796449238948, 17945072332028834, 17948708263018338, 17917824346148472, 17914923427160114, 17940171928064095, 17945222737033509, 17873287369226412, 17936497957073574, 17917329166149979, 17872852453224112, 17945763886054416, 17884488406209791, 17931760540104114, 17919821263188507, 17946037900054127, 17925541096084714, 17925982294080417, 17916383302178303, 17932185526128885, 17845819900265844, 17853637294259741, 17945157181048683, 17945890216055367, 17853777442257898, 17945826298040299, 17957016610059303, 17946517870016310, 17939861260064724, 17902956892198223, 17872963228226867, 17945727001002771, 17937212299073586, 17874190699227477, 17845830025268997, 17919087511135724, 17883781345218176, 17941370176064016, 17945961469026213, 17945601466002632, 17932216678102890, 17871329893241532, 17926152565091150, 17931095851107952, 17916909856180586, 17914927816161092, 17951015404052022, 17945339584036189, 17940211069066048, 17931071437113927, 17872792489237226, 17945178961025824, 17853708424257066, 17931718834111193, 17871858229235811, 17867411371246263, 17872270939235602, 17939607904070026, 17884793569213348, 17855731078249892, 17931887029104324, 17855725489251591, 17884372096212242, 17938150111076846, 17945194342058000, 17853581932262667, 17920606510135308, 17886289666207790, 17853674005259361, 17867781955246932, 17947208824040894, 17918693938133948, 17912235871168088, 17932056826107957, 17919712072138586, 17872971100234271, 17872981276231316, 17944162138012470, 17918698612191128, 17945000773054185, 17872848829237176, 17845813753268988, 17941889215071349, 17944940941048390, 17936361700076814, 17930955112103621, 17943884182040138, 17915280673164001, 17916677302181190, 17872064893236285, 17867832946245122, 17939501146064813, 17883831319222288, 17925462628088166, 17918234692192173, 17914867108165468, 17883473320216915, 17886608740206738, 17932061548104186, 17931580054109552, 17945867443063408, 17943969571044220, 17931523198106333, 17940090013071033, 17944592734008415, 17929310506127905, 17917294111151372, 17883505657221312, 17931106009116101, 17945358091031749, 17872099306232620, 17872114531231239, 17912450659172030, 17916263791159094, 17931828826108521, 17873212231224061, 17945658274034058, 17945831818039569, 17917854988180649, 17871902746236364, 17951250988023964, 17936085922077733, 17931220639096169, 17946690859054640, 17931117841103680, 17931257308114248, 17853707236257996, 17945916424003646, 17932589911100256, 17917311232159302, 17925712078087940, 17931760774099236, 17910855874163746, 17945131129034414, 17883465838220634, 17856449608247360, 17926656031093256, 17845795270268244, 17856072925251205, 17944651261000800, 17946001351057056, 17944878310030208, 17885006158209516, 17884352149213877, 17936686399078736, 17886519436203659, 17937069772076427, 17920479895136527, 17911992619171151, 17917586176183977, 17872023433235582, 17872300597224329, 17931037999098792, 17944083907015408, 17918379445187118, 17937543154079371, 17944803061044190, 17936592031075804, 17944509961033687, 17933583991128161, 17872977124239337, 17920176418139371, 17944629799023678, 17905453672196840, 17903595055196028, 17916246295154634, 17925654007092701, 17884013929214713, 17883118435220688, 17940158245067914, 17925655591088649, 17944118608010174, 17925876520081368, 17912153248174497, 17943592900048510, 17939723254064291, 17917409272146613, 17931745042100546, 17912152486168304, 17853706693258841, 17926704130091668, 17919457822185699, 17926091965083583, 17943429286041474, 17905044913198183, 17845801591264738, 17917008820144525, 17929140364123489, 17883878281219735, 17872764274233219, 17944922560017616, 17919948268136675, 17945718952044324, 17855555713252239, 17931455959115468, 17919022405130245, 17945404243024035, 17871396712243260, 17871250126240161, 17944502218052236, 17919858640190439, 17871459847242929, 17904651394198785, 17918601949192012, 17871997564238358, 17928840286126082, 17853571759261982, 17845787518270373, 17925723952094983, 17845806709268951, 17945008615004386, 17945469988042199, 17941427362067381, 17916252694153965, 17919644608143187, 17916623002183281, 17944981033031152, 17945538226010218, 17940429502067158, 17930923972109812, 17917572913154814, 17883586147221809] None\n",
            "Принцесса\n",
            "Que cuerpazo bonito tienes 👍👍👍\n",
            "Te la pongo toda\n",
            "Пойду обмажу писюн зеленкой, может тоже подойдет к твоим трусам😐\n",
            "❤❤❤\n",
            "Pepsi лучше\n",
            "🤘🏻💎💚💎💚💎🤘🏻👌\n",
            "Wachita rica\n",
            "🌹🌹🌹🌹🌹🌹🌹\n",
            "Тоже хочу зелёный... 😍 где купили?\n",
            "💚\n",
            "А нельзя было взять любимый напиток и сфоткаться без трусов😁\n",
            "@jana_josette_rouhana ★\n",
            "❤️\n",
            "@jason_151\n",
            "Preciosa...!😘😘😘👆🏽\n",
            "🔥🔥🔥🔥🔥🔥🔥\n",
            "Вас можно цитировать. И это не вопрос, а утверждение.\n",
            "Dios mi color\n",
            "Linda\n",
            "El universo dentro tuyo\n",
            "X dioa\n",
            "Just stunning🤪\n",
            "😋😋👅👅\n",
            "💚\n",
            "Gorgeous 🤩✨✨✨🤦‍♂️\n",
            "🌹😍😍💖🔝\n",
            "Du snegge @julian_4454\n",
            "Wow u blow my mind  how extremely hot you are\n",
            "💚😜💚\n",
            "😻😻\n",
            "😍😍😍😍😍😘😘😘😯😯\n",
            "♡⚘😊🇺🇸\n",
            "Hola, soy fotografo y te invito a que veas mas de mi trabajo en mi perfil, saludos.\n",
            "Отлично\n",
            "💚💚💚💚💚\n",
            "👏👏👏\n",
            "Gorgeous Babe 😍💋💋🤩🤩❤️❤️\n",
            "If I could ever come to Russia you'd be the one I want to meet\n",
            "Beautiful\n",
            "Nice looking\n",
            "Soo cute\n",
            "Или к тоусикам?\n",
            "🐉\n",
            "ﾟ+.ﾟ(´▽`人)ﾟ+.ﾟ ∩＿∩ ∩ （0ﾟ・(ｪ)・）( E)\n",
            "Nice body💓💓💓👍👍\n",
            "Sexy​ body​\n",
            "Beby want tobe marry whit you forever?\n",
            "Very nice\n",
            "Beautiful\n",
            "😂 Бизнес-идея - накупить редких для снг газировок и сдавать как фотоаксессуар под цвет трусов в аренду\n",
            "Офигенная 🌺🌺🌺🌺😍😍😍😍😍🌸🌸🌸🌸😊😊😊😊❤️❤️❤️👠👠👠👠💍💍💍💍🌹🌹🌹🌹🍭🍭🍭🍒🍒🍒🍒💋💋💋💋💋💋🇷🇺🇷🇺🇷🇺🇷🇺🇷🇺🇷🇺😍😍😍😍😍😍😍😍\n",
            "Beautiful\n",
            "Perfection 😍😍😍\n",
            "Fantastyc\n",
            "So sexy,  so beautiful\n",
            "You are so hot💋💋💋\n",
            "Marmaid😍\n",
            "Hermosa 😍😍\n",
            "Smoking Hot!\n",
            "PERFECTION❤🙏🌸🔝🔥\n",
            "😻😻😻\n",
            "😍\n",
            "@__omarmetwally_\n",
            "😘😘😘😘\n",
            "So Beautiful\n",
            "Looking gorgeous\n",
            "Plastic fantastic :D\n",
            "👏\n",
            "Sexy & Hot 🔥🔥🔥🔥🔥🔥\n",
            "So hot\n",
            "Hello, can i repost your photos? Pls dm😍\n",
            "Your simply amazing!\n",
            "I mean you're simply amazing!!!\n",
            "You’re pretty\n",
            "@4ever_sanjar\n",
            "Győnyőrü vagy ⭐⭐⭐⭐⭐💪👌🌹🌹🌹🌹🌹\n",
            "Very beautiful\n",
            "So so so Beautiful sexy\n",
            "Amazing body 😍😍😍❤️\n",
            "😘💓\n",
            "Цвет ядный, такой же как и хозяйка💚\n",
            "I am burning WET!!!\n",
            "Hello queen please check out my nutrition site for all your result and goals needs promise you you’ll be impressed with your new and improved results 💐☺️ tell me what you think \n",
            "CoachReyLumpkin.GoHerbalife.com\n",
            "🍏\n",
            "Killer body 🔥🍑👌\n",
            "😄\n",
            "👍🏼\n",
            "🌶🔥💥🤤💦\n",
            "Love this photo!💓 Magnificent !\n",
            "Incredible\n",
            "😱💙😜💙😋💙👌💙👍💙😚💙😘💙😍\n",
            "❤️\n",
            "Thanks\n",
            "Follow me please like like\n",
            "😍😍\n",
            "Fit af.....👅👅👅💣💣💣💥💥💥\n",
            "Hermisa mi vida🌺🌷🌹😙😙😚😘😘🍸\n",
            "Hermisa mi vida🌺🌷🌹😙😙😚😘😘🍸\n",
            "fit\n",
            "Great picture\n",
            "Gorgeous!  That might be my new favorite color...\n",
            "Nays\n",
            "Very Nice bÄbe ! 😍😎😘\n",
            "Gorgeous xxx\n",
            "ABSOLUTELY BEAUTIFUL\n",
            "Beautiful 🌹. Tight little package 🐬\n",
            "To reklama 😆\n",
            "great. lets shoot😁😀\n",
            "Cute 😊\n",
            "Can you did trenches we have perfect model category full now sorry...😍😍😍😍😇😇😇\n",
            "How are you with stuffing body in ovens..\n",
            "Great body, amazing abs\n",
            "Perfect body ❤\n",
            "Nice\n",
            "Imperfection 👌👌👌😍😘\n",
            "Respekt 🍒👍🏻\n",
            "I love sprite, with capt. Morgan's rum\n",
            "I Love you sexy lady\n",
            "@valentivitell да не! Трусики не причем!!!\n",
            "Your beauty and body is like a magnet, draws the eyes and never lets go\n",
            "Perfect body\n",
            "🔫\n",
            "😍😍😍\n",
            "You make sprite hot, and its not easy 👏👍😘\n",
            "Секси красотка\n",
            "Hermosa 😘#followme\n",
            "Eita\n",
            "@jason_151\n",
            "Top 💚💥\n",
            "Woooowww perfect 👙👙💕💕💕😊😊😊😊🏝❤️🌸🌸🏄‍♀️👙👙👙🍭👙🏝🏝❤️🥥\n",
            "Именно такой костюмчик хочется взять супруги, не подскажите где взять?\n",
            "Пожалуйста)))\n",
            "🤗🤗🤗🤗👌👌👌👌👌👌😊😊😊✌✌\n",
            "❤️❤️❤️\n",
            "I hate Calvin. He always covers up the good bits! 😀😎👍🤗\n",
            "Dreambody😚\n",
            "Nice pair\n",
            "Today is brought to you by the color green.\n",
            "Beautiful\n",
            "Hermosa 🌹🌹🌹🌹🌹😍\n",
            "Beautiful color\n",
            "Perfect body\n",
            "абсолютно великолепна\n",
            "Absolutely gorgeous af 😍✨😍\n",
            "Hello my sexy number 10 how beautiful you are 🔥🔥🔥🔥🔥🔥🔥🔥🔥🔥🔥🔥🔥🔥🔥🔥🔥🔥🔥💞💞💞💞💞💞💞💞💞💞💞💞💞💞💎💎💎💎💎💎💎💎💎💎💎💎💎💋💋💋💋💋💋💋💋💋💋💋💋💋💋💋💋💋💋💋💋💋💋💋💋\n",
            "💚🤗💚\n",
            "💪👍👍💪😜\n",
            "@valentivitell wow such a divinely beautiful lady 🤠😍🔥🔥😋👀💨\n",
            "Please DM you rates for a shoot, would really like to work with you!! 💯💯💯\n",
            "@maria_edible  this color\n",
            "Nicee❤❤❤🔥🔥🔥🔥\n",
            "Neon green look nice on you\n",
            "sexy girl !!!\n",
            "P R E C I O S A!\n",
            "So hot\n",
            "😗💛💛💛💛💛💜☄🐺\n",
            "Nice\n",
            "😍😘♥️\n",
            "Manifique\n",
            "Красивая\n",
            "🔥🔥🔥🔥🔥\n",
            "Gorgeous ❤😍\n",
            "On point Gangstress you look amazing your gangsta blinky 🏂🏂🏂🏂💋💋💋\n",
            "Spectacular😮\n",
            "Beautiful very nice yummy\n",
            "🌹\n",
            "This is beautiful 💙👀\n",
            "😋😋😋\n",
            "Очень красиво )) Сохраню\n",
            "Ты супер солнышко\n",
            "@valentivitell - интересно какое бельё подойдёт к бутылке водки?... 😂\n",
            "👌💚\n",
            "Hi sexy girl！\n",
            "🔥🖤💓💥💖🔥🖤💥💥💖🔥🖤💥💥💖🔥🖤💓💥💖🔥🖤💓💥💖🔥🖤💓💥💖\n",
            "⚘🌷\n",
            "nice  green collar\n",
            "😍😍😍😍\n",
            "@justoneguyseye @sweatlike_keith\n",
            "Szaxy vahy gyere ram cicsza😂\n",
            "❤️😍\n",
            "Nice\n",
            "Hey Valentina call when you have moment ❤️🙌🏼🥂\n",
            "Superbe\n",
            "@calvinklein best women’s sleep gear !\n",
            "Sprite Looking good 😍👌\n",
            "Nice Picture... Beautiful Girl 😍😍😍\n",
            "❤❤❤\n",
            "Absolutely stunning and beautiful babe 💕😘❤️\n",
            "Hola mi Amor\n",
            "❤\n",
            "terima kasih planetfollow.com dan sosialgram.com aku dapat followers dan likes instagramnya indonesia gratis hehe :-)\n",
            "Süper 😎👌\n",
            "😍😍😍❣️\n",
            "The Gap.\n",
            "🔥🔥🔥\n",
            "Sprete so cool\n",
            "Gorgeous ❤️❤️❤️❤️❤️❤️\n",
            "Beautiful Angel 🌷🌷🌷❤❤❤❤\n",
            "Damnnnnnnnnn!!!!!!!!!!!!\n",
            "What a bod\n",
            "❤❤❤❤❤\n",
            "Sei assolutamente bellissima, meravigliosa, stupenda e super sexy. La tua sensualità e attrattiva mi ha ipnotizzato 😘😘❤️❤️❤️❤️😍😍\n",
            "👌\n",
            "Beauty\n",
            "💯\n",
            "Богиня\n",
            "MY SENSUAL QUEEN 😘😘😘😘😘😘😘😘😘\n",
            "HOT AF 😘😍💕💖❤️\n",
            "💕💕\n",
            "angel face, goddess body! demon look! you are the perfect woman 😇😈\n",
            "You are so beautiful 😍\n",
            "Beautiful😍😍😍\n",
            "🔥🔥🔥\n",
            "Cool Color on you .,,& U look Extoic to me wish we were best Friend's !!!!\n",
            "красуння!!!!!!!\n",
            "Пресс 🔥🔥🔥 кто-то много потеет!\n",
            "#cute\n",
            "Beautiful sexy\n",
            "Beautiful and sexy Babe\n",
            "Estas divina hermosa muñequita te amo 👄👄👄👄👄❤❤❤❤\n",
            "❤❤\n",
            "😍😘💞💞💞💞♥♥♥\n",
            "Nice\n",
            "maravilhosa\n",
            "Agree! Like coke better. But like Sprite on the rocks with lime. Try it\n",
            "Gorgeous long hair blondie.....😏😎\n",
            "👍👍👍👍👍👍🌺🌺🌺🌺🌺🌺🌺\n",
            "😍😘😍😘😍😘😍\n",
            "Prekrasniy! 😍😍💔💔\n",
            "Hermosaaaaa\n",
            "💚💚💚\n",
            "😍😍😍😍😍😘\n",
            "Wow. So beautiful and that body is incredible 😍😍😍\n",
            "Super super HOT and beautifull\n",
            "Sexy😋\n",
            "Wow 🔥👌👍😂\n",
            "I've seen tympani that aren't that tight\n",
            "Krásná. Luxusní tělíčko 😘😘😘\n",
            "Hermosa tienes un cuerpo muy bello 😍😍😍\n",
            "красивый💋\n",
            "😍😍😍😘😘😘😘😘\n",
            "Beautiful ...\n",
            "Люблю зеленый цвет\n",
            "Angelic beauty and sexiness\n",
            "Such a babe 😎\n",
            "Amazing🥀\n",
            "Literally perfect af.\n",
            "💣💣💣💣💣😍😍😍😍🤤🤤🤤🤤👅👅👅👅😘😘😘😘💋💋💋💋❤️❤️❤️❤️❤️❤️❤️❤️❤️❤️❤️❤️❤️❤️❤️❤️❤️❤️❤️❤️❤️❤️❤️❤️❤️❤️❤️❤️❤️❤️❤️❤️❤️❤️🇫🇷\n",
            "So delicious 😋\n",
            "Incredible 😍🌹\n",
            "Sei stupenda 😍😍😍😍😍😍💋💋💋💋💋💋😘😘😘😘😘😘💖❤️💖❤️💖❤️ sei 1 💣 🤗🤗🤗🤗🤗🤗\n",
            "🔥😻\n",
            "😊👍\n",
            "Favolosa\n",
            "@valentivitell худенькая\n",
            "Как всегда очаровательная 🤗🤗🤗\n",
            "Лечение акне, постакне, розацеа, демодекоза, псориаза, экземы🌿\n",
            "❤❤❤❤❤❤\n",
            "Are you both back?\n",
            "Nice colour\n",
            "you are so hot @valentivitell\n",
            "Perfect 🌹🌹🌹\n",
            "Delicious🤤\n",
            "👌😍😍😍🔥\n",
            "Wow 😮 😍 😘 so beautiful\n",
            "💖 WOW 💖 so Beautiful 💕 Dreamwoman 💕\n",
            "Wow dream body. Hot babe 😵😵😍💖😋💖\n",
            "😍😍😍😍😍\n",
            "Looking incredibly gorgeous and naturally sweet and candy-delicious and breathtaking beautiful and breathtaking fine\n",
            "Gorgeous girl\n",
            "❤\n",
            "Stunning, perfect!! 😍\n",
            ".. God exist .. 💎👊\n",
            "Fit and powerful 😍 gosh what is your favorite workout routine for stay on perfect shape @valentivitell 🙂\n",
            "🔥🔥😍😘\n",
            "Классно выглядишь!\n",
            "Sexy 🍑 Mama\n",
            "Mmmmm my fav color damn hot gorgeous gurl😘😉\n",
            "Ахах )) почему не банан или связку даже )) бананы любишь )?\n",
            "😘💚💚💚💚\n",
            "На будущее, у хайникен банка тоже зеленая 😜😁\n",
            "✨🌸✨ 😊\n",
            "Oh Dios Mío 😌\n",
            "All pretty 🌷🌷\n",
            "Ca\n",
            "Ciao valentina sei bellissimaaaàaaa..i love you tooo...💘💘💘💘💘💘💘💘💘💘😘😘💟💟💟💘❤❤💘😘😘😘😘💘💘💘💘💘💘\n",
            "😳\n",
            "Sup mama\n",
            "WOW 😘😘😘😘😘😍😍😍😍😍\n",
            "🔥🌷🔥💕WOW💕🔥🌷🔥\n",
            "Bellísima\n",
            "😊👌\n",
            "😍🔥😍🔥😍🔥😍\n",
            "Like an angel so beautiful\n",
            "Babe😍💚😍💚😍\n",
            "Hot gorgeous queen💥😍👅😘💦🤤\n",
            "Damn love that body\n",
            "❤❤🔥🔥😍😍\n",
            "❤❤🔥🔥😍😍\n",
            "Super sexy e Figata 💦💦💦💋💋💋\n",
            "🌹😘\n",
            "Oh very nice ❤️\n",
            "Hermosa delgadita mi amor tienes un cuerpo muy fitnes 😘😍\n",
            "ВОЗВРАТ ЛЮБИМОГО ЧЕЛОВЕКА♥️🔮\n",
            "ВОЗВРАТ ЛЮБИМОГО ЧЕЛОВЕКА♥️🔮\n",
            "Follow us\n",
            "😘😁🐍💚\n",
            "Beautiful pic ever and you also valen\n",
            "Lovely outfits\n",
            "Che amore 😘🌹❤️💝\n",
            "😹😹😹\n",
            "You got scoliosis or something ?\n",
            "Omg..so perfect body♥♥ and sexy too♥\n",
            "Sexy lady\n",
            "Drop dead gorgeous. You look really phenomenal goddesss. Wishing you an exciting day. 😗😚💗💞🌹\n",
            "💚\n",
            "😳😳😳😳whhhhooooo😍😍😍😍\n",
            "Very gorgeous and very breathtakingly beautiful!!!\n",
            "Hermosa\n",
            "Ты как всегда огонь!\n",
            "Perfection 😎\n",
            "Krasiva\n",
            "Oh hell yeh drop dead gorgeous\n",
            "Wow\n",
            "😍💘😘❤️😍💓😘💕😍💖😘💗😍💝😘💞😍💟😘💘😍❤️😘💓😍💕😘💖😍💝😘💞😍💟😘💘😍❤️😘💓😍💕😘💖😍💗😘💞😍💟😘💘😍❤️😘💓😍💕😘💖😍💗😘💝😍💞😘💟😍💘😘❤️😍💓😘💕😍💖😘💗😍💝😘💞😍💟😘💘😍❤️😘💓😍💕😘💖😍💗😘💝😍💞😘💟😍💘😘❤️😍💓😘💕😍💖😘💗😍💝😘💞😍💟😘💘😍❤️😘💓😍💕😘💖😍💗😘💝😍💞😘💟😍💘😘❤️😍💓😘💕😍💖😘💗😍💝😘💞😍💟😘💘😍❤️😘💓😍💕😘💖😍💗😘💝😍💞😘💟😍💘😘❤️😍💓😘💕😍💖😘💗😍💝😘💞😍💟😘💘😍❤️😘💓😍💕😘💖😍💗😘💝😍💞😘💟😍\n",
            "Too sexy ❤️❤️❤️❤️\n",
            "@robwbalmer\n",
            "Cute sexy babe\n",
            "😋😋😋😋\n",
            "Perfect 😍💖💖😍😍\n",
            "Wow\n",
            "К трусикам\n",
            "💛💛💛\n",
            "Omg it shouldn't be allowed to be so beautiful\n",
            "Супер 👍👍👍\n",
            "Unreal\n",
            "Happy Day 😍@valentivitell\n",
            "Amazing\n",
            "Wow 😍😍😍\n",
            "Вау, как здорово смотрится фотография\n",
            "Gorgeous lady\n",
            "Sexooo🔥🔥\n",
            "Smoke\n",
            "💍❤️\n",
            "Gorgeous babe 😍😍😍\n",
            "Wonderfull 💗💗💗💗\n",
            "💖💖💖\n",
            "👍👍👍\n",
            "😂👍\n",
            "My god\n",
            "💚💚💚\n",
            "😍😍😍\n",
            "🌹🌹\n",
            "💚👌🏻♦️💕👄\n",
            "Классная фигура\n",
            "😁 In any case, we should prefer refreshments with stevia instead of sugar 💐\n",
            "Beauty 😋👍💗\n",
            "💖\n",
            "Perfect\n",
            "✨\n",
            "This is how I like my Sprite @kingjames\n",
            "Amazingly beautiful girl!! 💕💕\n",
            "😍👌👍🔝🔝🔝\n",
            "Секси\n",
            "Ahazou ✨\n",
            "Wow super sexy\n",
            "😻\n",
            "Woooowww peazo hermosura mas bellaaa!!! Increible monumento mas belloo!!!!😍😍💘💘💘💘\n",
            "Very beautiful and beautiful body 😍 😍 😍 😍 😍 ❤ ❤ ❤\n",
            "@layroi\n",
            "Oh godddd.... perrrrfection....\n",
            "beautiful\n",
            "Здравствуйте! Вы очень красивая.\n",
            "Мастера ждут Вас, чтобы пригласить в качестве модели. \n",
            "Подписывайтесь на нашу страницу и узнавайте о новых предложениях первой!\n",
            "Incredibly beautiful and very sexy 💚\n",
            "👌👌👌💚💚💚\n",
            "Stupenda 💞\n",
            "😮\n",
            "Wowww\n",
            "You are the hottest woman alive!! ❤️😍❤️\n",
            "Perfect 👌\n",
            "Sexy and cute i loved\n",
            "Absolutely gorgeous ❤️❤️❤️❤️❤️❤️❤️❤️❤️\n",
            "К трусикам!☺️🔥\n",
            "🌹🌹🌹🌹🌹\n",
            ":-)\n",
            "Absolutely gorgeous\n",
            "Красота\n",
            "💖💖💖💖💖💖💖💖\n",
            "Lovely 💪💪💪\n",
            "Awesome\n",
            "Wow beautiful and sweet girl @valentivitell\n",
            "💚💚💚💚💚💚💚💜💜💜💜💜💜💜💜💚💚💚💚💚💚💚💚💚💚💚💚💚\n",
            "I love the green on u\n",
            "@vani4ka1 ещё\n",
            "❤❤❤❤❤❤❤❤❤❤ @valentivitell\n",
            "l love you\n",
            "Would’ve been better if it was @drpepper 😼😼\n",
            "Wow! 🔥💚😍\n",
            "Sexyyy Krasavica 😍👌😍\n",
            "Absolutely stunning!!!!!!! 😘❤️\n",
            "There is a God!! 👌🏼\n",
            "Hirrrrrr you are very ✌ beautiful 😘\n",
            "😍😍😍😍😘😘😘😘😘\n",
            "How do you manage to look so gorgeous everytime?! 👄\n",
            "Hot as fuck 😏👌🌹💞🔥🔥🔥\n",
            "That’s so nice\n",
            "🔥🔥🔥\n",
            "@valentivitell 👌🏾\n",
            "😍😍😍😍😍😍😍😍😍😍😍\n",
            "🌺❤️😘😍\n",
            "Lol green aluminum can haha 😁\n",
            "😍😘😗\n",
            "So Beautiful 😘😘😘😘😘\n",
            "😂😂😂🤣🤣🤣🤣😁😁😁\n",
            "Реклама спрайта))))\n",
            "спрайт плохо, трусы - хорошо!!!!\n",
            "Сушит? Выпей спрайт)))\n",
            "😍😍😍😍😍😍\n",
            "Фотошоп\n",
            "Absolutely beautiful and stunning woman and perfect body\n",
            "Super body !!!!!! Magnifique tu à la classe !!!!\n",
            "Фигурка суперрр 💎💋👌\n",
            "Bombón hermoso ❤❤❤❤❤❤❤❤❤❤❤❤❤❤\n",
            "Love the English translation makes funny reading\n",
            "😉😚😍💔💞💝💕💖❤❤💓💋💗💓💗💓💝😚💗💞😚💞💞😚💔😚😉💞😚💝😚💝😚💗❤💘💓💕💕😚💕😚💝💝😉💝💞😚💞😚💗😍💗❤💗💓💝💓💝💖💞💞💞😉💗😚💋😚💋💋💗💓💝💓💝💥💥💥🔥🔥🔥🔥🔥🔥🔥🔥🔥🔥🔥🔥💥💥💥💥💟💥💥🔥🔥🔥💥💥💝💝💓💗💋💋😚😚😚😚💘💘💕💕😍😍❤❤❤💖💞💞💞😉💞💓💋😚😍😍😘😘😍😍😘😘😘😍😚💓💞😉😉💝💝💗💘💕❤💖💖😘🔥🔥🔥💟💟🔥🔥😮😮😙😗😗🔥🔥❤❤❤🔥😗😙😙💟💟💟😘😘💟😮💗💘💘💕💕💕💘💝💝💘🔥💝💗💗💗🔥💝🔥😮😙🔥🔥😮😮🔥💝💕💝💕😉💕😘😘🔥😘❤💟💟❤💟🔥💟🔥💝🔥😉😉💕😉💕💞💕💝💕💝💘💝💝💕😮🔥😮😮❤💟❤💟❤😘🔥😘🔥😉💝💕💝💘💗💘💗💘😮😮🔥💟❤😘😘❤💟🔥😮🔥😙😙🔥💗🔥💗🔥💗💝🔥💗💗💕💗🔥💗😙❤😙❤💗💗💕💝💖😉❤💟❤💟💟❤💟🔥😘😘😘💟🔥💟💟🔥🔥💟🔥💝🔥💝🔥😉💕💟🔥💟🔥😘🔥😘🔥💟💝🔥🔥💗🔥💗🔥💝🔥😉🔥💟💟🔥💟🔥🔥😮🔥😙🔥😙💗🔥💗🔥💗🔥🔥💝🔥💝🔥😉😉🔥😉🔥💟🔥💟🔥😮😮🔥😮😮🔥😮🔥💗💗🔥💗🔥💝💝🔥🔥💝💝🔥💝🔥😉🔥😉😉🔥🔥😉🔥😉🔥😉💟🔥🔥😮😮💕💝💕💝🔥💝🔥💝🔥💝💝🔥😉🔥🔥😉😉🔥🔥😮🔥🔥😮💗🔥💗🔥💗🔥💗💘🔥💘💗💗💖💕💕💕💖💕💕💖🔥💖🔥🔥❤😙😮🔥💟🔥😘🔥😘😗😘💘💝😮😗💟🔥💟🔥💟\n",
            "😉😚😍💔💞💝💕💖❤❤💓💋💗💓💗💓💝😚💗💞😚💞💞😚💔😚😉💞😚💝😚💝😚💗❤💘💓💕💕😚💕😚💝💝😉💝💞😚💞😚💗😍💗❤💗💓💝💓💝💖💞💞💞😉💗😚💋😚💋💋💗💓💝💓💝💥💥💥🔥🔥🔥🔥🔥🔥🔥🔥🔥🔥🔥🔥💥💥💥💥💟💥💥🔥🔥🔥💥💥💝💝💓💗💋💋😚😚😚😚💘💘💕💕😍😍❤❤❤💖💞💞💞😉💞💓💋😚😍😍😘😘😍😍😘😘😘😍😚💓💞😉😉💝💝💗💘💕❤💖💖😘🔥🔥🔥💟💟🔥🔥😮😮😙😗😗🔥🔥❤❤❤🔥😗😙😙💟💟💟😘😘💟😮💗💘💘💕💕💕💘💝💝💘🔥💝💗💗💗🔥💝🔥😮😙🔥🔥😮😮🔥💝💕💝💕😉💕😘😘🔥😘❤💟💟❤💟🔥💟🔥💝🔥😉😉💕😉💕💞💕💝💕💝💘💝💝💕😮🔥😮😮❤💟❤💟❤😘🔥😘🔥😉💝💕💝💘💗💘💗💘😮😮🔥💟❤😘😘❤💟🔥😮🔥😙😙🔥💗🔥💗🔥💗💝🔥💗💗💕💗🔥💗😙❤😙❤💗💗💕💝💖😉❤💟❤💟💟❤💟🔥😘😘😘💟🔥💟💟🔥🔥💟🔥💝🔥💝🔥😉💕💟🔥💟🔥😘🔥😘🔥💟💝🔥🔥💗🔥💗🔥💝🔥😉🔥💟💟🔥💟🔥🔥😮🔥😙🔥😙💗🔥💗🔥💗🔥🔥💝🔥💝🔥😉😉🔥😉🔥💟🔥💟🔥😮😮🔥😮😮🔥😮🔥💗💗🔥💗🔥💝💝🔥🔥💝💝🔥💝🔥😉🔥😉😉🔥🔥😉🔥😉🔥😉💟🔥🔥😮😮💕💝💕💝🔥💝🔥💝🔥💝💝🔥😉🔥🔥😉😉🔥🔥😮🔥🔥😮💗🔥💗🔥💗🔥💗💘🔥💘💗💗💖💕💕💕💖💕💕💖🔥💖🔥🔥❤😙😮🔥💟🔥😘🔥😘😗😘💘💝😮😗💟🔥💟🔥💟\n",
            "Wonderful!\n",
            "Hermosa y sexy bb 😘👄😍\n",
            "Крутой купальник, тебе идёт 🌈👍\n",
            "Hot..Sexy..Nice..Beautiful.. Dreamgirl...!?!!\n",
            "🖤💜🧡💛💚💙💗💘💕\n",
            "👌🏽\n",
            "Sexy babe\n",
            "Perfect\n",
            "Fantastic girl\n",
            "Muito linda maravilhosa !\n",
            "😍😍❤️❤️😘😘\n",
            "👌😘😍❤️\n",
            "Beauty😘🌷\n",
            "як принцеса👑\n",
            "Just beautiful\n",
            "И без трусиков баночна нечего😁\n",
            "🌼💮✨🔥💮🌼\n",
            "😍🔥😘🔥😍🔥😍🔥😘🔥😍🔥😍🔥😍\n",
            "🤠🏆\n",
            "😍😍😍😍\n",
            "🔥🔥💚\n",
            "Bodyyyy 😘\n",
            "@valentivitell красивые трусы\n",
            "dios que pollazo\n",
            "Monxtra\n",
            "Diosa 😚\n",
            "Very pretty. (❁´▽`❁)\n",
            "Класс милашка\n",
            "Deoosss que rica estas !!\n",
            "👌👌👌❤️❤️❤️\n",
            "❤\n",
            "Много си хубава И уникална Си 💲💲💲💖💖💖🌟🌟🌟👑👑👑😘😘😘😍😍😍💑💑💑\n",
            "Какая чудесная баночка\n",
            "keep working hard i wish you good health\n",
            "Wonderful 😍😍😍😍😍❤️❤️❤️❤️❤️\n",
            "💚\n",
            "Strafiga❤️❤️❤️❤️❤️❤️\n",
            "Just wow!!! 💘\n",
            "Sexy killer🔥💘😍😘👌😋🍄🌹😉\n",
            "You are so sweet and so nice. Very wonderful girl. 💋😍\n",
            "♡\n",
            "🍀💚🍏\n",
            "😍😍\n",
            "Perfect body... Beautiful Girl! 👍👍👍💙\n",
            "🔥🔥🔥🔥🔥🔥🔥🔥🔥🔥🔥🔥🔥🔥🔥🔥🔥🔥🔥🔥🔥🔥🔥🔥🔥🔥🔥🔥🔥🔥🔥🔥🔥🔥🔥🔥🔥🔥🔥🔥🔥🔥🔥🔥🔥🔥🔥🔥🔥🔥🔥🔥🔥🔥🔥🔥🔥🔥🔥🔥🔥🔥🔥🔥🔥🔥🔥🔥🔥🔥🔥🔥🔥🔥🔥🔥🔥🔥🔥🔥🔥🔥🔥🔥🔥🔥🔥🔥🔥🔥🔥🔥🔥🔥🔥🔥🔥🔥🔥🔥\n",
            "😍😍😍😍\n",
            "Wooow\n",
            "❤️\n",
            "Nice😊\n",
            "Woow,que linda chica!🔥💘\n",
            "Awesome 👏\n",
            "🔥🔥🔥🔥🔥\n",
            "Mmmmm wow sexy\n",
            "❤️❤️😘🌹🌹🌹\n",
            "Pretty baby beautiful body 😘😘😘\n",
            "you are beautiful @valentivitell 😍😘💕❤💕😘😍\n",
            "🍌\n",
            "Perfeição existe 🐱\n",
            "😍😘😘\n",
            "Che bello il verde lime  su di TE!!!🔥\n",
            "So hot😍😍😍😍\n",
            "Hello gorgeous\n",
            "😽\n",
            "Amazingly Gorgeous\n",
            "😘😘😘\n",
            "Sexy 😍🌹🌹🌹\n",
            "Super figure👍👌\n",
            "Seeing this just made my day\n",
            "😂😂😂😂👍🙊\n",
            "You are so Beautiful. You're perfect😍😍💞💞💋💋💋💋❤❤❤❤\n",
            "Gorgeous\n",
            "Looking cool baby:***\n",
            "So sexy.\n"
          ],
          "name": "stdout"
        }
      ]
    },
    {
      "metadata": {
        "id": "iI1C6rrW8Hsg",
        "colab_type": "code",
        "colab": {
          "base_uri": "https://localhost:8080/",
          "height": 34
        },
        "outputId": "ec430dc0-916b-4761-f2c0-140712f343dc"
      },
      "cell_type": "code",
      "source": [
        "Media(\"Biwp6NEDEno\").likes"
      ],
      "execution_count": 44,
      "outputs": [
        {
          "output_type": "execute_result",
          "data": {
            "text/plain": [
              "set()"
            ]
          },
          "metadata": {
            "tags": []
          },
          "execution_count": 44
        }
      ]
    },
    {
      "metadata": {
        "id": "6HhU8Cw_lWpb",
        "colab_type": "code",
        "colab": {
          "base_uri": "https://localhost:8080/",
          "height": 34
        },
        "outputId": "35a466c0-0cae-46eb-c685-30281619c776"
      },
      "cell_type": "code",
      "source": [
        "from instaparser.entities import Account, Media, Location, Tag, Comment\n",
        "\n",
        "account = Account(\"zuck\")\n",
        "media = Media(\"Bk09NSFn3IX\")\n",
        "location = Location(4132822)\n",
        "tag = Tag(\"instagram\")\n",
        "comment = Comment(17961800224030417, media=media, owner=account, text=\"Nice pic Yaz...\", created_at=1531512139)\n",
        "print(media)"
      ],
      "execution_count": 27,
      "outputs": [
        {
          "output_type": "stream",
          "text": [
            "Bk09NSFn3IX\n"
          ],
          "name": "stdout"
        }
      ]
    },
    {
      "metadata": {
        "id": "aEFxBdguvZr7",
        "colab_type": "code",
        "colab": {
          "base_uri": "https://localhost:8080/",
          "height": 239
        },
        "outputId": "8f1c7d7b-4609-469f-cc05-eb4086e60415"
      },
      "cell_type": "code",
      "source": [
        "from instaparser.agents import AgentAccount\n",
        "from instaparser.entities import Media\n",
        "\n",
        "photos = []\n",
        "agent = Agent()\n",
        "account = Account(\"valentivitell\")\n",
        "\n",
        "medias, pointer = agent.get_media(account)\n",
        "for media in medias:\n",
        "  if not media.is_video:\n",
        "    photos.append(media.display_url)\n",
        "\n",
        "while not pointer is None:\n",
        "  medias, pointer = agent.feed(pointer=pointer)\n",
        "  for media in medias:\n",
        "    if not media.is_video:\n",
        "      photos.append(media.display_url)"
      ],
      "execution_count": 36,
      "outputs": [
        {
          "output_type": "error",
          "ename": "AttributeError",
          "evalue": "ignored",
          "traceback": [
            "\u001b[0;31m---------------------------------------------------------------------------\u001b[0m",
            "\u001b[0;31mAttributeError\u001b[0m                            Traceback (most recent call last)",
            "\u001b[0;32m<ipython-input-36-6c9a325e83ff>\u001b[0m in \u001b[0;36m<module>\u001b[0;34m()\u001b[0m\n\u001b[1;32m     12\u001b[0m \u001b[0;34m\u001b[0m\u001b[0m\n\u001b[1;32m     13\u001b[0m \u001b[0;32mwhile\u001b[0m \u001b[0;32mnot\u001b[0m \u001b[0mpointer\u001b[0m \u001b[0;32mis\u001b[0m \u001b[0;32mNone\u001b[0m\u001b[0;34m:\u001b[0m\u001b[0;34m\u001b[0m\u001b[0;34m\u001b[0m\u001b[0m\n\u001b[0;32m---> 14\u001b[0;31m   \u001b[0mmedias\u001b[0m\u001b[0;34m,\u001b[0m \u001b[0mpointer\u001b[0m \u001b[0;34m=\u001b[0m \u001b[0magent\u001b[0m\u001b[0;34m.\u001b[0m\u001b[0mfeed\u001b[0m\u001b[0;34m(\u001b[0m\u001b[0mpointer\u001b[0m\u001b[0;34m=\u001b[0m\u001b[0mpointer\u001b[0m\u001b[0;34m)\u001b[0m\u001b[0;34m\u001b[0m\u001b[0;34m\u001b[0m\u001b[0m\n\u001b[0m\u001b[1;32m     15\u001b[0m   \u001b[0;32mfor\u001b[0m \u001b[0mmedia\u001b[0m \u001b[0;32min\u001b[0m \u001b[0mmedias\u001b[0m\u001b[0;34m:\u001b[0m\u001b[0;34m\u001b[0m\u001b[0;34m\u001b[0m\u001b[0m\n\u001b[1;32m     16\u001b[0m     \u001b[0;32mif\u001b[0m \u001b[0;32mnot\u001b[0m \u001b[0mmedia\u001b[0m\u001b[0;34m.\u001b[0m\u001b[0mis_video\u001b[0m\u001b[0;34m:\u001b[0m\u001b[0;34m\u001b[0m\u001b[0;34m\u001b[0m\u001b[0m\n",
            "\u001b[0;31mAttributeError\u001b[0m: 'Agent' object has no attribute 'feed'"
          ]
        }
      ]
    },
    {
      "metadata": {
        "id": "3Vn4XI6eqJhE",
        "colab_type": "code",
        "colab": {
          "base_uri": "https://localhost:8080/",
          "height": 134
        },
        "outputId": "e6abdb0d-96dd-44ec-ea2c-71cd51f8bab6"
      },
      "cell_type": "code",
      "source": [
        "from instaparser.entities\n",
        "import Account, Media, \n",
        "Location, Tag, Commentaccount= Account(\"zuck\")\n",
        "media= Media(\"Bk09NSFn3IX\")\n",
        "\n"
      ],
      "execution_count": 14,
      "outputs": [
        {
          "output_type": "error",
          "ename": "SyntaxError",
          "evalue": "ignored",
          "traceback": [
            "\u001b[0;36m  File \u001b[0;32m\"<ipython-input-14-7aeeb1ac2ccd>\"\u001b[0;36m, line \u001b[0;32m1\u001b[0m\n\u001b[0;31m    from instaparser.entities\u001b[0m\n\u001b[0m                             ^\u001b[0m\n\u001b[0;31mSyntaxError\u001b[0m\u001b[0;31m:\u001b[0m invalid syntax\n"
          ]
        }
      ]
    },
    {
      "metadata": {
        "colab_type": "text",
        "id": "9J7p406abzgl"
      },
      "cell_type": "markdown",
      "source": [
        "<img height=\"60px\" src=\"https://colab.research.google.com/img/colab_favicon.ico\" align=\"left\" hspace=\"20px\" vspace=\"5px\">\n",
        "\n",
        "<h1>Welcome to Colaboratory!</h1>\n",
        "Colaboratory is a free Jupyter notebook environment that requires no setup and runs entirely in the cloud. See our [FAQ](https://research.google.com/colaboratory/faq.html) for more info."
      ]
    },
    {
      "metadata": {
        "colab_type": "text",
        "id": "-Rh3-Vt9Nev9"
      },
      "cell_type": "markdown",
      "source": [
        "## Getting Started\n",
        "- [Overview of Colaboratory](/notebooks/basic_features_overview.ipynb)\n",
        "- [Loading and saving data: Local files, Drive, Sheets, Google Cloud Storage](/notebooks/io.ipynb)\n",
        "- [Importing libraries and installing dependencies](/notebooks/snippets/importing_libraries.ipynb)\n",
        "- [Using Google Cloud BigQuery](/notebooks/bigquery.ipynb)\n",
        "- [Forms](/notebooks/forms.ipynb), [Charts](/notebooks/charts.ipynb), [Markdown](/notebooks/markdown_guide.ipynb), & [Widgets](/notebooks/widgets.ipynb)\n",
        "- [TensorFlow with GPU](/notebooks/gpu.ipynb)\n",
        "- [TensorFlow with TPU](/notebooks/tpu.ipynb)\n",
        "- [Machine Learning Crash Course](https://developers.google.com/machine-learning/crash-course/): [Intro to Pandas](/notebooks/mlcc/intro_to_pandas.ipynb) & [First Steps with TensorFlow](/notebooks/mlcc/first_steps_with_tensor_flow.ipynb)\n",
        "- [Using Colab with GitHub](https://colab.research.google.com/github/googlecolab/colabtools/blob/master/notebooks/colab-github-demo.ipynb)\n"
      ]
    },
    {
      "metadata": {
        "colab_type": "text",
        "id": "1fr51oVCHRZU"
      },
      "cell_type": "markdown",
      "source": [
        "## Highlighted Features\n",
        "### Seedbank\n",
        "\n",
        "Looking for Colab notebooks to learn from? Check out [Seedbank](https://tools.google.com/seedbank/), a place to discover interactive machine learning examples."
      ]
    },
    {
      "metadata": {
        "colab_type": "text",
        "id": "9wi5kfGdhK0R"
      },
      "cell_type": "markdown",
      "source": [
        "### TensorFlow execution"
      ]
    },
    {
      "metadata": {
        "colab_type": "text",
        "id": "S9GW-n-oYWIj"
      },
      "cell_type": "markdown",
      "source": [
        "Colaboratory allows you to execute TensorFlow code in your browser with a single click. The example below adds two matrices.\n",
        "\n",
        "$\\begin{bmatrix}\n",
        "  1. & 1. & 1. \\\\\n",
        "  1. & 1. & 1. \\\\\n",
        "\\end{bmatrix} +\n",
        "\\begin{bmatrix}\n",
        "  1. & 2. & 3. \\\\\n",
        "  4. & 5. & 6. \\\\\n",
        "\\end{bmatrix} =\n",
        "\\begin{bmatrix}\n",
        "  2. & 3. & 4. \\\\\n",
        "  5. & 6. & 7. \\\\\n",
        "\\end{bmatrix}$"
      ]
    },
    {
      "metadata": {
        "colab_type": "code",
        "id": "oYZkU7ZN3CL0",
        "outputId": "9589151d-5ff4-4bca-f05e-8bcba8ffcba1",
        "colab": {
          "base_uri": "https://localhost:8080/",
          "height": 53
        }
      },
      "cell_type": "code",
      "source": [
        "import tensorflow as tf\n",
        "\n",
        "input1 = tf.ones((2, 3))\n",
        "input2 = tf.reshape(tf.range(1, 7, dtype=tf.float32), (2, 3))\n",
        "output = input1 + input2\n",
        "\n",
        "with tf.Session():\n",
        "  result = output.eval()\n",
        "result  "
      ],
      "execution_count": 0,
      "outputs": [
        {
          "output_type": "execute_result",
          "data": {
            "text/plain": [
              "array([[2., 3., 4.],\n",
              "       [5., 6., 7.]], dtype=float32)"
            ]
          },
          "metadata": {
            "tags": []
          },
          "execution_count": 0
        }
      ]
    },
    {
      "metadata": {
        "colab_type": "text",
        "id": "nwYF0E3Sjiy4"
      },
      "cell_type": "markdown",
      "source": [
        "### GitHub\n",
        "\n",
        "For a full discussion of interactions between Colab and GitHub, see [Using Colab with GitHub](https://colab.research.google.com/github/googlecolab/colabtools/blob/master/notebooks/colab-github-demo.ipynb). As a brief summary:\n",
        "\n",
        "To save a copy of your Colab notebook to Github, select *File → Save a copy to GitHub…*\n",
        "\n",
        "To load a specific notebook from github, append the github path to http://colab.research.google.com/github/.\n",
        "For example to load this notebook in Colab: [https://github.com/tensorflow/docs/blob/master/site/en/tutorials/_index.ipynb](https://github.com/tensorflow/docs/blob/master/site/en/tutorials/_index.ipynb) use the following Colab URL: [https://colab.research.google.com/github/tensorflow/docs/blob/master/site/en/tutorials/_index.ipynb](https://colab.research.google.com/github/tensorflow/docs/blob/master/site/en/tutorials/_index.ipynb)\n",
        "\n",
        "To open a github notebook in one click, we recommend installing the [Open in Colab Chrome Extension](https://chrome.google.com/webstore/detail/open-in-colab/iogfkhleblhcpcekbiedikdehleodpjo).\n",
        "\n"
      ]
    },
    {
      "metadata": {
        "colab_type": "text",
        "id": "yv2XIwi5hQ_g"
      },
      "cell_type": "markdown",
      "source": [
        "### Visualization"
      ]
    },
    {
      "metadata": {
        "colab_type": "text",
        "id": "rYs5mx2JZkmy"
      },
      "cell_type": "markdown",
      "source": [
        "Colaboratory includes widely used libraries like [matplotlib](https://matplotlib.org/), simplifying visualization."
      ]
    },
    {
      "metadata": {
        "colab_type": "code",
        "id": "xqrc5C-IaA5J",
        "outputId": "3460cc84-faf8-4d8c-a4e6-96a6809c389a",
        "colab": {
          "height": 360
        }
      },
      "cell_type": "code",
      "source": [
        "import matplotlib.pyplot as plt\n",
        "import numpy as np\n",
        "\n",
        "x = np.arange(20)\n",
        "y = [x_i + np.random.randn(1) for x_i in x]\n",
        "a, b = np.polyfit(x, y, 1)\n",
        "_ = plt.plot(x, y, 'o', np.arange(20), a*np.arange(20)+b, '-')"
      ],
      "execution_count": 0,
      "outputs": [
        {
          "output_type": "display_data",
          "data": {
            "image/png": "[encoded data removed]",
            "text/plain": [
              "<matplotlib.figure.Figure at 0x562d64cf1b10>"
            ]
          },
          "metadata": {
            "tags": []
          }
        }
      ]
    },
    {
      "metadata": {
        "colab_type": "text",
        "id": "AN_LRQ9NkOjs"
      },
      "cell_type": "markdown",
      "source": [
        "Want to use a new library?  `pip install` it at the top of the notebook. Then that library can be used anywhere else in the notebook. For recipes to import commonly used libraries, refer to the [importing libraries example notebook](/notebooks/snippets/importing_libraries.ipynb)."
      ]
    },
    {
      "metadata": {
        "colab_type": "code",
        "id": "FlQq0SUepQbd",
        "outputId": "6e404831-3336-4633-b76f-c6313ecdd356",
        "colab": {
          "base_uri": "https://localhost:8080/",
          "height": 349
        }
      },
      "cell_type": "code",
      "source": [
        "!pip install -q matplotlib-venn\n",
        "\n",
        "from matplotlib_venn import venn2\n",
        "_ = venn2(subsets = (3, 2, 1))"
      ],
      "execution_count": 0,
      "outputs": [
        {
          "output_type": "display_data",
          "data": {
            "image/png": "[encoded data removed]",
            "text/plain": [
              "<matplotlib.figure.Figure at 0x7f48ff99ff10>"
            ]
          },
          "metadata": {
            "tags": []
          }
        }
      ]
    },
    {
      "metadata": {
        "colab_type": "text",
        "id": "LxZ3dPzYnyNF"
      },
      "cell_type": "markdown",
      "source": [
        "### Forms\n",
        "\n",
        "Forms can be used to parameterize code. See the [forms example notebook](/notebooks/forms.ipynb) for more details."
      ]
    },
    {
      "metadata": {
        "colab_type": "code",
        "id": "FQ_Hx_9tn7uF",
        "colab": {}
      },
      "cell_type": "code",
      "source": [
        "#@title Examples\n",
        "\n",
        "text = 'value' #@param \n",
        "date_input = '2018-03-22' #@param {type:\"date\"}\n",
        "number_slider = 0 #@param {type:\"slider\", min:-1, max:1, step:0.1}\n",
        "dropdown = '1st option' #@param [\"1st option\", \"2nd option\", \"3rd option\"]\n"
      ],
      "execution_count": 0,
      "outputs": []
    },
    {
      "metadata": {
        "colab_type": "text",
        "id": "rTX3heEtu0b2"
      },
      "cell_type": "markdown",
      "source": [
        "### Local runtime support\n",
        "\n",
        "Colab  supports connecting to a Jupyter runtime on your local machine. For more information, see our [documentation](https://research.google.com/colaboratory/local-runtimes.html)."
      ]
    }
  ]
}